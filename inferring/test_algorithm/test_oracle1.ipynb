{
 "cells": [
  {
   "cell_type": "code",
   "execution_count": 11,
   "metadata": {},
   "outputs": [],
   "source": [
    "from importlib import reload\n",
    "import oracle1 \n",
    "reload(oracle1)\n",
    "from oracle1 import Oracle1"
   ]
  },
  {
   "cell_type": "code",
   "execution_count": 13,
   "metadata": {},
   "outputs": [
    {
     "data": {
      "text/plain": [
       "''"
      ]
     },
     "execution_count": 13,
     "metadata": {},
     "output_type": "execute_result"
    }
   ],
   "source": [
    "orcl = Oracle1()\n",
    "answers = {\"blaa\": 1}\n",
    "w = \"bal\"\n",
    "orcl.ask_oracle(w, answers=answers)\n",
    "# odp: ''"
   ]
  },
  {
   "cell_type": "code",
   "execution_count": 14,
   "metadata": {},
   "outputs": [
    {
     "data": {
      "text/plain": [
       "1"
      ]
     },
     "execution_count": 14,
     "metadata": {},
     "output_type": "execute_result"
    }
   ],
   "source": [
    "orcl = Oracle1()\n",
    "answers = {\"carz\": 1}\n",
    "w = \"czar\"\n",
    "orcl.ask_oracle(w, answers=answers)\n",
    "# odp: 1"
   ]
  },
  {
   "cell_type": "code",
   "execution_count": 15,
   "metadata": {},
   "outputs": [
    {
     "data": {
      "text/plain": [
       "0"
      ]
     },
     "execution_count": 15,
     "metadata": {},
     "output_type": "execute_result"
    }
   ],
   "source": [
    "orcl = Oracle1()\n",
    "answers = {\"carz\": 1, \"czar\":0}\n",
    "w = \"czar\"\n",
    "orcl.ask_oracle(w, answers=answers)\n",
    "# odp: 0"
   ]
  },
  {
   "cell_type": "code",
   "execution_count": 16,
   "metadata": {},
   "outputs": [
    {
     "data": {
      "text/plain": [
       "1"
      ]
     },
     "execution_count": 16,
     "metadata": {},
     "output_type": "execute_result"
    }
   ],
   "source": [
    "orcl = Oracle1()\n",
    "answers = {\"kora\": 1}\n",
    "w = \"roka\"\n",
    "orcl.ask_oracle(w, answers=answers)\n",
    "# odp: 1"
   ]
  },
  {
   "cell_type": "code",
   "execution_count": 21,
   "metadata": {},
   "outputs": [
    {
     "data": {
      "text/plain": [
       "1"
      ]
     },
     "execution_count": 21,
     "metadata": {},
     "output_type": "execute_result"
    }
   ],
   "source": [
    "orcl = Oracle1()\n",
    "answers = {\"aa\":1, \"ab\":1, \"bb\":0, \"aab\":1}\n",
    "w = \"baa\"\n",
    "orcl.ask_oracle(w, answers=answers)\n",
    "# odp: 1"
   ]
  },
  {
   "cell_type": "code",
   "execution_count": 3,
   "metadata": {},
   "outputs": [
    {
     "name": "stdout",
     "output_type": "stream",
     "text": [
      "sprawdzam pare: aA, Aa\n",
      "wystapienia l = [0, 4, 6]\n",
      "w = aAbaaAaAb\n",
      "sasiedztwo to: {'AabaaAaAb', 'aAbaAaaAb', 'aAbaaAAab'}\n"
     ]
    }
   ],
   "source": [
    "import copy \n",
    "import re\n",
    "\n",
    "pi = [(\"aA\", \"Aa\")]\n",
    "w = \"aAbaaAaAb\"\n",
    "\n",
    "s = set()\n",
    "for l, r in pi:\n",
    "    print(f\"sprawdzam pare: {l}, {r}\")\n",
    "    find_all = [i.start() for i in re.finditer(\"(?=\" + l + \")\", w)]\n",
    "    print(f\"wystapienia l = {find_all}\")\n",
    "\n",
    "    for i in find_all:\n",
    "        t = \"\".join(w[:i]) + copy.deepcopy(r) + w[i + len(r) :]\n",
    "        s.add(t)\n",
    "\n",
    "print(f\"w = {w}\")\n",
    "print(f\"sasiedztwo to: {s}\")"
   ]
  },
  {
   "cell_type": "code",
   "execution_count": 7,
   "metadata": {},
   "outputs": [
    {
     "name": "stdout",
     "output_type": "stream",
     "text": [
      "sprawdzam pare: ja, ty\n",
      "wystapienia l = [4, 18]\n",
      "sprawdzam pare: kra, lód\n",
      "wystapienia l = [6, 11]\n",
      "sprawdzam pare: a, A\n",
      "wystapienia l = [0, 5, 8, 13, 19]\n",
      "sprawdzam pare: jaj, kutas\n",
      "wystapienia l = [18]\n",
      "w = alicjakrakwkrainiejajek\n",
      "sasiedztwo to:\n",
      "alicjakrakwlódiniejajek\n",
      "alicjakrakwkrainietyjek\n",
      "alicjakrakwkrAiniejajek\n",
      "alicjalódkwkrainiejajek\n",
      "Alicjakrakwkrainiejajek\n",
      "alicjakrakwkrainiekutasek\n",
      "alicjakrakwkrainiejAjek\n",
      "alictykrakwkrainiejajek\n",
      "alicjAkrakwkrainiejajek\n",
      "alicjakrAkwkrainiejajek\n"
     ]
    }
   ],
   "source": [
    "import copy \n",
    "import re\n",
    "\n",
    "pi = [ (\"ja\", \"ty\"), (\"kra\", \"lód\"), (\"a\", \"A\"), (\"jaj\", \"kutas\")]\n",
    "\n",
    "#    01234567890123456789012 \n",
    "w = \"alicjakrakwkrainiejajek\"\n",
    "\n",
    "s = set()\n",
    "for l, r in pi:\n",
    "    print(f\"sprawdzam pare: {l}, {r}\")\n",
    "    find_all = [i.start() for i in re.finditer(\"(?=\" + l + \")\", w)]\n",
    "    print(f\"wystapienia l = {find_all}\")\n",
    "\n",
    "    for i in find_all:\n",
    "        t = \"\".join(w[:i]) + copy.deepcopy(r) + w[i + len(l) :]\n",
    "        s.add(t)\n",
    "\n",
    "print(f\"w = {w}\")\n",
    "print(f\"sasiedztwo to:\")\n",
    "for w in s:\n",
    "    print(w)"
   ]
  },
  {
   "cell_type": "code",
   "execution_count": 10,
   "metadata": {},
   "outputs": [
    {
     "name": "stdout",
     "output_type": "stream",
     "text": [
      "pi: \n",
      "('Aa', 'aA')\n",
      "('aA', 'Aa')\n",
      "('Ab', 'bA')\n",
      "('bA', 'Ab')\n",
      "('Ba', 'aB')\n",
      "('aB', 'Ba')\n",
      "('Bb', 'bB')\n",
      "('bB', 'Bb')\n"
     ]
    }
   ],
   "source": [
    "alphabet = [\"a\", \"b\", \"A\", \"B\"]\n",
    "upper_letters = [a for a in alphabet if a.isupper()]\n",
    "lower_letters = [b for b in alphabet if not b.isupper()]\n",
    "\n",
    "pi = []\n",
    "for a in upper_letters:\n",
    "    for b in lower_letters:\n",
    "        pi.append((a+b, b+a))\n",
    "        pi.append((b+a, a+b))\n",
    "print(\"pi: \")\n",
    "for p in pi:\n",
    "    print(p)"
   ]
  }
 ],
 "metadata": {
  "kernelspec": {
   "display_name": "Python 3",
   "language": "python",
   "name": "python3"
  },
  "language_info": {
   "codemirror_mode": {
    "name": "ipython",
    "version": 3
   },
   "file_extension": ".py",
   "mimetype": "text/x-python",
   "name": "python",
   "nbconvert_exporter": "python",
   "pygments_lexer": "ipython3",
   "version": "3.10.12"
  }
 },
 "nbformat": 4,
 "nbformat_minor": 2
}
