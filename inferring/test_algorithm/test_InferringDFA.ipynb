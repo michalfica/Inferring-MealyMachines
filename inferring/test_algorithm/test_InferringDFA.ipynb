{
 "cells": [
  {
   "cell_type": "markdown",
   "metadata": {},
   "source": [
    "### Przetestować uczenie się DFA ! "
   ]
  },
  {
   "cell_type": "code",
   "execution_count": 7,
   "metadata": {},
   "outputs": [],
   "source": [
    "from importlib import reload\n",
    "import sys \n",
    "# sys.path.append(\"../utils\")\n",
    "sys.path.append(\"../\")\n",
    "sys.path.append(\"../../\")\n",
    "sys.path.append(\"../../utils\")\n",
    "import utils.DFA, InferringDFA, utils.convDFA, InferringDFA, Inferring\n",
    "reload(Inferring)\n",
    "reload(InferringDFA)\n",
    "reload(utils.DFA)\n",
    "reload(utils.convDFA)\n",
    "reload(InferringDFA)\n",
    "\n",
    "from InferringDFA import InferringDFA\n",
    "from utils.DFA import DFA\n",
    "from utils.convDFA import convDFA"
   ]
  },
  {
   "cell_type": "code",
   "execution_count": 8,
   "metadata": {},
   "outputs": [],
   "source": [
    "import copy\n",
    "def run_learning_process(_dfa, oracle=None, debug=False):\n",
    "    learn_dfa = InferringDFA(_dfa, oracle, debug=debug)\n",
    "    dfa, cnt, cnt_ex = learn_dfa.run(counterexamples=True)\n",
    "    print(f\"kontrprzykłady: {cnt_ex}, cnt = {cnt}\")\n",
    "    return copy.deepcopy(dfa) "
   ]
  },
  {
   "cell_type": "code",
   "execution_count": null,
   "metadata": {},
   "outputs": [],
   "source": [
    "_input = ['a', 'b']\n",
    "dfa = DFA(Q = 2, input_signs=_input, δ= {(0,'a'):1, (0, 'b'):0, (1, 'a'):1, (1, 'b'):1}, F = set([1]))\n",
    "d = run_learning_process(copy.deepcopy(dfa), debug=False)"
   ]
  },
  {
   "cell_type": "code",
   "execution_count": 41,
   "metadata": {},
   "outputs": [
    {
     "name": "stdout",
     "output_type": "stream",
     "text": [
      "kontrprzykłady: [], cnt = [15, 1]\n"
     ]
    }
   ],
   "source": [
    "dfa = DFA(Q=3, input_signs=_input, δ= {(0, 'a'):1, (0, 'b'):0, (1, 'a'):2, (1, 'b'):1, (2, 'a'):2, (2, 'b'):2}, F= set([2]))\n",
    "d = run_learning_process(dfa, debug=False)"
   ]
  },
  {
   "cell_type": "code",
   "execution_count": 42,
   "metadata": {},
   "outputs": [
    {
     "name": "stdout",
     "output_type": "stream",
     "text": [
      "kontrprzykłady: [3], cnt = [24, 2]\n"
     ]
    }
   ],
   "source": [
    "dfa = DFA(Q=4, input_signs=_input, δ= {(0, 'a'):1, (0, 'b'):0, (1, 'a'):1, (1, 'b'):2, (2, 'a'):3, (2, 'b'):0, (3, 'a'):3, (3, 'b'):4, (4, 'a'):4, (4, 'b'):4}, F=set([3, 4]))\n",
    "d = run_learning_process(copy.deepcopy(dfa))"
   ]
  },
  {
   "cell_type": "code",
   "execution_count": 43,
   "metadata": {},
   "outputs": [
    {
     "name": "stdout",
     "output_type": "stream",
     "text": [
      "kontrprzykłady: [3, 7], cnt = [35, 3]\n"
     ]
    }
   ],
   "source": [
    "dfa = DFA(Q=5, input_signs=_input, δ= {(0, 'a'):1, (0, 'b'):0, (1, 'a'):1, (1, 'b'):2, (2, 'a'):3, (2, 'b'):0, (3, 'a'):3, (3, 'b'):4, (4, 'a'):4, (4, 'b'):4}, F=set([3]))\n",
    "d = run_learning_process(copy.deepcopy(dfa), debug=False)"
   ]
  },
  {
   "cell_type": "code",
   "execution_count": 44,
   "metadata": {},
   "outputs": [
    {
     "name": "stdout",
     "output_type": "stream",
     "text": [
      "kontrprzykłady: [3], cnt = [24, 2]\n"
     ]
    }
   ],
   "source": [
    "dfa = DFA(Q=4, input_signs=_input, δ= {(0, 'a'):1, (0, 'b'):0, (1, 'a'):1, (1, 'b'):2, (2, 'a'):3, (2, 'b'):2, (3, 'a'):3, (3, 'b'):3}, F=set([3]))\n",
    "d = run_learning_process(copy.deepcopy(dfa), debug=False)"
   ]
  },
  {
   "cell_type": "markdown",
   "metadata": {},
   "source": [
    "### Uczenie sie z wyrocznią **Oracle1** \n",
    "(system przepisywania słów - zamiasna sąsiednich literek)"
   ]
  },
  {
   "cell_type": "code",
   "execution_count": 4,
   "metadata": {},
   "outputs": [],
   "source": [
    "_input = ['a', 'b']\n",
    "from oracle1 import Oracle1"
   ]
  },
  {
   "cell_type": "code",
   "execution_count": null,
   "metadata": {},
   "outputs": [],
   "source": [
    "\"\"\"dfa akcpetujący słowa dlugości dokłądnie 4\"\"\"\n",
    "dfa_ = DFA(Q=6, input_signs=['a'], δ = {(0,'a'):1, (1,'a'):2, (2,'a'):3, (3,'a'):4, (4,'a'):5, (5,'a'):5}, \n",
    "           F = [4])\n",
    "d = run_learning_process(copy.deepcopy(dfa_), oracle=None, debug=False)\n",
    "# d = run_learning_process(copy.deepcopy(dfa_), oracle=Oracle1())"
   ]
  },
  {
   "cell_type": "code",
   "execution_count": null,
   "metadata": {},
   "outputs": [],
   "source": [
    "\"\"\"dfa akcpetujący słowa dlugości dokłądnie 4\"\"\"\n",
    "dfa_ = DFA(Q=6, input_signs=['a', 'b'], δ = {(0,'a'):1, (0,'b'):1, (1,'a'):2, (1,'b'):2, (2,'a'):3, (2,'b'):3, (3,'a'):4, (3,'b'):4, (4,'a'):5, (4,'b'):5, (5,'a'):5, (5,'b'):5}, \n",
    "           F = [4])\n",
    "# d = run_learning_process(copy.deepcopy(dfa_), oracle=None)\n",
    "d = run_learning_process(copy.deepcopy(dfa_), oracle=Oracle1())"
   ]
  },
  {
   "cell_type": "code",
   "execution_count": null,
   "metadata": {},
   "outputs": [],
   "source": [
    "\"\"\"dfa liczacy reszte modulo 4\"\"\"\n",
    "# dfa_ = DFA(Q=4, input_signs=['a'], δ = {(0,'a'):1, (1,'a'):2, (2,'a'):3, (3,'a'):0}, \n",
    "#            F = [3])\n",
    "# # d = run_learning_process(copy.deepcopy(dfa_), oracle=None) # 7, 2 \n",
    "# d = run_learning_process(copy.deepcopy(dfa_), oracle=Oracle1()) # 7, 2 \n",
    "\n",
    "# dfa_ = DFA(Q=4, input_signs=['a', 'b'], δ = {(0,'a'):1, (1,'a'):2, (2,'a'):3, (3,'a'):0, (0,'b'):1, (1,'b'):2, (2,'b'):3, (3,'b'):0}, \n",
    "#            F = [3])\n",
    "# # d = run_learning_process(copy.deepcopy(dfa_), oracle=None) # 24, 2 \n",
    "# d = run_learning_process(copy.deepcopy(dfa_), oracle=Oracle1()) # 17, 2 \n",
    "\n",
    "dfa_ = DFA(Q=4, input_signs=['a', 'b', 'c'], δ = {(0,'a'):1, (1,'a'):2, (2,'a'):3, (3,'a'):0, (0,'b'):1, (1,'b'):2, (2,'b'):3, (3,'b'):0, (0,'c'):1, (1,'c'):2, (2,'c'):3, (3,'c'):0}, \n",
    "           F = [3])\n",
    "# d = run_learning_process(copy.deepcopy(dfa_), oracle=None) # 49, 2 \n",
    "d = run_learning_process(copy.deepcopy(dfa_), oracle=Oracle1()) # 31, 2 "
   ]
  },
  {
   "cell_type": "code",
   "execution_count": null,
   "metadata": {},
   "outputs": [],
   "source": [
    "\"\"\"dfa akceptujący słowa z conajmniej dwoma literkami 'a'\"\"\"\n",
    "dfa_ = DFA(Q=3, input_signs=_input, δ = {(0, 'a'):1, (0, 'b'):0, (1, 'a'):2, (1, 'b'):1, (2, 'a'):2, (2, 'b'):2}, F=[2])\n",
    "d = run_learning_process(copy.deepcopy(dfa_), oracle=None)        # cnt = [15, 1]\n",
    "# d = run_learning_process(copy.deepcopy(dfa_), oracle=Oracle1()) # cnt = [12, 1]"
   ]
  },
  {
   "cell_type": "markdown",
   "metadata": {},
   "source": [
    "### Uczenie się **splotu** języków "
   ]
  },
  {
   "cell_type": "code",
   "execution_count": 4,
   "metadata": {},
   "outputs": [],
   "source": [
    "import copy, sys\n",
    "sys.path.append(\"../\")\n",
    "sys.path.append(\"../../\")\n",
    "sys.path.append(\"../../utils\")\n",
    "from importlib import reload\n",
    "\n",
    "import Inferring, InferringDFA,  InferringconvDFA, utils.convDFA, utils.DFA\n",
    "import oracle1, oracle1Conv\n",
    "reload(oracle1)\n",
    "reload(oracle1Conv)\n",
    "reload(Inferring)\n",
    "reload(InferringDFA)\n",
    "reload(InferringconvDFA)\n",
    "reload(utils.convDFA)\n",
    "reload(utils.DFA)\n",
    "\n",
    "from Inferring import Inferring\n",
    "from InferringconvDFA import InferringconvDFA\n",
    "from utils.convDFA import convDFA\n",
    "from utils.DFA import DFA\n",
    "from oracle1Conv import Oracle1Conv"
   ]
  },
  {
   "cell_type": "code",
   "execution_count": 5,
   "metadata": {},
   "outputs": [],
   "source": [
    "def run_learning_process(_dfa, oracle=None, debug=False):\n",
    "    learn_dfa = InferringconvDFA(_dfa, oracle, debug=debug)\n",
    "    dfa, cnt, cnt_ex = learn_dfa.run(counterexamples=True)\n",
    "    print(f\"kontrprzykłady: {cnt_ex}, cnt = {cnt}\")\n",
    "    return copy.deepcopy(dfa) "
   ]
  },
  {
   "cell_type": "code",
   "execution_count": 13,
   "metadata": {},
   "outputs": [
    {
     "name": "stdout",
     "output_type": "stream",
     "text": [
      "kontrprzyklad = abaBBB\n",
      "kontrprzyklad = abBaBB\n",
      "kontrprzyklad = abBBaB\n",
      "kontrprzyklad = aBbaBB\n",
      "kontrprzyklad = aBBbaB\n",
      "kontrprzyklad = aBBBba\n",
      "kontrprzyklad = BabaBB\n",
      "kontrprzyklad = BBabaB\n",
      "kontrprzyklad = BBBaba\n",
      "kontrprzykłady: [6, 6, 6, 6, 6, 6, 6, 6, 6], cnt = [849, 10]\n",
      "('abBBa', 0)\n"
     ]
    }
   ],
   "source": [
    "\"\"\"wzorzec - 'aba'\"\"\"\n",
    "dfa1 = DFA(Q = 4, input_signs=['a', 'b'], \n",
    "           δ = {(0, 'a'):1, (0, 'b'):0, (1, 'a'):1, (1, 'b'):2, (2, 'a'):3, (2, 'b'):0, (3, 'a'):3, (3, 'b'):3}, F=set([3]))\n",
    "\"\"\"wzorzec 'bbb'\"\"\"\n",
    "dfa2 = DFA(Q=4, input_signs=['a', 'b'], \n",
    "           δ = {(0, 'a'):0, (0, 'b'):1, (1, 'a'):0, (1, 'b'):2, (2, 'a'):0, (2, 'b'):3, (3, 'a'):3, (3, 'b'):3}, F=set([3]))\n",
    "\n",
    "convdfa = convDFA(type=\"conv\", dfa1=dfa1, dfa2=dfa2)\n",
    "d = run_learning_process(copy.deepcopy(convdfa), oracle=None, debug=False)\n",
    "print(d.route(\"abBBa\"))\n",
    "\n",
    "# kontrprzyklad = abBaBB\n",
    "# kontrprzyklad = abBBaB\n",
    "# kontrprzyklad = aBbaBB\n",
    "# kontrprzyklad = aBBbaB\n",
    "# kontrprzyklad = aBBBba\n",
    "# kontrprzyklad = BabaBB\n",
    "# kontrprzyklad = BBabaB\n",
    "# kontrprzyklad = BBabaB\n",
    "# kontrprzyklad = BBBaba"
   ]
  },
  {
   "cell_type": "code",
   "execution_count": 6,
   "metadata": {},
   "outputs": [
    {
     "name": "stdout",
     "output_type": "stream",
     "text": [
      "kontrprzyklad = bbAA\n",
      "kontrprzyklad = bAbA\n",
      "kontrprzyklad = AbbA\n",
      "kontrprzyklad = AAbb\n",
      "kontrprzykłady: [4, 4, 4, 4], cnt = [289, 5]\n"
     ]
    }
   ],
   "source": [
    "\"\"\"wzorzec - bb\"\"\"\n",
    "dfa1 = DFA(Q=3, input_signs=['a', 'b'], \n",
    "           δ={(0,'a'):0, (0,'b'):1, (1, 'a'):0, (1, 'b'):2, (2, 'a'):2, (2, 'b'):2}, F= set([2]))\n",
    "\"\"\"wzorzec - aa\"\"\"\n",
    "dfa2 = DFA(Q=3, input_signs=['a', 'b'], \n",
    "           δ={(0,'a'):1, (0,'b'):0, (1, 'a'):2, (1, 'b'):0, (2, 'a'):2, (2, 'b'):2}, F= set([2]))\n",
    "\n",
    "convdfa = convDFA(type='conv', dfa1=dfa1, dfa2=dfa2)\n",
    "d = run_learning_process(copy.deepcopy(convdfa), oracle=None, debug=False)"
   ]
  },
  {
   "cell_type": "code",
   "execution_count": 10,
   "metadata": {},
   "outputs": [
    {
     "name": "stdout",
     "output_type": "stream",
     "text": [
      "('babbb', 1)\n",
      "('aabaaa', 1)\n",
      "kontrprzyklad = bbbAAA\n",
      "kontrprzyklad = bbAbAA\n",
      "kontrprzyklad = bbAAbA\n",
      "kontrprzyklad = bAbbAA\n",
      "kontrprzyklad = bAAbbA\n",
      "kontrprzyklad = bAAAbb\n",
      "kontrprzyklad = AbbbAA\n",
      "kontrprzyklad = AAbbbA\n",
      "kontrprzyklad = AAAbbb\n",
      "kontrprzykłady: [6, 6, 6, 6, 6, 6, 6, 6, 6], cnt = [333, 10]\n",
      "16\n"
     ]
    }
   ],
   "source": [
    "\"\"\"wzorzec - bbb\"\"\"\n",
    "dfa1 = DFA(Q=4, input_signs=['a', 'b'], δ={(0,'a'):0, (0,'b'):1, (1, 'a'):0, (1, 'b'):2, (2, 'a'):0, (2, 'b'):3, (3, 'a'):3, (3, 'b'):3 }, F= set([3]))\n",
    "\"\"\"wzorzec - aaa\"\"\"\n",
    "dfa2 = DFA(Q=4, input_signs=['a', 'b'], δ={(0,'a'):1, (0,'b'):0, (1, 'a'):2, (1, 'b'):0, (2, 'a'):3, (2, 'b'):0, (3, 'a'):3, (3, 'b'):3}, F= set([3]))\n",
    "\n",
    "print(dfa1.route(\"babbb\"))\n",
    "print(dfa2.route(\"aabaaa\"))\n",
    "\n",
    "convdfa = convDFA(type='conv', dfa1=dfa1, dfa2=dfa2)\n",
    "d = run_learning_process(copy.deepcopy(convdfa), oracle=Oracle1Conv(), debug=False)\n",
    "print(d.Q)"
   ]
  },
  {
   "cell_type": "code",
   "execution_count": 25,
   "metadata": {},
   "outputs": [
    {
     "name": "stdout",
     "output_type": "stream",
     "text": [
      "kontrprzykłady: [], cnt = [69, 1]\n",
      "4\n"
     ]
    }
   ],
   "source": [
    "\"\"\"słowa zawierające literke 'a'\"\"\"\n",
    "dfa1 = DFA(Q=2, input_signs=['a', 'b'], δ = {(0,'a'):1, (0, 'b'):0, (1, 'a'):1, (1, 'b'):1}, F=set([1]))\n",
    "# dfa1.route(\"bbbb\")\n",
    "\n",
    "convdfa = convDFA(type='conv', dfa1=copy.deepcopy(dfa1), dfa2=copy.deepcopy(dfa1))\n",
    "# convdfa.route(\"bBBAA\")\n",
    "d = run_learning_process(copy.deepcopy(convdfa), oracle=None, debug=False)\n",
    "print(d.Q)"
   ]
  },
  {
   "cell_type": "code",
   "execution_count": 39,
   "metadata": {},
   "outputs": [
    {
     "name": "stdout",
     "output_type": "stream",
     "text": [
      "kontrprzyklad = abAB\n",
      "kontrprzyklad = aAbB\n",
      "kontrprzyklad = aBbA\n",
      "kontrprzyklad = baAB\n",
      "kontrprzyklad = bAaB\n",
      "kontrprzyklad = bBaA\n",
      "kontrprzyklad = AabB\n",
      "kontrprzyklad = ABab\n",
      "kontrprzyklad = BabA\n",
      "kontrprzykłady: [4, 4, 4, 4, 4, 4, 4, 4, 4], cnt = [402, 10]\n",
      "16\n"
     ]
    }
   ],
   "source": [
    "\"\"\"słowa zawierająće i literę 'a' i literę 'b'\"\"\"\n",
    "dfa1 = DFA(Q=4, input_signs=['a', 'b'], δ={(0, 'a'):2, (0,'b'):1, (1, 'b'):1, (1, 'a'):3, (2, 'a'):2, (2, 'b'):3, (3, 'a'):3, (3, 'b'):3}, F=set([3]))\n",
    "\n",
    "convdfa = convDFA(type='conv', dfa1 = copy.deepcopy(dfa1), dfa2 = copy.deepcopy(dfa1))\n",
    "# convdfa.route(\"AAAbbbbaaaaaBAaa\")\n",
    "d = run_learning_process(copy.deepcopy(convdfa), oracle=Oracle1Conv(), debug=False)\n",
    "print(d.Q)"
   ]
  }
 ],
 "metadata": {
  "kernelspec": {
   "display_name": "Python 3",
   "language": "python",
   "name": "python3"
  },
  "language_info": {
   "codemirror_mode": {
    "name": "ipython",
    "version": 3
   },
   "file_extension": ".py",
   "mimetype": "text/x-python",
   "name": "python",
   "nbconvert_exporter": "python",
   "pygments_lexer": "ipython3",
   "version": "3.10.12"
  }
 },
 "nbformat": 4,
 "nbformat_minor": 2
}
