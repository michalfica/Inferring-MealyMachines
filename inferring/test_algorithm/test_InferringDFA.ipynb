{
 "cells": [
  {
   "cell_type": "markdown",
   "metadata": {},
   "source": [
    "### Testowanie uczenia się DFA z pomocą systemu przepisywania więzów"
   ]
  },
  {
   "cell_type": "code",
   "execution_count": 91,
   "metadata": {},
   "outputs": [],
   "source": [
    "import copy, sys\n",
    "sys.path.append(\"../\")\n",
    "sys.path.append(\"../../\")\n",
    "sys.path.append(\"../../utils\")\n",
    "from importlib import reload\n",
    "\n",
    "import Inferring, InferringDFA,  InferringconvDFA, utils.automats.convDFA, utils.automats.DFA\n",
    "import utils.oracles.oracle1 as oracle1, utils.oracles.oracle1Conv as oracle1Conv\n",
    "reload(oracle1)\n",
    "reload(oracle1Conv)\n",
    "reload(Inferring)\n",
    "reload(InferringDFA)\n",
    "reload(InferringconvDFA)\n",
    "reload(utils.automats.convDFA)\n",
    "reload(utils.automats.DFA)\n",
    "\n",
    "from Inferring import Inferring\n",
    "from InferringconvDFA import InferringconvDFA\n",
    "from utils.automats.convDFA import convDFA\n",
    "from utils.automats.DFA import DFA\n",
    "from utils.oracles.oracle1Conv import Oracle1Conv\n",
    "\n",
    "from InferringDFA import InferringDFA\n",
    "from utils.oracles.oracle1prof import OracleProf"
   ]
  },
  {
   "cell_type": "code",
   "execution_count": 112,
   "metadata": {},
   "outputs": [],
   "source": [
    "def run_learning_process(test, oracle=None, check_consistency=False, debug=False):\n",
    "    _dfa = copy.deepcopy(test.dfa)\n",
    "    if test.type==\"conv\":\n",
    "        # print(f\"ucze się języka:\")\n",
    "        # _dfa.print_transitions()\n",
    "        learn_dfa = InferringconvDFA(_dfa, oracle, check_consistency=check_consistency, debug=debug)\n",
    "    if test.type==\"dfa\":\n",
    "        learn_dfa = InferringDFA(_dfa, oracle, check_consistency=check_consistency, debug=debug)\n",
    "        \n",
    "    dfa, cnt, cnt_ex = learn_dfa.run(counterexamples=True)\n",
    "    print(f\"kontrprzykłady: {cnt_ex}, cnt = {cnt}\")\n",
    "    return copy.deepcopy(dfa) "
   ]
  },
  {
   "cell_type": "code",
   "execution_count": 113,
   "metadata": {},
   "outputs": [],
   "source": [
    "class test_example():\n",
    "    def __init__(self, type, dfa, description=''):\n",
    "        self.type = type\n",
    "        self.dfa = copy.deepcopy(dfa)\n",
    "        self.description = description\n",
    "        "
   ]
  },
  {
   "cell_type": "code",
   "execution_count": 120,
   "metadata": {},
   "outputs": [],
   "source": [
    "test_examples = [\n",
    "    test_example(type = \"conv\", \n",
    "                 dfa = convDFA(type=\"conv\", \n",
    "                               dfa1 = DFA(Q=4, input_signs=['a', 'b'], δ = {(0, 'a'):1, (0, 'b'):0, (1, 'a'):1, (1, 'b'):2, (2, 'a'):3, (2, 'b'):0, (3, 'a'):3, (3, 'b'):3}, F=set([3])),\n",
    "                               dfa2 = DFA(Q=4, input_signs=['a', 'b'], δ = {(0, 'a'):0, (0, 'b'):1, (1, 'a'):0, (1, 'b'):2, (2, 'a'):0, (2, 'b'):3, (3, 'a'):3, (3, 'b'):3}, F=set([3]))),\n",
    "                 description = \"splot, dfa1 - wzorzec 'aba', dfa2 - wzorzec 'bbb'\"),\n",
    "    \n",
    "    test_example(type=\"conv\", \n",
    "                 dfa = convDFA(type=\"conv\", \n",
    "                               dfa1=DFA(Q=3, input_signs=['a', 'b'], δ={(0,'a'):0, (0,'b'):1, (1, 'a'):0, (1, 'b'):2, (2, 'a'):2, (2, 'b'):2}, F= set([2])), \n",
    "                               dfa2=DFA(Q=3, input_signs=['a', 'b'], δ={(0,'a'):1, (0,'b'):0, (1, 'a'):2, (1, 'b'):0, (2, 'a'):2, (2, 'b'):2}, F= set([2]))),\n",
    "                description=\"splot, dfa1 - wzorzec - 'bb', dfa2 - wzorzec 'aa'\" ),\n",
    "    \n",
    "    test_example(type=\"conv\", \n",
    "                 dfa = convDFA(type=\"conv\", \n",
    "                               dfa1=DFA(Q=4, input_signs=['a', 'b'], δ={(0,'a'):0, (0,'b'):1, (1, 'a'):0, (1, 'b'):2, (2, 'a'):0, (2, 'b'):3, (3, 'a'):3, (3, 'b'):3}, F= set([3])),\n",
    "                               dfa2=DFA(Q=4, input_signs=['a', 'b'], δ={(0,'a'):1, (0,'b'):0, (1, 'a'):2, (1, 'b'):0, (2, 'a'):3, (2, 'b'):0, (3, 'a'):3, (3, 'b'):3}, F= set([3]))),\n",
    "                 description=\"splot, dfa1 - wzorzec 'bbb', dfa2 - wzorzec 'aaa'\"),\n",
    "                 \n",
    "    test_example(type=\"conv\",\n",
    "                 dfa=convDFA(type=\"conv\",\n",
    "                             dfa1=DFA(Q=2, input_signs=['a', 'b'], δ = {(0,'a'):1, (0, 'b'):0, (1, 'a'):1, (1, 'b'):1}, F=set([1])),\n",
    "                             dfa2=DFA(Q=2, input_signs=['a', 'b'], δ = {(0,'a'):1, (0, 'b'):0, (1, 'a'):1, (1, 'b'):1}, F=set([1]))),\n",
    "                description=\"splot, dfa1 - słowa zawierające literke 'a', dfa2 - słowa zawierające literke 'a'\"),\n",
    "                \n",
    "    test_example(type=\"conv\", \n",
    "                 dfa=convDFA(type=\"conv\",\n",
    "                             dfa1=DFA(Q=4, input_signs=['a', 'b'], δ={(0, 'a'):2, (0,'b'):1, (1, 'b'):1, (1, 'a'):3, (2, 'a'):2, (2, 'b'):3, (3, 'a'):3, (3, 'b'):3}, F=set([3])),\n",
    "                             dfa2=DFA(Q=4, input_signs=['a', 'b'], δ={(0, 'a'):2, (0,'b'):1, (1, 'b'):1, (1, 'a'):3, (2, 'a'):2, (2, 'b'):3, (3, 'a'):3, (3, 'b'):3}, F=set([3]))),\n",
    "                description=\"splot, dfa1 - słowa zawierające i literę 'a' i literę 'b', dfa2 - słowa zawierające i literę 'a' i literę 'b'\"),\n",
    "                \n",
    "    test_example(type=\"dfa\", \n",
    "                 dfa=DFA(Q=3, input_signs=['0', '1', '2', '3', '4', '5', '6', '7'], δ={(0,'0'):0, (0,'1'):2, (0,'2'):2, (0,'3'):0, (0,'4'):2, (0,'5'):0, (0,'6'):1, (0,'7'):2, (1,'0'):2, (1,'1'):0, (1,'2'):1, (1,'3'):2, (1,'4'):1, (1,'5'):2, (1,'6'):2, (1,'7'):1, (2,'0'):2, (2,'1'):2, (2,'2'):2, (2,'3'):2, (2,'4'):2, (2,'5'):2, (2,'6'):2, (2,'7'):2}, F=set([0])),\n",
    "                 description=\"zakodowane dodawania w systemie dwójkowym\")]"
   ]
  },
  {
   "cell_type": "code",
   "execution_count": 127,
   "metadata": {},
   "outputs": [
    {
     "name": "stdout",
     "output_type": "stream",
     "text": [
      "splot, dfa1 - wzorzec 'bbb', dfa2 - wzorzec 'aaa'\n",
      "kontrprzykłady: [6, 6, 6, 6, 6, 6, 6, 6, 6], cnt = [849, 10]\n",
      "kontrprzykłady: [6, 6, 6, 6, 6, 6, 6, 6, 6], cnt = [333, 10]\n",
      "kontrprzykłady: [6, 6, 6, 6, 6, 6, 6, 12], cnt = [362, 2]\n"
     ]
    }
   ],
   "source": [
    "test = test_examples[2]\n",
    "print(f\"{test.description}\")\n",
    "\n",
    "# ans = test.dfa.route(\"BabaBB\")\n",
    "# print(f\"ans = {ans}\")\n",
    "# oracle_add = OracleProf(pi = [('2', '4'), ('4','2'), ('3', '5'), ('5', '3')])\n",
    "d = run_learning_process(copy.deepcopy(test), oracle=None, check_consistency=False, debug=False)\n",
    "d = run_learning_process(copy.deepcopy(test), oracle=Oracle1Conv(), check_consistency=False, debug=False)\n",
    "d = run_learning_process(copy.deepcopy(test), oracle=Oracle1Conv(), check_consistency=True, debug=False)"
   ]
  },
  {
   "cell_type": "markdown",
   "metadata": {},
   "source": [
    "<!-- ### Uczenie się splotów - **debugowanie**  -->"
   ]
  },
  {
   "cell_type": "code",
   "execution_count": 66,
   "metadata": {},
   "outputs": [],
   "source": [
    "import copy, sys\n",
    "sys.path.append(\"../\")\n",
    "sys.path.append(\"../../\")\n",
    "sys.path.append(\"../../utils\")\n",
    "from importlib import reload\n",
    "\n",
    "import Inferring, InferringDFA,  InferringconvDFA, utils.automats.convDFA, utils.automats.DFA\n",
    "import utils.oracles.oracle1 as oracle1, utils.oracles.oracle1Conv as oracle1Conv\n",
    "reload(oracle1)\n",
    "reload(oracle1Conv)\n",
    "reload(Inferring)\n",
    "reload(InferringDFA)\n",
    "reload(InferringconvDFA)\n",
    "reload(utils.automats.convDFA)\n",
    "reload(utils.automats.DFA)\n",
    "\n",
    "from Inferring import Inferring\n",
    "from InferringconvDFA import InferringconvDFA\n",
    "from utils.automats.convDFA import convDFA\n",
    "from utils.automats.DFA import DFA\n",
    "from utils.oracles.oracle1Conv import Oracle1Conv\n",
    "\n",
    "def run_learning_process(_dfa, oracle=None, debug=False, check_consistency=False):\n",
    "    learn_dfa = InferringconvDFA(_dfa, oracle, debug=debug, check_consistency=check_consistency)\n",
    "    dfa, cnt, cnt_ex = learn_dfa.run(counterexamples=True)\n",
    "    print(f\"kontrprzykłady: {cnt_ex}, cnt = {cnt}\")\n",
    "    return copy.deepcopy(dfa) "
   ]
  },
  {
   "cell_type": "code",
   "execution_count": 69,
   "metadata": {},
   "outputs": [
    {
     "name": "stdout",
     "output_type": "stream",
     "text": [
      "kontrprzykłady: [4, 4, 4, 4], cnt = [153, 2]\n"
     ]
    }
   ],
   "source": [
    "\"\"\"wzorzec - bb\"\"\"\n",
    "dfa1 = DFA(Q=3, input_signs=['a', 'b'], \n",
    "           δ={(0,'a'):0, (0,'b'):1, (1, 'a'):0, (1, 'b'):2, (2, 'a'):2, (2, 'b'):2}, F= set([2]))\n",
    "\"\"\"wzorzec - aa\"\"\"\n",
    "dfa2 = DFA(Q=3, input_signs=['a', 'b'], \n",
    "           δ={(0,'a'):1, (0,'b'):0, (1, 'a'):2, (1, 'b'):0, (2, 'a'):2, (2, 'b'):2}, F= set([2]))\n",
    "\n",
    "convdfa = convDFA(type='conv', dfa1=dfa1, dfa2=dfa2)\n",
    "d = run_learning_process(copy.deepcopy(convdfa), oracle=Oracle1Conv(), debug=False, check_consistency=True)"
   ]
  }
 ],
 "metadata": {
  "kernelspec": {
   "display_name": "Python 3",
   "language": "python",
   "name": "python3"
  },
  "language_info": {
   "codemirror_mode": {
    "name": "ipython",
    "version": 3
   },
   "file_extension": ".py",
   "mimetype": "text/x-python",
   "name": "python",
   "nbconvert_exporter": "python",
   "pygments_lexer": "ipython3",
   "version": "3.10.12"
  }
 },
 "nbformat": 4,
 "nbformat_minor": 2
}
