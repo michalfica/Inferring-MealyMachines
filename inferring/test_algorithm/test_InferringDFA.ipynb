{
 "cells": [
  {
   "cell_type": "markdown",
   "metadata": {},
   "source": [
    "### Testowanie uczenia się DFA z pomocą systemu przepisywania więzów"
   ]
  },
  {
   "cell_type": "code",
   "execution_count": 41,
   "metadata": {},
   "outputs": [],
   "source": [
    "import copy, sys\n",
    "sys.path.append(\"../\")\n",
    "sys.path.append(\"../../\")\n",
    "sys.path.append(\"../../utils\")\n",
    "from importlib import reload\n",
    "\n",
    "import Inferring, InferringDFA,  InferringconvDFA, utils.automats.convDFA, utils.automats.DFA, utils.automats.PatternDFA\n",
    "import utils.oracles.oracle1 as oracle1, utils.oracles.oracle1Conv as oracle1Conv\n",
    "reload(oracle1)\n",
    "reload(oracle1Conv)\n",
    "reload(Inferring)\n",
    "reload(InferringDFA)\n",
    "reload(InferringconvDFA)\n",
    "reload(utils.automats.convDFA)\n",
    "reload(utils.automats.DFA)\n",
    "reload(utils.automats.PatternDFA)\n",
    "\n",
    "from Inferring import Inferring\n",
    "from InferringconvDFA import InferringconvDFA\n",
    "from utils.automats.convDFA import convDFA\n",
    "from utils.automats.DFA import DFA\n",
    "from utils.automats.PatternDFA import PatternDFA\n",
    "from utils.oracles.oracle1Conv import Oracle1Conv\n",
    "\n",
    "from InferringDFA import InferringDFA\n",
    "from utils.oracles.oracle1prof import OracleProf"
   ]
  },
  {
   "cell_type": "code",
   "execution_count": 14,
   "metadata": {},
   "outputs": [],
   "source": [
    "def run_learning_process(test, oracle=None, check_consistency=False, debug=False):\n",
    "    _dfa = copy.deepcopy(test.dfa)\n",
    "    if test.type==\"conv\":\n",
    "        # print(f\"ucze się języka:\")\n",
    "        # _dfa.print_transitions()\n",
    "        learn_dfa = InferringconvDFA(_dfa, oracle, check_consistency=check_consistency, debug=debug)\n",
    "    if test.type==\"dfa\":\n",
    "        learn_dfa = InferringDFA(_dfa, oracle, check_consistency=check_consistency, debug=debug)\n",
    "        \n",
    "    dfa, cnt, cnt_ex = learn_dfa.run(counterexamples=True)\n",
    "    print(f\"kontrprzykłady: {cnt_ex}, cnt = {cnt}\")\n",
    "    return copy.deepcopy(dfa) "
   ]
  },
  {
   "cell_type": "code",
   "execution_count": 15,
   "metadata": {},
   "outputs": [],
   "source": [
    "class test_example():\n",
    "    def __init__(self, type, dfa, description=''):\n",
    "        self.type = type\n",
    "        self.dfa = copy.deepcopy(dfa)\n",
    "        self.description = description\n",
    "        "
   ]
  },
  {
   "cell_type": "code",
   "execution_count": 4,
   "metadata": {},
   "outputs": [
    {
     "data": {
      "text/plain": [
       "\"splot, dfa1 - 2 wzorce 'aa' i 'bb', dfa2 - 2 wzorce 'aa' i 'bb'\\nkontrprzykłady: [8, 8, 8, 8, 8, 8, 8, 8, 8, 8, 8, 8, 8,  8, 8, 8, 8, 8, 8, 8, 8, 8, 8, 8, 8, 8, 8, 8, 8, 8, 8, 8, 8, 8, 8, 8, 8, 8], cnt = [10872, 39]\\nkontrprzykłady: [8, 8, 8, 8, 8, 8, 8, 8, 8, 8, 8, 8, 8,  8, 8, 8, 8, 8, 8, 8, 8, 8, 8, 8, 8, 8, 8, 8, 8, 8, 8, 8, 8, 8, 8, 8, 8, 8], cnt = [4547, 39]\\nkontrprzykłady: [8, 8, 8, 8, 8, 8, 8, 8, 8, 8, 8, 8, 12, 8, 8, 8, 8, 9, 8, 9, 8, 8, 8, 8, 8, 8], cnt = [3485, 4]\""
      ]
     },
     "execution_count": 4,
     "metadata": {},
     "output_type": "execute_result"
    }
   ],
   "source": [
    "test_examples = [\n",
    "    test_example(type = \"conv\", \n",
    "                 dfa = convDFA(type=\"conv\", \n",
    "                               dfa1 = DFA(Q=4, input_signs=['a', 'b'], δ = {(0, 'a'):1, (0, 'b'):0, (1, 'a'):1, (1, 'b'):2, (2, 'a'):3, (2, 'b'):0, (3, 'a'):3, (3, 'b'):3}, F=set([3])),\n",
    "                               dfa2 = DFA(Q=4, input_signs=['a', 'b'], δ = {(0, 'a'):0, (0, 'b'):1, (1, 'a'):0, (1, 'b'):2, (2, 'a'):0, (2, 'b'):3, (3, 'a'):3, (3, 'b'):3}, F=set([3]))),\n",
    "                 description = \"splot, dfa1 - wzorzec 'aba', dfa2 - wzorzec 'bbb'\"),\n",
    "    \n",
    "    test_example(type=\"conv\", \n",
    "                 dfa = convDFA(type=\"conv\", \n",
    "                               dfa1=DFA(Q=3, input_signs=['a', 'b'], δ={(0,'a'):0, (0,'b'):1, (1, 'a'):0, (1, 'b'):2, (2, 'a'):2, (2, 'b'):2}, F= set([2])), \n",
    "                               dfa2=DFA(Q=3, input_signs=['a', 'b'], δ={(0,'a'):1, (0,'b'):0, (1, 'a'):2, (1, 'b'):0, (2, 'a'):2, (2, 'b'):2}, F= set([2]))),\n",
    "                description=\"splot, dfa1 - wzorzec - 'bb', dfa2 - wzorzec 'aa'\" ),\n",
    "    \n",
    "    test_example(type=\"conv\", \n",
    "                 dfa = convDFA(type=\"conv\", \n",
    "                               dfa1=DFA(Q=4, input_signs=['a', 'b'], δ={(0,'a'):0, (0,'b'):1, (1, 'a'):0, (1, 'b'):2, (2, 'a'):0, (2, 'b'):3, (3, 'a'):3, (3, 'b'):3}, F= set([3])),\n",
    "                               dfa2=DFA(Q=4, input_signs=['a', 'b'], δ={(0,'a'):1, (0,'b'):0, (1, 'a'):2, (1, 'b'):0, (2, 'a'):3, (2, 'b'):0, (3, 'a'):3, (3, 'b'):3}, F= set([3]))),\n",
    "                 description=\"splot, dfa1 - wzorzec 'bbb', dfa2 - wzorzec 'aaa'\"),\n",
    "                 \n",
    "    test_example(type=\"conv\",\n",
    "                 dfa=convDFA(type=\"conv\",\n",
    "                             dfa1=DFA(Q=2, input_signs=['a', 'b'], δ = {(0,'a'):1, (0, 'b'):0, (1, 'a'):1, (1, 'b'):1}, F=set([1])),\n",
    "                             dfa2=DFA(Q=2, input_signs=['a', 'b'], δ = {(0,'a'):1, (0, 'b'):0, (1, 'a'):1, (1, 'b'):1}, F=set([1]))),\n",
    "                description=\"splot, dfa1 - słowa zawierające literke 'a', dfa2 - słowa zawierające literke 'a'\"),\n",
    "                \n",
    "    test_example(type=\"conv\", \n",
    "                 dfa=convDFA(type=\"conv\",\n",
    "                             dfa1=DFA(Q=4, input_signs=['a', 'b'], δ={(0, 'a'):2, (0,'b'):1, (1, 'b'):1, (1, 'a'):3, (2, 'a'):2, (2, 'b'):3, (3, 'a'):3, (3, 'b'):3}, F=set([3])),\n",
    "                             dfa2=DFA(Q=4, input_signs=['a', 'b'], δ={(0, 'a'):2, (0,'b'):1, (1, 'b'):1, (1, 'a'):3, (2, 'a'):2, (2, 'b'):3, (3, 'a'):3, (3, 'b'):3}, F=set([3]))),\n",
    "                description=\"splot, dfa1 - słowa zawierające i literę 'a' i literę 'b', dfa2 - słowa zawierające i literę 'a' i literę 'b'\"),\n",
    "                \n",
    "    test_example(type=\"dfa\", \n",
    "                 dfa=DFA(Q=3, input_signs=['0', '1', '2', '3', '4', '5', '6', '7'], δ={(0,'0'):0, (0,'1'):2, (0,'2'):2, (0,'3'):0, (0,'4'):2, (0,'5'):0, (0,'6'):1, (0,'7'):2, (1,'0'):2, (1,'1'):0, (1,'2'):1, (1,'3'):2, (1,'4'):1, (1,'5'):2, (1,'6'):2, (1,'7'):1, (2,'0'):2, (2,'1'):2, (2,'2'):2, (2,'3'):2, (2,'4'):2, (2,'5'):2, (2,'6'):2, (2,'7'):2}, F=set([0])),\n",
    "                 description=\"zakodowane dodawania w systemie dwójkowym\"), \n",
    "    \n",
    "    test_example(type=\"conv\", \n",
    "                 dfa=convDFA(type=\"conv\", \n",
    "                             dfa1=DFA(Q=5, input_signs=['a', 'b'], δ={(0,'a'):1, (0,'b'):3, (1,'a'):2, (1,'b'):3, (2,'a'):2, (2,'b'):2, (3,'a'):1, (3,'b'):4, (4,'a'):4, (4,'b'):4}, F=set([2, 4])),\n",
    "                             dfa2=DFA(Q=5, input_signs=['a', 'b'], δ={(0,'a'):1, (0,'b'):3, (1,'a'):2, (1,'b'):3, (2,'a'):2, (2,'b'):2, (3,'a'):1, (3,'b'):4, (4,'a'):4, (4,'b'):4}, F=set([2, 4])),\n",
    "                description=\"splot, dfa1 - 2 wzorce 'aa' lub 'bb', dfa2 - 2 wzorce 'aa' lub 'bb'\")),\n",
    "                \n",
    "    test_example(type=\"conv\", \n",
    "                 dfa=convDFA(type=\"conv\", \n",
    "                             dfa1=DFA(Q=9, input_signs=['a', 'b'], δ={(0,'a'):1, (0,'b'):3, (1,'a'):2, (1,'b'):3, (2,'a'):2, (2,'b'):5, (3,'a'):1, (3,'b'):4, (4,'a'):7, (4,'b'):4, (5,'a'):5, (5,'b'):6, (6,'a'):6, (6,'b'):6, (7,'a'):8, (7,'b'):7, (8,'a'):8, (8,'b'):8}, F=set([6, 8])),\n",
    "                             dfa2=DFA(Q=9, input_signs=['a', 'b'], δ={(0,'a'):1, (0,'b'):3, (1,'a'):2, (1,'b'):3, (2,'a'):2, (2,'b'):5, (3,'a'):1, (3,'b'):4, (4,'a'):7, (4,'b'):4, (5,'a'):5, (5,'b'):6, (6,'a'):6, (6,'b'):6, (7,'a'):8, (7,'b'):7, (8,'a'):8, (8,'b'):8}, F=set([6, 8]))),\n",
    "                description=\"splot, dfa1 - 2 wzorce 'aa' i 'bb', dfa2 - 2 wzorce 'aa' i 'bb'\")]\n",
    "\n",
    "\"\"\"splot, dfa1 - 2 wzorce 'aa' i 'bb', dfa2 - 2 wzorce 'aa' i 'bb'\n",
    "kontrprzykłady: [8, 8, 8, 8, 8, 8, 8, 8, 8, 8, 8, 8, 8,  8, 8, 8, 8, 8, 8, 8, 8, 8, 8, 8, 8, 8, 8, 8, 8, 8, 8, 8, 8, 8, 8, 8, 8, 8], cnt = [10872, 39]\n",
    "kontrprzykłady: [8, 8, 8, 8, 8, 8, 8, 8, 8, 8, 8, 8, 8,  8, 8, 8, 8, 8, 8, 8, 8, 8, 8, 8, 8, 8, 8, 8, 8, 8, 8, 8, 8, 8, 8, 8, 8, 8], cnt = [4547, 39]\n",
    "kontrprzykłady: [8, 8, 8, 8, 8, 8, 8, 8, 8, 8, 8, 8, 12, 8, 8, 8, 8, 9, 8, 9, 8, 8, 8, 8, 8, 8], cnt = [3485, 4]\"\"\""
   ]
  },
  {
   "cell_type": "code",
   "execution_count": 38,
   "metadata": {},
   "outputs": [
    {
     "name": "stdout",
     "output_type": "stream",
     "text": [
      "q = 6\n"
     ]
    }
   ],
   "source": [
    "dfa1 = PatternDFA(input_signs=['a', 'b'], patterns=['aa', 'bb'])\n",
    "dfa2 = PatternDFA(input_signs=['a', 'b', 'c'], patterns=['aa', 'bb', 'c'])\n",
    "\n",
    "q = dfa1.δ[(4,'a')]\n",
    "print(f\"q = {q}\")\n",
    "# print(f\"Q1 = {dfa1.Q}, Q2 = {dfa2.Q}\")\n",
    "# dfa=convDFA(type=\"conv\", dfa1=dfa1, dfa2=dfa2)"
   ]
  },
  {
   "cell_type": "code",
   "execution_count": 43,
   "metadata": {},
   "outputs": [
    {
     "name": "stdout",
     "output_type": "stream",
     "text": [
      "splot, dfa1 - 2 wzorce: 'aa', 'bb', dfa2 - 3 wzorce: 'aa', 'bb', 'c'\n",
      "kontrprzykłady: [9, 9, 9, 9, 9, 9, 9, 9, 9, 9, 9, 9, 9, 9, 9, 9, 9, 9, 9, 9, 9, 9, 9, 9, 9, 9, 9, 9, 9, 9, 9, 9, 9, 9, 9, 9, 9, 9, 9, 9, 9, 9, 9, 9, 9, 9, 9, 9, 9, 9, 9, 9, 9, 9, 9, 9, 9, 9, 9, 9, 9, 9, 9, 9, 9], cnt = [46811, 66]\n"
     ]
    }
   ],
   "source": [
    "test = test_example(type=\"conv\",\n",
    "                    dfa=convDFA(type=\"conv\",\n",
    "                                dfa1=PatternDFA(input_signs=['a', 'b'], patterns=['aa', 'bb']),\n",
    "                                dfa2=PatternDFA(input_signs=['a', 'b', 'c'], patterns=['aa', 'bb', 'c'])),\n",
    "                    description=\"splot, dfa1 - 2 wzorce: 'aa', 'bb', dfa2 - 3 wzorce: 'aa', 'bb', 'c'\")\n",
    "\n",
    "print(f\"{test.description}\")\n",
    "d = run_learning_process(copy.deepcopy(test), oracle=None, check_consistency=False, debug=False)"
   ]
  },
  {
   "cell_type": "code",
   "execution_count": 44,
   "metadata": {},
   "outputs": [
    {
     "ename": "KeyboardInterrupt",
     "evalue": "",
     "output_type": "error",
     "traceback": [
      "\u001b[0;31m---------------------------------------------------------------------------\u001b[0m",
      "\u001b[0;31mKeyboardInterrupt\u001b[0m                         Traceback (most recent call last)",
      "Cell \u001b[0;32mIn[44], line 1\u001b[0m\n\u001b[0;32m----> 1\u001b[0m d \u001b[38;5;241m=\u001b[39m \u001b[43mrun_learning_process\u001b[49m\u001b[43m(\u001b[49m\u001b[43mcopy\u001b[49m\u001b[38;5;241;43m.\u001b[39;49m\u001b[43mdeepcopy\u001b[49m\u001b[43m(\u001b[49m\u001b[43mtest\u001b[49m\u001b[43m)\u001b[49m\u001b[43m,\u001b[49m\u001b[43m \u001b[49m\u001b[43moracle\u001b[49m\u001b[38;5;241;43m=\u001b[39;49m\u001b[43mOracle1Conv\u001b[49m\u001b[43m(\u001b[49m\u001b[43m)\u001b[49m\u001b[43m,\u001b[49m\u001b[43m \u001b[49m\u001b[43mcheck_consistency\u001b[49m\u001b[38;5;241;43m=\u001b[39;49m\u001b[38;5;28;43;01mFalse\u001b[39;49;00m\u001b[43m,\u001b[49m\u001b[43m \u001b[49m\u001b[43mdebug\u001b[49m\u001b[38;5;241;43m=\u001b[39;49m\u001b[38;5;28;43;01mFalse\u001b[39;49;00m\u001b[43m)\u001b[49m\n",
      "Cell \u001b[0;32mIn[14], line 10\u001b[0m, in \u001b[0;36mrun_learning_process\u001b[0;34m(test, oracle, check_consistency, debug)\u001b[0m\n\u001b[1;32m      7\u001b[0m \u001b[38;5;28;01mif\u001b[39;00m test\u001b[38;5;241m.\u001b[39mtype\u001b[38;5;241m==\u001b[39m\u001b[38;5;124m\"\u001b[39m\u001b[38;5;124mdfa\u001b[39m\u001b[38;5;124m\"\u001b[39m:\n\u001b[1;32m      8\u001b[0m     learn_dfa \u001b[38;5;241m=\u001b[39m InferringDFA(_dfa, oracle, check_consistency\u001b[38;5;241m=\u001b[39mcheck_consistency, debug\u001b[38;5;241m=\u001b[39mdebug)\n\u001b[0;32m---> 10\u001b[0m dfa, cnt, cnt_ex \u001b[38;5;241m=\u001b[39m \u001b[43mlearn_dfa\u001b[49m\u001b[38;5;241;43m.\u001b[39;49m\u001b[43mrun\u001b[49m\u001b[43m(\u001b[49m\u001b[43mcounterexamples\u001b[49m\u001b[38;5;241;43m=\u001b[39;49m\u001b[38;5;28;43;01mTrue\u001b[39;49;00m\u001b[43m)\u001b[49m\n\u001b[1;32m     11\u001b[0m \u001b[38;5;28mprint\u001b[39m(\u001b[38;5;124mf\u001b[39m\u001b[38;5;124m\"\u001b[39m\u001b[38;5;124mkontrprzykłady: \u001b[39m\u001b[38;5;132;01m{\u001b[39;00mcnt_ex\u001b[38;5;132;01m}\u001b[39;00m\u001b[38;5;124m, cnt = \u001b[39m\u001b[38;5;132;01m{\u001b[39;00mcnt\u001b[38;5;132;01m}\u001b[39;00m\u001b[38;5;124m\"\u001b[39m)\n\u001b[1;32m     12\u001b[0m \u001b[38;5;28;01mreturn\u001b[39;00m copy\u001b[38;5;241m.\u001b[39mdeepcopy(dfa)\n",
      "File \u001b[0;32m~/Documents/studia2/magisterka/inferring/test_algorithm/../../inferring/Inferring.py:101\u001b[0m, in \u001b[0;36mInferring.run\u001b[0;34m(self, counterexamples)\u001b[0m\n\u001b[1;32m     99\u001b[0m         \u001b[38;5;28mprint\u001b[39m(\u001b[38;5;124mf\u001b[39m\u001b[38;5;124m\"\u001b[39m\u001b[38;5;124mkontrprzyklad (z zapytania o równoważność)= \u001b[39m\u001b[38;5;132;01m{\u001b[39;00mx\u001b[38;5;132;01m}\u001b[39;00m\u001b[38;5;124m\"\u001b[39m)\n\u001b[1;32m    100\u001b[0m     \u001b[38;5;28mself\u001b[39m\u001b[38;5;241m.\u001b[39mcounterexamples\u001b[38;5;241m.\u001b[39mappend(x)\n\u001b[0;32m--> 101\u001b[0m     \u001b[38;5;28;43mself\u001b[39;49m\u001b[38;5;241;43m.\u001b[39;49m\u001b[43m_process_counterexample\u001b[49m\u001b[43m(\u001b[49m\u001b[43mx\u001b[49m\u001b[43m)\u001b[49m\n\u001b[1;32m    102\u001b[0m \u001b[38;5;28;01melse\u001b[39;00m:\n\u001b[1;32m    103\u001b[0m     \u001b[38;5;28;01mif\u001b[39;00m counterexamples:\n",
      "File \u001b[0;32m~/Documents/studia2/magisterka/inferring/test_algorithm/../../inferring/Inferring.py:191\u001b[0m, in \u001b[0;36mInferring._process_counterexample\u001b[0;34m(self, w)\u001b[0m\n\u001b[1;32m    189\u001b[0m     suffix \u001b[38;5;241m=\u001b[39m a \u001b[38;5;241m+\u001b[39m suffix\n\u001b[1;32m    190\u001b[0m     suffixes\u001b[38;5;241m.\u001b[39mappend(suffix)\n\u001b[0;32m--> 191\u001b[0m \u001b[38;5;28;43mself\u001b[39;49m\u001b[38;5;241;43m.\u001b[39;49m\u001b[43m_extend_E\u001b[49m\u001b[43m(\u001b[49m\u001b[43msuffixes\u001b[49m\u001b[43m)\u001b[49m\n",
      "File \u001b[0;32m~/Documents/studia2/magisterka/inferring/test_algorithm/../../inferring/Inferring.py:165\u001b[0m, in \u001b[0;36mInferring._extend_E\u001b[0;34m(self, elist)\u001b[0m\n\u001b[1;32m    163\u001b[0m         \u001b[38;5;28;01mfor\u001b[39;00m e \u001b[38;5;129;01min\u001b[39;00m elist:\n\u001b[1;32m    164\u001b[0m             \u001b[38;5;28;01mif\u001b[39;00m e \u001b[38;5;129;01mnot\u001b[39;00m \u001b[38;5;129;01min\u001b[39;00m \u001b[38;5;28mself\u001b[39m\u001b[38;5;241m.\u001b[39mE \u001b[38;5;129;01mand\u001b[39;00m s \u001b[38;5;241m+\u001b[39m a \u001b[38;5;129;01mnot\u001b[39;00m \u001b[38;5;129;01min\u001b[39;00m \u001b[38;5;28mself\u001b[39m\u001b[38;5;241m.\u001b[39mS:\n\u001b[0;32m--> 165\u001b[0m                 \u001b[38;5;28mself\u001b[39m\u001b[38;5;241m.\u001b[39mT[(s \u001b[38;5;241m+\u001b[39m a, e)] \u001b[38;5;241m=\u001b[39m \u001b[38;5;28;43mself\u001b[39;49m\u001b[38;5;241;43m.\u001b[39;49m\u001b[43m_query_type1\u001b[49m\u001b[43m(\u001b[49m\u001b[43ms\u001b[49m\u001b[43m \u001b[49m\u001b[38;5;241;43m+\u001b[39;49m\u001b[43m \u001b[49m\u001b[43ma\u001b[49m\u001b[43m,\u001b[49m\u001b[43m \u001b[49m\u001b[43me\u001b[49m\u001b[43m)\u001b[49m\n\u001b[1;32m    166\u001b[0m \u001b[38;5;28mself\u001b[39m\u001b[38;5;241m.\u001b[39mE\u001b[38;5;241m.\u001b[39mupdate(elist)\n",
      "File \u001b[0;32m~/Documents/studia2/magisterka/inferring/test_algorithm/../InferringDFA.py:37\u001b[0m, in \u001b[0;36mInferringDFA._query_type1\u001b[0;34m(self, s, e)\u001b[0m\n\u001b[1;32m     32\u001b[0m w \u001b[38;5;241m=\u001b[39m s \u001b[38;5;241m+\u001b[39m e\n\u001b[1;32m     33\u001b[0m \u001b[38;5;28;01mif\u001b[39;00m \u001b[38;5;28mself\u001b[39m\u001b[38;5;241m.\u001b[39moracle \u001b[38;5;129;01mis\u001b[39;00m \u001b[38;5;129;01mnot\u001b[39;00m \u001b[38;5;28;01mNone\u001b[39;00m:\n\u001b[1;32m     34\u001b[0m     ans \u001b[38;5;241m=\u001b[39m (\n\u001b[1;32m     35\u001b[0m         \u001b[38;5;28mself\u001b[39m\u001b[38;5;241m.\u001b[39mqueries[w]\n\u001b[1;32m     36\u001b[0m         \u001b[38;5;28;01mif\u001b[39;00m w \u001b[38;5;129;01min\u001b[39;00m \u001b[38;5;28mself\u001b[39m\u001b[38;5;241m.\u001b[39mqueries\n\u001b[0;32m---> 37\u001b[0m         \u001b[38;5;28;01melse\u001b[39;00m \u001b[38;5;28;43mself\u001b[39;49m\u001b[38;5;241;43m.\u001b[39;49m\u001b[43moracle\u001b[49m\u001b[38;5;241;43m.\u001b[39;49m\u001b[43mask_oracle\u001b[49m\u001b[43m(\u001b[49m\u001b[43mw\u001b[49m\u001b[43m,\u001b[49m\u001b[43m \u001b[49m\u001b[38;5;28;43mself\u001b[39;49m\u001b[38;5;241;43m.\u001b[39;49m\u001b[43mqueries\u001b[49m\u001b[43m)\u001b[49m\n\u001b[1;32m     38\u001b[0m     )\n\u001b[1;32m     39\u001b[0m     \u001b[38;5;28;01mif\u001b[39;00m ans \u001b[38;5;241m!=\u001b[39m \u001b[38;5;28mself\u001b[39m\u001b[38;5;241m.\u001b[39moracle\u001b[38;5;241m.\u001b[39mNO_ANSWER:\n\u001b[1;32m     40\u001b[0m         \u001b[38;5;28mself\u001b[39m\u001b[38;5;241m.\u001b[39mqueries[w] \u001b[38;5;241m=\u001b[39m ans\n",
      "File \u001b[0;32m~/Documents/studia2/magisterka/inferring/test_algorithm/../../utils/oracles/oracle1prof.py:47\u001b[0m, in \u001b[0;36mOracleProf.ask_oracle\u001b[0;34m(self, w, answers)\u001b[0m\n\u001b[1;32m     44\u001b[0m             addToQueue(t)\n\u001b[1;32m     45\u001b[0m     \u001b[38;5;28;01mreturn\u001b[39;00m OracleProf\u001b[38;5;241m.\u001b[39mNO_ANSWER\n\u001b[0;32m---> 47\u001b[0m result \u001b[38;5;241m=\u001b[39m \u001b[43mBFS\u001b[49m\u001b[43m(\u001b[49m\u001b[43m)\u001b[49m\n\u001b[1;32m     48\u001b[0m \u001b[38;5;66;03m# print(f\"oracle mi odpowiedziala na {w} - {result}\")\u001b[39;00m\n\u001b[1;32m     49\u001b[0m \u001b[38;5;28;01mreturn\u001b[39;00m result\n",
      "File \u001b[0;32m~/Documents/studia2/magisterka/inferring/test_algorithm/../../utils/oracles/oracle1prof.py:44\u001b[0m, in \u001b[0;36mOracleProf.ask_oracle.<locals>.BFS\u001b[0;34m()\u001b[0m\n\u001b[1;32m     42\u001b[0m     adjacents \u001b[38;5;241m=\u001b[39m \u001b[38;5;28mself\u001b[39m\u001b[38;5;241m.\u001b[39mget_adjacents(q)\n\u001b[1;32m     43\u001b[0m     \u001b[38;5;28;01mfor\u001b[39;00m t \u001b[38;5;129;01min\u001b[39;00m adjacents:\n\u001b[0;32m---> 44\u001b[0m         \u001b[43maddToQueue\u001b[49m\u001b[43m(\u001b[49m\u001b[43mt\u001b[49m\u001b[43m)\u001b[49m\n\u001b[1;32m     45\u001b[0m \u001b[38;5;28;01mreturn\u001b[39;00m OracleProf\u001b[38;5;241m.\u001b[39mNO_ANSWER\n",
      "File \u001b[0;32m~/Documents/studia2/magisterka/inferring/test_algorithm/../../utils/oracles/oracle1prof.py:33\u001b[0m, in \u001b[0;36mOracleProf.ask_oracle.<locals>.BFS.<locals>.addToQueue\u001b[0;34m(state)\u001b[0m\n\u001b[1;32m     31\u001b[0m \u001b[38;5;28;01mif\u001b[39;00m \u001b[38;5;129;01mnot\u001b[39;00m state \u001b[38;5;129;01min\u001b[39;00m visited:\n\u001b[1;32m     32\u001b[0m     visited[state] \u001b[38;5;241m=\u001b[39m \u001b[38;5;28;01mTrue\u001b[39;00m\n\u001b[0;32m---> 33\u001b[0m     \u001b[43mQ\u001b[49m\u001b[38;5;241;43m.\u001b[39;49m\u001b[43mput\u001b[49m\u001b[43m(\u001b[49m\u001b[43mstate\u001b[49m\u001b[43m)\u001b[49m\n",
      "File \u001b[0;32m/usr/lib/python3.10/queue.py:133\u001b[0m, in \u001b[0;36mQueue.put\u001b[0;34m(self, item, block, timeout)\u001b[0m\n\u001b[1;32m    122\u001b[0m \u001b[38;5;28;01mdef\u001b[39;00m \u001b[38;5;21mput\u001b[39m(\u001b[38;5;28mself\u001b[39m, item, block\u001b[38;5;241m=\u001b[39m\u001b[38;5;28;01mTrue\u001b[39;00m, timeout\u001b[38;5;241m=\u001b[39m\u001b[38;5;28;01mNone\u001b[39;00m):\n\u001b[1;32m    123\u001b[0m \u001b[38;5;250m    \u001b[39m\u001b[38;5;124;03m'''Put an item into the queue.\u001b[39;00m\n\u001b[1;32m    124\u001b[0m \n\u001b[1;32m    125\u001b[0m \u001b[38;5;124;03m    If optional args 'block' is true and 'timeout' is None (the default),\u001b[39;00m\n\u001b[0;32m   (...)\u001b[0m\n\u001b[1;32m    131\u001b[0m \u001b[38;5;124;03m    is ignored in that case).\u001b[39;00m\n\u001b[1;32m    132\u001b[0m \u001b[38;5;124;03m    '''\u001b[39;00m\n\u001b[0;32m--> 133\u001b[0m     \u001b[38;5;28;01mwith\u001b[39;00m \u001b[38;5;28mself\u001b[39m\u001b[38;5;241m.\u001b[39mnot_full:\n\u001b[1;32m    134\u001b[0m         \u001b[38;5;28;01mif\u001b[39;00m \u001b[38;5;28mself\u001b[39m\u001b[38;5;241m.\u001b[39mmaxsize \u001b[38;5;241m>\u001b[39m \u001b[38;5;241m0\u001b[39m:\n\u001b[1;32m    135\u001b[0m             \u001b[38;5;28;01mif\u001b[39;00m \u001b[38;5;129;01mnot\u001b[39;00m block:\n",
      "File \u001b[0;32m/usr/lib/python3.10/threading.py:268\u001b[0m, in \u001b[0;36mCondition.__exit__\u001b[0;34m(self, *args)\u001b[0m\n\u001b[1;32m    267\u001b[0m \u001b[38;5;28;01mdef\u001b[39;00m \u001b[38;5;21m__exit__\u001b[39m(\u001b[38;5;28mself\u001b[39m, \u001b[38;5;241m*\u001b[39margs):\n\u001b[0;32m--> 268\u001b[0m     \u001b[38;5;28;01mreturn\u001b[39;00m \u001b[38;5;28;43mself\u001b[39;49m\u001b[38;5;241;43m.\u001b[39;49m\u001b[43m_lock\u001b[49m\u001b[38;5;241;43m.\u001b[39;49m\u001b[38;5;21;43m__exit__\u001b[39;49m\u001b[43m(\u001b[49m\u001b[38;5;241;43m*\u001b[39;49m\u001b[43margs\u001b[49m\u001b[43m)\u001b[49m\n",
      "\u001b[0;31mKeyboardInterrupt\u001b[0m: "
     ]
    }
   ],
   "source": [
    "d = run_learning_process(copy.deepcopy(test), oracle=Oracle1Conv(), check_consistency=False, debug=False)"
   ]
  },
  {
   "cell_type": "code",
   "execution_count": null,
   "metadata": {},
   "outputs": [],
   "source": [
    "d = run_learning_process(copy.deepcopy(test), oracle=Oracle1Conv(), check_consistency=True, debug=False)"
   ]
  },
  {
   "cell_type": "code",
   "execution_count": 6,
   "metadata": {},
   "outputs": [
    {
     "name": "stdout",
     "output_type": "stream",
     "text": [
      "splot, dfa1 - wzorzec - 'bb', dfa2 - wzorzec 'aa'\n",
      "kontrprzykłady: [4, 4, 4, 4], cnt = [289, 5]\n",
      "kontrprzykłady: [4, 4, 4, 4], cnt = [150, 5]\n",
      "kontrprzykłady: [4, 4, 4, 8], cnt = [170, 2]\n"
     ]
    }
   ],
   "source": [
    "test = test_examples[1]\n",
    "print(f\"{test.description}\")\n",
    "\n",
    "d = run_learning_process(copy.deepcopy(test), oracle=None, check_consistency=False, debug=False)\n",
    "d = run_learning_process(copy.deepcopy(test), oracle=Oracle1Conv(), check_consistency=False, debug=False)\n",
    "d = run_learning_process(copy.deepcopy(test), oracle=Oracle1Conv(), check_consistency=True, debug=False)"
   ]
  },
  {
   "cell_type": "code",
   "execution_count": 155,
   "metadata": {},
   "outputs": [
    {
     "name": "stdout",
     "output_type": "stream",
     "text": [
      "kontrprzykłady: [4, 4], cnt = [71, 3]\n",
      "(0,a) --> 6\n",
      "(0,b) --> 1\n",
      "(1,a) --> 6\n",
      "(1,b) --> 2\n",
      "(2,a) --> 4\n",
      "(2,b) --> 2\n",
      "(3,a) --> 3\n",
      "(3,b) --> 3\n",
      "(4,a) --> 3\n",
      "(4,b) --> 4\n",
      "(5,a) --> 5\n",
      "(5,b) --> 3\n",
      "(6,a) --> 7\n",
      "(6,b) --> 1\n",
      "(7,a) --> 7\n",
      "(7,b) --> 5\n",
      "stany akceptujące - {3}\n"
     ]
    }
   ],
   "source": [
    "test = test_example(type=\"dfa\", dfa=DFA(Q=9, input_signs=['a', 'b'], δ={(0,'a'):1, (0,'b'):3, (1,'a'):2, (1,'b'):3, (2,'a'):2, (2,'b'):5, (3,'a'):1, (3,'b'):4, (4,'a'):7, (4,'b'):4, (5,'a'):5, (5,'b'):6, (6,'a'):6, (6,'b'):6, (7,'a'):8, (7,'b'):7, (8,'a'):8, (8,'b'):8}, F=set([6, 8])))\n",
    "d = run_learning_process(copy.deepcopy(test), oracle=None, check_consistency=False, debug=False)\n",
    "d.print_transitions()"
   ]
  },
  {
   "cell_type": "markdown",
   "metadata": {},
   "source": [
    "### Uczenie się splotu DFA - **debugowanie** "
   ]
  },
  {
   "cell_type": "markdown",
   "metadata": {},
   "source": [
    "<!-- ### Uczenie się splotów - **debugowanie**  -->"
   ]
  },
  {
   "cell_type": "code",
   "execution_count": 66,
   "metadata": {},
   "outputs": [],
   "source": [
    "import copy, sys\n",
    "sys.path.append(\"../\")\n",
    "sys.path.append(\"../../\")\n",
    "sys.path.append(\"../../utils\")\n",
    "from importlib import reload\n",
    "\n",
    "import Inferring, InferringDFA,  InferringconvDFA, utils.automats.convDFA, utils.automats.DFA\n",
    "import utils.oracles.oracle1 as oracle1, utils.oracles.oracle1Conv as oracle1Conv\n",
    "reload(oracle1)\n",
    "reload(oracle1Conv)\n",
    "reload(Inferring)\n",
    "reload(InferringDFA)\n",
    "reload(InferringconvDFA)\n",
    "reload(utils.automats.convDFA)\n",
    "reload(utils.automats.DFA)\n",
    "\n",
    "from Inferring import Inferring\n",
    "from InferringconvDFA import InferringconvDFA\n",
    "from utils.automats.convDFA import convDFA\n",
    "from utils.automats.DFA import DFA\n",
    "from utils.oracles.oracle1Conv import Oracle1Conv\n",
    "\n",
    "def run_learning_process(_dfa, oracle=None, debug=False, check_consistency=False):\n",
    "    learn_dfa = InferringconvDFA(_dfa, oracle, debug=debug, check_consistency=check_consistency)\n",
    "    dfa, cnt, cnt_ex = learn_dfa.run(counterexamples=True)\n",
    "    print(f\"kontrprzykłady: {cnt_ex}, cnt = {cnt}\")\n",
    "    return copy.deepcopy(dfa) "
   ]
  },
  {
   "cell_type": "code",
   "execution_count": 69,
   "metadata": {},
   "outputs": [
    {
     "name": "stdout",
     "output_type": "stream",
     "text": [
      "kontrprzykłady: [4, 4, 4, 4], cnt = [153, 2]\n"
     ]
    }
   ],
   "source": [
    "\"\"\"wzorzec - bb\"\"\"\n",
    "dfa1 = DFA(Q=3, input_signs=['a', 'b'], \n",
    "           δ={(0,'a'):0, (0,'b'):1, (1, 'a'):0, (1, 'b'):2, (2, 'a'):2, (2, 'b'):2}, F= set([2]))\n",
    "\"\"\"wzorzec - aa\"\"\"\n",
    "dfa2 = DFA(Q=3, input_signs=['a', 'b'], \n",
    "           δ={(0,'a'):1, (0,'b'):0, (1, 'a'):2, (1, 'b'):0, (2, 'a'):2, (2, 'b'):2}, F= set([2]))\n",
    "\n",
    "convdfa = convDFA(type='conv', dfa1=dfa1, dfa2=dfa2)\n",
    "d = run_learning_process(copy.deepcopy(convdfa), oracle=Oracle1Conv(), debug=False, check_consistency=True)"
   ]
  }
 ],
 "metadata": {
  "kernelspec": {
   "display_name": "Python 3",
   "language": "python",
   "name": "python3"
  },
  "language_info": {
   "codemirror_mode": {
    "name": "ipython",
    "version": 3
   },
   "file_extension": ".py",
   "mimetype": "text/x-python",
   "name": "python",
   "nbconvert_exporter": "python",
   "pygments_lexer": "ipython3",
   "version": "3.10.12"
  }
 },
 "nbformat": 4,
 "nbformat_minor": 2
}
