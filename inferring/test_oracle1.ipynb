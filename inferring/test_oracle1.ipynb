{
 "cells": [
  {
   "cell_type": "code",
   "execution_count": 11,
   "metadata": {},
   "outputs": [],
   "source": [
    "from importlib import reload\n",
    "import oracle1 \n",
    "reload(oracle1)\n",
    "from oracle1 import Oracle1"
   ]
  },
  {
   "cell_type": "code",
   "execution_count": 13,
   "metadata": {},
   "outputs": [
    {
     "data": {
      "text/plain": [
       "''"
      ]
     },
     "execution_count": 13,
     "metadata": {},
     "output_type": "execute_result"
    }
   ],
   "source": [
    "orcl = Oracle1()\n",
    "answers = {\"blaa\": 1}\n",
    "w = \"bal\"\n",
    "orcl.ask_oracle(w, answers=answers)\n",
    "# odp: ''"
   ]
  },
  {
   "cell_type": "code",
   "execution_count": 14,
   "metadata": {},
   "outputs": [
    {
     "data": {
      "text/plain": [
       "1"
      ]
     },
     "execution_count": 14,
     "metadata": {},
     "output_type": "execute_result"
    }
   ],
   "source": [
    "orcl = Oracle1()\n",
    "answers = {\"carz\": 1}\n",
    "w = \"czar\"\n",
    "orcl.ask_oracle(w, answers=answers)\n",
    "# odp: 1"
   ]
  },
  {
   "cell_type": "code",
   "execution_count": 15,
   "metadata": {},
   "outputs": [
    {
     "data": {
      "text/plain": [
       "0"
      ]
     },
     "execution_count": 15,
     "metadata": {},
     "output_type": "execute_result"
    }
   ],
   "source": [
    "orcl = Oracle1()\n",
    "answers = {\"carz\": 1, \"czar\":0}\n",
    "w = \"czar\"\n",
    "orcl.ask_oracle(w, answers=answers)\n",
    "# odp: 0"
   ]
  },
  {
   "cell_type": "code",
   "execution_count": 16,
   "metadata": {},
   "outputs": [
    {
     "data": {
      "text/plain": [
       "1"
      ]
     },
     "execution_count": 16,
     "metadata": {},
     "output_type": "execute_result"
    }
   ],
   "source": [
    "orcl = Oracle1()\n",
    "answers = {\"kora\": 1}\n",
    "w = \"roka\"\n",
    "orcl.ask_oracle(w, answers=answers)\n",
    "# odp: 1"
   ]
  },
  {
   "cell_type": "code",
   "execution_count": 21,
   "metadata": {},
   "outputs": [
    {
     "data": {
      "text/plain": [
       "1"
      ]
     },
     "execution_count": 21,
     "metadata": {},
     "output_type": "execute_result"
    }
   ],
   "source": [
    "orcl = Oracle1()\n",
    "answers = {\"aa\":1, \"ab\":1, \"bb\":0, \"aab\":1}\n",
    "w = \"baa\"\n",
    "orcl.ask_oracle(w, answers=answers)\n",
    "# odp: 1"
   ]
  }
 ],
 "metadata": {
  "kernelspec": {
   "display_name": "Python 3",
   "language": "python",
   "name": "python3"
  },
  "language_info": {
   "codemirror_mode": {
    "name": "ipython",
    "version": 3
   },
   "file_extension": ".py",
   "mimetype": "text/x-python",
   "name": "python",
   "nbconvert_exporter": "python",
   "pygments_lexer": "ipython3",
   "version": "3.10.12"
  }
 },
 "nbformat": 4,
 "nbformat_minor": 2
}
