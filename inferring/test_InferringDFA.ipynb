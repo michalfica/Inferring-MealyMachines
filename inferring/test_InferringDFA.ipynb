{
 "cells": [
  {
   "cell_type": "markdown",
   "metadata": {},
   "source": [
    "### Przetestować uczenie się DFA ! "
   ]
  },
  {
   "cell_type": "code",
   "execution_count": 1,
   "metadata": {},
   "outputs": [],
   "source": [
    "from importlib import reload\n",
    "import sys \n",
    "# sys.path.append(\"../utils\")\n",
    "sys.path.append(\"../\")\n",
    "import utils.DFA, InferringDFA, utils.convDFA, InferringDFA, Inferring\n",
    "reload(Inferring)\n",
    "reload(InferringDFA)\n",
    "reload(utils.DFA)\n",
    "reload(utils.convDFA)\n",
    "reload(InferringDFA)\n",
    "\n",
    "from InferringDFA import InferringDFA\n",
    "from utils.DFA import DFA\n",
    "from utils.convDFA import convDFA"
   ]
  },
  {
   "cell_type": "code",
   "execution_count": 3,
   "metadata": {},
   "outputs": [],
   "source": [
    "import copy\n",
    "def run_learning_process(_dfa, oracle=None, debug=False):\n",
    "    learn_dfa = InferringDFA(_dfa, oracle, debug=debug)\n",
    "    dfa, cnt, cnt_ex = learn_dfa.run(counterexamples=True)\n",
    "    print(f\"kontrprzykłady: {cnt_ex}, cnt = {cnt}\")\n",
    "    return copy.deepcopy(dfa) "
   ]
  },
  {
   "cell_type": "code",
   "execution_count": null,
   "metadata": {},
   "outputs": [],
   "source": [
    "_input = ['a', 'b']\n",
    "dfa = DFA(Q = 2, input_signs=_input, δ= {(0,'a'):1, (0, 'b'):0, (1, 'a'):1, (1, 'b'):1}, F = set([1]))\n",
    "d = run_learning_process(copy.deepcopy(dfa), debug=False)"
   ]
  },
  {
   "cell_type": "code",
   "execution_count": 41,
   "metadata": {},
   "outputs": [
    {
     "name": "stdout",
     "output_type": "stream",
     "text": [
      "kontrprzykłady: [], cnt = [15, 1]\n"
     ]
    }
   ],
   "source": [
    "dfa = DFA(Q=3, input_signs=_input, δ= {(0, 'a'):1, (0, 'b'):0, (1, 'a'):2, (1, 'b'):1, (2, 'a'):2, (2, 'b'):2}, F= set([2]))\n",
    "d = run_learning_process(dfa, debug=False)"
   ]
  },
  {
   "cell_type": "code",
   "execution_count": 42,
   "metadata": {},
   "outputs": [
    {
     "name": "stdout",
     "output_type": "stream",
     "text": [
      "kontrprzykłady: [3], cnt = [24, 2]\n"
     ]
    }
   ],
   "source": [
    "dfa = DFA(Q=4, input_signs=_input, δ= {(0, 'a'):1, (0, 'b'):0, (1, 'a'):1, (1, 'b'):2, (2, 'a'):3, (2, 'b'):0, (3, 'a'):3, (3, 'b'):4, (4, 'a'):4, (4, 'b'):4}, F=set([3, 4]))\n",
    "d = run_learning_process(copy.deepcopy(dfa))"
   ]
  },
  {
   "cell_type": "code",
   "execution_count": 43,
   "metadata": {},
   "outputs": [
    {
     "name": "stdout",
     "output_type": "stream",
     "text": [
      "kontrprzykłady: [3, 7], cnt = [35, 3]\n"
     ]
    }
   ],
   "source": [
    "dfa = DFA(Q=5, input_signs=_input, δ= {(0, 'a'):1, (0, 'b'):0, (1, 'a'):1, (1, 'b'):2, (2, 'a'):3, (2, 'b'):0, (3, 'a'):3, (3, 'b'):4, (4, 'a'):4, (4, 'b'):4}, F=set([3]))\n",
    "d = run_learning_process(copy.deepcopy(dfa), debug=False)"
   ]
  },
  {
   "cell_type": "code",
   "execution_count": 44,
   "metadata": {},
   "outputs": [
    {
     "name": "stdout",
     "output_type": "stream",
     "text": [
      "kontrprzykłady: [3], cnt = [24, 2]\n"
     ]
    }
   ],
   "source": [
    "dfa = DFA(Q=4, input_signs=_input, δ= {(0, 'a'):1, (0, 'b'):0, (1, 'a'):1, (1, 'b'):2, (2, 'a'):3, (2, 'b'):2, (3, 'a'):3, (3, 'b'):3}, F=set([3]))\n",
    "d = run_learning_process(copy.deepcopy(dfa), debug=False)"
   ]
  },
  {
   "cell_type": "markdown",
   "metadata": {},
   "source": [
    "### Uczenie sie z wyrocznią **Oracle1** \n",
    "(system przepisywania słów - zamiasna sąsiednich literek)"
   ]
  },
  {
   "cell_type": "code",
   "execution_count": 4,
   "metadata": {},
   "outputs": [],
   "source": [
    "_input = ['a', 'b']\n",
    "from oracle1 import Oracle1"
   ]
  },
  {
   "cell_type": "code",
   "execution_count": null,
   "metadata": {},
   "outputs": [],
   "source": [
    "\"\"\"dfa akcpetujący słowa dlugości dokłądnie 4\"\"\"\n",
    "dfa_ = DFA(Q=6, input_signs=['a'], δ = {(0,'a'):1, (1,'a'):2, (2,'a'):3, (3,'a'):4, (4,'a'):5, (5,'a'):5}, \n",
    "           F = [4])\n",
    "d = run_learning_process(copy.deepcopy(dfa_), oracle=None, debug=False)\n",
    "# d = run_learning_process(copy.deepcopy(dfa_), oracle=Oracle1())"
   ]
  },
  {
   "cell_type": "code",
   "execution_count": null,
   "metadata": {},
   "outputs": [],
   "source": [
    "\"\"\"dfa akcpetujący słowa dlugości dokłądnie 4\"\"\"\n",
    "dfa_ = DFA(Q=6, input_signs=['a', 'b'], δ = {(0,'a'):1, (0,'b'):1, (1,'a'):2, (1,'b'):2, (2,'a'):3, (2,'b'):3, (3,'a'):4, (3,'b'):4, (4,'a'):5, (4,'b'):5, (5,'a'):5, (5,'b'):5}, \n",
    "           F = [4])\n",
    "# d = run_learning_process(copy.deepcopy(dfa_), oracle=None)\n",
    "d = run_learning_process(copy.deepcopy(dfa_), oracle=Oracle1())"
   ]
  },
  {
   "cell_type": "code",
   "execution_count": null,
   "metadata": {},
   "outputs": [],
   "source": [
    "\"\"\"dfa liczacy reszte modulo 4\"\"\"\n",
    "# dfa_ = DFA(Q=4, input_signs=['a'], δ = {(0,'a'):1, (1,'a'):2, (2,'a'):3, (3,'a'):0}, \n",
    "#            F = [3])\n",
    "# # d = run_learning_process(copy.deepcopy(dfa_), oracle=None) # 7, 2 \n",
    "# d = run_learning_process(copy.deepcopy(dfa_), oracle=Oracle1()) # 7, 2 \n",
    "\n",
    "# dfa_ = DFA(Q=4, input_signs=['a', 'b'], δ = {(0,'a'):1, (1,'a'):2, (2,'a'):3, (3,'a'):0, (0,'b'):1, (1,'b'):2, (2,'b'):3, (3,'b'):0}, \n",
    "#            F = [3])\n",
    "# # d = run_learning_process(copy.deepcopy(dfa_), oracle=None) # 24, 2 \n",
    "# d = run_learning_process(copy.deepcopy(dfa_), oracle=Oracle1()) # 17, 2 \n",
    "\n",
    "dfa_ = DFA(Q=4, input_signs=['a', 'b', 'c'], δ = {(0,'a'):1, (1,'a'):2, (2,'a'):3, (3,'a'):0, (0,'b'):1, (1,'b'):2, (2,'b'):3, (3,'b'):0, (0,'c'):1, (1,'c'):2, (2,'c'):3, (3,'c'):0}, \n",
    "           F = [3])\n",
    "# d = run_learning_process(copy.deepcopy(dfa_), oracle=None) # 49, 2 \n",
    "d = run_learning_process(copy.deepcopy(dfa_), oracle=Oracle1()) # 31, 2 "
   ]
  },
  {
   "cell_type": "code",
   "execution_count": null,
   "metadata": {},
   "outputs": [],
   "source": [
    "\"\"\"dfa akceptujący słowa z conajmniej dwoma literkami 'a'\"\"\"\n",
    "dfa_ = DFA(Q=3, input_signs=_input, δ = {(0, 'a'):1, (0, 'b'):0, (1, 'a'):2, (1, 'b'):1, (2, 'a'):2, (2, 'b'):2}, F=[2])\n",
    "d = run_learning_process(copy.deepcopy(dfa_), oracle=None)        # cnt = [15, 1]\n",
    "# d = run_learning_process(copy.deepcopy(dfa_), oracle=Oracle1()) # cnt = [12, 1]"
   ]
  },
  {
   "cell_type": "markdown",
   "metadata": {},
   "source": [
    "### Uczenie się **splotu** języków "
   ]
  },
  {
   "cell_type": "code",
   "execution_count": 4,
   "metadata": {},
   "outputs": [
    {
     "name": "stdout",
     "output_type": "stream",
     "text": [
      "['a1', 'b1', 'a2', 'b2']\n",
      "dostałem target a jego alfabet to: ['a1', 'b1', 'a2', 'b2']\n",
      "pytam o słowo \n",
      "pytam o słowo b1\n",
      "pytam o słowo a2\n",
      "pytam o słowo b2\n",
      "pytam o słowo a1\n",
      "pytam o słowo a1b1\n",
      "pytam o słowo a1a2\n",
      "pytam o słowo a1b2\n",
      "pytam o słowo a1a1\n",
      "pytam o słowo b1b1\n",
      "pytam o słowo b1a2\n",
      "pytam o słowo b1b2\n",
      "pytam o słowo b1a1\n",
      "pytam o słowo a2b1\n",
      "pytam o słowo a2a2\n",
      "pytam o słowo a2b2\n",
      "pytam o słowo a2a1\n",
      "pytam o słowo b2b1\n",
      "pytam o słowo b2a2\n",
      "pytam o słowo b2b2\n",
      "pytam o słowo b2a1\n",
      "S = [''], rozmiar E = ['', 'a1', 'a2', 'b1', 'b2']\n",
      "zamkniętość sprawdzona - S = [''], rozmiar E = ['', 'a1', 'a2', 'b1', 'b2']\n",
      "hipoteza: \n",
      "(0,a1) --> 0\n",
      "(0,b1) --> 0\n",
      "(0,a2) --> 0\n",
      "(0,b2) --> 0\n",
      "stany akceptujące - set()\n",
      "kontrprzyklad = a1b1a1b2b2b2\n",
      "po przetworzeniu kontrprzykładu dodaje do zbioru E słowa = ['2', 'b2', '2b2', 'b2b2', '2b2b2', 'b2b2b2', '1b2b2b2', 'a1b2b2b2', '1a1b2b2b2', 'b1a1b2b2b2', '1b1a1b2b2b2']\n",
      "pytam o słowo 2\n"
     ]
    },
    {
     "ename": "AssertionError",
     "evalue": "splot przyjmuje tylko słowa parzystej długości!",
     "output_type": "error",
     "traceback": [
      "\u001b[0;31m---------------------------------------------------------------------------\u001b[0m",
      "\u001b[0;31mAssertionError\u001b[0m                            Traceback (most recent call last)",
      "Cell \u001b[0;32mIn[4], line 12\u001b[0m\n\u001b[1;32m      7\u001b[0m \u001b[38;5;66;03m# print(f\"Q = {convdfa.Q}, alfabet = {convdfa.input_signs}, stany akcept = {convdfa.F}\")\u001b[39;00m\n\u001b[1;32m      8\u001b[0m \u001b[38;5;66;03m# convdfa.print_transitions()\u001b[39;00m\n\u001b[1;32m      9\u001b[0m \n\u001b[1;32m     10\u001b[0m \u001b[38;5;66;03m# convdfa.route(\"a1b1b2b2a1\") # 0\u001b[39;00m\n\u001b[1;32m     11\u001b[0m \u001b[38;5;28mprint\u001b[39m(convdfa\u001b[38;5;241m.\u001b[39minput_signs)\n\u001b[0;32m---> 12\u001b[0m d \u001b[38;5;241m=\u001b[39m \u001b[43mrun_learning_process\u001b[49m\u001b[43m(\u001b[49m\u001b[43mconvdfa\u001b[49m\u001b[43m,\u001b[49m\u001b[43m \u001b[49m\u001b[43mdebug\u001b[49m\u001b[38;5;241;43m=\u001b[39;49m\u001b[38;5;28;43;01mTrue\u001b[39;49;00m\u001b[43m)\u001b[49m\n",
      "Cell \u001b[0;32mIn[3], line 4\u001b[0m, in \u001b[0;36mrun_learning_process\u001b[0;34m(_dfa, oracle, debug)\u001b[0m\n\u001b[1;32m      2\u001b[0m \u001b[38;5;28;01mdef\u001b[39;00m \u001b[38;5;21mrun_learning_process\u001b[39m(_dfa, oracle\u001b[38;5;241m=\u001b[39m\u001b[38;5;28;01mNone\u001b[39;00m, debug\u001b[38;5;241m=\u001b[39m\u001b[38;5;28;01mFalse\u001b[39;00m):\n\u001b[1;32m      3\u001b[0m     learn_dfa \u001b[38;5;241m=\u001b[39m InferringDFA(_dfa, oracle, debug\u001b[38;5;241m=\u001b[39mdebug)\n\u001b[0;32m----> 4\u001b[0m     dfa, cnt, cnt_ex \u001b[38;5;241m=\u001b[39m \u001b[43mlearn_dfa\u001b[49m\u001b[38;5;241;43m.\u001b[39;49m\u001b[43mrun\u001b[49m\u001b[43m(\u001b[49m\u001b[43mcounterexamples\u001b[49m\u001b[38;5;241;43m=\u001b[39;49m\u001b[38;5;28;43;01mTrue\u001b[39;49;00m\u001b[43m)\u001b[49m\n\u001b[1;32m      5\u001b[0m     \u001b[38;5;28mprint\u001b[39m(\u001b[38;5;124mf\u001b[39m\u001b[38;5;124m\"\u001b[39m\u001b[38;5;124mkontrprzykłady: \u001b[39m\u001b[38;5;132;01m{\u001b[39;00mcnt_ex\u001b[38;5;132;01m}\u001b[39;00m\u001b[38;5;124m, cnt = \u001b[39m\u001b[38;5;132;01m{\u001b[39;00mcnt\u001b[38;5;132;01m}\u001b[39;00m\u001b[38;5;124m\"\u001b[39m)\n\u001b[1;32m      6\u001b[0m     \u001b[38;5;28;01mreturn\u001b[39;00m copy\u001b[38;5;241m.\u001b[39mdeepcopy(dfa)\n",
      "File \u001b[0;32m~/Documents/studia2/magisterka/inferring/../inferring/Inferring.py:68\u001b[0m, in \u001b[0;36mInferring.run\u001b[0;34m(self, counterexamples)\u001b[0m\n\u001b[1;32m     66\u001b[0m         \u001b[38;5;28mprint\u001b[39m(\u001b[38;5;124mf\u001b[39m\u001b[38;5;124m\"\u001b[39m\u001b[38;5;124mkontrprzyklad = \u001b[39m\u001b[38;5;132;01m{\u001b[39;00mx\u001b[38;5;132;01m}\u001b[39;00m\u001b[38;5;124m\"\u001b[39m)\n\u001b[1;32m     67\u001b[0m     \u001b[38;5;28mself\u001b[39m\u001b[38;5;241m.\u001b[39mcounterexamples\u001b[38;5;241m.\u001b[39mappend(x)\n\u001b[0;32m---> 68\u001b[0m     \u001b[38;5;28;43mself\u001b[39;49m\u001b[38;5;241;43m.\u001b[39;49m\u001b[43m_process_counterexample\u001b[49m\u001b[43m(\u001b[49m\u001b[43mx\u001b[49m\u001b[43m)\u001b[49m\n\u001b[1;32m     69\u001b[0m \u001b[38;5;28;01melse\u001b[39;00m:\n\u001b[1;32m     70\u001b[0m     \u001b[38;5;28;01mif\u001b[39;00m counterexamples:\n",
      "File \u001b[0;32m~/Documents/studia2/magisterka/inferring/../inferring/Inferring.py:159\u001b[0m, in \u001b[0;36mInferring._process_counterexample\u001b[0;34m(self, w)\u001b[0m\n\u001b[1;32m    155\u001b[0m \u001b[38;5;28;01mif\u001b[39;00m \u001b[38;5;28mself\u001b[39m\u001b[38;5;241m.\u001b[39mdebug:\n\u001b[1;32m    156\u001b[0m     \u001b[38;5;28mprint\u001b[39m(\n\u001b[1;32m    157\u001b[0m         \u001b[38;5;124mf\u001b[39m\u001b[38;5;124m\"\u001b[39m\u001b[38;5;124mpo przetworzeniu kontrprzykładu dodaje do zbioru E słowa = \u001b[39m\u001b[38;5;132;01m{\u001b[39;00msuffixes\u001b[38;5;132;01m}\u001b[39;00m\u001b[38;5;124m\"\u001b[39m\n\u001b[1;32m    158\u001b[0m     )\n\u001b[0;32m--> 159\u001b[0m \u001b[38;5;28;43mself\u001b[39;49m\u001b[38;5;241;43m.\u001b[39;49m\u001b[43m_extend_E\u001b[49m\u001b[43m(\u001b[49m\u001b[43msuffixes\u001b[49m\u001b[43m)\u001b[49m\n",
      "File \u001b[0;32m~/Documents/studia2/magisterka/inferring/../inferring/Inferring.py:124\u001b[0m, in \u001b[0;36mInferring._extend_E\u001b[0;34m(self, elist)\u001b[0m\n\u001b[1;32m    122\u001b[0m \u001b[38;5;28;01mfor\u001b[39;00m e \u001b[38;5;129;01min\u001b[39;00m elist:\n\u001b[1;32m    123\u001b[0m     \u001b[38;5;28;01mif\u001b[39;00m e \u001b[38;5;129;01mnot\u001b[39;00m \u001b[38;5;129;01min\u001b[39;00m \u001b[38;5;28mself\u001b[39m\u001b[38;5;241m.\u001b[39mE:\n\u001b[0;32m--> 124\u001b[0m         \u001b[38;5;28mself\u001b[39m\u001b[38;5;241m.\u001b[39mT[(s, e)] \u001b[38;5;241m=\u001b[39m \u001b[38;5;28;43mself\u001b[39;49m\u001b[38;5;241;43m.\u001b[39;49m\u001b[43m_query_type1\u001b[49m\u001b[43m(\u001b[49m\u001b[43ms\u001b[49m\u001b[43m,\u001b[49m\u001b[43m \u001b[49m\u001b[43me\u001b[49m\u001b[43m)\u001b[49m\n\u001b[1;32m    126\u001b[0m \u001b[38;5;28;01mfor\u001b[39;00m a \u001b[38;5;129;01min\u001b[39;00m \u001b[38;5;28mself\u001b[39m\u001b[38;5;241m.\u001b[39minput_signs:\n\u001b[1;32m    127\u001b[0m     \u001b[38;5;28;01mfor\u001b[39;00m e \u001b[38;5;129;01min\u001b[39;00m elist:\n",
      "File \u001b[0;32m~/Documents/studia2/magisterka/inferring/InferringDFA.py:42\u001b[0m, in \u001b[0;36mInferringDFA._query_type1\u001b[0;34m(self, s, e)\u001b[0m\n\u001b[1;32m     40\u001b[0m     \u001b[38;5;28mprint\u001b[39m(\u001b[38;5;124mf\u001b[39m\u001b[38;5;124m\"\u001b[39m\u001b[38;5;124mpytam o słowo \u001b[39m\u001b[38;5;132;01m{\u001b[39;00mw\u001b[38;5;132;01m}\u001b[39;00m\u001b[38;5;124m\"\u001b[39m)\n\u001b[1;32m     41\u001b[0m     \u001b[38;5;28mself\u001b[39m\u001b[38;5;241m.\u001b[39mcnt[\u001b[38;5;241m0\u001b[39m] \u001b[38;5;241m+\u001b[39m\u001b[38;5;241m=\u001b[39m \u001b[38;5;241m1\u001b[39m\n\u001b[0;32m---> 42\u001b[0m     \u001b[38;5;28mself\u001b[39m\u001b[38;5;241m.\u001b[39mqueries[w] \u001b[38;5;241m=\u001b[39m \u001b[38;5;28;43mself\u001b[39;49m\u001b[38;5;241;43m.\u001b[39;49m\u001b[43mtarget\u001b[49m\u001b[38;5;241;43m.\u001b[39;49m\u001b[43mroute\u001b[49m\u001b[43m(\u001b[49m\u001b[43mw\u001b[49m\u001b[43m)\u001b[49m[\u001b[38;5;241m1\u001b[39m]\n\u001b[1;32m     43\u001b[0m \u001b[38;5;28;01mreturn\u001b[39;00m \u001b[38;5;28mself\u001b[39m\u001b[38;5;241m.\u001b[39mqueries[w]\n",
      "File \u001b[0;32m~/Documents/studia2/magisterka/inferring/../utils/convDFA.py:47\u001b[0m, in \u001b[0;36mconvDFA.route\u001b[0;34m(self, w)\u001b[0m\n\u001b[1;32m     46\u001b[0m \u001b[38;5;28;01mdef\u001b[39;00m \u001b[38;5;21mroute\u001b[39m(\u001b[38;5;28mself\u001b[39m, w):\n\u001b[0;32m---> 47\u001b[0m     \u001b[38;5;28;01massert\u001b[39;00m \u001b[38;5;28mlen\u001b[39m(w) \u001b[38;5;241m%\u001b[39m \u001b[38;5;241m2\u001b[39m \u001b[38;5;241m==\u001b[39m \u001b[38;5;241m0\u001b[39m, \u001b[38;5;124m\"\u001b[39m\u001b[38;5;124msplot przyjmuje tylko słowa parzystej długości!\u001b[39m\u001b[38;5;124m\"\u001b[39m\n\u001b[1;32m     49\u001b[0m     \u001b[38;5;66;03m# print(f\"pronuje sprawdzić słowo = {w}\")\u001b[39;00m\n\u001b[1;32m     50\u001b[0m     q \u001b[38;5;241m=\u001b[39m \u001b[38;5;241m0\u001b[39m\n",
      "\u001b[0;31mAssertionError\u001b[0m: splot przyjmuje tylko słowa parzystej długości!"
     ]
    }
   ],
   "source": [
    "dfa1 = DFA(Q = 4, input_signs=['a', 'b'], \n",
    "           δ = {(0, 'a'):1, (0, 'b'):0, (1, 'a'):1, (1, 'b'):2, (2, 'a'):3, (2, 'b'):0, (3, 'a'):3, (3, 'b'):3}, F=set([3]))\n",
    "dfa2 = DFA(Q=4, input_signs=['a', 'b'], \n",
    "           δ = {(0, 'a'):0, (0, 'b'):1, (1, 'a'):0, (1, 'b'):2, (2, 'a'):0, (2, 'b'):3, (3, 'a'):3, (3, 'b'):3}, F=set([3]))\n",
    "\n",
    "convdfa = convDFA(dfa1, dfa2)\n",
    "# print(f\"Q = {convdfa.Q}, alfabet = {convdfa.input_signs}, stany akcept = {convdfa.F}\")\n",
    "# convdfa.print_transitions()\n",
    "\n",
    "# convdfa.route(\"a1b1b2b2a1\") # 0\n",
    "print(convdfa.input_signs)\n",
    "d = run_learning_process(convdfa, debug=True)"
   ]
  }
 ],
 "metadata": {
  "kernelspec": {
   "display_name": "Python 3",
   "language": "python",
   "name": "python3"
  },
  "language_info": {
   "codemirror_mode": {
    "name": "ipython",
    "version": 3
   },
   "file_extension": ".py",
   "mimetype": "text/x-python",
   "name": "python",
   "nbconvert_exporter": "python",
   "pygments_lexer": "ipython3",
   "version": "3.10.12"
  }
 },
 "nbformat": 4,
 "nbformat_minor": 2
}
