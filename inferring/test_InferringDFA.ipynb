{
 "cells": [
  {
   "cell_type": "markdown",
   "metadata": {},
   "source": [
    "## Przetestować uczenie się DFA ! "
   ]
  },
  {
   "cell_type": "code",
   "execution_count": 53,
   "metadata": {},
   "outputs": [],
   "source": [
    "from importlib import reload\n",
    "import sys \n",
    "# sys.path.append(\"../utils\")\n",
    "sys.path.append(\"../\")\n",
    "import utils.DFA, InferringDFA\n",
    "reload(utils.DFA)\n",
    "reload(InferringDFA)\n",
    "\n",
    "from InferringDFA import InferringDFA\n",
    "from utils.DFA import DFA"
   ]
  },
  {
   "cell_type": "code",
   "execution_count": 54,
   "metadata": {},
   "outputs": [],
   "source": [
    "import copy\n",
    "def run_learning_process(_dfa, oracle=None, debug=False):\n",
    "    learn_dfa = InferringDFA(_dfa, oracle, debug=debug)\n",
    "    dfa, cnt, cnt_ex = learn_dfa.run(counterexamples=True)\n",
    "    print(f\"kontrprzykłady: {cnt_ex}, cnt = {cnt}\")\n",
    "    return copy.deepcopy(dfa) "
   ]
  },
  {
   "cell_type": "code",
   "execution_count": 39,
   "metadata": {},
   "outputs": [
    {
     "name": "stdout",
     "output_type": "stream",
     "text": [
      "kontrprzykłady: [], cnt = [11, 1]\n"
     ]
    }
   ],
   "source": [
    "_input = ['a', 'b']\n",
    "dfa = DFA(Q = 2, input_signs=_input, δ= {(0,'a'):1, (0, 'b'):0, (1, 'a'):1, (1, 'b'):1}, F = set([1]))\n",
    "d = run_learning_process(copy.deepcopy(dfa), debug=False)"
   ]
  },
  {
   "cell_type": "code",
   "execution_count": 41,
   "metadata": {},
   "outputs": [
    {
     "name": "stdout",
     "output_type": "stream",
     "text": [
      "kontrprzykłady: [], cnt = [15, 1]\n"
     ]
    }
   ],
   "source": [
    "dfa = DFA(Q=3, input_signs=_input, δ= {(0, 'a'):1, (0, 'b'):0, (1, 'a'):2, (1, 'b'):1, (2, 'a'):2, (2, 'b'):2}, F= set([2]))\n",
    "d = run_learning_process(dfa, debug=False)"
   ]
  },
  {
   "cell_type": "code",
   "execution_count": 42,
   "metadata": {},
   "outputs": [
    {
     "name": "stdout",
     "output_type": "stream",
     "text": [
      "kontrprzykłady: [3], cnt = [24, 2]\n"
     ]
    }
   ],
   "source": [
    "dfa = DFA(Q=4, input_signs=_input, δ= {(0, 'a'):1, (0, 'b'):0, (1, 'a'):1, (1, 'b'):2, (2, 'a'):3, (2, 'b'):0, (3, 'a'):3, (3, 'b'):4, (4, 'a'):4, (4, 'b'):4}, F=set([3, 4]))\n",
    "d = run_learning_process(copy.deepcopy(dfa))"
   ]
  },
  {
   "cell_type": "code",
   "execution_count": 43,
   "metadata": {},
   "outputs": [
    {
     "name": "stdout",
     "output_type": "stream",
     "text": [
      "kontrprzykłady: [3, 7], cnt = [35, 3]\n"
     ]
    }
   ],
   "source": [
    "dfa = DFA(Q=5, input_signs=_input, δ= {(0, 'a'):1, (0, 'b'):0, (1, 'a'):1, (1, 'b'):2, (2, 'a'):3, (2, 'b'):0, (3, 'a'):3, (3, 'b'):4, (4, 'a'):4, (4, 'b'):4}, F=set([3]))\n",
    "d = run_learning_process(copy.deepcopy(dfa), debug=False)"
   ]
  },
  {
   "cell_type": "code",
   "execution_count": 44,
   "metadata": {},
   "outputs": [
    {
     "name": "stdout",
     "output_type": "stream",
     "text": [
      "kontrprzykłady: [3], cnt = [24, 2]\n"
     ]
    }
   ],
   "source": [
    "dfa = DFA(Q=4, input_signs=_input, δ= {(0, 'a'):1, (0, 'b'):0, (1, 'a'):1, (1, 'b'):2, (2, 'a'):3, (2, 'b'):2, (3, 'a'):3, (3, 'b'):3}, F=set([3]))\n",
    "d = run_learning_process(copy.deepcopy(dfa), debug=False)"
   ]
  },
  {
   "cell_type": "markdown",
   "metadata": {},
   "source": [
    "### Uczenie sie z wyrocznią **Oracle1** \n",
    "(system przepisywania słów - zamiasna sąsiednich literek)"
   ]
  },
  {
   "cell_type": "code",
   "execution_count": 55,
   "metadata": {},
   "outputs": [],
   "source": [
    "_input = ['a', 'b']\n",
    "from oracle1 import Oracle1"
   ]
  },
  {
   "cell_type": "code",
   "execution_count": 58,
   "metadata": {},
   "outputs": [
    {
     "name": "stdout",
     "output_type": "stream",
     "text": [
      "pytam o słowo \n",
      "pytam o słowo a\n",
      "pytam o słowo b\n",
      "pytam o słowo aa\n",
      "pytam o słowo ab\n",
      "pytam o słowo ba\n",
      "pytam o słowo bb\n",
      "pytam o słowo aaa\n",
      "pytam o słowo aab\n",
      "pytam o słowo aba\n",
      "pytam o słowo abb\n",
      "pytam o słowo aaaa\n",
      "pytam o słowo aaab\n",
      "pytam o słowo aaba\n",
      "pytam o słowo aabb\n",
      "kontrprzykłady: [], cnt = [15, 1]\n"
     ]
    }
   ],
   "source": [
    "\"\"\"dfa akceptujący słowa z conajmniej dwoma literkami 'a'\"\"\"\n",
    "dfa_ = DFA(Q=3, input_signs=_input, δ = {(0, 'a'):1, (0, 'b'):0, (1, 'a'):2, (1, 'b'):1, (2, 'a'):2, (2, 'b'):2}, F=[2])\n",
    "d = run_learning_process(copy.deepcopy(dfa_), oracle=None)        # cnt = [15, 1]\n",
    "# d = run_learning_process(copy.deepcopy(dfa_), oracle=Oracle1()) # cnt = [12, 1]"
   ]
  }
 ],
 "metadata": {
  "kernelspec": {
   "display_name": "Python 3",
   "language": "python",
   "name": "python3"
  },
  "language_info": {
   "codemirror_mode": {
    "name": "ipython",
    "version": 3
   },
   "file_extension": ".py",
   "mimetype": "text/x-python",
   "name": "python",
   "nbconvert_exporter": "python",
   "pygments_lexer": "ipython3",
   "version": "3.10.12"
  }
 },
 "nbformat": 4,
 "nbformat_minor": 2
}
