{
 "cells": [
  {
   "cell_type": "markdown",
   "metadata": {},
   "source": [
    "## Przykłady wykrywania wzorców - badanie dlaczego stopniowe uczenie jest lepsze "
   ]
  },
  {
   "cell_type": "code",
   "execution_count": 3,
   "metadata": {},
   "outputs": [],
   "source": [
    "from importlib import reload\n",
    "import string \n",
    "import copy\n",
    "import sys\n",
    "\n",
    "sys.path.append(\"../\")"
   ]
  },
  {
   "cell_type": "code",
   "execution_count": 4,
   "metadata": {},
   "outputs": [],
   "source": [
    "import utils.InferringMM, utils.OracleDFA, utils.Mealymachine\n",
    "import PatternDetection.PatterndetectionMM as PatterndetectionMM\n",
    "\n",
    "reload(utils.InferringMM)\n",
    "reload(utils.OracleDFA)\n",
    "reload(utils.Mealymachine)\n",
    "reload(PatterndetectionMM)\n",
    "\n",
    "from utils.InferringMM import *\n",
    "from utils.OracleDFA import OracleDFA\n",
    "from PatternDetection.PatterndetectionMM import PatternMM"
   ]
  },
  {
   "cell_type": "code",
   "execution_count": 5,
   "metadata": {},
   "outputs": [],
   "source": [
    "def run_learning_process(_mm, oracle=None, debug=False):\n",
    "    learn_mm = InferringMM(_mm, oracle, debug=debug)\n",
    "    mm, cnt, cnt_ex = learn_mm.run(counterexamples=True)\n",
    "    print(f\"kontrprzykłady: {cnt_ex}, cnt = {cnt}\")\n",
    "    return copy.deepcopy(mm)\n",
    "\n",
    "\n",
    "def find_minm_mm(_mm, debug=False):\n",
    "    learn_mm = InferringMM(_mm, debug=debug)\n",
    "    mm, _, _ = learn_mm.run(counterexamples=True)\n",
    "    return copy.deepcopy(mm)"
   ]
  },
  {
   "cell_type": "markdown",
   "metadata": {},
   "source": [
    "### Pierwszy przykład "
   ]
  },
  {
   "cell_type": "code",
   "execution_count": 6,
   "metadata": {},
   "outputs": [
    {
     "name": "stdout",
     "output_type": "stream",
     "text": [
      "S = {''}, rozmiar E = {'c', 'a', 'b', 'd'}\n",
      "zamkniętość sprawdzona - S = {''}, rozmiar E = {'c', 'a', 'b', 'd'}\n",
      "hipoteza: \n",
      "(0,a) --> '0',0\n",
      "(0,b) --> '0',0\n",
      "(0,c) --> '0',0\n",
      "(0,d) --> '0',0\n",
      "kontrprzyklad = dcd\n",
      "S = {''}, rozmiar E = {'c', 'a', 'cd', 'd', 'b'}\n",
      "zamkniętość sprawdzona - S = {'', 'd', 'dc'}, rozmiar E = {'c', 'a', 'cd', 'd', 'b'}\n",
      "hipoteza: \n",
      "(0,a) --> '0',0\n",
      "(0,b) --> '0',0\n",
      "(0,c) --> '0',0\n",
      "(0,d) --> '0',1\n",
      "(1,a) --> '0',0\n",
      "(1,b) --> '0',0\n",
      "(1,c) --> '0',2\n",
      "(1,d) --> '0',1\n",
      "(2,a) --> '0',0\n",
      "(2,b) --> '0',0\n",
      "(2,c) --> '0',0\n",
      "(2,d) --> '1',1\n",
      "kontrprzykłady: [3], cnt = [62, 2]\n",
      "# stanów = 3\n"
     ]
    }
   ],
   "source": [
    "in_a, out_a = [\"a\", \"b\", \"c\", \"d\"], [\"0\", \"1\"]\n",
    "\n",
    "bob_mm = PatternMM([\"dcd\"], in_a, out_a)\n",
    "bob_mm = run_learning_process(copy.deepcopy(bob_mm), debug=True)\n",
    "bob_mm.print_states()\n",
    "\n",
    "\n",
    "# eve_mm = PatternMM([\"bdb\"], in_a, out_a)\n",
    "# eve_mm = run_learning_process(copy.deepcopy(eve_mm))\n",
    "# eve_mm.print_states()\n",
    "\n",
    "# abc_mm = PatternMM([\"abc\"], in_a, out_a)\n",
    "# abc_mm = run_learning_process(copy.deepcopy(abc_mm))\n",
    "# abc_mm.print_states()"
   ]
  }
 ],
 "metadata": {
  "kernelspec": {
   "display_name": "Python 3",
   "language": "python",
   "name": "python3"
  },
  "language_info": {
   "codemirror_mode": {
    "name": "ipython",
    "version": 3
   },
   "file_extension": ".py",
   "mimetype": "text/x-python",
   "name": "python",
   "nbconvert_exporter": "python",
   "pygments_lexer": "ipython3",
   "version": "3.10.12"
  }
 },
 "nbformat": 4,
 "nbformat_minor": 2
}
