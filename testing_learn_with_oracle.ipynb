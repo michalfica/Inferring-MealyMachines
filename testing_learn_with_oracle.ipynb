{
 "cells": [
  {
   "cell_type": "markdown",
   "metadata": {},
   "source": [
    "## Uczenie się z wyrocznią jako DFA - wybrane przykłady "
   ]
  },
  {
   "cell_type": "code",
   "execution_count": 33,
   "metadata": {},
   "outputs": [],
   "source": [
    "from importlib import reload"
   ]
  },
  {
   "cell_type": "code",
   "execution_count": 34,
   "metadata": {},
   "outputs": [],
   "source": [
    "import utils.InferringMM, utils.OracleDFA, utils.Mealymachine\n",
    "reload(utils.InferringMM)\n",
    "reload(utils.OracleDFA)\n",
    "reload(utils.Mealymachine)\n",
    "from utils.InferringMM import *\n",
    "from utils.OracleDFA import OracleDFA\n"
   ]
  },
  {
   "cell_type": "code",
   "execution_count": 35,
   "metadata": {},
   "outputs": [],
   "source": [
    "def run_learning_process(_mm, oracle=None, debug=False):\n",
    "    learn_mm = InferringMM(_mm, oracle, debug=debug)\n",
    "    mm, cnt, cnt_ex = learn_mm.run(counterexamples=True)\n",
    "    print(f\"kontrprzykłady: {cnt_ex}, cnt = {cnt}\")\n",
    "\n",
    "def find_minm_mm(_mm, debug=False):\n",
    "    learn_mm = InferringMM(_mm, debug=debug)\n",
    "    mm, _, _ = learn_mm.run(counterexamples=True)\n",
    "    return mm "
   ]
  },
  {
   "cell_type": "markdown",
   "metadata": {},
   "source": [
    "## Wykrywane wzorców "
   ]
  },
  {
   "cell_type": "markdown",
   "metadata": {},
   "source": [
    "### Przykład 1\n",
    "wzorzec - a, więzy (wskazówki?) - słowa z literką a "
   ]
  },
  {
   "cell_type": "code",
   "execution_count": 4,
   "metadata": {},
   "outputs": [
    {
     "name": "stdout",
     "output_type": "stream",
     "text": [
      "12 1\n",
      "(0,a) --> '1',0\n",
      "(0,b) --> '0',0\n",
      "(0,c) --> '0',0\n"
     ]
    }
   ],
   "source": [
    "dfa_a = OracleDFA(Q=5, \n",
    "                  alphabet=['a', 'b', 'c', '0', '1'],\n",
    "                  δ={(0,'a'):2, (0,'b'):1, (0, 'c'):1, (2,'1'):3, (3,'a'):2, (3, 'b'):4, (3,'c'):4, (4,'0'):3, (1,'0'):0 }, \n",
    "                  F=set([3]))\n",
    "mm_a = MealyMachine(Q=1, input_signs=[\"a\", \"b\", \"c\"], output_signs=[\"0\", \"1\"],\n",
    "                  λ={(0,\"a\"):\"1\", (0,\"b\"):\"0\", (0, \"c\"):\"0\"}, \n",
    "                  δ={(0,\"a\"):0, (0,\"b\"):0, (0, \"c\"):0})\n",
    "run_learning_process(mm_a)"
   ]
  },
  {
   "cell_type": "markdown",
   "metadata": {},
   "source": [
    "## Przykład 2 \n",
    "wzorzec - a lub b, więzy - słowa z literka a "
   ]
  },
  {
   "cell_type": "code",
   "execution_count": 7,
   "metadata": {},
   "outputs": [
    {
     "name": "stdout",
     "output_type": "stream",
     "text": [
      "8 1\n",
      "(0,a) --> '1',0\n",
      "(0,b) --> '1',0\n",
      "(0,c) --> '0',0\n"
     ]
    }
   ],
   "source": [
    "dfa_ = OracleDFA(Q=6, \n",
    "                 alphabet=[\"a\", 'b', 'c', '0', '1'], \n",
    "                 δ={(0,'a'):1, (0,'b'):4, (0, 'c'):6, (1, '1'):2, (2, 'a'):1, (2, 'b'):4, (2, 'c'):3, (3, '0'):2, (4, '0'):5, (5, 'a'):4, (5, 'b'):4, (5, 'c'):4, (6, '0'): 0}, \n",
    "                 F=set([2]))\n",
    "mm_ = MealyMachine(Q=1, input_signs=[\"a\", \"b\", \"c\"], output_signs=[\"0\", \"1\"],\n",
    "                  λ={(0,\"a\"):\"1\", (0,\"b\"):\"1\", (0, \"c\"):\"0\"}, \n",
    "                  δ={(0,\"a\"):0, (0,\"b\"):0, (0, \"c\"):0})\n",
    "run_learning_process(mm_)"
   ]
  },
  {
   "cell_type": "markdown",
   "metadata": {},
   "source": [
    "## Przykład 3 \n",
    "wzorzec - a lub b, więzy - słowa z literka a lub b "
   ]
  },
  {
   "cell_type": "code",
   "execution_count": 18,
   "metadata": {},
   "outputs": [
    {
     "name": "stdout",
     "output_type": "stream",
     "text": [
      "pytam o : b\n",
      "pytam o : c\n",
      "pytam o : a\n",
      "pytam o : ab\n",
      "pytam o : ac\n",
      "pytam o : aa\n",
      "pytam o : bb\n",
      "pytam o : bc\n",
      "pytam o : ba\n",
      "pytam o : cb\n",
      "pytam o : cc\n",
      "pytam o : ca\n",
      "2 1\n",
      "(0,a) --> '1',0\n",
      "(0,b) --> '1',0\n",
      "(0,c) --> '0',0\n"
     ]
    }
   ],
   "source": [
    "dfa_ = OracleDFA(Q=4, \n",
    "                 alphabet=[\"a\", 'b', 'c', '0', '1'], \n",
    "                 δ={(0,'a'):1, (0,'b'):1, (0, 'c'):4, (1, '1'):2, (2, 'a'):1, (2, 'b'):1, (2, 'c'):3, (3, '0'):2, (4, '0'): 0}, \n",
    "                 F=set([2]))\n",
    "mm_ = MealyMachine(Q=1, input_signs=[\"a\", \"b\", \"c\"], output_signs=[\"0\", \"1\"],\n",
    "                  λ={(0,\"a\"):\"1\", (0,\"b\"):\"1\", (0, \"c\"):\"0\"}, \n",
    "                  δ={(0,\"a\"):0, (0,\"b\"):0, (0, \"c\"):0})\n",
    "run_learning_process(mm_,dfa_)"
   ]
  },
  {
   "cell_type": "markdown",
   "metadata": {},
   "source": [
    "## Przykład 4 \n",
    "wzorzec - aa, bb lub cc (podwojona litera) , więzy - słowa z aa "
   ]
  },
  {
   "cell_type": "code",
   "execution_count": 10,
   "metadata": {},
   "outputs": [
    {
     "name": "stdout",
     "output_type": "stream",
     "text": [
      "33 1\n",
      "(0,a) --> '0',3\n",
      "(0,b) --> '0',1\n",
      "(0,c) --> '0',2\n",
      "(1,a) --> '0',3\n",
      "(1,b) --> '1',1\n",
      "(1,c) --> '0',2\n",
      "(2,a) --> '0',3\n",
      "(2,b) --> '0',1\n",
      "(2,c) --> '1',2\n",
      "(3,a) --> '1',3\n",
      "(3,b) --> '0',1\n",
      "(3,c) --> '0',2\n"
     ]
    }
   ],
   "source": [
    "dfa_= OracleDFA(Q=6,\n",
    "                alphabet=['a', 'b', 'c', '0', '1'], \n",
    "                δ={(0, 'a'): 1, (0,'b'):9, (0,'c'):9, (1,'0'):2, (2, 'a',):3, (2,'b'):9, (2,'c'):9, (3,'1'):4, (4,'a'):3, (4,'b'):5, (4,'c'):5, (5,'0'):6, \n",
    "                   (6,'a'):7, (6,'b'):5, (6,'c'):5, (7,'0'):8, (8,'a'):3, (8,'b'):5, (8,'c'):5, (9,'0'):0}, \n",
    "                F=set([4, 6, 8]))\n",
    "mm_= MealyMachine(Q=4, input_signs=['a', 'b', 'c'], output_signs=['0', '1'], \n",
    "                  λ={(0,'a'):'0', (0,'b'):'0', (0,'c'):'0', (1,'a'):'1', (1,'b'):'0', (1,'c'):'0', (2,'a'):'0', (2,'b'):'1', (2,'c'):'0', (3,'a'):'0', (3,'b'):'0', (3,'c'):'1'}, \n",
    "                  δ={(0,'a'):1, (0,'b'):2, (0,'c'):3, (1,'a'):1, (1,'b'):2, (1,'c'):3, (2,'a'):1, (2,'b'):2, (2,'c'):3, (3,'a'):1, (3,'b'):2, (3,'c'):3})\n",
    "run_learning_process(mm_, dfa_)"
   ]
  },
  {
   "cell_type": "markdown",
   "metadata": {},
   "source": [
    "## Przykłady 'zautomatyzowane'"
   ]
  },
  {
   "cell_type": "code",
   "execution_count": 4,
   "metadata": {},
   "outputs": [],
   "source": [
    "import PaterndetectionMM \n",
    "import utils.Mealymachine\n",
    "reload(PaterndetectionMM)\n",
    "reload(utils.Mealymachine)\n",
    "\n",
    "from PaterndetectionMM import PaternMM\n",
    "\n",
    "import string \n",
    "import copy"
   ]
  },
  {
   "cell_type": "markdown",
   "metadata": {},
   "source": [
    "wzorzec - aaa, bbb, ccc"
   ]
  },
  {
   "cell_type": "code",
   "execution_count": 6,
   "metadata": {},
   "outputs": [
    {
     "name": "stdout",
     "output_type": "stream",
     "text": [
      "liczba stanów to = 7\n",
      "kontrprzykłady: [3, 3, 3], cnt = [246, 4]\n"
     ]
    }
   ],
   "source": [
    "mm = PaternMM([\"aaa\", \"bbb\", \"ccc\"], ['a', 'b', 'c'], ['0', '1'])\n",
    "mm = find_minm_mm(mm)\n",
    "print(f\"liczba stanów to = {mm.Q}\")\n",
    "run_learning_process(copy.deepcopy(mm), debug=False)"
   ]
  },
  {
   "cell_type": "markdown",
   "metadata": {},
   "source": [
    "wzorzec - AT, CG, alfabet - A, T, C G "
   ]
  },
  {
   "cell_type": "code",
   "execution_count": 5,
   "metadata": {},
   "outputs": [
    {
     "name": "stdout",
     "output_type": "stream",
     "text": [
      "liczba stanów to = 3\n",
      "kontrprzykłady: [], cnt = [52, 1]\n"
     ]
    }
   ],
   "source": [
    "mm = PaternMM([\"AT\", \"CG\"], ['A', 'T', 'C', 'G'], ['0', '1'])\n",
    "mm = find_minm_mm(mm)\n",
    "print(f\"liczba stanów to = {mm.Q}\")\n",
    "run_learning_process(copy.deepcopy(mm), debug=False)"
   ]
  },
  {
   "cell_type": "markdown",
   "metadata": {},
   "source": [
    "wzorzec - Alice, Bob, alfabet - pełny angielski"
   ]
  },
  {
   "cell_type": "code",
   "execution_count": 7,
   "metadata": {},
   "outputs": [
    {
     "name": "stdout",
     "output_type": "stream",
     "text": [
      "liczba stanów to 7\n",
      "kontrprzykłady: [3, 5], cnt = [5972, 3]\n"
     ]
    }
   ],
   "source": [
    "mm = PaternMM([\"alice\", \"bob\"], list(string.ascii_lowercase), ['0', '1'])\n",
    "mm_minim = find_minm_mm(mm,debug=False)\n",
    "print(f\"liczba stanów to {mm_minim.Q}\")\n",
    "run_learning_process(copy.deepcopy(mm_minim), debug=False)"
   ]
  },
  {
   "cell_type": "markdown",
   "metadata": {},
   "source": [
    "wzorzec - aa, bb, cc, alfabet - a, b, "
   ]
  },
  {
   "cell_type": "code",
   "execution_count": 37,
   "metadata": {},
   "outputs": [
    {
     "name": "stdout",
     "output_type": "stream",
     "text": [
      "kontrprzykłady: [3, 3, 3], cnt = [246, 4]\n"
     ]
    }
   ],
   "source": [
    "mm = PaternMM([\"aaa\", \"bbb\", \"ccc\"], ['a', 'b', 'c'], ['0', '1'])\n",
    "mm = find_minm_mm(mm, debug=False)\n",
    "print(f\"liczba stanów to {mm_minim.Q}\")\n",
    "run_learning_process(copy.deepcopy(mm), debug=False)"
   ]
  },
  {
   "cell_type": "markdown",
   "metadata": {},
   "source": [
    "wzorzec - bob"
   ]
  },
  {
   "cell_type": "code",
   "execution_count": 49,
   "metadata": {},
   "outputs": [
    {
     "name": "stdout",
     "output_type": "stream",
     "text": [
      "liczba stanów to 3\n",
      "kontrprzykłady: [3], cnt = [83, 2]\n"
     ]
    },
    {
     "data": {
      "text/plain": [
       "('bobboobie', '001000000')"
      ]
     },
     "execution_count": 49,
     "metadata": {},
     "output_type": "execute_result"
    }
   ],
   "source": [
    "mm = PaternMM([\"bob\"], ['b', 'o', 'i', 'e'], ['0', '1'])\n",
    "mm = find_minm_mm(mm, debug=False)\n",
    "print(f\"liczba stanów to {mm.Q}\")\n",
    "run_learning_process(copy.deepcopy(mm), debug=False)\n",
    "mm.route(\"bobboobie\")"
   ]
  },
  {
   "cell_type": "markdown",
   "metadata": {},
   "source": [
    "wzorzec - boobie "
   ]
  },
  {
   "cell_type": "code",
   "execution_count": 43,
   "metadata": {},
   "outputs": [
    {
     "name": "stdout",
     "output_type": "stream",
     "text": [
      "liczba stanów to 6\n",
      "kontrprzykłady: [6], cnt = [230, 2]\n"
     ]
    },
    {
     "data": {
      "text/plain": [
       "('obboobieeee', '00000001000')"
      ]
     },
     "execution_count": 43,
     "metadata": {},
     "output_type": "execute_result"
    }
   ],
   "source": [
    "mm = PaternMM([\"boobie\"], ['b', 'o', 'i', 'e'], ['0', '1'])\n",
    "mm = find_minm_mm(mm, debug=False)\n",
    "print(f\"liczba stanów to {mm.Q}\")\n",
    "run_learning_process(copy.deepcopy(mm), debug=False)\n",
    "mm.route(\"obboobieeee\")"
   ]
  },
  {
   "cell_type": "markdown",
   "metadata": {},
   "source": [
    "wzorzec - bob i boobie "
   ]
  },
  {
   "cell_type": "code",
   "execution_count": 44,
   "metadata": {},
   "outputs": [
    {
     "name": "stdout",
     "output_type": "stream",
     "text": [
      "liczba stanów to 6\n",
      "kontrprzykłady: [3, 6], cnt = [251, 3]\n"
     ]
    },
    {
     "data": {
      "text/plain": [
       "('bobbobieboobie', '00100100000001')"
      ]
     },
     "execution_count": 44,
     "metadata": {},
     "output_type": "execute_result"
    }
   ],
   "source": [
    "mm = PaternMM([\"bob\", \"boobie\"], ['b', 'o', 'i', 'e'], ['0', '1'])\n",
    "mm = find_minm_mm(mm, debug=False)\n",
    "print(f\"liczba stanów to {mm.Q}\")\n",
    "run_learning_process(copy.deepcopy(mm), debug=False)\n",
    "mm.route(\"bobbobieboobie\")"
   ]
  },
  {
   "cell_type": "code",
   "execution_count": 50,
   "metadata": {},
   "outputs": [
    {
     "name": "stdout",
     "output_type": "stream",
     "text": [
      "liczba stanów to 6\n",
      "kontrprzykłady: [3, 6], cnt = [0, 3]\n"
     ]
    },
    {
     "data": {
      "text/plain": [
       "('bobbobieboobie', '00100100000001')"
      ]
     },
     "execution_count": 50,
     "metadata": {},
     "output_type": "execute_result"
    }
   ],
   "source": [
    "bob_mm = PaternMM([\"bob\"], ['b', 'o', 'i', 'e'], ['0', '1'])\n",
    "bob_mm = find_minm_mm(bob_mm, debug=False)\n",
    "\n",
    "mm = PaternMM([\"bob\", \"boobie\"], ['b', 'o', 'i', 'e'], ['0', '1'])\n",
    "mm = find_minm_mm(mm, debug=False)\n",
    "print(f\"liczba stanów to {mm.Q}\")\n",
    "run_learning_process(copy.deepcopy(mm), oracle=copy.deepcopy(bob_mm), debug=False)\n",
    "mm.route(\"bobbobieboobie\")"
   ]
  }
 ],
 "metadata": {
  "kernelspec": {
   "display_name": "Python 3",
   "language": "python",
   "name": "python3"
  },
  "language_info": {
   "codemirror_mode": {
    "name": "ipython",
    "version": 3
   },
   "file_extension": ".py",
   "mimetype": "text/x-python",
   "name": "python",
   "nbconvert_exporter": "python",
   "pygments_lexer": "ipython3",
   "version": "3.10.12"
  }
 },
 "nbformat": 4,
 "nbformat_minor": 2
}
