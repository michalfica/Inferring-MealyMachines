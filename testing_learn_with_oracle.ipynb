{
 "cells": [
  {
   "cell_type": "markdown",
   "metadata": {},
   "source": [
    "## Uczenie się z wyrocznią jako DFA - wybrane przykłady "
   ]
  },
  {
   "cell_type": "code",
   "execution_count": 71,
   "metadata": {},
   "outputs": [],
   "source": [
    "from importlib import reload"
   ]
  },
  {
   "cell_type": "code",
   "execution_count": 72,
   "metadata": {},
   "outputs": [],
   "source": [
    "import utils.InferringMM, utils.OracleDFA, utils.Mealymachine\n",
    "reload(utils.InferringMM)\n",
    "reload(utils.OracleDFA)\n",
    "reload(utils.Mealymachine)\n",
    "from utils.InferringMM import *\n",
    "from utils.OracleDFA import OracleDFA\n"
   ]
  },
  {
   "cell_type": "code",
   "execution_count": 73,
   "metadata": {},
   "outputs": [],
   "source": [
    "import copy\n",
    "def run_learning_process(_mm, oracle=None, debug=False):\n",
    "    learn_mm = InferringMM(_mm, oracle, debug=debug)\n",
    "    mm, cnt, cnt_ex = learn_mm.run(counterexamples=True)\n",
    "    print(f\"kontrprzykłady: {cnt_ex}, cnt = {cnt}\")\n",
    "    return copy.deepcopy(mm) \n",
    "\n",
    "def find_minm_mm(_mm, debug=False):\n",
    "    learn_mm = InferringMM(_mm, debug=debug)\n",
    "    mm, _, _ = learn_mm.run(counterexamples=True)\n",
    "    return copy.deepcopy(mm) "
   ]
  },
  {
   "cell_type": "markdown",
   "metadata": {},
   "source": [
    "## Wykrywane wzorców "
   ]
  },
  {
   "cell_type": "markdown",
   "metadata": {},
   "source": [
    "### Przykład 1\n",
    "wzorzec - a, więzy (wskazówki?) - słowa z literką a "
   ]
  },
  {
   "cell_type": "code",
   "execution_count": 9,
   "metadata": {},
   "outputs": [
    {
     "name": "stdout",
     "output_type": "stream",
     "text": [
      "kontrprzykłady: [], cnt = [12, 1]\n"
     ]
    }
   ],
   "source": [
    "dfa_ = OracleDFA(Q=5, \n",
    "                  alphabet=['a', 'b', 'c', '0', '1'],\n",
    "                  δ={(0,'a'):2, (0,'b'):1, (0, 'c'):1, (2,'1'):3, (3,'a'):2, (3, 'b'):4, (3,'c'):4, (4,'0'):3, (1,'0'):0 }, \n",
    "                  F=set([3]))\n",
    "mm_a = MealyMachine(Q=1, input_signs=[\"a\", \"b\", \"c\"], output_signs=[\"0\", \"1\"],\n",
    "                  λ={(0,\"a\"):\"1\", (0,\"b\"):\"0\", (0, \"c\"):\"0\"}, \n",
    "                  δ={(0,\"a\"):0, (0,\"b\"):0, (0, \"c\"):0})\n",
    "run_learning_process(mm_a)"
   ]
  },
  {
   "cell_type": "markdown",
   "metadata": {},
   "source": [
    "## Przykład 2 \n",
    "wzorzec - a lub b, więzy - słowa z literka a "
   ]
  },
  {
   "cell_type": "code",
   "execution_count": 11,
   "metadata": {},
   "outputs": [
    {
     "name": "stdout",
     "output_type": "stream",
     "text": [
      "kontrprzykłady: [], cnt = [12, 1]\n"
     ]
    }
   ],
   "source": [
    "dfa_ = OracleDFA(Q=6, \n",
    "                 alphabet=[\"a\", 'b', 'c', '0', '1'], \n",
    "                 δ={(0,'a'):1, (0,'b'):4, (0, 'c'):6, (1, '1'):2, (2, 'a'):1, (2, 'b'):4, (2, 'c'):3, (3, '0'):2, (4, '0'):5, (5, 'a'):4, (5, 'b'):4, (5, 'c'):4, (6, '0'): 0}, \n",
    "                 F=set([2]))\n",
    "mm_ = MealyMachine(Q=1, input_signs=[\"a\", \"b\", \"c\"], output_signs=[\"0\", \"1\"],\n",
    "                  λ={(0,\"a\"):\"1\", (0,\"b\"):\"1\", (0, \"c\"):\"0\"}, \n",
    "                  δ={(0,\"a\"):0, (0,\"b\"):0, (0, \"c\"):0})\n",
    "run_learning_process(mm_)"
   ]
  },
  {
   "cell_type": "markdown",
   "metadata": {},
   "source": [
    "## Przykład 3 \n",
    "wzorzec - a lub b, więzy - słowa z literka a lub b "
   ]
  },
  {
   "cell_type": "code",
   "execution_count": 14,
   "metadata": {},
   "outputs": [
    {
     "name": "stdout",
     "output_type": "stream",
     "text": [
      "kontrprzykłady: [], cnt = [2, 1]\n"
     ]
    }
   ],
   "source": [
    "dfa_ = OracleDFA(Q=4, \n",
    "                 alphabet=[\"a\", 'b', 'c', '0', '1'], \n",
    "                 δ={(0,'a'):1, (0,'b'):1, (0, 'c'):4, (1, '1'):2, (2, 'a'):1, (2, 'b'):1, (2, 'c'):3, (3, '0'):2, (4, '0'): 0}, \n",
    "                 F=set([2]))\n",
    "mm_ = MealyMachine(Q=1, input_signs=[\"a\", \"b\", \"c\"], output_signs=[\"0\", \"1\"],\n",
    "                  λ={(0,\"a\"):\"1\", (0,\"b\"):\"1\", (0, \"c\"):\"0\"}, \n",
    "                  δ={(0,\"a\"):0, (0,\"b\"):0, (0, \"c\"):0})\n",
    "run_learning_process(mm_, dfa_)"
   ]
  },
  {
   "cell_type": "markdown",
   "metadata": {},
   "source": [
    "## Przykład 4 \n",
    "wzorzec - aa, bb lub cc (podwojona litera) , więzy - słowa z aa "
   ]
  },
  {
   "cell_type": "code",
   "execution_count": 16,
   "metadata": {},
   "outputs": [
    {
     "name": "stdout",
     "output_type": "stream",
     "text": [
      "kontrprzykłady: [], cnt = [33, 1]\n"
     ]
    }
   ],
   "source": [
    "dfa_= OracleDFA(Q=6,\n",
    "                alphabet=['a', 'b', 'c', '0', '1'], \n",
    "                δ={(0, 'a'): 1, (0,'b'):9, (0,'c'):9, (1,'0'):2, (2, 'a',):3, (2,'b'):9, (2,'c'):9, (3,'1'):4, (4,'a'):3, (4,'b'):5, (4,'c'):5, (5,'0'):6, \n",
    "                   (6,'a'):7, (6,'b'):5, (6,'c'):5, (7,'0'):8, (8,'a'):3, (8,'b'):5, (8,'c'):5, (9,'0'):0}, \n",
    "                F=set([4, 6, 8]))\n",
    "mm_= MealyMachine(Q=4, input_signs=['a', 'b', 'c'], output_signs=['0', '1'], \n",
    "                  λ={(0,'a'):'0', (0,'b'):'0', (0,'c'):'0', (1,'a'):'1', (1,'b'):'0', (1,'c'):'0', (2,'a'):'0', (2,'b'):'1', (2,'c'):'0', (3,'a'):'0', (3,'b'):'0', (3,'c'):'1'}, \n",
    "                  δ={(0,'a'):1, (0,'b'):2, (0,'c'):3, (1,'a'):1, (1,'b'):2, (1,'c'):3, (2,'a'):1, (2,'b'):2, (2,'c'):3, (3,'a'):1, (3,'b'):2, (3,'c'):3})\n",
    "run_learning_process(mm_,dfa_)"
   ]
  },
  {
   "cell_type": "markdown",
   "metadata": {},
   "source": [
    "## Przykłady 'zautomatyzowane'"
   ]
  },
  {
   "cell_type": "code",
   "execution_count": 48,
   "metadata": {},
   "outputs": [],
   "source": [
    "import PaterndetectionMM \n",
    "import utils.Mealymachine\n",
    "reload(PaterndetectionMM)\n",
    "reload(utils.Mealymachine)\n",
    "\n",
    "from PaterndetectionMM import PaternMM\n",
    "\n",
    "import string \n",
    "import copy"
   ]
  },
  {
   "cell_type": "markdown",
   "metadata": {},
   "source": [
    "wzorzec - aaa, bbb, ccc"
   ]
  },
  {
   "cell_type": "code",
   "execution_count": 19,
   "metadata": {},
   "outputs": [
    {
     "name": "stdout",
     "output_type": "stream",
     "text": [
      "liczba stanów to = 7\n",
      "kontrprzykłady: [3, 3, 3], cnt = [111, 4]\n"
     ]
    }
   ],
   "source": [
    "mm = PaternMM([\"aaa\", \"bbb\", \"ccc\"], ['a', 'b', 'c'], ['0', '1'])\n",
    "mm = find_minm_mm(mm)\n",
    "print(f\"liczba stanów to = {mm.Q}\")\n",
    "run_learning_process(copy.deepcopy(mm), debug=False)"
   ]
  },
  {
   "cell_type": "markdown",
   "metadata": {},
   "source": [
    "wzorzec - AT, CG, alfabet - A, T, C G "
   ]
  },
  {
   "cell_type": "code",
   "execution_count": 21,
   "metadata": {},
   "outputs": [
    {
     "name": "stdout",
     "output_type": "stream",
     "text": [
      "liczba stanów to = 3\n",
      "kontrprzykłady: [], cnt = [52, 1]\n"
     ]
    }
   ],
   "source": [
    "mm = PaternMM([\"AT\", \"CG\"], ['A', 'T', 'C', 'G'], ['0', '1'])\n",
    "mm = find_minm_mm(mm)\n",
    "print(f\"liczba stanów to = {mm.Q}\")\n",
    "run_learning_process(copy.deepcopy(mm), debug=False)"
   ]
  },
  {
   "cell_type": "markdown",
   "metadata": {},
   "source": [
    "wzorzec - Alice, Bob, alfabet - pełny angielski"
   ]
  },
  {
   "cell_type": "code",
   "execution_count": 24,
   "metadata": {},
   "outputs": [
    {
     "name": "stdout",
     "output_type": "stream",
     "text": [
      "liczba stanów to 7\n",
      "kontrprzykłady: [3, 5], cnt = [5462, 3]\n"
     ]
    }
   ],
   "source": [
    "mm = PaternMM([\"alice\", \"bob\"], list(string.ascii_lowercase), ['0', '1'])\n",
    "mm_minim = find_minm_mm(mm,debug=False)\n",
    "print(f\"liczba stanów to {mm_minim.Q}\")\n",
    "run_learning_process(copy.deepcopy(mm_minim), debug=False)"
   ]
  },
  {
   "cell_type": "markdown",
   "metadata": {},
   "source": [
    "wzorzec - bob"
   ]
  },
  {
   "cell_type": "code",
   "execution_count": 26,
   "metadata": {},
   "outputs": [
    {
     "name": "stdout",
     "output_type": "stream",
     "text": [
      "liczba stanów to 3\n",
      "kontrprzykłady: [3], cnt = [18, 2]\n"
     ]
    }
   ],
   "source": [
    "mm = PaternMM([\"bob\"], ['b', 'o'], ['0', '1'])\n",
    "mm = find_minm_mm(mm, debug=False)\n",
    "print(f\"liczba stanów to {mm.Q}\")\n",
    "run_learning_process(copy.deepcopy(mm), debug=False)"
   ]
  },
  {
   "cell_type": "markdown",
   "metadata": {},
   "source": [
    "wzorzec - boobie "
   ]
  },
  {
   "cell_type": "code",
   "execution_count": 27,
   "metadata": {},
   "outputs": [
    {
     "name": "stdout",
     "output_type": "stream",
     "text": [
      "liczba stanów to 6\n",
      "kontrprzykłady: [6], cnt = [176, 2]\n"
     ]
    }
   ],
   "source": [
    "mm = PaternMM([\"boobie\"], ['b', 'o', 'i', 'e'], ['0', '1'])\n",
    "mm = find_minm_mm(mm, debug=False)\n",
    "print(f\"liczba stanów to {mm.Q}\")\n",
    "run_learning_process(copy.deepcopy(mm), debug=False)"
   ]
  },
  {
   "cell_type": "markdown",
   "metadata": {},
   "source": [
    "wzorzec - bob i boobie "
   ]
  },
  {
   "cell_type": "code",
   "execution_count": 29,
   "metadata": {},
   "outputs": [
    {
     "name": "stdout",
     "output_type": "stream",
     "text": [
      "liczba stanów to 6\n",
      "kontrprzykłady: [3, 6], cnt = [157, 3]\n"
     ]
    }
   ],
   "source": [
    "mm = PaternMM([\"bob\", \"boobie\"], ['b', 'o', 'i', 'e'], ['0', '1'])\n",
    "mm = find_minm_mm(mm, debug=False)\n",
    "print(f\"liczba stanów to {mm.Q}\")\n",
    "run_learning_process(copy.deepcopy(mm), debug=True)"
   ]
  },
  {
   "cell_type": "code",
   "execution_count": 31,
   "metadata": {},
   "outputs": [
    {
     "name": "stdout",
     "output_type": "stream",
     "text": [
      "liczba stanów to 6\n",
      "kontrprzykłady: [3, 6], cnt = [8, 3]\n"
     ]
    }
   ],
   "source": [
    "bob_mm = PaternMM([\"bob\"], ['b', 'o', 'i', 'e'], ['0', '1'])\n",
    "bob_mm = find_minm_mm(bob_mm, debug=False)\n",
    "\n",
    "mm = PaternMM([\"bob\", \"boobie\"], ['b', 'o', 'i', 'e'], ['0', '1'])\n",
    "mm = find_minm_mm(mm, debug=False)\n",
    "print(f\"liczba stanów to {mm.Q}\")\n",
    "run_learning_process(copy.deepcopy(mm), oracle=copy.deepcopy(bob_mm), debug=False)"
   ]
  },
  {
   "cell_type": "code",
   "execution_count": 32,
   "metadata": {},
   "outputs": [
    {
     "name": "stdout",
     "output_type": "stream",
     "text": [
      "liczba stanów to 6\n",
      "kontrprzykłady: [3, 6], cnt = [13, 3]\n"
     ]
    }
   ],
   "source": [
    "boobie_mm = PaternMM([\"boobie\"], ['b', 'o', 'i', 'e'], ['0', '1'])\n",
    "boobie_mm = find_minm_mm(boobie_mm, debug=False)\n",
    "\n",
    "mm = PaternMM([\"bob\", \"boobie\"], ['b', 'o', 'i', 'e'], ['0', '1'])\n",
    "mm = find_minm_mm(mm, debug=False)\n",
    "print(f\"liczba stanów to {mm.Q}\")\n",
    "run_learning_process(copy.deepcopy(mm), oracle=copy.deepcopy(boobie_mm), debug=False)"
   ]
  },
  {
   "cell_type": "code",
   "execution_count": 77,
   "metadata": {},
   "outputs": [
    {
     "name": "stdout",
     "output_type": "stream",
     "text": [
      "kontrprzykłady: [5], cnt = [345, 2]\n",
      "# stanów = 5\n",
      "kontrprzykłady: [3], cnt = [173, 2]\n",
      "# stanów = 3\n",
      "kontrprzykłady: [3, 5], cnt = [522, 3]\n",
      "# stanów = 7\n"
     ]
    }
   ],
   "source": [
    "alice_mm = PaternMM([\"alice\"], ['a', 'b', 'c', 'o', 'i', 'e', 'l'], ['0', '1'])\n",
    "alice_mm = run_learning_process(alice_mm, debug=False)\n",
    "alice_mm.print_states()\n",
    "\n",
    "bob_mm = PaternMM([\"bob\"], ['a', 'b', 'c', 'o', 'i', 'e', 'l'], ['0', '1'])\n",
    "bob_mm = run_learning_process(bob_mm, debug=False)\n",
    "bob_mm.print_states()\n",
    "\n",
    "mm = PaternMM([\"bob\", \"alice\"], ['a', 'b', 'c', 'o', 'i', 'e', 'l'], ['0', '1'])\n",
    "mm = find_minm_mm(mm, debug=False)\n",
    "\n",
    "mm = run_learning_process(copy.deepcopy(mm), oracle=None, debug=False)\n",
    "mm.print_states()"
   ]
  },
  {
   "cell_type": "code",
   "execution_count": 75,
   "metadata": {},
   "outputs": [
    {
     "name": "stdout",
     "output_type": "stream",
     "text": [
      "wynik = ('abbaabbcabbd', '000100010001')\n",
      "kontrprzykłady: [4], cnt = [94, 2]\n",
      "# stanów = 4\n"
     ]
    },
    {
     "data": {
      "text/plain": [
       "('abbaabbc', '00010001')"
      ]
     },
     "execution_count": 75,
     "metadata": {},
     "output_type": "execute_result"
    }
   ],
   "source": [
    "abba_mm = PaternMM([\"abba\"], ['a', 'b', 'c', 'd'], ['0', '1'])\n",
    "abba_mm = find_minm_mm(abba_mm)\n",
    "\n",
    "abbc_mm = PaternMM([\"abbc\"], ['a', 'b', 'c', 'd'], ['0', '1'])\n",
    "abbc_mm = find_minm_mm(abbc_mm)\n",
    "\n",
    "abbd_mm = PaternMM([\"abbd\"], ['a', 'b', 'c', 'd'], ['0', '1'])\n",
    "abbd_mm = find_minm_mm(abbd_mm)\n",
    "\n",
    "abba_abbc_mm = PaternMM([\"abba\", \"abbc\"], ['a', 'b', 'c', 'd'], ['0', '1'])\n",
    "abba_abbc_mm = find_minm_mm(abba_abbc_mm)\n",
    "\n",
    "mm = PaternMM([\"abba\", \"abbc\", \"abbd\"], ['a', 'b', 'c', 'd'], ['0', '1'])\n",
    "mm = find_minm_mm(mm, debug=False)\n",
    "wynik = mm.route(\"abbaabbcabbd\")\n",
    "\n",
    "print(f\"wynik = {wynik}\")\n",
    "\n",
    "mm = run_learning_process(copy.deepcopy(mm), oracle=None, debug=False)\n",
    "mm.print_states()\n",
    "mm.route(\"abbaabbc\")"
   ]
  },
  {
   "cell_type": "code",
   "execution_count": null,
   "metadata": {},
   "outputs": [],
   "source": [
    "abba_mm = PaternMM([\"abba\"], ['a', 'b', 'c', 'd'], ['0', '1'])\n",
    "abba_mm = run_learning_process(abba_mm)\n",
    "\n",
    "cddb_mm = PaternMM([\"cddb\"], ['a', 'b', 'c', 'd'], ['0', '1'])\n",
    "cddb_mm = run_learning_process(cddb_mm)\n",
    "\n",
    "daac_mm = PaternMM([\"daac\"], ['a', 'b', 'c', 'd'], ['0', '1'])\n",
    "daac_mm = run_learning_process(daac_mm)\n",
    "\n",
    "abba_cddb_mm = PaternMM([\"abba\", \"cddb\"], ['a', 'b', 'c', 'd'], ['0', '1'])\n",
    "abba_cddb_mm = run_learning_process(abba_cddb_mm, oracle=abba_mm)\n",
    "\n",
    "mm = PaternMM([\"abba\", \"cddb\", \"daac\"], ['a', 'b', 'c', 'd'], ['0', '1'])\n",
    "mm = find_minm_mm(mm, debug=False)\n",
    "wynik = mm.route(\"abbaabbcabbd\")\n",
    "\n",
    "print(f\"wynik = {wynik}\")\n",
    "\n",
    "mm = run_learning_process(copy.deepcopy(mm), oracle=abba_cddb_mm, debug=False)\n",
    "mm.print_states()\n",
    "mm.route(\"abbaabbc\")"
   ]
  },
  {
   "cell_type": "code",
   "execution_count": null,
   "metadata": {},
   "outputs": [],
   "source": [
    "in_a, out_a= ['a', 'b', 'c', 'd'], ['0', '1']\n",
    "abcda_mm = PaternMM([\"abcda\"], in_a, out_a)\n",
    "abcda_mm = find_minm_mm(abcda_mm)\n",
    "\n",
    "dcd_mm = PaternMM([\"dcd\"], in_a, out_a)\n",
    "dcd_mm = run_learning_process(dcd_mm)\n",
    "\n",
    "eve_mm = PaternMM([\"bdb\"], in_a, out_a)\n",
    "eve_mm = find_minm_mm(eve_mm)\n",
    "\n",
    "dcd_eve_mm = PaternMM([\"dcd\", \"bdb\"], in_a, out_a)\n",
    "dcd_eve_mm = run_learning_process(dcd_eve_mm, oracle=None)\n",
    "\n",
    "alice_bob_mm = PaternMM([\"abcda\", \"dcd\"], in_a, out_a)\n",
    "alice_bob_mm = find_minm_mm(alice_bob_mm)\n",
    "\n",
    "mm = PaternMM([\"abcda\", \"dcd\", \"bdb\"], in_a, out_a)\n",
    "mm = find_minm_mm(mm)\n",
    "\n",
    "# dcd\n",
    "mm = run_learning_process(copy.deepcopy(mm), oracle=None)\n",
    "mm.route(\"abcdadcdbbbbbdb\")\n",
    "mm.print_states()"
   ]
  },
  {
   "cell_type": "code",
   "execution_count": null,
   "metadata": {},
   "outputs": [],
   "source": [
    "in_a, out_a = ['b', 'l', 'a', 'c'], ['0', '1']\n",
    "bla_mm = PaternMM([\"bla\"], in_a, out_a)\n",
    "bla_mm = run_learning_process(bla_mm)\n",
    "\n",
    "blabla_mm = PaternMM(['blabla'], in_a, out_a)\n",
    "blabla_mm = run_learning_process(blabla_mm)\n",
    "\n",
    "blablacar_mm = PaternMM([\"bla\", \"blablac\"], in_a, out_a)\n",
    "blablacar_mm = find_minm_mm(blablacar_mm)\n",
    "blablacar_mm = run_learning_process(copy.deepcopy(blablacar_mm), oracle=bla_mm)\n",
    "blablacar_mm.route(\"blablac\")\n",
    "blablacar_mm.print_states()\n"
   ]
  },
  {
   "cell_type": "markdown",
   "metadata": {},
   "source": [
    "## Bob & Eve example "
   ]
  },
  {
   "cell_type": "code",
   "execution_count": 74,
   "metadata": {},
   "outputs": [
    {
     "name": "stdout",
     "output_type": "stream",
     "text": [
      "S = {''}, rozmiar E = {'d', 'c', 'b', 'a'}\n",
      "zamkniętość sprawdzona - S = {''}, rozmiar E = {'d', 'c', 'b', 'a'}\n",
      "S = {''}, rozmiar E = {'cd', 'b', 'c', 'a', 'd'}\n",
      "zamkniętość sprawdzona - S = {'', 'd', 'dc'}, rozmiar E = {'cd', 'b', 'c', 'a', 'd'}\n",
      "kontrprzykłady: [3], cnt = [62, 2]\n",
      "# stanów = 3\n"
     ]
    }
   ],
   "source": [
    "in_a, out_a= ['a', 'b', 'c', 'd'], ['0', '1']\n",
    "\n",
    "bob_mm = PaternMM([\"dcd\"], in_a, out_a)\n",
    "bob_mm = run_learning_process(copy.deepcopy(bob_mm), debug=True)\n",
    "bob_mm.print_states()\n",
    "\n",
    "# eve_mm = PaternMM([\"bdb\"], in_a, out_a)\n",
    "# eve_mm = run_learning_process(copy.deepcopy(eve_mm))\n",
    "# eve_mm.print_states()\n",
    "\n",
    "# abc_mm = PaternMM([\"abc\"], in_a, out_a)\n",
    "# abc_mm = run_learning_process(copy.deepcopy(abc_mm))\n",
    "# abc_mm.print_states()"
   ]
  },
  {
   "cell_type": "code",
   "execution_count": 75,
   "metadata": {},
   "outputs": [
    {
     "name": "stdout",
     "output_type": "stream",
     "text": [
      "S = {''}, rozmiar E = {'d', 'c', 'b', 'a'}\n",
      "zamkniętość sprawdzona - S = {''}, rozmiar E = {'d', 'c', 'b', 'a'}\n",
      "zapytanie o słowo bdb\n",
      "S = {''}, rozmiar E = {'b', 'c', 'a', 'd', 'db'}\n",
      "zapytanie o słowo bbdb\n",
      "zapytanie o słowo bdbb\n",
      "zapytanie o słowo bdbc\n",
      "zapytanie o słowo bdba\n",
      "zapytanie o słowo bdbd\n",
      "zapytanie o słowo bdbdb\n",
      "zapytanie o słowo bdcbdb\n",
      "zamkniętość sprawdzona - S = {'', 'bd', 'bdc', 'b'}, rozmiar E = {'b', 'c', 'a', 'd', 'db'}\n",
      "zapytanie o słowo bdbcd\n",
      "S = {'', 'bd', 'bdc', 'b'}, rozmiar E = {'cd', 'b', 'c', 'a', 'd', 'db'}\n",
      "zapytanie o słowo dbdb\n",
      "zamkniętość sprawdzona - S = {'', 'bdc', 'b', 'bd', 'd'}, rozmiar E = {'cd', 'b', 'c', 'a', 'd', 'db'}\n",
      "kontrprzykłady: [3, 3], cnt = [10, 3]\n",
      "# stanów = 5\n"
     ]
    }
   ],
   "source": [
    "bob_eve_mm = PaternMM([\"bdb\", \"dcd\"], in_a, out_a)\n",
    "bob_eve_mm = run_learning_process(copy.deepcopy(bob_eve_mm), oracle=bob_mm, debug=True)\n",
    "bob_eve_mm.print_states()\n",
    "\n",
    "# abc_bob_eve_mm = PaternMM([\"abc\", \"dcd\", \"bdb\"], in_a, out_a)\n",
    "# abc_bob_eve_mm = run_learning_process(copy.deepcopy(abc_bob_eve_mm), oracle=bob_eve_mm)\n",
    "# abc_bob_eve_mm.print_states()\n",
    "\n",
    "\n",
    "# ccc_abc_bob_eve_mm = PaternMM([\"abc\", \"dcd\", \"bdb\", \"ccc\"], in_a, out_a)\n",
    "# ccc_abc_bob_eve_mm = run_learning_process(copy.deepcopy(ccc_abc_bob_eve_mm), oracle=abc_bob_eve_mm)\n",
    "# ccc_abc_bob_eve_mm.print_states()"
   ]
  }
 ],
 "metadata": {
  "kernelspec": {
   "display_name": "Python 3",
   "language": "python",
   "name": "python3"
  },
  "language_info": {
   "codemirror_mode": {
    "name": "ipython",
    "version": 3
   },
   "file_extension": ".py",
   "mimetype": "text/x-python",
   "name": "python",
   "nbconvert_exporter": "python",
   "pygments_lexer": "ipython3",
   "version": "3.10.12"
  }
 },
 "nbformat": 4,
 "nbformat_minor": 2
}
