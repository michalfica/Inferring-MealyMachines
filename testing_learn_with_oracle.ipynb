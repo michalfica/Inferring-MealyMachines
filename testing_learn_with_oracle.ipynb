{
 "cells": [
  {
   "cell_type": "markdown",
   "metadata": {},
   "source": [
    "## Uczenie się z wyrocznią jako DFA - wybrane przykłady "
   ]
  },
  {
   "cell_type": "code",
   "execution_count": 2,
   "metadata": {},
   "outputs": [],
   "source": [
    "from importlib import reload"
   ]
  },
  {
   "cell_type": "code",
   "execution_count": 7,
   "metadata": {},
   "outputs": [],
   "source": [
    "import InferringMM, OracleDFA\n",
    "reload(InferringMM)\n",
    "reload(OracleDFA)\n",
    "from InferringMM import *\n",
    "from OracleDFA import OracleDFA"
   ]
  },
  {
   "cell_type": "code",
   "execution_count": 15,
   "metadata": {},
   "outputs": [],
   "source": [
    "def run_learning_process(_mm, oracle=None):\n",
    "    learn_mm = InferringMM(_mm, oracle)\n",
    "    mm, cnt, cnt_ex = learn_mm.run(counterexamples=True)\n",
    "\n",
    "    print(cnt[0], cnt[1])\n",
    "    mm.print_transitions()"
   ]
  },
  {
   "cell_type": "markdown",
   "metadata": {},
   "source": [
    "## Wykrywane wzorców "
   ]
  },
  {
   "cell_type": "markdown",
   "metadata": {},
   "source": [
    "### Przykład 1\n",
    "wzorzec - a, więzy (wskazówki?) - słowa z literką a "
   ]
  },
  {
   "cell_type": "code",
   "execution_count": 8,
   "metadata": {},
   "outputs": [],
   "source": [
    "dfa_a = OracleDFA(Q=5, \n",
    "                  alphabet=['a', 'b', 'c', '0', '1'],\n",
    "                  δ={(0,'a'):2, (0,'b'):1, (0, 'c'):1, (2,'1'):3, (3,'a'):2, (3, 'b'):4, (3,'c'):4, (4,'0'):3, (1,'0'):0 }, \n",
    "                  F=set([3]))\n",
    "mm_a = MealyMachine(Q=1, input_signs=[\"a\", \"b\", \"c\"], output_signs=[\"0\", \"1\"],\n",
    "                  λ={(0,\"a\"):\"1\", (0,\"b\"):\"0\", (0, \"c\"):\"0\"}, \n",
    "                  δ={(0,\"a\"):0, (0,\"b\"):0, (0, \"c\"):0})"
   ]
  },
  {
   "cell_type": "code",
   "execution_count": 17,
   "metadata": {},
   "outputs": [
    {
     "name": "stdout",
     "output_type": "stream",
     "text": [
      "12 1\n",
      "(0,a) --> '1',0\n",
      "(0,b) --> '0',0\n",
      "(0,c) --> '0',0\n"
     ]
    }
   ],
   "source": [
    "run_learning_process(mm_a)"
   ]
  },
  {
   "cell_type": "markdown",
   "metadata": {},
   "source": [
    "## Przykład 2 \n",
    "wzorzec - a lub b, więzy - słowa z literka a "
   ]
  },
  {
   "cell_type": "code",
   "execution_count": 22,
   "metadata": {},
   "outputs": [],
   "source": [
    "dfa_ = OracleDFA(Q=6, \n",
    "                 alphabet=[\"a\", 'b', 'c', '0', '1'], \n",
    "                 δ={(0,'a'):1, (0,'b'):4, (0, 'c'):6, (1, '1'):2, (2, 'a'):1, (2, 'b'):4, (2, 'c'):3, (3, '0'):2, (4, '0'):5, (5, 'a'):4, (5, 'b'):4, (5, 'c'):4, (6, '0'): 0}, \n",
    "                 F=set([2]))\n",
    "mm_ = MealyMachine(Q=1, input_signs=[\"a\", \"b\", \"c\"], output_signs=[\"0\", \"1\"],\n",
    "                  λ={(0,\"a\"):\"1\", (0,\"b\"):\"1\", (0, \"c\"):\"0\"}, \n",
    "                  δ={(0,\"a\"):0, (0,\"b\"):0, (0, \"c\"):0})"
   ]
  },
  {
   "cell_type": "code",
   "execution_count": 24,
   "metadata": {},
   "outputs": [
    {
     "name": "stdout",
     "output_type": "stream",
     "text": [
      "ucze sie z wyrocznia :) !!! hahaha, pytam sie o c\n",
      "ucze sie z wyrocznia :) !!! hahaha, pytam sie o a\n",
      "wyocznia mi powiedziała za darmo :)) ans =  1 \n",
      "ucze sie z wyrocznia :) !!! hahaha, pytam sie o b\n",
      "ucze sie z wyrocznia :) !!! hahaha, pytam sie o ac\n",
      "wyocznia mi powiedziała za darmo :)) ans =  10 \n",
      "ucze sie z wyrocznia :) !!! hahaha, pytam sie o aa\n",
      "wyocznia mi powiedziała za darmo :)) ans =  11 \n",
      "ucze sie z wyrocznia :) !!! hahaha, pytam sie o ab\n",
      "ucze sie z wyrocznia :) !!! hahaha, pytam sie o bc\n",
      "ucze sie z wyrocznia :) !!! hahaha, pytam sie o ba\n",
      "ucze sie z wyrocznia :) !!! hahaha, pytam sie o bb\n",
      "ucze sie z wyrocznia :) !!! hahaha, pytam sie o cc\n",
      "ucze sie z wyrocznia :) !!! hahaha, pytam sie o ca\n",
      "wyocznia mi powiedziała za darmo :)) ans =  01 \n",
      "ucze sie z wyrocznia :) !!! hahaha, pytam sie o cb\n",
      "8 1\n",
      "(0,a) --> '1',0\n",
      "(0,b) --> '1',0\n",
      "(0,c) --> '0',0\n"
     ]
    }
   ],
   "source": [
    "run_learning_process(mm_, dfa_)"
   ]
  },
  {
   "cell_type": "code",
   "execution_count": 28,
   "metadata": {},
   "outputs": [],
   "source": [
    "dfa_ = OracleDFA(Q=4, \n",
    "                 alphabet=[\"a\", 'b', 'c', '0', '1'], \n",
    "                 δ={(0,'a'):1, (0,'b'):1, (0, 'c'):4, (1, '1'):2, (2, 'a'):1, (2, 'b'):1, (2, 'c'):3, (3, '0'):2, (4, '0'): 0}, \n",
    "                 F=set([2]))\n",
    "mm_ = MealyMachine(Q=1, input_signs=[\"a\", \"b\", \"c\"], output_signs=[\"0\", \"1\"],\n",
    "                  λ={(0,\"a\"):\"1\", (0,\"b\"):\"1\", (0, \"c\"):\"0\"}, \n",
    "                  δ={(0,\"a\"):0, (0,\"b\"):0, (0, \"c\"):0})"
   ]
  },
  {
   "cell_type": "code",
   "execution_count": 31,
   "metadata": {},
   "outputs": [
    {
     "name": "stdout",
     "output_type": "stream",
     "text": [
      "12 1\n",
      "(0,a) --> '1',0\n",
      "(0,b) --> '1',0\n",
      "(0,c) --> '0',0\n"
     ]
    }
   ],
   "source": [
    "run_learning_process(mm_)"
   ]
  }
 ],
 "metadata": {
  "kernelspec": {
   "display_name": "Python 3",
   "language": "python",
   "name": "python3"
  },
  "language_info": {
   "codemirror_mode": {
    "name": "ipython",
    "version": 3
   },
   "file_extension": ".py",
   "mimetype": "text/x-python",
   "name": "python",
   "nbconvert_exporter": "python",
   "pygments_lexer": "ipython3",
   "version": "3.10.12"
  }
 },
 "nbformat": 4,
 "nbformat_minor": 2
}
