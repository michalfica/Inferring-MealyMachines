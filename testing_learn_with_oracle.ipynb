{
 "cells": [
  {
   "cell_type": "markdown",
   "metadata": {},
   "source": [
    "## Uczenie się z wyrocznią jako DFA - wybrane przykłady "
   ]
  },
  {
   "cell_type": "code",
   "execution_count": 1,
   "metadata": {},
   "outputs": [],
   "source": [
    "from importlib import reload"
   ]
  },
  {
   "cell_type": "code",
   "execution_count": 19,
   "metadata": {},
   "outputs": [],
   "source": [
    "import utils.InferringMM, utils.OracleDFA, utils.Mealymachine\n",
    "reload(utils.InferringMM)\n",
    "reload(utils.OracleDFA)\n",
    "reload(utils.Mealymachine)\n",
    "from utils.InferringMM import *\n",
    "from utils.OracleDFA import OracleDFA\n"
   ]
  },
  {
   "cell_type": "code",
   "execution_count": 21,
   "metadata": {},
   "outputs": [],
   "source": [
    "def run_learning_process(_mm, oracle=None, debug=False):\n",
    "    learn_mm = InferringMM(_mm, oracle, debug=debug)\n",
    "    print(\"zaczynam uczenie (learning proces run)\")\n",
    "    mm, cnt, cnt_ex = learn_mm.run(counterexamples=True)\n",
    "\n",
    "    print(cnt[0], cnt[1])\n",
    "    mm.print_transitions()\n",
    "\n",
    "def find_minm_mm(_mm, debug=False):\n",
    "    learn_mm = InferringMM(_mm, debug=debug)\n",
    "    print(\"zaczynam uczenie sie \")\n",
    "    mm, cnt, cnt_ex = learn_mm.run(counterexamples=True)\n",
    "    print(f\"kontrprzykłady: {cnt_ex}\")\n",
    "    print(cnt)\n",
    "    return mm "
   ]
  },
  {
   "cell_type": "markdown",
   "metadata": {},
   "source": [
    "## Wykrywane wzorców "
   ]
  },
  {
   "cell_type": "markdown",
   "metadata": {},
   "source": [
    "### Przykład 1\n",
    "wzorzec - a, więzy (wskazówki?) - słowa z literką a "
   ]
  },
  {
   "cell_type": "code",
   "execution_count": 4,
   "metadata": {},
   "outputs": [
    {
     "name": "stdout",
     "output_type": "stream",
     "text": [
      "12 1\n",
      "(0,a) --> '1',0\n",
      "(0,b) --> '0',0\n",
      "(0,c) --> '0',0\n"
     ]
    }
   ],
   "source": [
    "dfa_a = OracleDFA(Q=5, \n",
    "                  alphabet=['a', 'b', 'c', '0', '1'],\n",
    "                  δ={(0,'a'):2, (0,'b'):1, (0, 'c'):1, (2,'1'):3, (3,'a'):2, (3, 'b'):4, (3,'c'):4, (4,'0'):3, (1,'0'):0 }, \n",
    "                  F=set([3]))\n",
    "mm_a = MealyMachine(Q=1, input_signs=[\"a\", \"b\", \"c\"], output_signs=[\"0\", \"1\"],\n",
    "                  λ={(0,\"a\"):\"1\", (0,\"b\"):\"0\", (0, \"c\"):\"0\"}, \n",
    "                  δ={(0,\"a\"):0, (0,\"b\"):0, (0, \"c\"):0})\n",
    "run_learning_process(mm_a)"
   ]
  },
  {
   "cell_type": "markdown",
   "metadata": {},
   "source": [
    "## Przykład 2 \n",
    "wzorzec - a lub b, więzy - słowa z literka a "
   ]
  },
  {
   "cell_type": "code",
   "execution_count": 7,
   "metadata": {},
   "outputs": [
    {
     "name": "stdout",
     "output_type": "stream",
     "text": [
      "8 1\n",
      "(0,a) --> '1',0\n",
      "(0,b) --> '1',0\n",
      "(0,c) --> '0',0\n"
     ]
    }
   ],
   "source": [
    "dfa_ = OracleDFA(Q=6, \n",
    "                 alphabet=[\"a\", 'b', 'c', '0', '1'], \n",
    "                 δ={(0,'a'):1, (0,'b'):4, (0, 'c'):6, (1, '1'):2, (2, 'a'):1, (2, 'b'):4, (2, 'c'):3, (3, '0'):2, (4, '0'):5, (5, 'a'):4, (5, 'b'):4, (5, 'c'):4, (6, '0'): 0}, \n",
    "                 F=set([2]))\n",
    "mm_ = MealyMachine(Q=1, input_signs=[\"a\", \"b\", \"c\"], output_signs=[\"0\", \"1\"],\n",
    "                  λ={(0,\"a\"):\"1\", (0,\"b\"):\"1\", (0, \"c\"):\"0\"}, \n",
    "                  δ={(0,\"a\"):0, (0,\"b\"):0, (0, \"c\"):0})\n",
    "run_learning_process(mm_)"
   ]
  },
  {
   "cell_type": "markdown",
   "metadata": {},
   "source": [
    "## Przykład 3 \n",
    "wzorzec - a lub b, więzy - słowa z literka a lub b "
   ]
  },
  {
   "cell_type": "code",
   "execution_count": 18,
   "metadata": {},
   "outputs": [
    {
     "name": "stdout",
     "output_type": "stream",
     "text": [
      "pytam o : b\n",
      "pytam o : c\n",
      "pytam o : a\n",
      "pytam o : ab\n",
      "pytam o : ac\n",
      "pytam o : aa\n",
      "pytam o : bb\n",
      "pytam o : bc\n",
      "pytam o : ba\n",
      "pytam o : cb\n",
      "pytam o : cc\n",
      "pytam o : ca\n",
      "2 1\n",
      "(0,a) --> '1',0\n",
      "(0,b) --> '1',0\n",
      "(0,c) --> '0',0\n"
     ]
    }
   ],
   "source": [
    "dfa_ = OracleDFA(Q=4, \n",
    "                 alphabet=[\"a\", 'b', 'c', '0', '1'], \n",
    "                 δ={(0,'a'):1, (0,'b'):1, (0, 'c'):4, (1, '1'):2, (2, 'a'):1, (2, 'b'):1, (2, 'c'):3, (3, '0'):2, (4, '0'): 0}, \n",
    "                 F=set([2]))\n",
    "mm_ = MealyMachine(Q=1, input_signs=[\"a\", \"b\", \"c\"], output_signs=[\"0\", \"1\"],\n",
    "                  λ={(0,\"a\"):\"1\", (0,\"b\"):\"1\", (0, \"c\"):\"0\"}, \n",
    "                  δ={(0,\"a\"):0, (0,\"b\"):0, (0, \"c\"):0})\n",
    "run_learning_process(mm_,dfa_)"
   ]
  },
  {
   "cell_type": "markdown",
   "metadata": {},
   "source": [
    "## Przykład 4 \n",
    "wzorzec - aa, bb lub cc (podwojona litera) , więzy - słowa z aa "
   ]
  },
  {
   "cell_type": "code",
   "execution_count": 10,
   "metadata": {},
   "outputs": [
    {
     "name": "stdout",
     "output_type": "stream",
     "text": [
      "33 1\n",
      "(0,a) --> '0',3\n",
      "(0,b) --> '0',1\n",
      "(0,c) --> '0',2\n",
      "(1,a) --> '0',3\n",
      "(1,b) --> '1',1\n",
      "(1,c) --> '0',2\n",
      "(2,a) --> '0',3\n",
      "(2,b) --> '0',1\n",
      "(2,c) --> '1',2\n",
      "(3,a) --> '1',3\n",
      "(3,b) --> '0',1\n",
      "(3,c) --> '0',2\n"
     ]
    }
   ],
   "source": [
    "dfa_= OracleDFA(Q=6,\n",
    "                alphabet=['a', 'b', 'c', '0', '1'], \n",
    "                δ={(0, 'a'): 1, (0,'b'):9, (0,'c'):9, (1,'0'):2, (2, 'a',):3, (2,'b'):9, (2,'c'):9, (3,'1'):4, (4,'a'):3, (4,'b'):5, (4,'c'):5, (5,'0'):6, \n",
    "                   (6,'a'):7, (6,'b'):5, (6,'c'):5, (7,'0'):8, (8,'a'):3, (8,'b'):5, (8,'c'):5, (9,'0'):0}, \n",
    "                F=set([4, 6, 8]))\n",
    "mm_= MealyMachine(Q=4, input_signs=['a', 'b', 'c'], output_signs=['0', '1'], \n",
    "                  λ={(0,'a'):'0', (0,'b'):'0', (0,'c'):'0', (1,'a'):'1', (1,'b'):'0', (1,'c'):'0', (2,'a'):'0', (2,'b'):'1', (2,'c'):'0', (3,'a'):'0', (3,'b'):'0', (3,'c'):'1'}, \n",
    "                  δ={(0,'a'):1, (0,'b'):2, (0,'c'):3, (1,'a'):1, (1,'b'):2, (1,'c'):3, (2,'a'):1, (2,'b'):2, (2,'c'):3, (3,'a'):1, (3,'b'):2, (3,'c'):3})\n",
    "run_learning_process(mm_, dfa_)"
   ]
  },
  {
   "cell_type": "markdown",
   "metadata": {},
   "source": [
    "## Przykład 5 \n",
    "wzorzec - AT, CG, alfabet - A, T, C G \n",
    "\n"
   ]
  },
  {
   "cell_type": "code",
   "execution_count": 18,
   "metadata": {},
   "outputs": [],
   "source": [
    "import PaterndetectionMM \n",
    "import utils.Mealymachine\n",
    "reload(PaterndetectionMM)\n",
    "reload(utils.Mealymachine)\n",
    "\n",
    "from PaterndetectionMM import PaternMM"
   ]
  },
  {
   "cell_type": "code",
   "execution_count": null,
   "metadata": {},
   "outputs": [],
   "source": [
    "mm = PaternMM([\"AT\", \"CG\"], ['A', 'T', 'C', 'G'], ['0', '1'])\n",
    "mm = find_minm_mm(mm)\n",
    "run_learning_process(mm, debug=True)"
   ]
  },
  {
   "cell_type": "code",
   "execution_count": 22,
   "metadata": {},
   "outputs": [
    {
     "name": "stdout",
     "output_type": "stream",
     "text": [
      "zaczynam uczenie sie \n",
      "zaczyna przeszukiwanie BFS zeby znalezc kontrprzyklad !\n",
      "q1=0, q2=0, w =0\n",
      "q1=4, q2=0, w =0a\n",
      "q1=1, q2=0, w =0b\n",
      "q1=0, q2=0, w =0c\n",
      "q1=0, q2=0, w =0d\n",
      "q1=0, q2=0, w =0e\n",
      "q1=0, q2=0, w =0f\n",
      "q1=0, q2=0, w =0g\n",
      "q1=0, q2=0, w =0h\n",
      "q1=0, q2=0, w =0i\n",
      "q1=0, q2=0, w =0j\n",
      "q1=0, q2=0, w =0k\n",
      "q1=0, q2=0, w =0l\n",
      "q1=0, q2=0, w =0m\n",
      "q1=0, q2=0, w =0n\n",
      "q1=0, q2=0, w =0o\n",
      "q1=0, q2=0, w =0p\n",
      "q1=0, q2=0, w =0q\n",
      "q1=0, q2=0, w =0r\n",
      "q1=0, q2=0, w =0s\n",
      "q1=0, q2=0, w =0t\n",
      "q1=0, q2=0, w =0u\n",
      "q1=0, q2=0, w =0v\n",
      "q1=0, q2=0, w =0w\n",
      "q1=0, q2=0, w =0x\n",
      "q1=0, q2=0, w =0y\n",
      "q1=0, q2=0, w =0z\n",
      "q1=8, q2=0, w =0al\n",
      "q1=2, q2=0, w =0bo\n",
      "zaczyna przeszukiwanie BFS zeby znalezc kontrprzyklad !\n",
      "zaczyna przeszukiwanie BFS zeby znalezc kontrprzyklad !\n",
      "kontrprzykłady: [3, 5]\n",
      "[5972, 3]\n",
      "\n",
      "\n",
      "\n",
      "\n",
      "\n",
      "liczba stanow = 7\n",
      "zaczynam uczenie (learning proces run)\n",
      "inicjalizacja done\n",
      "stworzyłem hipoteze = Mealy Machine amount of states = 1, I = ['a', 'b', 'c', 'd', 'e', 'f', 'g', 'h', 'i', 'j', 'k', 'l', 'm', 'n', 'o', 'p', 'q', 'r', 's', 't', 'u', 'v', 'w', 'x', 'y', 'z'], O = ['0', '1']\n",
      "sprawdzam hipoteze Mealy Machine amount of states = 1, I = ['a', 'b', 'c', 'd', 'e', 'f', 'g', 'h', 'i', 'j', 'k', 'l', 'm', 'n', 'o', 'p', 'q', 'r', 's', 't', 'u', 'v', 'w', 'x', 'y', 'z'], O = ['0', '1'] czy jest równoważna? Mealy Machine amount of states = 7, I = ['a', 'b', 'c', 'd', 'e', 'f', 'g', 'h', 'i', 'j', 'k', 'l', 'm', 'n', 'o', 'p', 'q', 'r', 's', 't', 'u', 'v', 'w', 'x', 'y', 'z'], O = ['0', '1']\n",
      "zaczyna przeszukiwanie BFS zeby znalezc kontrprzyklad !\n",
      "q1=0, q2=0, w =0\n",
      "q1=0, q2=0, w =0a\n",
      "q1=0, q2=0, w =0b\n",
      "q1=0, q2=0, w =0c\n",
      "q1=0, q2=0, w =0d\n",
      "q1=0, q2=0, w =0e\n",
      "q1=0, q2=0, w =0f\n",
      "q1=0, q2=0, w =0g\n",
      "q1=0, q2=0, w =0h\n",
      "q1=0, q2=0, w =0i\n",
      "q1=0, q2=0, w =0j\n",
      "q1=0, q2=0, w =0k\n",
      "q1=0, q2=0, w =0l\n",
      "q1=0, q2=0, w =0m\n",
      "q1=0, q2=0, w =0n\n",
      "q1=0, q2=0, w =0o\n",
      "q1=0, q2=0, w =0p\n",
      "q1=0, q2=0, w =0q\n",
      "q1=0, q2=0, w =0r\n",
      "q1=0, q2=0, w =0s\n",
      "q1=0, q2=0, w =0t\n",
      "q1=0, q2=0, w =0u\n",
      "q1=0, q2=0, w =0v\n",
      "q1=0, q2=0, w =0w\n",
      "q1=0, q2=0, w =0x\n",
      "q1=0, q2=0, w =0y\n",
      "q1=0, q2=0, w =0z\n",
      "hipoteza jest : True, kontrprzykład = \n",
      "702 1\n",
      "(0,a) --> '0',0\n",
      "(0,b) --> '0',0\n",
      "(0,c) --> '0',0\n",
      "(0,d) --> '0',0\n",
      "(0,e) --> '0',0\n",
      "(0,f) --> '0',0\n",
      "(0,g) --> '0',0\n",
      "(0,h) --> '0',0\n",
      "(0,i) --> '0',0\n",
      "(0,j) --> '0',0\n",
      "(0,k) --> '0',0\n",
      "(0,l) --> '0',0\n",
      "(0,m) --> '0',0\n",
      "(0,n) --> '0',0\n",
      "(0,o) --> '0',0\n",
      "(0,p) --> '0',0\n",
      "(0,q) --> '0',0\n",
      "(0,r) --> '0',0\n",
      "(0,s) --> '0',0\n",
      "(0,t) --> '0',0\n",
      "(0,u) --> '0',0\n",
      "(0,v) --> '0',0\n",
      "(0,w) --> '0',0\n",
      "(0,x) --> '0',0\n",
      "(0,y) --> '0',0\n",
      "(0,z) --> '0',0\n"
     ]
    }
   ],
   "source": [
    "import string \n",
    "mm = PaternMM([\"alice\", \"bob\"], list(string.ascii_lowercase), ['0', '1'])\n",
    "# mm.print_transitions()\n",
    "# print(mm.route(\"aliceismyyoungersisitersaidbob\"))\n",
    "# print(mm.route(\"blablablaalicealivealicebobobobobbb\"))\n",
    "mm_minim = find_minm_mm(mm,debug=False)\n",
    "# mm_minim.print_transitions()\n",
    "\n",
    "print(\"\\n\\n\\n\\n\")\n",
    "# print(mm_minim.route(\"aliceismyyoungersisitersaidbob\"))\n",
    "# print(mm_minim.route(\"blablablaalicealivealicebobobobobbb\"))\n",
    "\n",
    "print(f\"liczba stanow = {mm_minim.Q}\")\n",
    "run_learning_process(mm_minim, debug=True)"
   ]
  }
 ],
 "metadata": {
  "kernelspec": {
   "display_name": "Python 3",
   "language": "python",
   "name": "python3"
  },
  "language_info": {
   "codemirror_mode": {
    "name": "ipython",
    "version": 3
   },
   "file_extension": ".py",
   "mimetype": "text/x-python",
   "name": "python",
   "nbconvert_exporter": "python",
   "pygments_lexer": "ipython3",
   "version": "3.10.12"
  }
 },
 "nbformat": 4,
 "nbformat_minor": 2
}
