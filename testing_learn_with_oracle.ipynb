{
 "cells": [
  {
   "cell_type": "markdown",
   "metadata": {},
   "source": [
    "## Uczenie się z wyrocznią jako DFA - wybrane przykłady "
   ]
  },
  {
   "cell_type": "code",
   "execution_count": 1,
   "metadata": {},
   "outputs": [],
   "source": [
    "from importlib import reload"
   ]
  },
  {
   "cell_type": "code",
   "execution_count": 2,
   "metadata": {},
   "outputs": [],
   "source": [
    "import utils.InferringMM, utils.OracleDFA\n",
    "reload(utils.InferringMM)\n",
    "reload(utils.OracleDFA)\n",
    "from utils.InferringMM import *\n",
    "from utils.OracleDFA import OracleDFA"
   ]
  },
  {
   "cell_type": "code",
   "execution_count": 13,
   "metadata": {},
   "outputs": [],
   "source": [
    "def run_learning_process(_mm, oracle=None):\n",
    "    learn_mm = InferringMM(_mm, oracle)\n",
    "    mm, cnt, cnt_ex = learn_mm.run(counterexamples=True)\n",
    "\n",
    "    print(cnt[0], cnt[1])\n",
    "    mm.print_transitions()"
   ]
  },
  {
   "cell_type": "markdown",
   "metadata": {},
   "source": [
    "## Wykrywane wzorców "
   ]
  },
  {
   "cell_type": "markdown",
   "metadata": {},
   "source": [
    "### Przykład 1\n",
    "wzorzec - a, więzy (wskazówki?) - słowa z literką a "
   ]
  },
  {
   "cell_type": "code",
   "execution_count": 4,
   "metadata": {},
   "outputs": [
    {
     "name": "stdout",
     "output_type": "stream",
     "text": [
      "12 1\n",
      "(0,a) --> '1',0\n",
      "(0,b) --> '0',0\n",
      "(0,c) --> '0',0\n"
     ]
    }
   ],
   "source": [
    "dfa_a = OracleDFA(Q=5, \n",
    "                  alphabet=['a', 'b', 'c', '0', '1'],\n",
    "                  δ={(0,'a'):2, (0,'b'):1, (0, 'c'):1, (2,'1'):3, (3,'a'):2, (3, 'b'):4, (3,'c'):4, (4,'0'):3, (1,'0'):0 }, \n",
    "                  F=set([3]))\n",
    "mm_a = MealyMachine(Q=1, input_signs=[\"a\", \"b\", \"c\"], output_signs=[\"0\", \"1\"],\n",
    "                  λ={(0,\"a\"):\"1\", (0,\"b\"):\"0\", (0, \"c\"):\"0\"}, \n",
    "                  δ={(0,\"a\"):0, (0,\"b\"):0, (0, \"c\"):0})\n",
    "run_learning_process(mm_a)"
   ]
  },
  {
   "cell_type": "markdown",
   "metadata": {},
   "source": [
    "## Przykład 2 \n",
    "wzorzec - a lub b, więzy - słowa z literka a "
   ]
  },
  {
   "cell_type": "code",
   "execution_count": 7,
   "metadata": {},
   "outputs": [
    {
     "name": "stdout",
     "output_type": "stream",
     "text": [
      "8 1\n",
      "(0,a) --> '1',0\n",
      "(0,b) --> '1',0\n",
      "(0,c) --> '0',0\n"
     ]
    }
   ],
   "source": [
    "dfa_ = OracleDFA(Q=6, \n",
    "                 alphabet=[\"a\", 'b', 'c', '0', '1'], \n",
    "                 δ={(0,'a'):1, (0,'b'):4, (0, 'c'):6, (1, '1'):2, (2, 'a'):1, (2, 'b'):4, (2, 'c'):3, (3, '0'):2, (4, '0'):5, (5, 'a'):4, (5, 'b'):4, (5, 'c'):4, (6, '0'): 0}, \n",
    "                 F=set([2]))\n",
    "mm_ = MealyMachine(Q=1, input_signs=[\"a\", \"b\", \"c\"], output_signs=[\"0\", \"1\"],\n",
    "                  λ={(0,\"a\"):\"1\", (0,\"b\"):\"1\", (0, \"c\"):\"0\"}, \n",
    "                  δ={(0,\"a\"):0, (0,\"b\"):0, (0, \"c\"):0})\n",
    "run_learning_process(mm_)"
   ]
  },
  {
   "cell_type": "markdown",
   "metadata": {},
   "source": [
    "## Przykład 3 \n",
    "wzorzec - a lub b, więzy - słowa z literka a lub b "
   ]
  },
  {
   "cell_type": "code",
   "execution_count": 18,
   "metadata": {},
   "outputs": [
    {
     "name": "stdout",
     "output_type": "stream",
     "text": [
      "pytam o : b\n",
      "pytam o : c\n",
      "pytam o : a\n",
      "pytam o : ab\n",
      "pytam o : ac\n",
      "pytam o : aa\n",
      "pytam o : bb\n",
      "pytam o : bc\n",
      "pytam o : ba\n",
      "pytam o : cb\n",
      "pytam o : cc\n",
      "pytam o : ca\n",
      "2 1\n",
      "(0,a) --> '1',0\n",
      "(0,b) --> '1',0\n",
      "(0,c) --> '0',0\n"
     ]
    }
   ],
   "source": [
    "dfa_ = OracleDFA(Q=4, \n",
    "                 alphabet=[\"a\", 'b', 'c', '0', '1'], \n",
    "                 δ={(0,'a'):1, (0,'b'):1, (0, 'c'):4, (1, '1'):2, (2, 'a'):1, (2, 'b'):1, (2, 'c'):3, (3, '0'):2, (4, '0'): 0}, \n",
    "                 F=set([2]))\n",
    "mm_ = MealyMachine(Q=1, input_signs=[\"a\", \"b\", \"c\"], output_signs=[\"0\", \"1\"],\n",
    "                  λ={(0,\"a\"):\"1\", (0,\"b\"):\"1\", (0, \"c\"):\"0\"}, \n",
    "                  δ={(0,\"a\"):0, (0,\"b\"):0, (0, \"c\"):0})\n",
    "run_learning_process(mm_,dfa_)"
   ]
  },
  {
   "cell_type": "markdown",
   "metadata": {},
   "source": [
    "## Przykład 4 \n",
    "wzorzec - aa, bb lub cc (podwojona litera) , więzy - słowa z aa "
   ]
  },
  {
   "cell_type": "code",
   "execution_count": 10,
   "metadata": {},
   "outputs": [
    {
     "name": "stdout",
     "output_type": "stream",
     "text": [
      "33 1\n",
      "(0,a) --> '0',3\n",
      "(0,b) --> '0',1\n",
      "(0,c) --> '0',2\n",
      "(1,a) --> '0',3\n",
      "(1,b) --> '1',1\n",
      "(1,c) --> '0',2\n",
      "(2,a) --> '0',3\n",
      "(2,b) --> '0',1\n",
      "(2,c) --> '1',2\n",
      "(3,a) --> '1',3\n",
      "(3,b) --> '0',1\n",
      "(3,c) --> '0',2\n"
     ]
    }
   ],
   "source": [
    "dfa_= OracleDFA(Q=6,\n",
    "                alphabet=['a', 'b', 'c', '0', '1'], \n",
    "                δ={(0, 'a'): 1, (0,'b'):9, (0,'c'):9, (1,'0'):2, (2, 'a',):3, (2,'b'):9, (2,'c'):9, (3,'1'):4, (4,'a'):3, (4,'b'):5, (4,'c'):5, (5,'0'):6, \n",
    "                   (6,'a'):7, (6,'b'):5, (6,'c'):5, (7,'0'):8, (8,'a'):3, (8,'b'):5, (8,'c'):5, (9,'0'):0}, \n",
    "                F=set([4, 6, 8]))\n",
    "mm_= MealyMachine(Q=4, input_signs=['a', 'b', 'c'], output_signs=['0', '1'], \n",
    "                  λ={(0,'a'):'0', (0,'b'):'0', (0,'c'):'0', (1,'a'):'1', (1,'b'):'0', (1,'c'):'0', (2,'a'):'0', (2,'b'):'1', (2,'c'):'0', (3,'a'):'0', (3,'b'):'0', (3,'c'):'1'}, \n",
    "                  δ={(0,'a'):1, (0,'b'):2, (0,'c'):3, (1,'a'):1, (1,'b'):2, (1,'c'):3, (2,'a'):1, (2,'b'):2, (2,'c'):3, (3,'a'):1, (3,'b'):2, (3,'c'):3})\n",
    "run_learning_process(mm_, dfa_)"
   ]
  },
  {
   "cell_type": "code",
   "execution_count": 52,
   "metadata": {},
   "outputs": [
    {
     "name": "stdout",
     "output_type": "stream",
     "text": [
      "(0,a) --> '0',9\n",
      "(0,b) --> '0',3\n",
      "(0,c) --> '0',1\n",
      "(1,a) --> '0',9\n",
      "(1,b) --> '0',3\n",
      "(1,c) --> '1',2\n",
      "(2,a) --> '0',9\n",
      "(2,b) --> '0',3\n",
      "(2,c) --> '1',2\n",
      "(3,a) --> '0',9\n",
      "(3,b) --> '1',6\n",
      "(3,c) --> '0',1\n",
      "(4,a) --> '0',9\n",
      "(4,b) --> '1',6\n",
      "(4,c) --> '1',2\n",
      "(5,a) --> '0',9\n",
      "(5,b) --> '1',6\n",
      "(5,c) --> '1',2\n",
      "(6,a) --> '0',9\n",
      "(6,b) --> '1',6\n",
      "(6,c) --> '0',1\n",
      "(7,a) --> '0',9\n",
      "(7,b) --> '1',6\n",
      "(7,c) --> '1',2\n",
      "(8,a) --> '0',9\n",
      "(8,b) --> '1',6\n",
      "(8,c) --> '1',2\n",
      "(9,a) --> '1',18\n",
      "(9,b) --> '0',3\n",
      "(9,c) --> '0',1\n",
      "(10,a) --> '1',18\n",
      "(10,b) --> '0',3\n",
      "(10,c) --> '1',2\n",
      "(11,a) --> '1',18\n",
      "(11,b) --> '0',3\n",
      "(11,c) --> '1',2\n",
      "(12,a) --> '1',18\n",
      "(12,b) --> '1',6\n",
      "(12,c) --> '0',1\n",
      "(13,a) --> '1',18\n",
      "(13,b) --> '1',6\n",
      "(13,c) --> '1',2\n",
      "(14,a) --> '1',18\n",
      "(14,b) --> '1',6\n",
      "(14,c) --> '1',2\n",
      "(15,a) --> '1',18\n",
      "(15,b) --> '1',6\n",
      "(15,c) --> '0',1\n",
      "(16,a) --> '1',18\n",
      "(16,b) --> '1',6\n",
      "(16,c) --> '1',2\n",
      "(17,a) --> '1',18\n",
      "(17,b) --> '1',6\n",
      "(17,c) --> '1',2\n",
      "(18,a) --> '1',18\n",
      "(18,b) --> '0',3\n",
      "(18,c) --> '0',1\n",
      "(19,a) --> '1',18\n",
      "(19,b) --> '0',3\n",
      "(19,c) --> '1',2\n",
      "(20,a) --> '1',18\n",
      "(20,b) --> '0',3\n",
      "(20,c) --> '1',2\n",
      "(21,a) --> '1',18\n",
      "(21,b) --> '1',6\n",
      "(21,c) --> '0',1\n",
      "(22,a) --> '1',18\n",
      "(22,b) --> '1',6\n",
      "(22,c) --> '1',2\n",
      "(23,a) --> '1',18\n",
      "(23,b) --> '1',6\n",
      "(23,c) --> '1',2\n",
      "(24,a) --> '1',18\n",
      "(24,b) --> '1',6\n",
      "(24,c) --> '0',1\n",
      "(25,a) --> '1',18\n",
      "(25,b) --> '1',6\n",
      "(25,c) --> '1',2\n",
      "(26,a) --> '1',18\n",
      "(26,b) --> '1',6\n",
      "(26,c) --> '1',2\n"
     ]
    }
   ],
   "source": [
    "import PaterndetectionMM \n",
    "import utils.Mealymachine\n",
    "reload(PaterndetectionMM)\n",
    "reload(utils.Mealymachine)\n",
    "\n",
    "from PaterndetectionMM import PaternMM\n",
    "# testowane: a, aa, ab, aba, abaabab, \"aa\" + \"bb\"\n",
    "mm = PaternMM([\"aa\", \"bb\", \"cc\"], ['a', 'b', 'c'], ['0' '1'])\n",
    "mm.print_transitions()"
   ]
  }
 ],
 "metadata": {
  "kernelspec": {
   "display_name": "Python 3",
   "language": "python",
   "name": "python3"
  },
  "language_info": {
   "codemirror_mode": {
    "name": "ipython",
    "version": 3
   },
   "file_extension": ".py",
   "mimetype": "text/x-python",
   "name": "python",
   "nbconvert_exporter": "python",
   "pygments_lexer": "ipython3",
   "version": "3.10.12"
  }
 },
 "nbformat": 4,
 "nbformat_minor": 2
}
