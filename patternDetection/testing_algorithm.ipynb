{
 "cells": [
  {
   "cell_type": "markdown",
   "metadata": {},
   "source": [
    "## Uczenie się z częśćiową maszyną mealy'ego jako wyrocznią - wybrane przykłady "
   ]
  },
  {
   "cell_type": "code",
   "execution_count": 10,
   "metadata": {},
   "outputs": [],
   "source": [
    "from importlib import reload\n",
    "import sys\n",
    "sys.path.append(\"../\")\n"
   ]
  },
  {
   "cell_type": "code",
   "execution_count": 11,
   "metadata": {},
   "outputs": [],
   "source": [
    "import inferring.InferringMM, utils.DFA, utils.MealyMachine\n",
    "reload(inferring.InferringMM)\n",
    "reload(utils.DFA)\n",
    "reload(utils.MealyMachine)\n",
    "from inferring.InferringMM import InferringMM\n",
    "from utils.DFA import DFA\n",
    "from utils.MealyMachine import MealyMachine\n"
   ]
  },
  {
   "cell_type": "code",
   "execution_count": 12,
   "metadata": {},
   "outputs": [],
   "source": [
    "import copy\n",
    "def run_learning_process(_mm, oracle=None, debug=False):\n",
    "    learn_mm = InferringMM(_mm, oracle, debug=debug)\n",
    "    mm, cnt, cnt_ex = learn_mm.run(counterexamples=True)\n",
    "    print(f\"kontrprzykłady: {cnt_ex}, cnt = {cnt}\")\n",
    "    return copy.deepcopy(mm) \n",
    "\n",
    "def find_minm_mm(_mm, debug=False):\n",
    "    learn_mm = InferringMM(_mm, debug=debug)\n",
    "    mm, _, _ = learn_mm.run(counterexamples=True)\n",
    "    return copy.deepcopy(mm) "
   ]
  },
  {
   "cell_type": "markdown",
   "metadata": {},
   "source": [
    "## Wykrywane wzorców "
   ]
  },
  {
   "cell_type": "markdown",
   "metadata": {},
   "source": [
    "### Przykład 1\n",
    "wzorzec - a, więzy (wskazówki?) - słowa z literką a "
   ]
  },
  {
   "cell_type": "code",
   "execution_count": 13,
   "metadata": {},
   "outputs": [
    {
     "name": "stdout",
     "output_type": "stream",
     "text": [
      "kontrprzykłady: [], cnt = [12, 1]\n"
     ]
    },
    {
     "data": {
      "text/plain": [
       "<utils.MealyMachine.MealyMachine at 0x7c79abe4e740>"
      ]
     },
     "execution_count": 13,
     "metadata": {},
     "output_type": "execute_result"
    }
   ],
   "source": [
    "mm_a = MealyMachine(Q=1, input_signs=[\"a\", \"b\", \"c\"], output_signs=[\"0\", \"1\"],\n",
    "                  λ={(0,\"a\"):\"1\", (0,\"b\"):\"0\", (0, \"c\"):\"0\"}, \n",
    "                  δ={(0,\"a\"):0, (0,\"b\"):0, (0, \"c\"):0})\n",
    "run_learning_process(mm_a)"
   ]
  },
  {
   "cell_type": "markdown",
   "metadata": {},
   "source": [
    "## Przykład 2 \n",
    "wzorzec - a lub b, więzy - słowa z literka a "
   ]
  },
  {
   "cell_type": "code",
   "execution_count": 10,
   "metadata": {},
   "outputs": [
    {
     "name": "stdout",
     "output_type": "stream",
     "text": [
      "kontrprzykłady: [], cnt = [12, 1]\n"
     ]
    },
    {
     "data": {
      "text/plain": [
       "<utils.Mealymachine.MealyMachine at 0x773c2ddd6a40>"
      ]
     },
     "execution_count": 10,
     "metadata": {},
     "output_type": "execute_result"
    }
   ],
   "source": [
    "mm_ = MealyMachine(Q=1, input_signs=[\"a\", \"b\", \"c\"], output_signs=[\"0\", \"1\"],\n",
    "                  λ={(0,\"a\"):\"1\", (0,\"b\"):\"1\", (0, \"c\"):\"0\"}, \n",
    "                  δ={(0,\"a\"):0, (0,\"b\"):0, (0, \"c\"):0})\n",
    "run_learning_process(mm_)"
   ]
  },
  {
   "cell_type": "markdown",
   "metadata": {},
   "source": [
    "## Przykład 3 \n",
    "wzorzec - a lub b, więzy - słowa z literka a lub b "
   ]
  },
  {
   "cell_type": "code",
   "execution_count": 7,
   "metadata": {},
   "outputs": [
    {
     "name": "stdout",
     "output_type": "stream",
     "text": [
      "kontrprzykłady: [], cnt = [12, 1]\n"
     ]
    },
    {
     "data": {
      "text/plain": [
       "<utils.Mealymachine.MealyMachine at 0x7ea1dc38baf0>"
      ]
     },
     "execution_count": 7,
     "metadata": {},
     "output_type": "execute_result"
    }
   ],
   "source": [
    "mm_ = MealyMachine(Q=1, input_signs=[\"a\", \"b\", \"c\"], output_signs=[\"0\", \"1\"],\n",
    "                  λ={(0,\"a\"):\"1\", (0,\"b\"):\"1\", (0, \"c\"):\"0\"}, \n",
    "                  δ={(0,\"a\"):0, (0,\"b\"):0, (0, \"c\"):0})\n",
    "run_learning_process(mm_)"
   ]
  },
  {
   "cell_type": "markdown",
   "metadata": {},
   "source": [
    "## Przykład 4 \n",
    "wzorzec - aa, bb lub cc (podwojona litera) , więzy - słowa z aa "
   ]
  },
  {
   "cell_type": "code",
   "execution_count": 8,
   "metadata": {},
   "outputs": [
    {
     "name": "stdout",
     "output_type": "stream",
     "text": [
      "kontrprzykłady: [], cnt = [39, 1]\n"
     ]
    },
    {
     "data": {
      "text/plain": [
       "<utils.Mealymachine.MealyMachine at 0x7ea1d7fff7f0>"
      ]
     },
     "execution_count": 8,
     "metadata": {},
     "output_type": "execute_result"
    }
   ],
   "source": [
    "mm_= MealyMachine(Q=4, input_signs=['a', 'b', 'c'], output_signs=['0', '1'], \n",
    "                  λ={(0,'a'):'0', (0,'b'):'0', (0,'c'):'0', (1,'a'):'1', (1,'b'):'0', (1,'c'):'0', (2,'a'):'0', (2,'b'):'1', (2,'c'):'0', (3,'a'):'0', (3,'b'):'0', (3,'c'):'1'}, \n",
    "                  δ={(0,'a'):1, (0,'b'):2, (0,'c'):3, (1,'a'):1, (1,'b'):2, (1,'c'):3, (2,'a'):1, (2,'b'):2, (2,'c'):3, (3,'a'):1, (3,'b'):2, (3,'c'):3})\n",
    "run_learning_process(mm_)"
   ]
  },
  {
   "cell_type": "markdown",
   "metadata": {},
   "source": [
    "## Przykłady 'zautomatyzowane'"
   ]
  },
  {
   "cell_type": "code",
   "execution_count": 8,
   "metadata": {},
   "outputs": [],
   "source": [
    "import patternDetection.PatternDetectionMM as PatternDetectionMM \n",
    "reload(PatternDetectionMM)\n",
    "from patternDetection.PatternDetectionMM import PatternMM\n",
    "\n",
    "import string \n",
    "import copy"
   ]
  },
  {
   "cell_type": "markdown",
   "metadata": {},
   "source": [
    "wzorzec - aaa, bbb, ccc"
   ]
  },
  {
   "cell_type": "code",
   "execution_count": 9,
   "metadata": {},
   "outputs": [
    {
     "name": "stdout",
     "output_type": "stream",
     "text": [
      "liczba stanów to = 7\n",
      "kontrprzykłady: [3, 3, 3], cnt = [111, 4]\n"
     ]
    },
    {
     "data": {
      "text/plain": [
       "<utils.Mealymachine.MealyMachine at 0x7c79b0547100>"
      ]
     },
     "execution_count": 9,
     "metadata": {},
     "output_type": "execute_result"
    }
   ],
   "source": [
    "mm = PatternMM([\"aaa\", \"bbb\", \"ccc\"], ['a', 'b', 'c'], ['0', '1'])\n",
    "mm = find_minm_mm(mm)\n",
    "print(f\"liczba stanów to = {mm.Q}\")\n",
    "run_learning_process(copy.deepcopy(mm), debug=False)"
   ]
  },
  {
   "cell_type": "markdown",
   "metadata": {},
   "source": [
    "wzorzec - AT, CG, alfabet - A, T, C G "
   ]
  },
  {
   "cell_type": "code",
   "execution_count": 6,
   "metadata": {},
   "outputs": [
    {
     "name": "stdout",
     "output_type": "stream",
     "text": [
      "liczba stanów to = 3\n",
      "kontrprzykłady: [], cnt = [52, 1]\n"
     ]
    },
    {
     "data": {
      "text/plain": [
       "<utils.Mealymachine.MealyMachine at 0x7edfe476dba0>"
      ]
     },
     "execution_count": 6,
     "metadata": {},
     "output_type": "execute_result"
    }
   ],
   "source": [
    "mm = PatternMM([\"AT\", \"CG\"], ['A', 'T', 'C', 'G'], ['0', '1'])\n",
    "mm = find_minm_mm(mm)\n",
    "print(f\"liczba stanów to = {mm.Q}\")\n",
    "run_learning_process(copy.deepcopy(mm), debug=False)"
   ]
  },
  {
   "cell_type": "markdown",
   "metadata": {},
   "source": [
    "wzorzec - Alice, Bob, alfabet - pełny angielski"
   ]
  },
  {
   "cell_type": "code",
   "execution_count": 24,
   "metadata": {},
   "outputs": [
    {
     "name": "stdout",
     "output_type": "stream",
     "text": [
      "liczba stanów to 7\n",
      "kontrprzykłady: [3, 5], cnt = [5462, 3]\n"
     ]
    }
   ],
   "source": [
    "mm = PatternMM([\"alice\", \"bob\"], list(string.ascii_lowercase), ['0', '1'])\n",
    "mm_minim = find_minm_mm(mm,debug=False)\n",
    "print(f\"liczba stanów to {mm_minim.Q}\")\n",
    "run_learning_process(copy.deepcopy(mm_minim), debug=False)"
   ]
  },
  {
   "cell_type": "markdown",
   "metadata": {},
   "source": [
    "wzorzec - bob"
   ]
  },
  {
   "cell_type": "code",
   "execution_count": 26,
   "metadata": {},
   "outputs": [
    {
     "name": "stdout",
     "output_type": "stream",
     "text": [
      "liczba stanów to 3\n",
      "kontrprzykłady: [3], cnt = [18, 2]\n"
     ]
    }
   ],
   "source": [
    "mm = PatternMM([\"bob\"], ['b', 'o'], ['0', '1'])\n",
    "mm = find_minm_mm(mm, debug=False)\n",
    "print(f\"liczba stanów to {mm.Q}\")\n",
    "run_learning_process(copy.deepcopy(mm), debug=False)"
   ]
  },
  {
   "cell_type": "markdown",
   "metadata": {},
   "source": [
    "wzorzec - boobie "
   ]
  },
  {
   "cell_type": "code",
   "execution_count": 13,
   "metadata": {},
   "outputs": [
    {
     "name": "stdout",
     "output_type": "stream",
     "text": [
      "liczba stanów to 6\n",
      "kontrprzykłady: [6], cnt = [176, 2]\n"
     ]
    },
    {
     "data": {
      "text/plain": [
       "<utils.Mealymachine.MealyMachine at 0x773c27f051e0>"
      ]
     },
     "execution_count": 13,
     "metadata": {},
     "output_type": "execute_result"
    }
   ],
   "source": [
    "mm = PatternMM([\"boobie\"], ['b', 'o', 'i', 'e'], ['0', '1'])\n",
    "mm = find_minm_mm(mm, debug=False)\n",
    "print(f\"liczba stanów to {mm.Q}\")\n",
    "run_learning_process(copy.deepcopy(mm), debug=False)"
   ]
  },
  {
   "cell_type": "markdown",
   "metadata": {},
   "source": [
    "wzorzec - bob i boobie "
   ]
  },
  {
   "cell_type": "code",
   "execution_count": 29,
   "metadata": {},
   "outputs": [
    {
     "name": "stdout",
     "output_type": "stream",
     "text": [
      "liczba stanów to 6\n",
      "kontrprzykłady: [3, 6], cnt = [157, 3]\n"
     ]
    }
   ],
   "source": [
    "mm = PatternMM([\"bob\", \"boobie\"], ['b', 'o', 'i', 'e'], ['0', '1'])\n",
    "mm = find_minm_mm(mm, debug=False)\n",
    "print(f\"liczba stanów to {mm.Q}\")\n",
    "run_learning_process(copy.deepcopy(mm), debug=True)"
   ]
  },
  {
   "cell_type": "code",
   "execution_count": 31,
   "metadata": {},
   "outputs": [
    {
     "name": "stdout",
     "output_type": "stream",
     "text": [
      "liczba stanów to 6\n",
      "kontrprzykłady: [3, 6], cnt = [8, 3]\n"
     ]
    }
   ],
   "source": [
    "bob_mm = PatternMM([\"bob\"], ['b', 'o', 'i', 'e'], ['0', '1'])\n",
    "bob_mm = find_minm_mm(bob_mm, debug=False)\n",
    "\n",
    "mm = PatternMM([\"bob\", \"boobie\"], ['b', 'o', 'i', 'e'], ['0', '1'])\n",
    "mm = find_minm_mm(mm, debug=False)\n",
    "print(f\"liczba stanów to {mm.Q}\")\n",
    "run_learning_process(copy.deepcopy(mm), oracle=copy.deepcopy(bob_mm), debug=False)"
   ]
  },
  {
   "cell_type": "code",
   "execution_count": 32,
   "metadata": {},
   "outputs": [
    {
     "name": "stdout",
     "output_type": "stream",
     "text": [
      "liczba stanów to 6\n",
      "kontrprzykłady: [3, 6], cnt = [13, 3]\n"
     ]
    }
   ],
   "source": [
    "boobie_mm = PatternMM([\"boobie\"], ['b', 'o', 'i', 'e'], ['0', '1'])\n",
    "boobie_mm = find_minm_mm(boobie_mm, debug=False)\n",
    "\n",
    "mm = PatternMM([\"bob\", \"boobie\"], ['b', 'o', 'i', 'e'], ['0', '1'])\n",
    "mm = find_minm_mm(mm, debug=False)\n",
    "print(f\"liczba stanów to {mm.Q}\")\n",
    "run_learning_process(copy.deepcopy(mm), oracle=copy.deepcopy(boobie_mm), debug=False)"
   ]
  },
  {
   "cell_type": "code",
   "execution_count": 77,
   "metadata": {},
   "outputs": [
    {
     "name": "stdout",
     "output_type": "stream",
     "text": [
      "kontrprzykłady: [5], cnt = [345, 2]\n",
      "# stanów = 5\n",
      "kontrprzykłady: [3], cnt = [173, 2]\n",
      "# stanów = 3\n",
      "kontrprzykłady: [3, 5], cnt = [522, 3]\n",
      "# stanów = 7\n"
     ]
    }
   ],
   "source": [
    "alice_mm = PatternMM([\"alice\"], ['a', 'b', 'c', 'o', 'i', 'e', 'l'], ['0', '1'])\n",
    "alice_mm = run_learning_process(alice_mm, debug=False)\n",
    "alice_mm.print_states()\n",
    "\n",
    "bob_mm = PatternMM([\"bob\"], ['a', 'b', 'c', 'o', 'i', 'e', 'l'], ['0', '1'])\n",
    "bob_mm = run_learning_process(bob_mm, debug=False)\n",
    "bob_mm.print_states()\n",
    "\n",
    "mm = PatternMM([\"bob\", \"alice\"], ['a', 'b', 'c', 'o', 'i', 'e', 'l'], ['0', '1'])\n",
    "mm = find_minm_mm(mm, debug=False)\n",
    "\n",
    "mm = run_learning_process(copy.deepcopy(mm), oracle=None, debug=False)\n",
    "mm.print_states()"
   ]
  },
  {
   "cell_type": "code",
   "execution_count": 75,
   "metadata": {},
   "outputs": [
    {
     "name": "stdout",
     "output_type": "stream",
     "text": [
      "wynik = ('abbaabbcabbd', '000100010001')\n",
      "kontrprzykłady: [4], cnt = [94, 2]\n",
      "# stanów = 4\n"
     ]
    },
    {
     "data": {
      "text/plain": [
       "('abbaabbc', '00010001')"
      ]
     },
     "execution_count": 75,
     "metadata": {},
     "output_type": "execute_result"
    }
   ],
   "source": [
    "abba_mm = PatternMM([\"abba\"], ['a', 'b', 'c', 'd'], ['0', '1'])\n",
    "abba_mm = find_minm_mm(abba_mm)\n",
    "\n",
    "abbc_mm = PatternMM([\"abbc\"], ['a', 'b', 'c', 'd'], ['0', '1'])\n",
    "abbc_mm = find_minm_mm(abbc_mm)\n",
    "\n",
    "abbd_mm = PatternMM([\"abbd\"], ['a', 'b', 'c', 'd'], ['0', '1'])\n",
    "abbd_mm = find_minm_mm(abbd_mm)\n",
    "\n",
    "abba_abbc_mm = PatternMM([\"abba\", \"abbc\"], ['a', 'b', 'c', 'd'], ['0', '1'])\n",
    "abba_abbc_mm = find_minm_mm(abba_abbc_mm)\n",
    "\n",
    "mm = PatternMM([\"abba\", \"abbc\", \"abbd\"], ['a', 'b', 'c', 'd'], ['0', '1'])\n",
    "mm = find_minm_mm(mm, debug=False)\n",
    "wynik = mm.route(\"abbaabbcabbd\")\n",
    "\n",
    "print(f\"wynik = {wynik}\")\n",
    "\n",
    "mm = run_learning_process(copy.deepcopy(mm), oracle=None, debug=False)\n",
    "mm.print_states()\n",
    "mm.route(\"abbaabbc\")"
   ]
  },
  {
   "cell_type": "code",
   "execution_count": 14,
   "metadata": {},
   "outputs": [
    {
     "name": "stdout",
     "output_type": "stream",
     "text": [
      "kontrprzykłady: [4], cnt = [94, 2]\n",
      "kontrprzykłady: [4], cnt = [94, 2]\n",
      "kontrprzykłady: [4], cnt = [94, 2]\n",
      "kontrprzykłady: [4, 4], cnt = [15, 3]\n",
      "wynik = ('abbaabbcabbd', '000100000000')\n",
      "kontrprzykłady: [4, 4, 4], cnt = [20, 4]\n",
      "# stanów = 10\n"
     ]
    },
    {
     "data": {
      "text/plain": [
       "('abbaabbc', '00010000')"
      ]
     },
     "execution_count": 14,
     "metadata": {},
     "output_type": "execute_result"
    }
   ],
   "source": [
    "abba_mm = PatternMM([\"abba\"], ['a', 'b', 'c', 'd'], ['0', '1'])\n",
    "abba_mm = run_learning_process(abba_mm)\n",
    "\n",
    "cddb_mm = PatternMM([\"cddb\"], ['a', 'b', 'c', 'd'], ['0', '1'])\n",
    "cddb_mm = run_learning_process(cddb_mm)\n",
    "\n",
    "daac_mm = PatternMM([\"daac\"], ['a', 'b', 'c', 'd'], ['0', '1'])\n",
    "daac_mm = run_learning_process(daac_mm)\n",
    "\n",
    "abba_cddb_mm = PatternMM([\"abba\", \"cddb\"], ['a', 'b', 'c', 'd'], ['0', '1'])\n",
    "abba_cddb_mm = run_learning_process(abba_cddb_mm, oracle=abba_mm)\n",
    "\n",
    "mm = PatternMM([\"abba\", \"cddb\", \"daac\"], ['a', 'b', 'c', 'd'], ['0', '1'])\n",
    "mm = find_minm_mm(mm, debug=False)\n",
    "wynik = mm.route(\"abbaabbcabbd\")\n",
    "\n",
    "print(f\"wynik = {wynik}\")\n",
    "\n",
    "mm = run_learning_process(copy.deepcopy(mm), oracle=abba_cddb_mm, debug=False)\n",
    "mm.print_states()\n",
    "mm.route(\"abbaabbc\")"
   ]
  },
  {
   "cell_type": "code",
   "execution_count": null,
   "metadata": {},
   "outputs": [],
   "source": [
    "in_a, out_a= ['a', 'b', 'c', 'd'], ['0', '1']\n",
    "abcda_mm = PatternMM([\"abcda\"], in_a, out_a)\n",
    "abcda_mm = find_minm_mm(abcda_mm)\n",
    "\n",
    "dcd_mm = PatternMM([\"dcd\"], in_a, out_a)\n",
    "dcd_mm = run_learning_process(dcd_mm)\n",
    "\n",
    "eve_mm = PatternMM([\"bdb\"], in_a, out_a)\n",
    "eve_mm = find_minm_mm(eve_mm)\n",
    "\n",
    "dcd_eve_mm = PatternMM([\"dcd\", \"bdb\"], in_a, out_a)\n",
    "dcd_eve_mm = run_learning_process(dcd_eve_mm, oracle=None)\n",
    "\n",
    "alice_bob_mm = PatternMM([\"abcda\", \"dcd\"], in_a, out_a)\n",
    "alice_bob_mm = find_minm_mm(alice_bob_mm)\n",
    "\n",
    "mm = PatternMM([\"abcda\", \"dcd\", \"bdb\"], in_a, out_a)\n",
    "mm = find_minm_mm(mm)\n",
    "\n",
    "# dcd\n",
    "mm = run_learning_process(copy.deepcopy(mm), oracle=None)\n",
    "mm.route(\"abcdadcdbbbbbdb\")\n",
    "mm.print_states()"
   ]
  },
  {
   "cell_type": "code",
   "execution_count": null,
   "metadata": {},
   "outputs": [],
   "source": [
    "in_a, out_a = ['b', 'l', 'a', 'c'], ['0', '1']\n",
    "bla_mm = PatternMM([\"bla\"], in_a, out_a)\n",
    "bla_mm = run_learning_process(bla_mm)\n",
    "\n",
    "blabla_mm = PatternMM(['blabla'], in_a, out_a)\n",
    "blabla_mm = run_learning_process(blabla_mm)\n",
    "\n",
    "blablacar_mm = PatternMM([\"bla\", \"blablac\"], in_a, out_a)\n",
    "blablacar_mm = find_minm_mm(blablacar_mm)\n",
    "blablacar_mm = run_learning_process(copy.deepcopy(blablacar_mm), oracle=bla_mm)\n",
    "blablacar_mm.route(\"blablac\")\n",
    "blablacar_mm.print_states()\n"
   ]
  },
  {
   "cell_type": "markdown",
   "metadata": {},
   "source": [
    "## Bob & Eve example "
   ]
  },
  {
   "cell_type": "code",
   "execution_count": 8,
   "metadata": {},
   "outputs": [
    {
     "name": "stdout",
     "output_type": "stream",
     "text": [
      "S = [''], rozmiar E = ['a', 'b', 'c', 'd']\n",
      "zamkniętość sprawdzona - S = [''], rozmiar E = ['a', 'b', 'c', 'd']\n",
      "hipoteza: \n",
      "(0,a) --> '0',0\n",
      "(0,b) --> '0',0\n",
      "(0,c) --> '0',0\n",
      "(0,d) --> '0',0\n",
      "kontrprzyklad = dcd\n",
      "S = [''], rozmiar E = ['a', 'b', 'c', 'cd', 'd']\n",
      "zamkniętość sprawdzona - S = ['', 'd', 'dc'], rozmiar E = ['a', 'b', 'c', 'cd', 'd']\n",
      "hipoteza: \n",
      "(0,a) --> '0',0\n",
      "(0,b) --> '0',0\n",
      "(0,c) --> '0',0\n",
      "(0,d) --> '0',2\n",
      "(1,a) --> '0',0\n",
      "(1,b) --> '0',0\n",
      "(1,c) --> '0',0\n",
      "(1,d) --> '1',2\n",
      "(2,a) --> '0',0\n",
      "(2,b) --> '0',0\n",
      "(2,c) --> '0',1\n",
      "(2,d) --> '0',2\n",
      "kontrprzykłady: [3], cnt = [62, 2]\n",
      "# stanów = 3\n"
     ]
    }
   ],
   "source": [
    "in_a, out_a= ['a', 'b', 'c', 'd'], ['0', '1']\n",
    "\n",
    "bob_mm = PatternMM([\"dcd\"], in_a, out_a)\n",
    "bob_mm = run_learning_process(copy.deepcopy(bob_mm), debug=True)\n",
    "bob_mm.print_states()\n",
    "\n",
    "\n",
    "# eve_mm = PatternMM([\"bdb\"], in_a, out_a)\n",
    "# eve_mm = run_learning_process(copy.deepcopy(eve_mm))\n",
    "# eve_mm.print_states()\n",
    "\n",
    "# abc_mm = PatternMM([\"abc\"], in_a, out_a)\n",
    "# abc_mm = run_learning_process(copy.deepcopy(abc_mm))\n",
    "# abc_mm.print_states()"
   ]
  },
  {
   "cell_type": "code",
   "execution_count": 12,
   "metadata": {},
   "outputs": [
    {
     "name": "stdout",
     "output_type": "stream",
     "text": [
      "S = [''], rozmiar E = ['a', 'b', 'c', 'd']\n",
      "zamkniętość sprawdzona - S = [''], rozmiar E = ['a', 'b', 'c', 'd']\n",
      "hipoteza: \n",
      "(0,a) --> '0',0\n",
      "(0,b) --> '0',0\n",
      "(0,c) --> '0',0\n",
      "(0,d) --> '0',0\n",
      "kontrprzyklad = bdb\n",
      "zapytanie o słowo bdb\n",
      "S = [''], rozmiar E = ['a', 'b', 'c', 'd', 'db']\n",
      "zapytanie o słowo bbdb\n",
      "zapytanie o słowo bdbb\n",
      "zapytanie o słowo bdba\n",
      "zapytanie o słowo bdbdb\n",
      "zapytanie o słowo bdbc\n",
      "zapytanie o słowo bdbd\n",
      "zapytanie o słowo bdcbdb\n",
      "zamkniętość sprawdzona - S = ['', 'b', 'bd', 'bdc'], rozmiar E = ['a', 'b', 'c', 'd', 'db']\n",
      "hipoteza: \n",
      "(0,a) --> '0',0\n",
      "(0,b) --> '0',3\n",
      "(0,c) --> '0',0\n",
      "(0,d) --> '0',0\n",
      "(1,a) --> '0',0\n",
      "(1,b) --> '0',3\n",
      "(1,c) --> '0',0\n",
      "(1,d) --> '1',0\n",
      "(2,a) --> '0',0\n",
      "(2,b) --> '1',3\n",
      "(2,c) --> '0',1\n",
      "(2,d) --> '0',0\n",
      "(3,a) --> '0',0\n",
      "(3,b) --> '0',3\n",
      "(3,c) --> '0',0\n",
      "(3,d) --> '0',2\n",
      "kontrprzyklad = dcd\n",
      "zapytanie o słowo bdbcd\n",
      "S = ['', 'b', 'bd', 'bdc'], rozmiar E = ['a', 'b', 'c', 'cd', 'd', 'db']\n",
      "zapytanie o słowo dbdb\n",
      "zamkniętość sprawdzona - S = ['', 'b', 'bd', 'bdc', 'd'], rozmiar E = ['a', 'b', 'c', 'cd', 'd', 'db']\n",
      "hipoteza: \n",
      "(0,a) --> '0',0\n",
      "(0,b) --> '0',1\n",
      "(0,c) --> '0',0\n",
      "(0,d) --> '0',4\n",
      "(1,a) --> '0',0\n",
      "(1,b) --> '0',1\n",
      "(1,c) --> '0',0\n",
      "(1,d) --> '0',3\n",
      "(2,a) --> '0',0\n",
      "(2,b) --> '0',1\n",
      "(2,c) --> '0',0\n",
      "(2,d) --> '1',4\n",
      "(3,a) --> '0',0\n",
      "(3,b) --> '1',1\n",
      "(3,c) --> '0',2\n",
      "(3,d) --> '0',4\n",
      "(4,a) --> '0',0\n",
      "(4,b) --> '0',1\n",
      "(4,c) --> '0',2\n",
      "(4,d) --> '0',4\n",
      "kontrprzykłady: [3, 3], cnt = [10, 3]\n",
      "# stanów = 5\n"
     ]
    }
   ],
   "source": [
    "bob_eve_mm = PatternMM([\"bdb\", \"dcd\"], in_a, out_a)\n",
    "bob_eve_mm = run_learning_process(copy.deepcopy(bob_eve_mm), oracle=bob_mm, debug=True)\n",
    "bob_eve_mm.print_states()\n",
    "\n",
    "# abc_bob_eve_mm = PatternMM([\"abc\", \"dcd\", \"bdb\"], in_a, out_a)\n",
    "# abc_bob_eve_mm = run_learning_process(copy.deepcopy(abc_bob_eve_mm), oracle=bob_eve_mm)\n",
    "# abc_bob_eve_mm.print_states()\n",
    "\n",
    "\n",
    "# ccc_abc_bob_eve_mm = PatternMM([\"abc\", \"dcd\", \"bdb\", \"ccc\"], in_a, out_a)\n",
    "# ccc_abc_bob_eve_mm = run_learning_process(copy.deepcopy(ccc_abc_bob_eve_mm), oracle=abc_bob_eve_mm)\n",
    "# ccc_abc_bob_eve_mm.print_states()"
   ]
  },
  {
   "cell_type": "code",
   "execution_count": 13,
   "metadata": {},
   "outputs": [
    {
     "name": "stdout",
     "output_type": "stream",
     "text": [
      "kontrprzykłady: [3, 3, 3], cnt = [14, 4]\n"
     ]
    }
   ],
   "source": [
    "bob_eve_ana_mm = PatternMM([\"bdb\", \"dcd\", \"cac\"], in_a, out_a)\n",
    "bob_eve_ana_mm = run_learning_process(copy.deepcopy(bob_eve_ana_mm), oracle=bob_eve_mm)"
   ]
  },
  {
   "cell_type": "code",
   "execution_count": 25,
   "metadata": {},
   "outputs": [
    {
     "name": "stdout",
     "output_type": "stream",
     "text": [
      "kontrprzykłady: [3, 3, 3, 3], cnt = [260, 5]\n"
     ]
    }
   ],
   "source": [
    "bob_eve_ana_ada_mm = PatternMM([\"bdb\", \"dcd\", \"cac\", \"aba\"], in_a, out_a)\n",
    "bob_eve_ana_ada_mm = run_learning_process(copy.deepcopy(bob_eve_ana_ada_mm), oracle=None)"
   ]
  },
  {
   "cell_type": "code",
   "execution_count": 34,
   "metadata": {},
   "outputs": [
    {
     "name": "stdout",
     "output_type": "stream",
     "text": [
      "kontrprzykłady: [3, 3, 3, 3], cnt = [288, 5]\n"
     ]
    }
   ],
   "source": [
    "bob_eve_ana_ada_olo_mm = PatternMM([\"bdb\", \"dcd\", \"cac\", \"aba\", \"ddd\"], in_a, out_a)\n",
    "bob_eve_ana_ada_olo_mm = run_learning_process(copy.deepcopy(bob_eve_ana_ada_olo_mm), oracle=None)"
   ]
  }
 ],
 "metadata": {
  "kernelspec": {
   "display_name": "Python 3",
   "language": "python",
   "name": "python3"
  },
  "language_info": {
   "codemirror_mode": {
    "name": "ipython",
    "version": 3
   },
   "file_extension": ".py",
   "mimetype": "text/x-python",
   "name": "python",
   "nbconvert_exporter": "python",
   "pygments_lexer": "ipython3",
   "version": "3.10.12"
  }
 },
 "nbformat": 4,
 "nbformat_minor": 2
}
