{
 "cells": [
  {
   "cell_type": "markdown",
   "metadata": {},
   "source": [
    "## Przykłady wykrywania wzorców - badanie dlaczego stopniowe uczenie jest lepsze "
   ]
  },
  {
   "cell_type": "code",
   "execution_count": 2,
   "metadata": {},
   "outputs": [],
   "source": [
    "from importlib import reload\n",
    "import copy\n",
    "import sys\n",
    "\n",
    "sys.path.append(\"../\")"
   ]
  },
  {
   "cell_type": "code",
   "execution_count": 3,
   "metadata": {},
   "outputs": [],
   "source": [
    "import inferring.InferringMM, utils.DFA, utils.Mealymachine, patternDetection.PatterndetectionMM \n",
    "\n",
    "reload(inferring.InferringMM)\n",
    "reload(utils.DFA)\n",
    "reload(utils.Mealymachine)\n",
    "reload(patternDetection.PatterndetectionMM)\n",
    "\n",
    "from inferring.InferringMM import InferringMM\n",
    "from utils.DFA import DFA\n",
    "from patternDetection.PatterndetectionMM import PatternMM"
   ]
  },
  {
   "cell_type": "code",
   "execution_count": 4,
   "metadata": {},
   "outputs": [],
   "source": [
    "def run_learning_process(_mm, oracle=None, debug=False):\n",
    "    learn_mm = InferringMM(_mm, oracle, debug=debug)\n",
    "    mm, cnt, cnt_ex = learn_mm.run(counterexamples=True)\n",
    "    print(f\"kontrprzykłady: {cnt_ex}, cnt = {cnt}\")\n",
    "    return copy.deepcopy(mm)\n",
    "\n",
    "\n",
    "def find_minm_mm(_mm, debug=False):\n",
    "    learn_mm = InferringMM(_mm, debug=debug)\n",
    "    mm, _, _ = learn_mm.run(counterexamples=True)\n",
    "    return copy.deepcopy(mm)"
   ]
  },
  {
   "cell_type": "markdown",
   "metadata": {},
   "source": [
    "### Pierwszy przykład "
   ]
  },
  {
   "cell_type": "code",
   "execution_count": 5,
   "metadata": {},
   "outputs": [
    {
     "name": "stdout",
     "output_type": "stream",
     "text": [
      "kontrprzykłady: [3], cnt = [37, 2]\n",
      "# stanów = 3\n"
     ]
    }
   ],
   "source": [
    "in_a, out_a = [\"a\", \"b\", \"c\"], [\"0\", \"1\"]\n",
    "\n",
    "mm_1 = PatternMM([\"abc\"], in_a, out_a)\n",
    "mm_1 = run_learning_process(copy.deepcopy(mm_1), debug=False)\n",
    "mm_1.print_states()"
   ]
  },
  {
   "cell_type": "code",
   "execution_count": 6,
   "metadata": {},
   "outputs": [
    {
     "name": "stdout",
     "output_type": "stream",
     "text": [
      "kontrprzykłady: [3, 4], cnt = [96, 3]\n",
      "# stanów = 6\n"
     ]
    }
   ],
   "source": [
    "mm_2 = PatternMM([\"abc\", \"baba\"], in_a, out_a)\n",
    "mm_2 = run_learning_process(copy.deepcopy(mm_2), oracle=None, debug=False)\n",
    "mm_2.print_states()"
   ]
  },
  {
   "cell_type": "code",
   "execution_count": 7,
   "metadata": {},
   "outputs": [
    {
     "name": "stdout",
     "output_type": "stream",
     "text": [
      "kontrprzykłady: [3, 4], cnt = [7, 3]\n",
      "# stanów = 7\n"
     ]
    }
   ],
   "source": [
    "mm_2_5 = PatternMM([\"abc\", \"baba\", \"baca\"], in_a, out_a)\n",
    "mm_2_5 = run_learning_process(copy.deepcopy(mm_2_5), oracle=mm_2, debug=False)\n",
    "mm_2_5.print_states()"
   ]
  },
  {
   "cell_type": "code",
   "execution_count": 8,
   "metadata": {},
   "outputs": [
    {
     "name": "stdout",
     "output_type": "stream",
     "text": [
      "kontrprzykłady: [3, 4, 5], cnt = [46, 4]\n",
      "# stanów = 10\n"
     ]
    }
   ],
   "source": [
    "mm_3 = PatternMM([\"abc\", \"baca\", \"cacab\"], in_a, out_a)\n",
    "mm_3 = run_learning_process(copy.deepcopy(mm_3), oracle=mm_2, debug=False)\n",
    "mm_3.print_states()"
   ]
  },
  {
   "cell_type": "code",
   "execution_count": 9,
   "metadata": {},
   "outputs": [
    {
     "name": "stdout",
     "output_type": "stream",
     "text": [
      "kontrprzykłady: [3, 4, 5, 6], cnt = [16, 5]\n",
      "# stanów = 14\n"
     ]
    }
   ],
   "source": [
    "mm_4 = PatternMM([\"abc\", \"baca\", \"cacab\", \"accccb\"], in_a, out_a)\n",
    "mm_4 = run_learning_process(copy.deepcopy(mm_4), oracle=mm_3, debug=False)\n",
    "mm_4.print_states()"
   ]
  },
  {
   "cell_type": "code",
   "execution_count": 10,
   "metadata": {},
   "outputs": [
    {
     "name": "stdout",
     "output_type": "stream",
     "text": [
      "kontrprzykłady: [3, 4, 5, 6], cnt = [390, 5]\n",
      "# stanów = 14\n"
     ]
    }
   ],
   "source": [
    "mm_5 = PatternMM([\"abc\", \"baca\", \"cacab\", \"accccb\"], in_a, out_a)\n",
    "mm_5 = run_learning_process(copy.deepcopy(mm_5), oracle=None, debug=False)\n",
    "mm_5.print_states()"
   ]
  }
 ],
 "metadata": {
  "kernelspec": {
   "display_name": "Python 3",
   "language": "python",
   "name": "python3"
  },
  "language_info": {
   "codemirror_mode": {
    "name": "ipython",
    "version": 3
   },
   "file_extension": ".py",
   "mimetype": "text/x-python",
   "name": "python",
   "nbconvert_exporter": "python",
   "pygments_lexer": "ipython3",
   "version": "3.10.12"
  }
 },
 "nbformat": 4,
 "nbformat_minor": 2
}
