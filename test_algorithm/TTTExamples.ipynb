{
 "cells": [
  {
   "cell_type": "code",
   "execution_count": 14,
   "metadata": {},
   "outputs": [],
   "source": [
    "import copy, sys, pandas as pd\n",
    "import random \n",
    "import time \n",
    "\n",
    "sys.path.append(\"../\")\n",
    "sys.path.append(\"../inferring\")\n",
    "sys.path.append(\"../utils/DFA\")\n",
    "from importlib import reload\n",
    "\n",
    "\n",
    "import inferring.Inferring as Inferring, inferring.InferringDFA as InferringDFA\n",
    "import utils.automats.DFA\n",
    "import utils.advice_systems.SRS as SRS\n",
    "\n",
    "reload(SRS)\n",
    "reload(Inferring)\n",
    "reload(InferringDFA)\n",
    "reload(utils.automats.DFA)\n",
    "\n",
    "from inferring.Inferring import Inferring\n",
    "from utils.automats.DFA.DFA import DFA\n",
    "from utils.advice_systems.SRS import SRS \n",
    "\n",
    "from inferring.InferringDFA import InferringDFA"
   ]
  },
  {
   "cell_type": "code",
   "execution_count": 15,
   "metadata": {},
   "outputs": [],
   "source": [
    "def run_learning_process(target, advice_system=None, check_consistency=False, equiv_query_fashion=\"BFS\", debug=False):\n",
    "    _dfa = copy.deepcopy(target)\n",
    "    learn_dfa = InferringDFA(_dfa, \n",
    "                                advice_system, \n",
    "                                check_consistency=check_consistency, \n",
    "                                equiv_query_fashion=equiv_query_fashion,\n",
    "                                debug=debug)\n",
    "        \n",
    "    dfa, cnt, cnt_ex = learn_dfa.run(counterexamples=True)\n",
    "    return copy.deepcopy(dfa), cnt, len(cnt_ex) +1 "
   ]
  },
  {
   "cell_type": "code",
   "execution_count": 16,
   "metadata": {},
   "outputs": [],
   "source": [
    "class Record:\n",
    "\n",
    "    def __init__(self,\n",
    "                 d1,\n",
    "                 d2,\n",
    "                 conv,\n",
    "                 cnt_normal,\n",
    "                 cnt_with_advice,\n",
    "                 target=None):\n",
    "        self.d1 = d1\n",
    "        self.d2 = d2\n",
    "        self.conv = conv\n",
    "        self.cnt_normal = cnt_normal\n",
    "        self.cnt_with_advice = cnt_with_advice\n",
    "        self.target = target\n",
    "        self.mq_reduction = int(\n",
    "            ((cnt_normal[0] - cnt_with_advice[0][0]) / cnt_normal[0]) * 100)\n",
    "        self.eq_reduction = int(\n",
    "            ((cnt_normal[1] - cnt_with_advice[0][1]) / cnt_normal[1]) * 100)\n",
    "\n",
    "    def print_record(self):\n",
    "        print(\n",
    "            f\"|d1| = {self.d1}, |d2| = {self.d2}, |conv| = {self.conv}, (mq, eq) = {self.cnt_normal} vs (mq, eq) = {self.cnt_with_advice}, mq_reduction = {self.mq_reduction}%, eq_reduction = {self.eq_reduction}%\"\n",
    "        )\n",
    "    def get_complete_description(self):\n",
    "        return self.target.print_complete_description()\n",
    "    \n",
    "    def print_target(self):\n",
    "        print(self.target.print_complete_description())"
   ]
  },
  {
   "cell_type": "code",
   "execution_count": 29,
   "metadata": {},
   "outputs": [
    {
     "name": "stdout",
     "output_type": "stream",
     "text": [
      "iter nr: 1\n",
      "ex time with AS:  1.7513868808746338\n",
      "|d1.Q| = 13, |d2.q| = 15, |d.Q| = 195\n",
      "ex time without AS:  3.4120218753814697\n"
     ]
    }
   ],
   "source": [
    "number_of_itreations = 1\n",
    "\n",
    "#  Fixed random seeds for reproducibility \n",
    "seeds =  [i for i in range(number_of_itreations)]\n",
    "\n",
    "# The alphabet of the DFA\n",
    "input_signs = ['a', 'b']\n",
    "\n",
    "# The bound on the number of states \n",
    "max_number_of_states = 20\n",
    "\n",
    "# The list to aggregate the results\n",
    "results = []\n",
    "\n",
    "i = 0 \n",
    "while i < number_of_itreations: \n",
    "    random.seed(seeds[i])\n",
    "    i += 1\n",
    "    print(f\"iter nr: {i}\")\n",
    "\n",
    "    # Create two random DFAs\n",
    "    dfa1 = DFA()\n",
    "    dfa2 = DFA()\n",
    "    dfa1.create_random_dfa(Q=random.randint(max_number_of_states//2,max_number_of_states), input_signs=input_signs)\n",
    "    dfa2.create_random_dfa(Q=random.randint(max_number_of_states//2,max_number_of_states), input_signs=input_signs)\n",
    "    \n",
    "    # Run learning of the language of DFA to minimize dfa1 and dfa2 \n",
    "    d1, _, _ = run_learning_process(target=copy.deepcopy(dfa1))   \n",
    "    d2, _, _ = run_learning_process(target=copy.deepcopy(dfa2))\n",
    "    \n",
    "    while d1.Q < 2 or d2.Q < 2: \n",
    "        # Create two random DFAs\n",
    "        dfa1 = DFA()\n",
    "        dfa2 = DFA()\n",
    "        dfa1.create_random_dfa(Q=random.randint(max_number_of_states//2,max_number_of_states), input_signs=input_signs)\n",
    "        dfa2.create_random_dfa(Q=random.randint(max_number_of_states//2,max_number_of_states), input_signs=input_signs)\n",
    "        \n",
    "        # Run learning of the language of DFA to minimize dfa1 and dfa2 \n",
    "        d1, _, _ = run_learning_process(target=copy.deepcopy(dfa1))   \n",
    "        d2, _, _ = run_learning_process(target=copy.deepcopy(dfa2))\n",
    "\n",
    "    # Create a convolution DFA based on d1 and d2\n",
    "    conv_dfa = DFA()\n",
    "    conv_dfa.create_convolution(dfa1=d1, dfa2=d2) \n",
    "\n",
    "    # Learn conv_dfa with advice\n",
    "    start_t = time.time()\n",
    "    d, cnt_with_advice, cnt_ex_with_advice = run_learning_process(target=conv_dfa, advice_system=SRS(), check_consistency=True) \n",
    "    end_t = time.time()\n",
    "\n",
    "    print(\"ex time with AS: \", end_t-start_t)\n",
    "\n",
    "    d.type = DFA.CONV_DFA\n",
    "\n",
    "    print(f\"|d1.Q| = {d1.Q}, |d2.q| = {d2.Q}, |d.Q| = {d.Q}\")\n",
    "\n",
    "    # Run learning process without advice \n",
    "    start_t = time.time()\n",
    "    _, cnt_normal, _ = run_learning_process(target=d, advice_system=None, check_consistency=False)\n",
    "    end_t = time.time()\n",
    "\n",
    "    print(\"ex time without AS: \", end_t-start_t)\n",
    "\n",
    "    results.append(Record(d1=d1.Q, d2=d2.Q, conv=d.Q, cnt_normal=cnt_normal, cnt_with_advice=(cnt_with_advice, cnt_ex_with_advice), target=copy.deepcopy(d)))"
   ]
  },
  {
   "cell_type": "code",
   "execution_count": 30,
   "metadata": {},
   "outputs": [
    {
     "name": "stdout",
     "output_type": "stream",
     "text": [
      "ilość wpisów w result: 1\n",
      "|d1| = 13, |d2| = 15, |conv| = 195, (mq, eq) = [96299, 90] vs (mq, eq) = ([20657, 2], 68), mq_reduction = 78%, eq_reduction = 97%\n"
     ]
    }
   ],
   "source": [
    "results.sort(key=lambda x: x.conv)\n",
    "\n",
    "# Remove degenerated cases (Conv DFA of size 1)\n",
    "results = [r for r in results if r.conv != 1]\n",
    "\n",
    "print(f\"ilość wpisów w result: {len(results)}\")\n",
    "for r in results:\n",
    "    r.print_record()\n",
    "    # r.print_target()"
   ]
  },
  {
   "cell_type": "code",
   "execution_count": 31,
   "metadata": {},
   "outputs": [],
   "source": [
    "f = open(\"../../learnlib/examples/src/main/java/de/learnlib/example/DfaMedium.txt\", \"w\")\n",
    "f.write(results[0].get_complete_description())\n",
    "f.close()"
   ]
  }
 ],
 "metadata": {
  "kernelspec": {
   "display_name": "Python 3",
   "language": "python",
   "name": "python3"
  },
  "language_info": {
   "codemirror_mode": {
    "name": "ipython",
    "version": 3
   },
   "file_extension": ".py",
   "mimetype": "text/x-python",
   "name": "python",
   "nbconvert_exporter": "python",
   "pygments_lexer": "ipython3",
   "version": "3.10.12"
  }
 },
 "nbformat": 4,
 "nbformat_minor": 2
}
