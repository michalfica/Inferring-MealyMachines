{
 "cells": [
  {
   "cell_type": "markdown",
   "metadata": {},
   "source": [
    "Szablon do 'eksperymentalnego' sprawdzania hipotezy (szukania przykładu, który by ją obalił)  na temat uczenia się splotów używająć SRS."
   ]
  },
  {
   "cell_type": "code",
   "execution_count": 9,
   "metadata": {},
   "outputs": [],
   "source": [
    "import copy, sys\n",
    "import cProfile\n",
    "\n",
    "sys.path.append(\"../\")\n",
    "sys.path.append(\"../inferring\")\n",
    "from importlib import reload\n",
    "\n",
    "import inferring.InferringDFA as InferringDFA, inferring.InferringconvDFA as InferringconvDFA\n",
    "import utils.automats.DFA.PatternDFA as PatternDFA, utils.automats.DFA.convDFA as convDFA\n",
    "import utils.oracles.SRSconv as SRSconv\n",
    "\n",
    "reload(SRSconv)\n",
    "reload(InferringDFA)\n",
    "reload(InferringconvDFA)\n",
    "reload(convDFA)\n",
    "reload(PatternDFA)\n",
    "\n",
    "from inferring.InferringDFA import InferringDFA\n",
    "from inferring.InferringconvDFA import InferringconvDFA\n",
    "from utils.automats.DFA.convDFA import convDFA\n",
    "from utils.automats.DFA.PatternDFA import PatternDFA\n",
    "from utils.oracles.SRSconv import SRSconv"
   ]
  },
  {
   "cell_type": "code",
   "execution_count": 26,
   "metadata": {},
   "outputs": [],
   "source": [
    "def run_learning_process(test, oracle=None, check_consistency=False, equiv_query_fashion=\"BFS\", debug=False):\n",
    "    _dfa = copy.deepcopy(test.dfa)\n",
    "    if test.type==\"conv\":\n",
    "        learn_dfa = InferringconvDFA(_dfa, \n",
    "                                     oracle, \n",
    "                                     check_consistency=check_consistency, \n",
    "                                     equiv_query_fashion=equiv_query_fashion, \n",
    "                                     debug=debug)\n",
    "    if test.type==\"dfa\":\n",
    "        learn_dfa = InferringDFA(_dfa, \n",
    "                                 oracle, \n",
    "                                 check_consistency=check_consistency, \n",
    "                                 equiv_query_fashion=equiv_query_fashion,\n",
    "                                 debug=debug)\n",
    "        \n",
    "    dfa, cnt, cnt_ex = learn_dfa.run(counterexamples=True)\n",
    "    # print(f\"kontrprzykłady: {cnt_ex}, cnt = {cnt}\")\n",
    "    return cnt, copy.deepcopy(dfa) "
   ]
  },
  {
   "cell_type": "code",
   "execution_count": 11,
   "metadata": {},
   "outputs": [],
   "source": [
    "class test_example():\n",
    "    def __init__(self, type, dfa, description=''):\n",
    "        self.type = type\n",
    "        self.dfa = copy.deepcopy(dfa)\n",
    "        self.description = description"
   ]
  },
  {
   "cell_type": "code",
   "execution_count": 12,
   "metadata": {},
   "outputs": [],
   "source": [
    "import random \n",
    "def random_patterns(input_signs, n=5, min_length=1, max_length=10):\n",
    "    patterns = set()\n",
    "    while len(patterns) < n:\n",
    "        p = ''.join(random.choices(population=input_signs,k=random.randint(min_length, max_length)))\n",
    "        patterns.add(p)\n",
    "    return list(patterns)"
   ]
  },
  {
   "cell_type": "code",
   "execution_count": 32,
   "metadata": {},
   "outputs": [],
   "source": [
    "def create_PatternDetection_test(type1=\"AND\", type2=\"AND\", in_alphabet=[], max_number_of_patterns=6, min_length=1, max_length=10):\n",
    "    m = [min_length, max_length]\n",
    "    types = [type1, type2]\n",
    "\n",
    "    dfas, ps = [], []\n",
    "    for i in range(2):\n",
    "        n = random.randint(1,max_number_of_patterns)\n",
    "        if types[i]==\"AND\":\n",
    "            ps.append(random_patterns(in_alphabet, n=n, min_length=max(1,m[0]), max_length=m[1]))\n",
    "        else:\n",
    "            ps.append(random_patterns(in_alphabet, n=n, min_length=m[0], max_length=m[1]))\n",
    "\n",
    "        dfa_ = PatternDFA(input_signs=in_alphabet, patterns=ps[i], _type=types[i])\n",
    "        dfas.append(dfa_)\n",
    "\n",
    "    return copy.deepcopy(dfas[0]), ps[0], copy.deepcopy(dfas[1]), ps[1]"
   ]
  },
  {
   "cell_type": "code",
   "execution_count": 63,
   "metadata": {},
   "outputs": [],
   "source": [
    "class Result():\n",
    "    def __init__(self, ps1, ps2, cnt_dfs, cnt_bfs, upper_bound):\n",
    "        self.ps = [ps1, ps2]\n",
    "        self.cnt = (cnt_dfs, cnt_bfs)\n",
    "        self.upper_bound = upper_bound\n",
    "    \n",
    "    # def __str__(self):\n",
    "    #     \"cnt = \" + str(self.cnt) + \" upper_bound = \" + str(self.upper_bound) + \"\"\n",
    "    \n",
    "    def print_it(self):\n",
    "        print(f\"cnt = {self.cnt} upper_bound = {self.upper_bound}\")\n",
    "    \n",
    "    def get_cnt_dfs(self):\n",
    "        return self.cnt[0]\n",
    "    \n",
    "    def get_cnt_bfs(self):\n",
    "        return self.cnt[1]\n",
    "    "
   ]
  },
  {
   "cell_type": "code",
   "execution_count": 97,
   "metadata": {},
   "outputs": [],
   "source": [
    "def do_tests():\n",
    "    results = []\n",
    "    for i in range(200):\n",
    "        \n",
    "        alph = ['a', 'b', 'c']\n",
    "        dfa1, ps1, dfa2, ps2 = create_PatternDetection_test(type1='OR', type2='OR', in_alphabet=alph, max_number_of_patterns=5, min_length=0, max_length=10)\n",
    "\n",
    "        cnt1, d1 = run_learning_process(test=test_example(type=\"dfa\", dfa=dfa1))\n",
    "        cnt2, d2 = run_learning_process(test=test_example(type=\"dfa\", dfa=dfa2))\n",
    "        convdfa_ = convDFA(type=\"conv\", dfa1=d1, dfa2=d2)\n",
    "\n",
    "        cnt_dfs, d   = run_learning_process(test=test_example(type=\"conv\", dfa=convdfa_), oracle=SRSconv(), check_consistency=True, equiv_query_fashion=\"DFS\")\n",
    "        cnt_bfs, d   = run_learning_process(test=test_example(type=\"conv\", dfa=convdfa_), oracle=SRSconv(), check_consistency=True, equiv_query_fashion=\"BFS\")\n",
    "\n",
    "        upper_bound = cnt1[1] + cnt2[1]\n",
    "        print(f\"{i}: cnt_dfs = {cnt_dfs[1]}, cnt_bfs = {cnt_bfs[1]}, upper_bound = {upper_bound}\")\n",
    "        assert cnt_dfs[1] <= upper_bound and cnt_bfs[1] <= upper_bound, \"hipoteza klap\" \n",
    "        results.append(Result(ps1=ps1, ps2=ps2, cnt_dfs=cnt_dfs[1], cnt_bfs=cnt_bfs[1], upper_bound=upper_bound))\n",
    "\n",
    "    return results"
   ]
  },
  {
   "cell_type": "code",
   "execution_count": null,
   "metadata": {},
   "outputs": [
    {
     "name": "stdout",
     "output_type": "stream",
     "text": [
      "0: cnt_dfs = 1, cnt_bfs = 1, upper_bound = 2\n",
      "1: cnt_dfs = 3, cnt_bfs = 3, upper_bound = 4\n",
      "2: cnt_dfs = 4, cnt_bfs = 4, upper_bound = 6\n",
      "3: cnt_dfs = 3, cnt_bfs = 3, upper_bound = 3\n",
      "4: cnt_dfs = 5, cnt_bfs = 5, upper_bound = 7\n",
      "5: cnt_dfs = 2, cnt_bfs = 2, upper_bound = 3\n",
      "6: cnt_dfs = 2, cnt_bfs = 2, upper_bound = 2\n",
      "7: cnt_dfs = 5, cnt_bfs = 5, upper_bound = 6\n",
      "8: cnt_dfs = 2, cnt_bfs = 3, upper_bound = 5\n",
      "9: cnt_dfs = 5, cnt_bfs = 6, upper_bound = 7\n",
      "10: cnt_dfs = 2, cnt_bfs = 2, upper_bound = 3\n",
      "11: cnt_dfs = 2, cnt_bfs = 3, upper_bound = 3\n",
      "12: cnt_dfs = 5, cnt_bfs = 5, upper_bound = 7\n",
      "13: cnt_dfs = 2, cnt_bfs = 2, upper_bound = 3\n",
      "14: cnt_dfs = 5, cnt_bfs = 9, upper_bound = 9\n",
      "15: cnt_dfs = 1, cnt_bfs = 1, upper_bound = 2\n",
      "16: cnt_dfs = 4, cnt_bfs = 4, upper_bound = 5\n",
      "17: cnt_dfs = 3, cnt_bfs = 6, upper_bound = 7\n"
     ]
    }
   ],
   "source": [
    "res = do_tests()"
   ]
  },
  {
   "cell_type": "code",
   "execution_count": null,
   "metadata": {},
   "outputs": [],
   "source": [
    "for r in res:\n",
    "    rank = r.upper_bound - max(r.get_cnt_dfs(), r.get_cnt_bfs())\n",
    "    r.print_it()\n",
    "    print(f\"rank = {rank}\")\n",
    "res.sort(key= lambda r : r.upper_bound-max(r.get_cnt_dfs(), r.get_cnt_bfs()))"
   ]
  },
  {
   "cell_type": "code",
   "execution_count": 87,
   "metadata": {},
   "outputs": [
    {
     "name": "stdout",
     "output_type": "stream",
     "text": [
      "cnt = (5, 4) upper_bound = 5\n",
      "cnt = (4, 3) upper_bound = 5\n",
      "2\n"
     ]
    }
   ],
   "source": [
    "k = 0 \n",
    "for r in res:\n",
    "    if r.get_cnt_dfs() > r.get_cnt_bfs():\n",
    "        r.print_it()\n",
    "        k += 1 \n",
    "print(k)"
   ]
  },
  {
   "cell_type": "code",
   "execution_count": 92,
   "metadata": {},
   "outputs": [],
   "source": [
    "dfa1 = PatternDFA(input_signs=['a', 'b', 'c', 'd'], patterns=['ccac', 'bbb', 'dddd'], _type=\"AND\")\n",
    "dfa2 = PatternDFA(input_signs=['a', 'b', 'c', 'd'], patterns=['caacc', 'ccc', 'aaaa'], _type=\"AND\")\n",
    "\n",
    "cnt1, d1 = run_learning_process(test=test_example(type=\"dfa\", dfa=dfa1))\n",
    "cnt2, d2 = run_learning_process(test=test_example(type=\"dfa\", dfa=dfa2))"
   ]
  },
  {
   "cell_type": "code",
   "execution_count": 94,
   "metadata": {},
   "outputs": [
    {
     "name": "stdout",
     "output_type": "stream",
     "text": [
      "40 42\n"
     ]
    }
   ],
   "source": [
    "print(d1.Q, d2.Q)"
   ]
  },
  {
   "cell_type": "code",
   "execution_count": 95,
   "metadata": {},
   "outputs": [
    {
     "name": "stdout",
     "output_type": "stream",
     "text": [
      "1680\n"
     ]
    }
   ],
   "source": [
    "convdfa_12 = convDFA(type=\"conv\", dfa1=d1, dfa2=d2)\n",
    "print(convdfa_12.Q)\n",
    "cnt_dfs, d = run_learning_process(test=test_example(type=\"conv\", dfa=convdfa_12), oracle=SRSconv(), check_consistency=True, equiv_query_fashion=\"DFS\")\n",
    "cnt_bfs, d = run_learning_process(test=test_example(type=\"conv\", dfa=convdfa_12), oracle=SRSconv(), check_consistency=True, equiv_query_fashion=\"BFS\")"
   ]
  },
  {
   "cell_type": "code",
   "execution_count": 96,
   "metadata": {},
   "outputs": [
    {
     "name": "stdout",
     "output_type": "stream",
     "text": [
      "[4517, 6], [3471, 5], [2754089, 10], [1970652, 9]\n"
     ]
    }
   ],
   "source": [
    "print(f\"{cnt1}, {cnt2}, {cnt_dfs}, {cnt_bfs}\")"
   ]
  }
 ],
 "metadata": {
  "kernelspec": {
   "display_name": "Python 3",
   "language": "python",
   "name": "python3"
  },
  "language_info": {
   "codemirror_mode": {
    "name": "ipython",
    "version": 3
   },
   "file_extension": ".py",
   "mimetype": "text/x-python",
   "name": "python",
   "nbconvert_exporter": "python",
   "pygments_lexer": "ipython3",
   "version": "3.10.12"
  }
 },
 "nbformat": 4,
 "nbformat_minor": 2
}
