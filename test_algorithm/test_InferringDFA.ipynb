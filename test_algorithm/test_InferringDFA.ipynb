{
 "cells": [
  {
   "cell_type": "markdown",
   "metadata": {},
   "source": [
    "### Testowanie uczenia się DFA z pomocą systemu przepisywania więzów"
   ]
  },
  {
   "cell_type": "code",
   "execution_count": 1,
   "metadata": {},
   "outputs": [],
   "source": [
    "import copy, sys\n",
    "sys.path.append(\"../\")\n",
    "sys.path.append(\"../inferring\")\n",
    "sys.path.append(\"../utils\")\n",
    "sys.path.append(\"../utils/DFA\")\n",
    "from importlib import reload\n",
    "\n",
    "import inferring.Inferring as Inferring, inferring.InferringDFA as InferringDFA,  inferring.InferringconvDFA as InferringconvDFA\n",
    "import utils.automats.DFA, utils.automats.DFA.PatternDFA as PatternDFA\n",
    "import utils.oracles.SRS as SRS, utils.oracles.SRSconv as SRSconv\n",
    "reload(SRS)\n",
    "reload(SRSconv)\n",
    "\n",
    "reload(Inferring)\n",
    "reload(InferringDFA)\n",
    "reload(InferringconvDFA)\n",
    "\n",
    "reload(utils.automats.DFA)\n",
    "reload(PatternDFA)\n",
    "\n",
    "from inferring.Inferring import Inferring\n",
    "from inferring.InferringconvDFA import InferringconvDFA\n",
    "from utils.automats.DFA.convDFA import convDFA\n",
    "from utils.automats.DFA.DFA import DFA\n",
    "from utils.automats.DFA.PatternDFA import PatternDFA\n",
    "from utils.oracles.SRSconv import SRSconv\n",
    "\n",
    "from inferring.InferringDFA import InferringDFA"
   ]
  },
  {
   "cell_type": "code",
   "execution_count": 2,
   "metadata": {},
   "outputs": [],
   "source": [
    "def run_learning_process(test, oracle=None, check_consistency=False, debug=False):\n",
    "    _dfa = copy.deepcopy(test.dfa)\n",
    "    # _dfa = test.dfa\n",
    "    if test.type==\"conv\":\n",
    "        learn_dfa = InferringconvDFA(_dfa, oracle, check_consistency=check_consistency, debug=debug)\n",
    "    if test.type==\"dfa\":\n",
    "        learn_dfa = InferringDFA(_dfa, oracle, check_consistency=check_consistency, debug=debug)\n",
    "        \n",
    "    dfa, cnt, cnt_ex = learn_dfa.run(counterexamples=True)\n",
    "    print(f\"kontrprzykłady: {cnt_ex}, cnt = {cnt}\")\n",
    "    return copy.deepcopy(dfa) "
   ]
  },
  {
   "cell_type": "code",
   "execution_count": 3,
   "metadata": {},
   "outputs": [],
   "source": [
    "class test_example():\n",
    "    def __init__(self, type, dfa, description=''):\n",
    "        self.type = type\n",
    "        self.dfa = copy.deepcopy(dfa)\n",
    "        self.description = description"
   ]
  },
  {
   "cell_type": "code",
   "execution_count": 5,
   "metadata": {},
   "outputs": [],
   "source": [
    "test_examples = [\n",
    "    test_example(type = \"conv\", \n",
    "                 dfa = convDFA(type=\"conv\", \n",
    "                               dfa1 = DFA(Q=4, input_signs=['a', 'b'], δ = {(0, 'a'):1, (0, 'b'):0, (1, 'a'):1, (1, 'b'):2, (2, 'a'):3, (2, 'b'):0, (3, 'a'):3, (3, 'b'):3}, F=set([3])),\n",
    "                               dfa2 = DFA(Q=4, input_signs=['a', 'b'], δ = {(0, 'a'):0, (0, 'b'):1, (1, 'a'):0, (1, 'b'):2, (2, 'a'):0, (2, 'b'):3, (3, 'a'):3, (3, 'b'):3}, F=set([3]))),\n",
    "                 description = \"splot, dfa1 - wzorzec 'aba', dfa2 - wzorzec 'bbb'\"),\n",
    "    \n",
    "    test_example(type=\"conv\", \n",
    "                 dfa = convDFA(type=\"conv\", \n",
    "                               dfa1=DFA(Q=3, input_signs=['a', 'b'], δ={(0,'a'):0, (0,'b'):1, (1, 'a'):0, (1, 'b'):2, (2, 'a'):2, (2, 'b'):2}, F= set([2])), \n",
    "                               dfa2=DFA(Q=3, input_signs=['a', 'b'], δ={(0,'a'):1, (0,'b'):0, (1, 'a'):2, (1, 'b'):0, (2, 'a'):2, (2, 'b'):2}, F= set([2]))),\n",
    "                description=\"splot, dfa1 - wzorzec - 'bb', dfa2 - wzorzec 'aa'\" ),\n",
    "    \n",
    "    test_example(type=\"conv\", \n",
    "                 dfa = convDFA(type=\"conv\", \n",
    "                               dfa1=DFA(Q=4, input_signs=['a', 'b'], δ={(0,'a'):0, (0,'b'):1, (1, 'a'):0, (1, 'b'):2, (2, 'a'):0, (2, 'b'):3, (3, 'a'):3, (3, 'b'):3}, F= set([3])),\n",
    "                               dfa2=DFA(Q=4, input_signs=['a', 'b'], δ={(0,'a'):1, (0,'b'):0, (1, 'a'):2, (1, 'b'):0, (2, 'a'):3, (2, 'b'):0, (3, 'a'):3, (3, 'b'):3}, F= set([3]))),\n",
    "                 description=\"splot, dfa1 - wzorzec 'bbb', dfa2 - wzorzec 'aaa'\"),\n",
    "                 \n",
    "    test_example(type=\"conv\",\n",
    "                 dfa=convDFA(type=\"conv\",\n",
    "                             dfa1=DFA(Q=2, input_signs=['a', 'b'], δ = {(0,'a'):1, (0, 'b'):0, (1, 'a'):1, (1, 'b'):1}, F=set([1])),\n",
    "                             dfa2=DFA(Q=2, input_signs=['a', 'b'], δ = {(0,'a'):1, (0, 'b'):0, (1, 'a'):1, (1, 'b'):1}, F=set([1]))),\n",
    "                description=\"splot, dfa1 - słowa zawierające literke 'a', dfa2 - słowa zawierające literke 'a'\"),\n",
    "                \n",
    "    test_example(type=\"conv\", \n",
    "                 dfa=convDFA(type=\"conv\",\n",
    "                             dfa1=DFA(Q=4, input_signs=['a', 'b'], δ={(0, 'a'):2, (0,'b'):1, (1, 'b'):1, (1, 'a'):3, (2, 'a'):2, (2, 'b'):3, (3, 'a'):3, (3, 'b'):3}, F=set([3])),\n",
    "                             dfa2=DFA(Q=4, input_signs=['a', 'b'], δ={(0, 'a'):2, (0,'b'):1, (1, 'b'):1, (1, 'a'):3, (2, 'a'):2, (2, 'b'):3, (3, 'a'):3, (3, 'b'):3}, F=set([3]))),\n",
    "                description=\"splot, dfa1 - słowa zawierające i literę 'a' i literę 'b', dfa2 - słowa zawierające i literę 'a' i literę 'b'\"),\n",
    "                \n",
    "    test_example(type=\"dfa\", \n",
    "                 dfa=DFA(Q=3, input_signs=['0', '1', '2', '3', '4', '5', '6', '7'], δ={(0,'0'):0, (0,'1'):2, (0,'2'):2, (0,'3'):0, (0,'4'):2, (0,'5'):0, (0,'6'):1, (0,'7'):2, (1,'0'):2, (1,'1'):0, (1,'2'):1, (1,'3'):2, (1,'4'):1, (1,'5'):2, (1,'6'):2, (1,'7'):1, (2,'0'):2, (2,'1'):2, (2,'2'):2, (2,'3'):2, (2,'4'):2, (2,'5'):2, (2,'6'):2, (2,'7'):2}, F=set([0])),\n",
    "                 description=\"zakodowane dodawania w systemie dwójkowym\"), \n",
    "    \n",
    "    test_example(type=\"conv\", \n",
    "                 dfa=convDFA(type=\"conv\", \n",
    "                             dfa1=DFA(Q=5, input_signs=['a', 'b'], δ={(0,'a'):1, (0,'b'):3, (1,'a'):2, (1,'b'):3, (2,'a'):2, (2,'b'):2, (3,'a'):1, (3,'b'):4, (4,'a'):4, (4,'b'):4}, F=set([2, 4])),\n",
    "                             dfa2=DFA(Q=5, input_signs=['a', 'b'], δ={(0,'a'):1, (0,'b'):3, (1,'a'):2, (1,'b'):3, (2,'a'):2, (2,'b'):2, (3,'a'):1, (3,'b'):4, (4,'a'):4, (4,'b'):4}, F=set([2, 4])),\n",
    "                description=\"splot, dfa1 - 2 wzorce 'aa' lub 'bb', dfa2 - 2 wzorce 'aa' lub 'bb'\")),\n",
    "                \n",
    "    test_example(type=\"conv\", \n",
    "                 dfa=convDFA(type=\"conv\", \n",
    "                             dfa1=DFA(Q=9, input_signs=['a', 'b'], δ={(0,'a'):1, (0,'b'):3, (1,'a'):2, (1,'b'):3, (2,'a'):2, (2,'b'):5, (3,'a'):1, (3,'b'):4, (4,'a'):7, (4,'b'):4, (5,'a'):5, (5,'b'):6, (6,'a'):6, (6,'b'):6, (7,'a'):8, (7,'b'):7, (8,'a'):8, (8,'b'):8}, F=set([6, 8])),\n",
    "                             dfa2=DFA(Q=9, input_signs=['a', 'b'], δ={(0,'a'):1, (0,'b'):3, (1,'a'):2, (1,'b'):3, (2,'a'):2, (2,'b'):5, (3,'a'):1, (3,'b'):4, (4,'a'):7, (4,'b'):4, (5,'a'):5, (5,'b'):6, (6,'a'):6, (6,'b'):6, (7,'a'):8, (7,'b'):7, (8,'a'):8, (8,'b'):8}, F=set([6, 8]))),\n",
    "                description=\"splot, dfa1 - 2 wzorce 'aa' i 'bb', dfa2 - 2 wzorce 'aa' i 'bb'\"), \n",
    "    test_example(type=\"conv\",\n",
    "                    dfa=convDFA(type=\"conv\",\n",
    "                                dfa1=PatternDFA(input_signs=['a', 'b'], patterns=['aa', 'bb']),\n",
    "                                dfa2=PatternDFA(input_signs=['a', 'b', 'c'], patterns=['aa', 'bb', 'c'])),\n",
    "                    description=\"splot, dfa1 - 2 wzorce: 'aa', 'bb', dfa2 - 3 wzorce: 'aa', 'bb', 'c'\")]"
   ]
  },
  {
   "cell_type": "code",
   "execution_count": 6,
   "metadata": {},
   "outputs": [
    {
     "name": "stdout",
     "output_type": "stream",
     "text": [
      "splot, dfa1 - 2 wzorce: 'aa', 'bb', dfa2 - 3 wzorce: 'aa', 'bb', 'c'\n",
      "kontrprzykłady: [9, 9, 9, 9, 9, 9, 9, 9, 9, 9, 9, 9, 9, 9, 9, 9, 9, 9, 9, 9, 9, 9, 9, 9, 9, 9, 9, 9, 9, 9, 9, 9, 9, 9, 9, 9, 9, 9, 9, 9, 9, 9, 9, 9, 9, 9, 9, 9, 9, 9, 9, 9, 9, 9, 9, 9, 9, 9, 9, 9, 9, 9, 9, 9, 9], cnt = [46811, 66]\n",
      "kontrprzykłady: [9, 9, 9, 9, 9, 9, 9, 9, 9, 9, 9, 9, 9, 9, 9, 9, 9, 9, 9, 9, 9, 9, 9, 9, 9, 9, 9, 9, 9, 9, 9, 9, 9, 9, 9, 9, 9, 9, 9, 9, 9, 9, 9, 9, 9, 9, 9, 9, 9, 9, 9, 9, 9, 9, 9, 9, 9, 9, 9, 9, 9, 9, 9, 9, 9], cnt = [23450, 66]\n",
      "kontrprzykłady: [9, 9, 9, 9, 9, 9, 9, 9, 9, 9, 13, 9, 9, 9, 13, 9, 11, 13, 9, 9, 9, 10, 12, 12, 10, 9, 9, 10, 9, 9, 9, 13, 9, 13, 9, 10, 12, 12, 12, 9, 9, 10, 10, 9, 9], cnt = [17361, 7]\n"
     ]
    }
   ],
   "source": [
    "test = test_examples[8] \n",
    "print(test.description)\n",
    "d = run_learning_process(copy.deepcopy(test), oracle=None, check_consistency=False)\n",
    "d = run_learning_process(copy.deepcopy(test), oracle=SRSconv(), check_consistency=False)\n",
    "d = run_learning_process(copy.deepcopy(test), oracle=SRSconv(), check_consistency=True)"
   ]
  },
  {
   "cell_type": "markdown",
   "metadata": {},
   "source": [
    "### Duże automaty - ropoznające kilkadziesiąt wzorców"
   ]
  },
  {
   "cell_type": "code",
   "execution_count": 4,
   "metadata": {},
   "outputs": [
    {
     "data": {
      "text/plain": [
       "['abdaac', 'caacacb', 'dbbadbac', 'caacd', 'dc']"
      ]
     },
     "execution_count": 4,
     "metadata": {},
     "output_type": "execute_result"
    }
   ],
   "source": [
    "import random \n",
    "def random_patterns(input_signs, n=5, max_length=10):\n",
    "    patterns = []\n",
    "    for _ in range(n):\n",
    "        p = ''.join(random.choices(population=input_signs,k=random.randint(1, max_length)))\n",
    "        patterns.append(p)\n",
    "    return patterns\n",
    "\n",
    "random_patterns(input_signs=['a', 'b', 'c', 'd'], max_length=8)"
   ]
  },
  {
   "cell_type": "code",
   "execution_count": 12,
   "metadata": {},
   "outputs": [
    {
     "name": "stdout",
     "output_type": "stream",
     "text": [
      "patterns1 = ['ddad', 'cad', 'aca', 'c']\n",
      "|Q1| = 160\n",
      "patterns2 = ['dcdcda', 'ccd', 'ccbbcc', 'a']\n",
      "|Q2| = 392\n",
      "0-ta iteracja głównej pętli\n",
      "1-ta iteracja głównej pętli\n",
      "2-ta iteracja głównej pętli\n",
      "3-ta iteracja głównej pętli\n",
      "4-ta iteracja głównej pętli\n",
      "kontrprzykłady: [7, 8, 9, 11], cnt = [2543, 5]\n",
      "0-ta iteracja głównej pętli\n",
      "1-ta iteracja głównej pętli\n",
      "2-ta iteracja głównej pętli\n",
      "3-ta iteracja głównej pętli\n",
      "4-ta iteracja głównej pętli\n",
      "5-ta iteracja głównej pętli\n",
      "6-ta iteracja głównej pętli\n",
      "kontrprzykłady: [12, 13, 14, 15, 16, 16], cnt = [6646, 7]\n"
     ]
    }
   ],
   "source": [
    "random.seed(25)\n",
    "\n",
    "input_signs = ['a', 'b', 'c', 'd']\n",
    "number_of_patterns = 4\n",
    "max_pattern_length = 6 \n",
    "\n",
    "patterns1, patterns2 = random_patterns(input_signs, number_of_patterns, max_pattern_length), random_patterns(input_signs, number_of_patterns, max_pattern_length)\n",
    "\n",
    "dfa1 = PatternDFA(input_signs=input_signs, patterns=patterns1)\n",
    "dfa2 = PatternDFA(input_signs=input_signs, patterns=patterns2)\n",
    "\n",
    "print(f\"patterns1 = {patterns1}\")\n",
    "print(f\"|Q1| = {dfa1.Q}\")\n",
    "\n",
    "print(f\"patterns2 = {patterns2}\")\n",
    "print(f\"|Q2| = {dfa2.Q}\")\n",
    "\n",
    "d1 = run_learning_process(test_example(type=\"dfa\", dfa=copy.deepcopy(dfa1)))\n",
    "d2 = run_learning_process(test_example(type=\"dfa\", dfa=copy.deepcopy(dfa2)))"
   ]
  },
  {
   "cell_type": "code",
   "execution_count": 13,
   "metadata": {},
   "outputs": [
    {
     "name": "stdout",
     "output_type": "stream",
     "text": [
      "after learning |Q1| = 36\n",
      "after learning |Q2| = 52\n",
      "('ddadcadacac', 1), ('dcdcdaccdccbbcca', 1)\n"
     ]
    }
   ],
   "source": [
    "print(f\"after learning |Q1| = {d1.Q}\")\n",
    "s1 = ''.join(patterns1)\n",
    "ans1 = d1.route(s1)\n",
    "\n",
    "s2 = ''.join(patterns2)\n",
    "print(f\"after learning |Q2| = {d2.Q}\")\n",
    "ans2 = d2.route(s2)\n",
    "\n",
    "print(f\"{ans1}, {ans2}\")"
   ]
  },
  {
   "cell_type": "code",
   "execution_count": 14,
   "metadata": {},
   "outputs": [],
   "source": [
    "dfa_ = convDFA(type=\"conv\", dfa1=copy.deepcopy(d1), dfa2=copy.deepcopy(d2))"
   ]
  },
  {
   "cell_type": "code",
   "execution_count": 15,
   "metadata": {},
   "outputs": [
    {
     "name": "stdout",
     "output_type": "stream",
     "text": [
      "|Q_conv(d1,d2)| = 1872\n"
     ]
    }
   ],
   "source": [
    "dfa_.route(s1+s2.upper())\n",
    "\n",
    "print(f\"|Q_conv(d1,d2)| = {dfa_.Q}\")"
   ]
  },
  {
   "cell_type": "code",
   "execution_count": 16,
   "metadata": {},
   "outputs": [
    {
     "name": "stdout",
     "output_type": "stream",
     "text": [
      "splot, dfa1 - wzorce: ['ddad', 'cad', 'aca', 'c'], dfa2 - wzorce: ['dcdcda', 'ccd', 'ccbbcc', 'a']\n"
     ]
    }
   ],
   "source": [
    "test = test_example(type=\"conv\", dfa=dfa_, description=f\"splot, dfa1 - wzorce: {patterns1}, dfa2 - wzorce: {patterns2}\")\n",
    "print(test.description)"
   ]
  },
  {
   "cell_type": "code",
   "execution_count": null,
   "metadata": {},
   "outputs": [],
   "source": [
    "d = run_learning_process(test, oracle=SRSconv(), check_consistency=True)"
   ]
  },
  {
   "cell_type": "code",
   "execution_count": 17,
   "metadata": {},
   "outputs": [
    {
     "name": "stdout",
     "output_type": "stream",
     "text": [
      "0-ta iteracja głównej pętli\n",
      "1-ta iteracja głównej pętli\n",
      "2-ta iteracja głównej pętli\n",
      "3-ta iteracja głównej pętli\n",
      "4-ta iteracja głównej pętli\n",
      "5-ta iteracja głównej pętli\n",
      "6-ta iteracja głównej pętli\n",
      "7-ta iteracja głównej pętli\n",
      "8-ta iteracja głównej pętli\n",
      "9-ta iteracja głównej pętli\n",
      "10-ta iteracja głównej pętli\n",
      "11-ta iteracja głównej pętli\n",
      "12-ta iteracja głównej pętli\n",
      "13-ta iteracja głównej pętli\n",
      "14-ta iteracja głównej pętli\n",
      "15-ta iteracja głównej pętli\n",
      "16-ta iteracja głównej pętli\n",
      "17-ta iteracja głównej pętli\n",
      "18-ta iteracja głównej pętli\n",
      "19-ta iteracja głównej pętli\n",
      "20-ta iteracja głównej pętli\n",
      "21-ta iteracja głównej pętli\n",
      "22-ta iteracja głównej pętli\n",
      "23-ta iteracja głównej pętli\n",
      "24-ta iteracja głównej pętli\n",
      "25-ta iteracja głównej pętli\n",
      "26-ta iteracja głównej pętli\n",
      "27-ta iteracja głównej pętli\n",
      "28-ta iteracja głównej pętli\n",
      "29-ta iteracja głównej pętli\n",
      "30-ta iteracja głównej pętli\n",
      "31-ta iteracja głównej pętli\n",
      "32-ta iteracja głównej pętli\n",
      "33-ta iteracja głównej pętli\n",
      "34-ta iteracja głównej pętli\n",
      "35-ta iteracja głównej pętli\n",
      "36-ta iteracja głównej pętli\n",
      "37-ta iteracja głównej pętli\n",
      "38-ta iteracja głównej pętli\n",
      "39-ta iteracja głównej pętli\n",
      "40-ta iteracja głównej pętli\n",
      "41-ta iteracja głównej pętli\n",
      "42-ta iteracja głównej pętli\n",
      "43-ta iteracja głównej pętli\n",
      "44-ta iteracja głównej pętli\n",
      "45-ta iteracja głównej pętli\n",
      "46-ta iteracja głównej pętli\n",
      "47-ta iteracja głównej pętli\n",
      "48-ta iteracja głównej pętli\n",
      "49-ta iteracja głównej pętli\n",
      "50-ta iteracja głównej pętli\n",
      "51-ta iteracja głównej pętli\n",
      "52-ta iteracja głównej pętli\n",
      "53-ta iteracja głównej pętli\n",
      "54-ta iteracja głównej pętli\n",
      "55-ta iteracja głównej pętli\n",
      "56-ta iteracja głównej pętli\n",
      "57-ta iteracja głównej pętli\n",
      "58-ta iteracja głównej pętli\n",
      "59-ta iteracja głównej pętli\n",
      "60-ta iteracja głównej pętli\n",
      "61-ta iteracja głównej pętli\n",
      "62-ta iteracja głównej pętli\n",
      "63-ta iteracja głównej pętli\n",
      "64-ta iteracja głównej pętli\n",
      "65-ta iteracja głównej pętli\n",
      "66-ta iteracja głównej pętli\n",
      "67-ta iteracja głównej pętli\n",
      "68-ta iteracja głównej pętli\n",
      "69-ta iteracja głównej pętli\n",
      "70-ta iteracja głównej pętli\n",
      "71-ta iteracja głównej pętli\n",
      "72-ta iteracja głównej pętli\n",
      "73-ta iteracja głównej pętli\n",
      "74-ta iteracja głównej pętli\n",
      "75-ta iteracja głównej pętli\n",
      "76-ta iteracja głównej pętli\n",
      "77-ta iteracja głównej pętli\n",
      "78-ta iteracja głównej pętli\n",
      "79-ta iteracja głównej pętli\n",
      "80-ta iteracja głównej pętli\n",
      "81-ta iteracja głównej pętli\n",
      "82-ta iteracja głównej pętli\n",
      "83-ta iteracja głównej pętli\n",
      "84-ta iteracja głównej pętli\n",
      "85-ta iteracja głównej pętli\n",
      "86-ta iteracja głównej pętli\n",
      "87-ta iteracja głównej pętli\n",
      "88-ta iteracja głównej pętli\n",
      "89-ta iteracja głównej pętli\n",
      "90-ta iteracja głównej pętli\n",
      "91-ta iteracja głównej pętli\n",
      "92-ta iteracja głównej pętli\n",
      "93-ta iteracja głównej pętli\n",
      "94-ta iteracja głównej pętli\n",
      "95-ta iteracja głównej pętli\n",
      "96-ta iteracja głównej pętli\n",
      "97-ta iteracja głównej pętli\n"
     ]
    },
    {
     "ename": "KeyboardInterrupt",
     "evalue": "",
     "output_type": "error",
     "traceback": [
      "\u001b[0;31m---------------------------------------------------------------------------\u001b[0m",
      "\u001b[0;31mKeyboardInterrupt\u001b[0m                         Traceback (most recent call last)",
      "Cell \u001b[0;32mIn[17], line 1\u001b[0m\n\u001b[0;32m----> 1\u001b[0m d \u001b[38;5;241m=\u001b[39m \u001b[43mrun_learning_process\u001b[49m\u001b[43m(\u001b[49m\u001b[43mcopy\u001b[49m\u001b[38;5;241;43m.\u001b[39;49m\u001b[43mdeepcopy\u001b[49m\u001b[43m(\u001b[49m\u001b[43mtest\u001b[49m\u001b[43m)\u001b[49m\u001b[43m,\u001b[49m\u001b[43m \u001b[49m\u001b[43moracle\u001b[49m\u001b[38;5;241;43m=\u001b[39;49m\u001b[38;5;28;43;01mNone\u001b[39;49;00m\u001b[43m,\u001b[49m\u001b[43m \u001b[49m\u001b[43mcheck_consistency\u001b[49m\u001b[38;5;241;43m=\u001b[39;49m\u001b[38;5;28;43;01mFalse\u001b[39;49;00m\u001b[43m)\u001b[49m\n",
      "Cell \u001b[0;32mIn[2], line 9\u001b[0m, in \u001b[0;36mrun_learning_process\u001b[0;34m(test, oracle, check_consistency, debug)\u001b[0m\n\u001b[1;32m      6\u001b[0m \u001b[38;5;28;01mif\u001b[39;00m test\u001b[38;5;241m.\u001b[39mtype\u001b[38;5;241m==\u001b[39m\u001b[38;5;124m\"\u001b[39m\u001b[38;5;124mdfa\u001b[39m\u001b[38;5;124m\"\u001b[39m:\n\u001b[1;32m      7\u001b[0m     learn_dfa \u001b[38;5;241m=\u001b[39m InferringDFA(_dfa, oracle, check_consistency\u001b[38;5;241m=\u001b[39mcheck_consistency, debug\u001b[38;5;241m=\u001b[39mdebug)\n\u001b[0;32m----> 9\u001b[0m dfa, cnt, cnt_ex \u001b[38;5;241m=\u001b[39m \u001b[43mlearn_dfa\u001b[49m\u001b[38;5;241;43m.\u001b[39;49m\u001b[43mrun\u001b[49m\u001b[43m(\u001b[49m\u001b[43mcounterexamples\u001b[49m\u001b[38;5;241;43m=\u001b[39;49m\u001b[38;5;28;43;01mTrue\u001b[39;49;00m\u001b[43m)\u001b[49m\n\u001b[1;32m     10\u001b[0m \u001b[38;5;28mprint\u001b[39m(\u001b[38;5;124mf\u001b[39m\u001b[38;5;124m\"\u001b[39m\u001b[38;5;124mkontrprzykłady: \u001b[39m\u001b[38;5;132;01m{\u001b[39;00mcnt_ex\u001b[38;5;132;01m}\u001b[39;00m\u001b[38;5;124m, cnt = \u001b[39m\u001b[38;5;132;01m{\u001b[39;00mcnt\u001b[38;5;132;01m}\u001b[39;00m\u001b[38;5;124m\"\u001b[39m)\n\u001b[1;32m     11\u001b[0m \u001b[38;5;28;01mreturn\u001b[39;00m copy\u001b[38;5;241m.\u001b[39mdeepcopy(dfa)\n",
      "File \u001b[0;32m~/Documents/studia2/magisterka/test_algorithm/../inferring/Inferring.py:51\u001b[0m, in \u001b[0;36mInferring.run\u001b[0;34m(self, counterexamples)\u001b[0m\n\u001b[1;32m     49\u001b[0m \u001b[38;5;28;01mwhile\u001b[39;00m check \u001b[38;5;241m==\u001b[39m \u001b[38;5;28;01mFalse\u001b[39;00m:\n\u001b[1;32m     50\u001b[0m     \u001b[38;5;28mself\u001b[39m\u001b[38;5;241m.\u001b[39m_extend_S(x)\n\u001b[0;32m---> 51\u001b[0m     check, x \u001b[38;5;241m=\u001b[39m \u001b[38;5;28mself\u001b[39m\u001b[38;5;241m.\u001b[39m_closed()\n\u001b[1;32m     53\u001b[0m \u001b[38;5;28;01mif\u001b[39;00m \u001b[38;5;28mself\u001b[39m\u001b[38;5;241m.\u001b[39mdebug:\n\u001b[1;32m     54\u001b[0m     \u001b[38;5;28mprint\u001b[39m(\n\u001b[1;32m     55\u001b[0m         \u001b[38;5;124mf\u001b[39m\u001b[38;5;124m\"\u001b[39m\u001b[38;5;124mzamkniętość sprawdzona - S = \u001b[39m\u001b[38;5;132;01m{\u001b[39;00m\u001b[38;5;28msorted\u001b[39m(\u001b[38;5;28mself\u001b[39m\u001b[38;5;241m.\u001b[39mS)\u001b[38;5;132;01m}\u001b[39;00m\u001b[38;5;124m, rozmiar E = \u001b[39m\u001b[38;5;132;01m{\u001b[39;00m\u001b[38;5;28msorted\u001b[39m(\u001b[38;5;28mself\u001b[39m\u001b[38;5;241m.\u001b[39mE)\u001b[38;5;132;01m}\u001b[39;00m\u001b[38;5;124m\"\u001b[39m\n\u001b[1;32m     56\u001b[0m     )\n",
      "File \u001b[0;32m~/Documents/studia2/magisterka/test_algorithm/../inferring/Inferring.py:148\u001b[0m, in \u001b[0;36mInferring._closed\u001b[0;34m(self)\u001b[0m\n\u001b[1;32m    146\u001b[0m check \u001b[38;5;241m=\u001b[39m \u001b[38;5;28;01mFalse\u001b[39;00m\n\u001b[1;32m    147\u001b[0m \u001b[38;5;28;01mfor\u001b[39;00m t \u001b[38;5;129;01min\u001b[39;00m \u001b[38;5;28mself\u001b[39m\u001b[38;5;241m.\u001b[39mS:\n\u001b[0;32m--> 148\u001b[0m     \u001b[38;5;28;01mif\u001b[39;00m \u001b[38;5;28;43mself\u001b[39;49m\u001b[38;5;241;43m.\u001b[39;49m\u001b[43m_E_realtion\u001b[49m\u001b[43m(\u001b[49m\u001b[43mw\u001b[49m\u001b[43m,\u001b[49m\u001b[43m \u001b[49m\u001b[43mt\u001b[49m\u001b[43m)\u001b[49m:\n\u001b[1;32m    149\u001b[0m         check \u001b[38;5;241m=\u001b[39m \u001b[38;5;28;01mTrue\u001b[39;00m\n\u001b[1;32m    150\u001b[0m         \u001b[38;5;28;01mbreak\u001b[39;00m\n",
      "File \u001b[0;32m~/Documents/studia2/magisterka/test_algorithm/../inferring/Inferring.py:133\u001b[0m, in \u001b[0;36mInferring._E_realtion\u001b[0;34m(self, s, t)\u001b[0m\n\u001b[1;32m    131\u001b[0m \u001b[38;5;28;01mdef\u001b[39;00m \u001b[38;5;21m_E_realtion\u001b[39m(\u001b[38;5;28mself\u001b[39m, s, t):\n\u001b[1;32m    132\u001b[0m     \u001b[38;5;28;01mfor\u001b[39;00m e \u001b[38;5;129;01min\u001b[39;00m \u001b[38;5;28mself\u001b[39m\u001b[38;5;241m.\u001b[39mE:\n\u001b[0;32m--> 133\u001b[0m         \u001b[38;5;28;01mif\u001b[39;00m \u001b[38;5;28mself\u001b[39m\u001b[38;5;241m.\u001b[39mT[(s, e)] \u001b[38;5;241m!=\u001b[39m \u001b[38;5;28mself\u001b[39m\u001b[38;5;241m.\u001b[39mT[(t, e)]:\n\u001b[1;32m    134\u001b[0m             \u001b[38;5;28;01mreturn\u001b[39;00m \u001b[38;5;28;01mFalse\u001b[39;00m\n\u001b[1;32m    135\u001b[0m     \u001b[38;5;28;01mreturn\u001b[39;00m \u001b[38;5;28;01mTrue\u001b[39;00m\n",
      "\u001b[0;31mKeyboardInterrupt\u001b[0m: "
     ]
    }
   ],
   "source": [
    "d = run_learning_process(copy.deepcopy(test), oracle=None, check_consistency=False)"
   ]
  },
  {
   "cell_type": "code",
   "execution_count": null,
   "metadata": {},
   "outputs": [],
   "source": [
    "test = test_example(type=\"conv\", dfa=dfa_, description=f\"splot, dfa1 - wzorce: {patterns1}, dfa2 - wzorce: {patterns2}\")\n",
    "print(test.description)\n",
    "d = run_learning_process(copy.deepcopy(test), oracle=None, check_consistency=False)\n",
    "d = run_learning_process(copy.deepcopy(test), oracle=SRSconv(), check_consistency=False)\n",
    "d = run_learning_process(copy.deepcopy(test), oracle=SRSconv(), check_consistency=True)\n"
   ]
  },
  {
   "cell_type": "markdown",
   "metadata": {},
   "source": [
    "### Uczenie się splotu DFA - **debugowanie** "
   ]
  },
  {
   "cell_type": "markdown",
   "metadata": {},
   "source": [
    "<!-- ### Uczenie się splotów - **debugowanie**  -->"
   ]
  },
  {
   "cell_type": "code",
   "execution_count": null,
   "metadata": {},
   "outputs": [],
   "source": [
    "import copy, sys\n",
    "sys.path.append(\"../\")\n",
    "sys.path.append(\"../inferring\")\n",
    "sys.path.append(\"../utils\")\n",
    "sys.path.append(\"../utils/DFA\")\n",
    "from importlib import reload\n",
    "\n",
    "import inferring.Inferring as Inferring, inferring.InferringDFA as InferringDFA,  inferring.InferringconvDFA as InferringconvDFA\n",
    "import utils.automats.DFA\n",
    "import utils.oracles.SRS as SRS, utils.oracles.SRSconv as SRSconv\n",
    "reload(SRS)\n",
    "reload(SRSconv)\n",
    "\n",
    "reload(Inferring)\n",
    "reload(InferringDFA)\n",
    "reload(InferringconvDFA)\n",
    "\n",
    "reload(utils.automats.DFA)\n",
    "\n",
    "\n",
    "from inferring.Inferring import Inferring\n",
    "from inferring.InferringconvDFA import InferringconvDFA\n",
    "from utils.automats.DFA.convDFA import convDFA\n",
    "from utils.automats.DFA.DFA import DFA\n",
    "from utils.automats.DFA.PatternDFA import PatternDFA\n",
    "from utils.oracles.SRSconv import SRSconv\n",
    "\n",
    "from inferring.InferringDFA import InferringDFA\n",
    "\n",
    "def run_learning_process(_dfa, oracle=None, debug=False, check_consistency=False):\n",
    "    learn_dfa = InferringconvDFA(_dfa, oracle, debug=debug, check_consistency=check_consistency)\n",
    "    dfa, cnt, cnt_ex = learn_dfa.run(counterexamples=True)\n",
    "    print(f\"kontrprzykłady: {cnt_ex}, cnt = {cnt}\")\n",
    "    return copy.deepcopy(dfa) "
   ]
  },
  {
   "cell_type": "code",
   "execution_count": null,
   "metadata": {},
   "outputs": [
    {
     "name": "stdout",
     "output_type": "stream",
     "text": [
      "kontrprzykłady: [4, 4, 4, 4], cnt = [153, 2]\n"
     ]
    }
   ],
   "source": [
    "\"\"\"wzorzec - bb\"\"\"\n",
    "dfa1 = DFA(Q=3, input_signs=['a', 'b'], \n",
    "           δ={(0,'a'):0, (0,'b'):1, (1, 'a'):0, (1, 'b'):2, (2, 'a'):2, (2, 'b'):2}, F= set([2]))\n",
    "\"\"\"wzorzec - aa\"\"\"\n",
    "dfa2 = DFA(Q=3, input_signs=['a', 'b'], \n",
    "           δ={(0,'a'):1, (0,'b'):0, (1, 'a'):2, (1, 'b'):0, (2, 'a'):2, (2, 'b'):2}, F= set([2]))\n",
    "\n",
    "convdfa = convDFA(type='conv', dfa1=dfa1, dfa2=dfa2)\n",
    "d = run_learning_process(copy.deepcopy(convdfa), oracle=SRSconv(), debug=False, check_consistency=True)"
   ]
  }
 ],
 "metadata": {
  "kernelspec": {
   "display_name": "Python 3",
   "language": "python",
   "name": "python3"
  },
  "language_info": {
   "codemirror_mode": {
    "name": "ipython",
    "version": 3
   },
   "file_extension": ".py",
   "mimetype": "text/x-python",
   "name": "python",
   "nbconvert_exporter": "python",
   "pygments_lexer": "ipython3",
   "version": "3.10.12"
  }
 },
 "nbformat": 4,
 "nbformat_minor": 2
}
