{
 "cells": [
  {
   "cell_type": "markdown",
   "metadata": {},
   "source": [
    "### Testowanie uczenia się DFA z pomocą systemu przepisywania więzów"
   ]
  },
  {
   "cell_type": "code",
   "execution_count": 2,
   "metadata": {},
   "outputs": [],
   "source": [
    "import copy, sys\n",
    "sys.path.append(\"../\")\n",
    "sys.path.append(\"../inferring\")\n",
    "sys.path.append(\"../utils\")\n",
    "sys.path.append(\"../utils/DFA\")\n",
    "from importlib import reload\n",
    "\n",
    "import inferring.Inferring as Inferring, inferring.InferringDFA as InferringDFA,  inferring.InferringconvDFA as InferringconvDFA\n",
    "import utils.automats.DFA\n",
    "import utils.oracles.SRS as SRS, utils.oracles.SRSconv as SRSconv\n",
    "reload(SRS)\n",
    "reload(SRSconv)\n",
    "\n",
    "reload(Inferring)\n",
    "reload(InferringDFA)\n",
    "reload(InferringconvDFA)\n",
    "\n",
    "\n",
    "reload(utils.automats.DFA)\n",
    "\n",
    "\n",
    "from inferring.Inferring import Inferring\n",
    "from inferring.InferringconvDFA import InferringconvDFA\n",
    "from utils.automats.DFA.convDFA import convDFA\n",
    "from utils.automats.DFA.DFA import DFA\n",
    "from utils.automats.DFA.PatternDFA import PatternDFA\n",
    "from utils.oracles.SRSconv import SRSconv\n",
    "\n",
    "from inferring.InferringDFA import InferringDFA"
   ]
  },
  {
   "cell_type": "code",
   "execution_count": 3,
   "metadata": {},
   "outputs": [],
   "source": [
    "def run_learning_process(test, oracle=None, check_consistency=False, debug=False):\n",
    "    _dfa = copy.deepcopy(test.dfa)\n",
    "    if test.type==\"conv\":\n",
    "        learn_dfa = InferringconvDFA(_dfa, oracle, check_consistency=check_consistency, debug=debug)\n",
    "    if test.type==\"dfa\":\n",
    "        learn_dfa = InferringDFA(_dfa, oracle, check_consistency=check_consistency, debug=debug)\n",
    "        \n",
    "    dfa, cnt, cnt_ex = learn_dfa.run(counterexamples=True)\n",
    "    print(f\"kontrprzykłady: {cnt_ex}, cnt = {cnt}\")\n",
    "    return copy.deepcopy(dfa) "
   ]
  },
  {
   "cell_type": "code",
   "execution_count": 4,
   "metadata": {},
   "outputs": [],
   "source": [
    "class test_example():\n",
    "    def __init__(self, type, dfa, description=''):\n",
    "        self.type = type\n",
    "        self.dfa = copy.deepcopy(dfa)\n",
    "        self.description = description"
   ]
  },
  {
   "cell_type": "code",
   "execution_count": 5,
   "metadata": {},
   "outputs": [],
   "source": [
    "test_examples = [\n",
    "    test_example(type = \"conv\", \n",
    "                 dfa = convDFA(type=\"conv\", \n",
    "                               dfa1 = DFA(Q=4, input_signs=['a', 'b'], δ = {(0, 'a'):1, (0, 'b'):0, (1, 'a'):1, (1, 'b'):2, (2, 'a'):3, (2, 'b'):0, (3, 'a'):3, (3, 'b'):3}, F=set([3])),\n",
    "                               dfa2 = DFA(Q=4, input_signs=['a', 'b'], δ = {(0, 'a'):0, (0, 'b'):1, (1, 'a'):0, (1, 'b'):2, (2, 'a'):0, (2, 'b'):3, (3, 'a'):3, (3, 'b'):3}, F=set([3]))),\n",
    "                 description = \"splot, dfa1 - wzorzec 'aba', dfa2 - wzorzec 'bbb'\"),\n",
    "    \n",
    "    test_example(type=\"conv\", \n",
    "                 dfa = convDFA(type=\"conv\", \n",
    "                               dfa1=DFA(Q=3, input_signs=['a', 'b'], δ={(0,'a'):0, (0,'b'):1, (1, 'a'):0, (1, 'b'):2, (2, 'a'):2, (2, 'b'):2}, F= set([2])), \n",
    "                               dfa2=DFA(Q=3, input_signs=['a', 'b'], δ={(0,'a'):1, (0,'b'):0, (1, 'a'):2, (1, 'b'):0, (2, 'a'):2, (2, 'b'):2}, F= set([2]))),\n",
    "                description=\"splot, dfa1 - wzorzec - 'bb', dfa2 - wzorzec 'aa'\" ),\n",
    "    \n",
    "    test_example(type=\"conv\", \n",
    "                 dfa = convDFA(type=\"conv\", \n",
    "                               dfa1=DFA(Q=4, input_signs=['a', 'b'], δ={(0,'a'):0, (0,'b'):1, (1, 'a'):0, (1, 'b'):2, (2, 'a'):0, (2, 'b'):3, (3, 'a'):3, (3, 'b'):3}, F= set([3])),\n",
    "                               dfa2=DFA(Q=4, input_signs=['a', 'b'], δ={(0,'a'):1, (0,'b'):0, (1, 'a'):2, (1, 'b'):0, (2, 'a'):3, (2, 'b'):0, (3, 'a'):3, (3, 'b'):3}, F= set([3]))),\n",
    "                 description=\"splot, dfa1 - wzorzec 'bbb', dfa2 - wzorzec 'aaa'\"),\n",
    "                 \n",
    "    test_example(type=\"conv\",\n",
    "                 dfa=convDFA(type=\"conv\",\n",
    "                             dfa1=DFA(Q=2, input_signs=['a', 'b'], δ = {(0,'a'):1, (0, 'b'):0, (1, 'a'):1, (1, 'b'):1}, F=set([1])),\n",
    "                             dfa2=DFA(Q=2, input_signs=['a', 'b'], δ = {(0,'a'):1, (0, 'b'):0, (1, 'a'):1, (1, 'b'):1}, F=set([1]))),\n",
    "                description=\"splot, dfa1 - słowa zawierające literke 'a', dfa2 - słowa zawierające literke 'a'\"),\n",
    "                \n",
    "    test_example(type=\"conv\", \n",
    "                 dfa=convDFA(type=\"conv\",\n",
    "                             dfa1=DFA(Q=4, input_signs=['a', 'b'], δ={(0, 'a'):2, (0,'b'):1, (1, 'b'):1, (1, 'a'):3, (2, 'a'):2, (2, 'b'):3, (3, 'a'):3, (3, 'b'):3}, F=set([3])),\n",
    "                             dfa2=DFA(Q=4, input_signs=['a', 'b'], δ={(0, 'a'):2, (0,'b'):1, (1, 'b'):1, (1, 'a'):3, (2, 'a'):2, (2, 'b'):3, (3, 'a'):3, (3, 'b'):3}, F=set([3]))),\n",
    "                description=\"splot, dfa1 - słowa zawierające i literę 'a' i literę 'b', dfa2 - słowa zawierające i literę 'a' i literę 'b'\"),\n",
    "                \n",
    "    test_example(type=\"dfa\", \n",
    "                 dfa=DFA(Q=3, input_signs=['0', '1', '2', '3', '4', '5', '6', '7'], δ={(0,'0'):0, (0,'1'):2, (0,'2'):2, (0,'3'):0, (0,'4'):2, (0,'5'):0, (0,'6'):1, (0,'7'):2, (1,'0'):2, (1,'1'):0, (1,'2'):1, (1,'3'):2, (1,'4'):1, (1,'5'):2, (1,'6'):2, (1,'7'):1, (2,'0'):2, (2,'1'):2, (2,'2'):2, (2,'3'):2, (2,'4'):2, (2,'5'):2, (2,'6'):2, (2,'7'):2}, F=set([0])),\n",
    "                 description=\"zakodowane dodawania w systemie dwójkowym\"), \n",
    "    \n",
    "    test_example(type=\"conv\", \n",
    "                 dfa=convDFA(type=\"conv\", \n",
    "                             dfa1=DFA(Q=5, input_signs=['a', 'b'], δ={(0,'a'):1, (0,'b'):3, (1,'a'):2, (1,'b'):3, (2,'a'):2, (2,'b'):2, (3,'a'):1, (3,'b'):4, (4,'a'):4, (4,'b'):4}, F=set([2, 4])),\n",
    "                             dfa2=DFA(Q=5, input_signs=['a', 'b'], δ={(0,'a'):1, (0,'b'):3, (1,'a'):2, (1,'b'):3, (2,'a'):2, (2,'b'):2, (3,'a'):1, (3,'b'):4, (4,'a'):4, (4,'b'):4}, F=set([2, 4])),\n",
    "                description=\"splot, dfa1 - 2 wzorce 'aa' lub 'bb', dfa2 - 2 wzorce 'aa' lub 'bb'\")),\n",
    "                \n",
    "    test_example(type=\"conv\", \n",
    "                 dfa=convDFA(type=\"conv\", \n",
    "                             dfa1=DFA(Q=9, input_signs=['a', 'b'], δ={(0,'a'):1, (0,'b'):3, (1,'a'):2, (1,'b'):3, (2,'a'):2, (2,'b'):5, (3,'a'):1, (3,'b'):4, (4,'a'):7, (4,'b'):4, (5,'a'):5, (5,'b'):6, (6,'a'):6, (6,'b'):6, (7,'a'):8, (7,'b'):7, (8,'a'):8, (8,'b'):8}, F=set([6, 8])),\n",
    "                             dfa2=DFA(Q=9, input_signs=['a', 'b'], δ={(0,'a'):1, (0,'b'):3, (1,'a'):2, (1,'b'):3, (2,'a'):2, (2,'b'):5, (3,'a'):1, (3,'b'):4, (4,'a'):7, (4,'b'):4, (5,'a'):5, (5,'b'):6, (6,'a'):6, (6,'b'):6, (7,'a'):8, (7,'b'):7, (8,'a'):8, (8,'b'):8}, F=set([6, 8]))),\n",
    "                description=\"splot, dfa1 - 2 wzorce 'aa' i 'bb', dfa2 - 2 wzorce 'aa' i 'bb'\"), \n",
    "    test_example(type=\"conv\",\n",
    "                    dfa=convDFA(type=\"conv\",\n",
    "                                dfa1=PatternDFA(input_signs=['a', 'b'], patterns=['aa', 'bb']),\n",
    "                                dfa2=PatternDFA(input_signs=['a', 'b', 'c'], patterns=['aa', 'bb', 'c'])),\n",
    "                    description=\"splot, dfa1 - 2 wzorce: 'aa', 'bb', dfa2 - 3 wzorce: 'aa', 'bb', 'c'\")]"
   ]
  },
  {
   "cell_type": "code",
   "execution_count": 6,
   "metadata": {},
   "outputs": [
    {
     "name": "stdout",
     "output_type": "stream",
     "text": [
      "splot, dfa1 - 2 wzorce: 'aa', 'bb', dfa2 - 3 wzorce: 'aa', 'bb', 'c'\n",
      "kontrprzykłady: [9, 9, 9, 9, 9, 9, 9, 9, 9, 9, 9, 9, 9, 9, 9, 9, 9, 9, 9, 9, 9, 9, 9, 9, 9, 9, 9, 9, 9, 9, 9, 9, 9, 9, 9, 9, 9, 9, 9, 9, 9, 9, 9, 9, 9, 9, 9, 9, 9, 9, 9, 9, 9, 9, 9, 9, 9, 9, 9, 9, 9, 9, 9, 9, 9], cnt = [46811, 66]\n",
      "kontrprzykłady: [9, 9, 9, 9, 9, 9, 9, 9, 9, 9, 9, 9, 9, 9, 9, 9, 9, 9, 9, 9, 9, 9, 9, 9, 9, 9, 9, 9, 9, 9, 9, 9, 9, 9, 9, 9, 9, 9, 9, 9, 9, 9, 9, 9, 9, 9, 9, 9, 9, 9, 9, 9, 9, 9, 9, 9, 9, 9, 9, 9, 9, 9, 9, 9, 9], cnt = [23450, 66]\n",
      "kontrprzykłady: [9, 9, 9, 9, 9, 9, 9, 9, 9, 9, 13, 9, 9, 9, 13, 9, 11, 13, 9, 9, 9, 10, 12, 12, 10, 9, 9, 10, 9, 9, 9, 13, 9, 13, 9, 10, 12, 12, 12, 9, 9, 10, 10, 9, 9], cnt = [17361, 7]\n"
     ]
    }
   ],
   "source": [
    "test = test_examples[8] \n",
    "print(test.description)\n",
    "d = run_learning_process(copy.deepcopy(test), oracle=None, check_consistency=False)\n",
    "d = run_learning_process(copy.deepcopy(test), oracle=SRSconv(), check_consistency=False)\n",
    "d = run_learning_process(copy.deepcopy(test), oracle=SRSconv(), check_consistency=True)"
   ]
  },
  {
   "cell_type": "markdown",
   "metadata": {},
   "source": [
    "### Uczenie się splotu DFA - **debugowanie** "
   ]
  },
  {
   "cell_type": "markdown",
   "metadata": {},
   "source": [
    "<!-- ### Uczenie się splotów - **debugowanie**  -->"
   ]
  },
  {
   "cell_type": "code",
   "execution_count": null,
   "metadata": {},
   "outputs": [],
   "source": [
    "import copy, sys\n",
    "sys.path.append(\"../\")\n",
    "sys.path.append(\"../inferring\")\n",
    "sys.path.append(\"../utils\")\n",
    "sys.path.append(\"../utils/DFA\")\n",
    "from importlib import reload\n",
    "\n",
    "import inferring.Inferring as Inferring, inferring.InferringDFA as InferringDFA,  inferring.InferringconvDFA as InferringconvDFA\n",
    "import utils.automats.DFA\n",
    "import utils.oracles.SRS as SRS, utils.oracles.SRSconv as SRSconv\n",
    "reload(SRS)\n",
    "reload(SRSconv)\n",
    "\n",
    "reload(Inferring)\n",
    "reload(InferringDFA)\n",
    "reload(InferringconvDFA)\n",
    "\n",
    "reload(utils.automats.DFA)\n",
    "\n",
    "\n",
    "from inferring.Inferring import Inferring\n",
    "from inferring.InferringconvDFA import InferringconvDFA\n",
    "from utils.automats.DFA.convDFA import convDFA\n",
    "from utils.automats.DFA.DFA import DFA\n",
    "from utils.automats.DFA.PatternDFA import PatternDFA\n",
    "from utils.oracles.SRSconv import SRSconv\n",
    "\n",
    "from inferring.InferringDFA import InferringDFA\n",
    "\n",
    "def run_learning_process(_dfa, oracle=None, debug=False, check_consistency=False):\n",
    "    learn_dfa = InferringconvDFA(_dfa, oracle, debug=debug, check_consistency=check_consistency)\n",
    "    dfa, cnt, cnt_ex = learn_dfa.run(counterexamples=True)\n",
    "    print(f\"kontrprzykłady: {cnt_ex}, cnt = {cnt}\")\n",
    "    return copy.deepcopy(dfa) "
   ]
  },
  {
   "cell_type": "code",
   "execution_count": null,
   "metadata": {},
   "outputs": [
    {
     "name": "stdout",
     "output_type": "stream",
     "text": [
      "kontrprzykłady: [4, 4, 4, 4], cnt = [153, 2]\n"
     ]
    }
   ],
   "source": [
    "\"\"\"wzorzec - bb\"\"\"\n",
    "dfa1 = DFA(Q=3, input_signs=['a', 'b'], \n",
    "           δ={(0,'a'):0, (0,'b'):1, (1, 'a'):0, (1, 'b'):2, (2, 'a'):2, (2, 'b'):2}, F= set([2]))\n",
    "\"\"\"wzorzec - aa\"\"\"\n",
    "dfa2 = DFA(Q=3, input_signs=['a', 'b'], \n",
    "           δ={(0,'a'):1, (0,'b'):0, (1, 'a'):2, (1, 'b'):0, (2, 'a'):2, (2, 'b'):2}, F= set([2]))\n",
    "\n",
    "convdfa = convDFA(type='conv', dfa1=dfa1, dfa2=dfa2)\n",
    "d = run_learning_process(copy.deepcopy(convdfa), oracle=SRSconv(), debug=False, check_consistency=True)"
   ]
  }
 ],
 "metadata": {
  "kernelspec": {
   "display_name": "Python 3",
   "language": "python",
   "name": "python3"
  },
  "language_info": {
   "codemirror_mode": {
    "name": "ipython",
    "version": 3
   },
   "file_extension": ".py",
   "mimetype": "text/x-python",
   "name": "python",
   "nbconvert_exporter": "python",
   "pygments_lexer": "ipython3",
   "version": "3.10.12"
  }
 },
 "nbformat": 4,
 "nbformat_minor": 2
}
