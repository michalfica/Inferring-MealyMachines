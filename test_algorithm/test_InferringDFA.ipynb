{
 "cells": [
  {
   "cell_type": "markdown",
   "metadata": {},
   "source": [
    "### Testowanie uczenia się DFA z pomocą systemu przepisywania więzów"
   ]
  },
  {
   "cell_type": "code",
   "execution_count": 126,
   "metadata": {},
   "outputs": [],
   "source": [
    "import copy, sys\n",
    "import cProfile\n",
    "\n",
    "sys.path.append(\"../\")\n",
    "sys.path.append(\"../inferring\")\n",
    "sys.path.append(\"../utils\")\n",
    "sys.path.append(\"../utils/DFA\")\n",
    "from importlib import reload\n",
    "\n",
    "\n",
    "import inferring.Inferring as Inferring, inferring.InferringDFA as InferringDFA\n",
    "import utils.automats.DFA\n",
    "import utils.oracles.SRS as SRS\n",
    "\n",
    "reload(SRS)\n",
    "reload(Inferring)\n",
    "reload(InferringDFA)\n",
    "reload(utils.automats.DFA)\n",
    "\n",
    "from inferring.Inferring import Inferring\n",
    "from utils.automats.DFA.DFA import DFA\n",
    "from utils.oracles.SRS import SRS \n",
    "\n",
    "from inferring.InferringDFA import InferringDFA"
   ]
  },
  {
   "cell_type": "code",
   "execution_count": 127,
   "metadata": {},
   "outputs": [],
   "source": [
    "def run_learning_process(test, oracle=None, check_consistency=False, equiv_query_fashion=\"BFS\", debug=False):\n",
    "    _dfa = copy.deepcopy(test.dfa)\n",
    "    learn_dfa = InferringDFA(_dfa, \n",
    "                                oracle, \n",
    "                                check_consistency=check_consistency, \n",
    "                                equiv_query_fashion=equiv_query_fashion,\n",
    "                                debug=debug)\n",
    "        \n",
    "    dfa, cnt, cnt_ex = learn_dfa.run(counterexamples=True)\n",
    "    print(f\"kontrprzykłady: liczba - {len(cnt_ex)}, długości - {cnt_ex}, cnt = {cnt}\")\n",
    "    return copy.deepcopy(dfa) "
   ]
  },
  {
   "cell_type": "code",
   "execution_count": 128,
   "metadata": {},
   "outputs": [],
   "source": [
    "class test_example():\n",
    "    def __init__(self, dfa, descrip=''):\n",
    "        self.dfa = copy.deepcopy(dfa)\n",
    "        self.descrip = descrip"
   ]
  },
  {
   "cell_type": "code",
   "execution_count": 129,
   "metadata": {},
   "outputs": [],
   "source": [
    "test_examples = []\n",
    "\n",
    "dfa_ = DFA()\n",
    "dfa_.create_convolution(dfa1=DFA(Q=2, input_signs=['a', 'b'], δ = {(0,'a'):1, (0, 'b'):0, (1, 'a'):1, (1, 'b'):1}, F=set([1])),\n",
    "                        dfa2=DFA(Q=2, input_signs=['a', 'b'], δ = {(0,'a'):1, (0, 'b'):0, (1, 'a'):1, (1, 'b'):1}, F=set([1])))\n",
    "test = test_example(dfa=dfa_, descrip=\"plot, dfa1 - słowa zawierające literke 'a', dfa2 - słowa zawierające literke 'a'\")\n",
    "test_examples.append(test)\n",
    "# result, without SRS at all: cnt = [69, 1]\n",
    "\n",
    "dfa_ = DFA()\n",
    "dfa_.create_convolution(dfa1=DFA(Q=3, input_signs=['a', 'b'], δ={(0,'a'):0, (0,'b'):1, (1, 'a'):0, (1, 'b'):2, (2, 'a'):2, (2, 'b'):2}, F= set([2])), \n",
    "                        dfa2=DFA(Q=3, input_signs=['a', 'b'], δ={(0,'a'):1, (0,'b'):0, (1, 'a'):2, (1, 'b'):0, (2, 'a'):2, (2, 'b'):2}, F= set([2])))\n",
    "test = test_example(dfa=dfa_, descrip=\"splot, dfa1 - wzorzec - 'bb', dfa2 - wzorzec 'aa'\")\n",
    "test_examples.append(test)\n",
    "# result, without SRS at all: cnt = [289, 3]\n",
    "\n",
    "dfa_ = DFA()\n",
    "dfa_.create_convolution(dfa1=DFA(Q=4, input_signs=['a', 'b'], δ={(0,'a'):0, (0,'b'):1, (1, 'a'):0, (1, 'b'):2, (2, 'a'):0, (2, 'b'):3, (3, 'a'):3, (3, 'b'):3}, F= set([3])),\n",
    "                        dfa2=DFA(Q=4, input_signs=['a', 'b'], δ={(0,'a'):1, (0,'b'):0, (1, 'a'):2, (1, 'b'):0, (2, 'a'):3, (2, 'b'):0, (3, 'a'):3, (3, 'b'):3}, F= set([3])))\n",
    "test = test_example(dfa=dfa_, descrip=\"splot, dfa1 - wzorzec 'bbb', dfa2 - wzorzec 'aaa'\")\n",
    "test_examples.append(test)\n",
    "# result, without SRS at all: cnt = [800, 3]\n",
    "\n",
    "dfa_ = DFA()\n",
    "dfa_.create_convolution(dfa1 = DFA(Q=4, input_signs=['a', 'b'], δ = {(0, 'a'):1, (0, 'b'):0, (1, 'a'):1, (1, 'b'):2, (2, 'a'):3, (2, 'b'):0, (3, 'a'):3, (3, 'b'):3}, F=set([3])),\n",
    "                        dfa2 = DFA(Q=4, input_signs=['a', 'b'], δ = {(0, 'a'):0, (0, 'b'):1, (1, 'a'):0, (1, 'b'):2, (2, 'a'):0, (2, 'b'):3, (3, 'a'):3, (3, 'b'):3}, F=set([3])))\n",
    "test = test_example(dfa = dfa_, descrip = \"splot, dfa1 - wzorzec 'aba', dfa2 - wzorzec 'bbb'\")\n",
    "test_examples.append(test)\n",
    "# result, without SRS at all: cnt = [1388, 7]\n",
    "\n",
    "\n",
    "dfa_ = DFA()\n",
    "dfa_.create_convolution(dfa1=DFA(Q=4, input_signs=['a', 'b'], δ={(0, 'a'):2, (0,'b'):1, (1, 'b'):1, (1, 'a'):3, (2, 'a'):2, (2, 'b'):3, (3, 'a'):3, (3, 'b'):3}, F=set([3])),\n",
    "                        dfa2=DFA(Q=4, input_signs=['a', 'b'], δ={(0, 'a'):2, (0,'b'):1, (1, 'b'):1, (1, 'a'):3, (2, 'a'):2, (2, 'b'):3, (3, 'a'):3, (3, 'b'):3}, F=set([3])))\n",
    "test = test_example(dfa=dfa_, descrip=\"splot, dfa1 - słowa zawierające i literę 'a' i literę 'b', dfa2 - słowa zawierające i literę 'a' i literę 'b'\")\n",
    "test_examples.append(test)\n",
    "# result, without SRS at all: cnt = [751, 10]\n",
    "\n",
    "dfa_ = DFA(Q=3, input_signs=['0', '1', '2', '3', '4', '5', '6', '7'], δ={(0,'0'):0, (0,'1'):2, (0,'2'):2, (0,'3'):0, (0,'4'):2, (0,'5'):0, (0,'6'):1, (0,'7'):2, (1,'0'):2, (1,'1'):0, (1,'2'):1, (1,'3'):2, (1,'4'):1, (1,'5'):2, (1,'6'):2, (1,'7'):1, (2,'0'):2, (2,'1'):2, (2,'2'):2, (2,'3'):2, (2,'4'):2, (2,'5'):2, (2,'6'):2, (2,'7'):2}, F=set([0]))\n",
    "test = test_example(dfa=dfa_, descrip=\"zakodowane dodawania w systemie dwójkowym\")\n",
    "test_examples.append(test)\n",
    "# result, without SRS at all: cnt = [201, 1]\n",
    "\n",
    "dfa_ = DFA()\n",
    "dfa_.create_convolution(dfa1=DFA(Q=5, input_signs=['a', 'b'], δ={(0,'a'):1, (0,'b'):3, (1,'a'):2, (1,'b'):3, (2,'a'):2, (2,'b'):2, (3,'a'):1, (3,'b'):4, (4,'a'):4, (4,'b'):4}, F=set([2, 4])),\n",
    "                        dfa2=DFA(Q=5, input_signs=['a', 'b'], δ={(0,'a'):1, (0,'b'):3, (1,'a'):2, (1,'b'):3, (2,'a'):2, (2,'b'):2, (3,'a'):1, (3,'b'):4, (4,'a'):4, (4,'b'):4}, F=set([2, 4])))\n",
    "test = test_example(dfa=dfa_, descrip=\"splot, dfa1 - 2 wzorce 'aa' lub 'bb', dfa2 - 2 wzorce 'aa' lub 'bb'\" )\n",
    "test_examples.append(test)\n",
    "# result, without SRS at all: cnt = [1437, 7]\n",
    "\n",
    "dfa_ = DFA()\n",
    "dfa_.create_convolution(dfa1=DFA(Q=9, input_signs=['a', 'b'], δ={(0,'a'):1, (0,'b'):3, (1,'a'):2, (1,'b'):3, (2,'a'):2, (2,'b'):5, (3,'a'):1, (3,'b'):4, (4,'a'):7, (4,'b'):4, (5,'a'):5, (5,'b'):6, (6,'a'):6, (6,'b'):6, (7,'a'):8, (7,'b'):7, (8,'a'):8, (8,'b'):8}, F=set([6, 8])),\n",
    "                        dfa2=DFA(Q=9, input_signs=['a', 'b'], δ={(0,'a'):1, (0,'b'):3, (1,'a'):2, (1,'b'):3, (2,'a'):2, (2,'b'):5, (3,'a'):1, (3,'b'):4, (4,'a'):7, (4,'b'):4, (5,'a'):5, (5,'b'):6, (6,'a'):6, (6,'b'):6, (7,'a'):8, (7,'b'):7, (8,'a'):8, (8,'b'):8}, F=set([6, 8])))\n",
    "test = test_example(dfa=dfa_, descrip=\"splot, dfa1 - 2 wzorce 'aa' i 'bb', dfa2 - 2 wzorce 'aa' i 'bb'\")  \n",
    "test_examples.append(test)\n",
    "# result, without SRS at all: cnt = [20522, 28]\n",
    "\n",
    "dfa_ = DFA()\n",
    "pdfa1_, pdfa2_ = DFA(), DFA()\n",
    "pdfa1_.create_pattern_dfa(input_signs=['a', 'b'], patterns=['aa', 'bb'], _type=\"AND\")\n",
    "pdfa2_.create_pattern_dfa(input_signs=['a', 'b', 'c'], patterns=['aa', 'bb', 'c'], _type=\"AND\")\n",
    "\n",
    "dfa_.create_convolution(dfa1=pdfa1_, dfa2=pdfa2_)\n",
    "\n",
    "test = test_example(dfa=dfa_, descrip=\"splot, dfa1 - 2 wzorce: 'aa', 'bb', dfa2 - 3 wzorce: 'aa', 'bb', 'c'\")\n",
    "test_examples.append(test)\n",
    "# result, without SRS at all: cnt = [121709, 37]"
   ]
  },
  {
   "cell_type": "code",
   "execution_count": 130,
   "metadata": {},
   "outputs": [
    {
     "name": "stdout",
     "output_type": "stream",
     "text": [
      "splot, dfa1 - 2 wzorce: 'aa', 'bb', dfa2 - 3 wzorce: 'aa', 'bb', 'c'\n",
      "kontrprzykłady: liczba - 45, długości - [9, 9, 9, 9, 9, 9, 9, 9, 9, 9, 9, 9, 9, 9, 9, 9, 9, 9, 9, 9, 10, 9, 9, 9, 9, 11, 10, 10, 10, 10, 10, 10, 10, 10, 11, 9, 12, 9, 12, 11, 9, 9, 9, 9, 15], cnt = [20892, 7]\n"
     ]
    }
   ],
   "source": [
    "test = test_examples[-1] \n",
    "print(test.descrip)\n",
    "# test.dfa.print_transitions()\n",
    "\n",
    "# d = run_learning_process(copy.deepcopy(test), oracle=None, check_consistency=False, equiv_query_fashion=\"DFS\", debug=True)\n",
    "# d = run_learning_process(copy.deepcopy(test), oracle=SRS(), check_consistency=False, equiv_query_fashion=\"DFS\")\n",
    "d = run_learning_process(copy.deepcopy(test), oracle=SRS(), check_consistency=True, equiv_query_fashion=\"DFS\")"
   ]
  },
  {
   "cell_type": "markdown",
   "metadata": {},
   "source": [
    "## Przykład dziwny"
   ]
  },
  {
   "cell_type": "code",
   "execution_count": 131,
   "metadata": {},
   "outputs": [
    {
     "name": "stdout",
     "output_type": "stream",
     "text": [
      "kontrprzykłady: liczba - 4, długości - [3, 3, 3, 3], cnt = [289, 5]\n",
      "kontrprzykłady: liczba - 4, długości - [3, 3, 3, 3], cnt = [289, 5]\n"
     ]
    }
   ],
   "source": [
    "patterns1 = ['aaa','bba','cca','ddd']\n",
    "patterns2 = ['aaa','bbb','ccc','ddd']\n",
    "\n",
    "pdfa_ = DFA()\n",
    "pdfa_.create_pattern_dfa(input_signs=['a', 'b', 'c', 'd'], patterns=patterns1, _type=\"OR\")\n",
    "test_1 = test_example(dfa=pdfa_)\n",
    "\n",
    "pdfa_ = DFA()\n",
    "pdfa_.create_pattern_dfa(input_signs=['a', 'b', 'c', 'd'], patterns=patterns2, _type=\"OR\")\n",
    "\n",
    "test_2 = test_example(dfa=pdfa_)\n",
    "\n",
    "d1 = run_learning_process(test=test_1)\n",
    "d2 = run_learning_process(test=test_2)\n",
    "\n",
    "# kontrprzykłady: [3, 3, 3, 3], cnt = [289, 5]\n",
    "# kontrprzykłady: [3, 3, 3, 3], cnt = [289, 5]"
   ]
  },
  {
   "cell_type": "code",
   "execution_count": 132,
   "metadata": {},
   "outputs": [
    {
     "name": "stdout",
     "output_type": "stream",
     "text": [
      "kontrprzykłady: liczba - 39, długości - [6, 6, 6, 6, 6, 6, 6, 12, 5, 8, 8, 6, 5, 8, 8, 6, 5, 8, 8, 6, 9, 12, 8, 8, 6, 6, 6, 6, 6, 14, 6, 6, 6, 6, 6, 6, 10, 6, 6], cnt = [24258, 4]\n",
      "kontrprzykłady: liczba - 68, długości - [6, 6, 6, 6, 6, 6, 6, 6, 6, 6, 6, 6, 6, 6, 6, 6, 6, 6, 6, 6, 6, 6, 6, 6, 6, 6, 6, 6, 6, 6, 6, 6, 6, 6, 6, 6, 6, 6, 6, 6, 6, 6, 6, 6, 6, 6, 6, 6, 6, 6, 6, 6, 6, 6, 6, 6, 6, 6, 6, 6, 6, 6, 6, 6, 6, 6, 6, 6], cnt = [69499, 69]\n"
     ]
    }
   ],
   "source": [
    "conv_dfa = DFA() \n",
    "conv_dfa.create_convolution(dfa1=d1, dfa2=d2)\n",
    "d = run_learning_process(test=test_example(dfa=conv_dfa), oracle=SRS(), check_consistency=True, debug=False)\n",
    "d = run_learning_process(test=test_example(dfa=conv_dfa), oracle=None, check_consistency=False, debug=False)"
   ]
  },
  {
   "cell_type": "markdown",
   "metadata": {},
   "source": [
    "### Duże automaty - ropoznające kilkadziesiąt wzorców (docelowo)"
   ]
  },
  {
   "cell_type": "code",
   "execution_count": 133,
   "metadata": {},
   "outputs": [
    {
     "data": {
      "text/plain": [
       "['ca', 'c', 'da', 'dbdccbd', 'babdcbba']"
      ]
     },
     "execution_count": 133,
     "metadata": {},
     "output_type": "execute_result"
    }
   ],
   "source": [
    "import random \n",
    "def random_patterns(input_signs, n=5, max_length=10):\n",
    "    patterns = []\n",
    "    for _ in range(n):\n",
    "        p = ''.join(random.choices(population=input_signs,k=random.randint(1, max_length)))\n",
    "        patterns.append(p)\n",
    "    return patterns\n",
    "\n",
    "random_patterns(input_signs=['a', 'b', 'c', 'd'], max_length=8)"
   ]
  },
  {
   "cell_type": "code",
   "execution_count": 134,
   "metadata": {},
   "outputs": [
    {
     "name": "stdout",
     "output_type": "stream",
     "text": [
      "patterns1 = ['ddad', 'cad', 'aca', 'c']\n",
      "|Q1| = 160\n",
      "patterns2 = ['dcdcda', 'ccbbcc', 'ccd', 'a']\n",
      "|Q2| = 392\n",
      "kontrprzykłady: liczba - 4, długości - [7, 8, 9, 11], cnt = [2543, 5]\n",
      "kontrprzykłady: liczba - 6, długości - [12, 13, 14, 15, 16, 16], cnt = [6646, 7]\n",
      "after learning |Q1| = 36\n",
      "after learning |Q2| = 52\n",
      "('ddadcadacac', 1), ('dcdcdaccbbccccda', 1)\n"
     ]
    }
   ],
   "source": [
    "random.seed(25)\n",
    "\n",
    "input_signs = ['a', 'b', 'c', 'd']\n",
    "number_of_patterns = 4\n",
    "max_pattern_length = 6 \n",
    "\n",
    "patterns1, patterns2 = random_patterns(input_signs, number_of_patterns, max_pattern_length), random_patterns(input_signs, number_of_patterns, max_pattern_length)\n",
    "\n",
    "dfa1 = DFA() \n",
    "dfa2 = DFA()\n",
    "\n",
    "dfa1.create_pattern_dfa(input_signs=input_signs, patterns=patterns1)\n",
    "dfa2.create_pattern_dfa(input_signs=input_signs, patterns=patterns2)\n",
    "\n",
    "print(f\"patterns1 = {patterns1}\")\n",
    "print(f\"|Q1| = {dfa1.Q}\")\n",
    "\n",
    "print(f\"patterns2 = {patterns2}\")\n",
    "print(f\"|Q2| = {dfa2.Q}\")\n",
    "\n",
    "d1 = run_learning_process(test_example(dfa=copy.deepcopy(dfa1)))\n",
    "d2 = run_learning_process(test_example(dfa=copy.deepcopy(dfa2)))\n",
    "\n",
    "print(f\"after learning |Q1| = {d1.Q}\")\n",
    "s1 = ''.join(patterns1)\n",
    "ans1 = d1.route(s1)\n",
    "\n",
    "s2 = ''.join(patterns2)\n",
    "print(f\"after learning |Q2| = {d2.Q}\")\n",
    "ans2 = d2.route(s2)\n",
    "\n",
    "print(f\"{ans1}, {ans2}\")"
   ]
  },
  {
   "cell_type": "code",
   "execution_count": 135,
   "metadata": {},
   "outputs": [
    {
     "name": "stdout",
     "output_type": "stream",
     "text": [
      "|Q_conv(d1,d2)| = 1872\n",
      "splot, dfa1 - wzorce: ['ddad', 'cad', 'aca', 'c'], dfa2 - wzorce: ['dcdcda', 'ccbbcc', 'ccd', 'a']\n"
     ]
    }
   ],
   "source": [
    "dfa_ = DFA() \n",
    "dfa_.create_convolution(dfa1=copy.deepcopy(d1), dfa2=copy.deepcopy(d2))\n",
    "\n",
    "dfa_.route(s1+s2.upper())\n",
    "print(f\"|Q_conv(d1,d2)| = {dfa_.Q}\")\n",
    "\n",
    "test = test_example(dfa=dfa_, descrip=f\"splot, dfa1 - wzorce: {patterns1}, dfa2 - wzorce: {patterns2}\")\n",
    "print(test.descrip)"
   ]
  },
  {
   "cell_type": "code",
   "execution_count": null,
   "metadata": {},
   "outputs": [],
   "source": [
    "cProfile.run('run_learning_process(test, oracle=None, check_consistency=False, debug=False)', sort='time')"
   ]
  },
  {
   "cell_type": "code",
   "execution_count": null,
   "metadata": {},
   "outputs": [],
   "source": [
    "cProfile.run('run_learning_process(test, oracle=SRS(), check_consistency=True, debug=False)', sort='time')"
   ]
  },
  {
   "cell_type": "markdown",
   "metadata": {},
   "source": [
    "### Uczenie się splotu DFA - **debugowanie** "
   ]
  },
  {
   "cell_type": "code",
   "execution_count": 60,
   "metadata": {},
   "outputs": [
    {
     "name": "stdout",
     "output_type": "stream",
     "text": [
      "bv = 1101, int(bv) = 13\n",
      "bv = 11011, int(bv) = 27\n"
     ]
    }
   ],
   "source": [
    "import BitVector\n",
    "bv = BitVector.BitVector(bitlist =[1, 1, 0, 1])\n",
    "print(f\"bv = {bv}, int(bv) = {int(bv)}\")\n",
    "\n",
    "bv_ = BitVector.BitVector(bitlist = [1])\n",
    "bv = bv + bv_\n",
    "\n",
    "print(f\"bv = {bv}, int(bv) = {int(bv)}\")"
   ]
  },
  {
   "cell_type": "markdown",
   "metadata": {},
   "source": [
    "<!-- ### Uczenie się splotów - **debugowanie**  -->"
   ]
  }
 ],
 "metadata": {
  "kernelspec": {
   "display_name": "Python 3",
   "language": "python",
   "name": "python3"
  },
  "language_info": {
   "codemirror_mode": {
    "name": "ipython",
    "version": 3
   },
   "file_extension": ".py",
   "mimetype": "text/x-python",
   "name": "python",
   "nbconvert_exporter": "python",
   "pygments_lexer": "ipython3",
   "version": "3.10.12"
  }
 },
 "nbformat": 4,
 "nbformat_minor": 2
}
