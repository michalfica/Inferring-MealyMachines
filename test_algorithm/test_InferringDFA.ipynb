{
 "cells": [
  {
   "cell_type": "markdown",
   "metadata": {},
   "source": [
    "### Testowanie uczenia się DFA z pomocą systemu przepisywania więzów"
   ]
  },
  {
   "cell_type": "code",
   "execution_count": 1,
   "metadata": {},
   "outputs": [],
   "source": [
    "import copy, sys\n",
    "import random \n",
    "import cProfile\n",
    "\n",
    "sys.path.append(\"../\")\n",
    "sys.path.append(\"../inferring\")\n",
    "sys.path.append(\"../utils\")\n",
    "sys.path.append(\"../utils/DFA\")\n",
    "from importlib import reload\n",
    "\n",
    "\n",
    "import inferring.Inferring as Inferring, inferring.InferringDFA as InferringDFA\n",
    "import utils.automats.DFA\n",
    "import utils.oracles.SRS as SRS\n",
    "\n",
    "reload(SRS)\n",
    "reload(Inferring)\n",
    "reload(InferringDFA)\n",
    "reload(utils.automats.DFA)\n",
    "\n",
    "from inferring.Inferring import Inferring\n",
    "from utils.automats.DFA.DFA import DFA\n",
    "from utils.oracles.SRS import SRS \n",
    "\n",
    "from inferring.InferringDFA import InferringDFA"
   ]
  },
  {
   "cell_type": "code",
   "execution_count": 2,
   "metadata": {},
   "outputs": [],
   "source": [
    "def run_learning_process(test, oracle=None, check_consistency=False, equiv_query_fashion=\"BFS\", debug=False):\n",
    "    _dfa = copy.deepcopy(test.dfa)\n",
    "    learn_dfa = InferringDFA(_dfa, \n",
    "                                oracle, \n",
    "                                check_consistency=check_consistency, \n",
    "                                equiv_query_fashion=equiv_query_fashion,\n",
    "                                debug=debug)\n",
    "        \n",
    "    dfa, cnt, cnt_ex = learn_dfa.run(counterexamples=True)\n",
    "    print(f\"kontrprzykłady: liczba - {len(cnt_ex)}, długości - {cnt_ex}, cnt = {cnt}\")\n",
    "    return copy.deepcopy(dfa), cnt, cnt_ex"
   ]
  },
  {
   "cell_type": "code",
   "execution_count": 3,
   "metadata": {},
   "outputs": [],
   "source": [
    "class test_example():\n",
    "    def __init__(self, dfa, descrip=''):\n",
    "        self.dfa = copy.deepcopy(dfa)\n",
    "        self.descrip = descrip"
   ]
  },
  {
   "cell_type": "code",
   "execution_count": 50,
   "metadata": {},
   "outputs": [],
   "source": [
    "test_examples = []\n",
    "\n",
    "# 0 ------------------------------------------------------------------------------------------------------------------------------------------------- \n",
    "dfa_ = DFA()\n",
    "dfa_.create_convolution(dfa1=DFA(Q=2, input_signs=['a', 'b'], δ = {(0,'a'):1, (0, 'b'):0, (1, 'a'):1, (1, 'b'):1}, F=set([1])),\n",
    "                        dfa2=DFA(Q=2, input_signs=['a', 'b'], δ = {(0,'a'):1, (0, 'b'):0, (1, 'a'):1, (1, 'b'):1}, F=set([1])))\n",
    "test = test_example(dfa=dfa_, descrip=\"plot, dfa1 - słowa zawierające literke 'a', dfa2 - słowa zawierające literke 'a'\")\n",
    "test_examples.append(test)\n",
    "# result, without SRS at all: cnt = [69, 1]\n",
    "\n",
    "# 1 -------------------------------------------------------------------------------------------------------------------------------------------------\n",
    "dfa_ = DFA()\n",
    "dfa_.create_convolution(dfa1=DFA(Q=3, input_signs=['a', 'b'], δ={(0,'a'):0, (0,'b'):1, (1, 'a'):0, (1, 'b'):2, (2, 'a'):2, (2, 'b'):2}, F= set([2])), \n",
    "                        dfa2=DFA(Q=3, input_signs=['a', 'b'], δ={(0,'a'):1, (0,'b'):0, (1, 'a'):2, (1, 'b'):0, (2, 'a'):2, (2, 'b'):2}, F= set([2])))\n",
    "test = test_example(dfa=dfa_, descrip=\"splot, dfa1 - wzorzec - 'bb', dfa2 - wzorzec 'aa'\")\n",
    "test_examples.append(test)\n",
    "# result, without SRS at all: cnt = [289, 3]\n",
    "\n",
    "# 2 -------------------------------------------------------------------------------------------------------------------------------------------------\n",
    "dfa_ = DFA()\n",
    "dfa_.create_convolution(dfa1=DFA(Q=4, input_signs=['a', 'b'], δ={(0,'a'):0, (0,'b'):1, (1, 'a'):0, (1, 'b'):2, (2, 'a'):0, (2, 'b'):3, (3, 'a'):3, (3, 'b'):3}, F= set([3])),\n",
    "                        dfa2=DFA(Q=4, input_signs=['a', 'b'], δ={(0,'a'):1, (0,'b'):0, (1, 'a'):2, (1, 'b'):0, (2, 'a'):3, (2, 'b'):0, (3, 'a'):3, (3, 'b'):3}, F= set([3])))\n",
    "test = test_example(dfa=dfa_, descrip=\"splot, dfa1 - wzorzec 'bbb', dfa2 - wzorzec 'aaa'\")\n",
    "test_examples.append(test)\n",
    "# result, without SRS at all: cnt = [800, 3]\n",
    "\n",
    "# 3 -------------------------------------------------------------------------------------------------------------------------------------------------\n",
    "dfa_ = DFA()\n",
    "dfa_.create_convolution(dfa1 = DFA(Q=4, input_signs=['a', 'b'], δ = {(0, 'a'):1, (0, 'b'):0, (1, 'a'):1, (1, 'b'):2, (2, 'a'):3, (2, 'b'):0, (3, 'a'):3, (3, 'b'):3}, F=set([3])),\n",
    "                        dfa2 = DFA(Q=4, input_signs=['a', 'b'], δ = {(0, 'a'):0, (0, 'b'):1, (1, 'a'):0, (1, 'b'):2, (2, 'a'):0, (2, 'b'):3, (3, 'a'):3, (3, 'b'):3}, F=set([3])))\n",
    "test = test_example(dfa = dfa_, descrip = \"splot, dfa1 - wzorzec 'aba', dfa2 - wzorzec 'bbb'\")\n",
    "test_examples.append(test)\n",
    "# result, without SRS at all: cnt = [1388, 7]\n",
    "\n",
    "# 4 -------------------------------------------------------------------------------------------------------------------------------------------------\n",
    "dfa_ = DFA()\n",
    "dfa_.create_convolution(dfa1=DFA(Q=4, input_signs=['a', 'b'], δ={(0, 'a'):2, (0,'b'):1, (1, 'b'):1, (1, 'a'):3, (2, 'a'):2, (2, 'b'):3, (3, 'a'):3, (3, 'b'):3}, F=set([3])),\n",
    "                        dfa2=DFA(Q=4, input_signs=['a', 'b'], δ={(0, 'a'):2, (0,'b'):1, (1, 'b'):1, (1, 'a'):3, (2, 'a'):2, (2, 'b'):3, (3, 'a'):3, (3, 'b'):3}, F=set([3])))\n",
    "test = test_example(dfa=dfa_, descrip=\"splot, dfa1 - słowa zawierające i literę 'a' i literę 'b', dfa2 - słowa zawierające i literę 'a' i literę 'b'\")\n",
    "test_examples.append(test)\n",
    "# result, without SRS at all: cnt = [751, 10]\n",
    "\n",
    "# 5 -------------------------------------------------------------------------------------------------------------------------------------------------\n",
    "dfa_ = DFA(Q=3, input_signs=['0', '1', '2', '3', '4', '5', '6', '7'], δ={(0,'0'):0, (0,'1'):2, (0,'2'):2, (0,'3'):0, (0,'4'):2, (0,'5'):0, (0,'6'):1, (0,'7'):2, (1,'0'):2, (1,'1'):0, (1,'2'):1, (1,'3'):2, (1,'4'):1, (1,'5'):2, (1,'6'):2, (1,'7'):1, (2,'0'):2, (2,'1'):2, (2,'2'):2, (2,'3'):2, (2,'4'):2, (2,'5'):2, (2,'6'):2, (2,'7'):2}, F=set([0]), type_=DFA.BITWISE_ADDITION)\n",
    "test = test_example(dfa=dfa_, descrip=\"zakodowane dodawania w systemie dwójkowym\")\n",
    "test_examples.append(test)\n",
    "# result, without SRS at all: cnt = [201, 1]\n",
    "\n",
    "# 6 -------------------------------------------------------------------------------------------------------------------------------------------------\n",
    "dfa_ = DFA()\n",
    "dfa_.create_convolution(dfa1=DFA(Q=5, input_signs=['a', 'b'], δ={(0,'a'):1, (0,'b'):3, (1,'a'):2, (1,'b'):3, (2,'a'):2, (2,'b'):2, (3,'a'):1, (3,'b'):4, (4,'a'):4, (4,'b'):4}, F=set([2, 4])),\n",
    "                        dfa2=DFA(Q=5, input_signs=['a', 'b'], δ={(0,'a'):1, (0,'b'):3, (1,'a'):2, (1,'b'):3, (2,'a'):2, (2,'b'):2, (3,'a'):1, (3,'b'):4, (4,'a'):4, (4,'b'):4}, F=set([2, 4])))\n",
    "test = test_example(dfa=dfa_, descrip=\"splot, dfa1 - 2 wzorce 'aa' lub 'bb', dfa2 - 2 wzorce 'aa' lub 'bb'\" )\n",
    "test_examples.append(test)\n",
    "# result, without SRS at all: cnt = [1437, 7]\n",
    "\n",
    "# 7 -------------------------------------------------------------------------------------------------------------------------------------------------\n",
    "dfa_ = DFA()\n",
    "dfa_.create_convolution(dfa1=DFA(Q=9, input_signs=['a', 'b'], δ={(0,'a'):1, (0,'b'):3, (1,'a'):2, (1,'b'):3, (2,'a'):2, (2,'b'):5, (3,'a'):1, (3,'b'):4, (4,'a'):7, (4,'b'):4, (5,'a'):5, (5,'b'):6, (6,'a'):6, (6,'b'):6, (7,'a'):8, (7,'b'):7, (8,'a'):8, (8,'b'):8}, F=set([6, 8])),\n",
    "                        dfa2=DFA(Q=9, input_signs=['a', 'b'], δ={(0,'a'):1, (0,'b'):3, (1,'a'):2, (1,'b'):3, (2,'a'):2, (2,'b'):5, (3,'a'):1, (3,'b'):4, (4,'a'):7, (4,'b'):4, (5,'a'):5, (5,'b'):6, (6,'a'):6, (6,'b'):6, (7,'a'):8, (7,'b'):7, (8,'a'):8, (8,'b'):8}, F=set([6, 8])))\n",
    "test = test_example(dfa=dfa_, descrip=\"splot, dfa1 - 2 wzorce 'aa' i 'bb', dfa2 - 2 wzorce 'aa' i 'bb'\")  \n",
    "test_examples.append(test)\n",
    "# result, without SRS at all: cnt = [20522, 28]\n",
    "\n",
    "# 8 -------------------------------------------------------------------------------------------------------------------------------------------------\n",
    "dfa_ = DFA()\n",
    "pdfa1_, pdfa2_ = DFA(), DFA()\n",
    "pdfa1_.create_pattern_dfa(input_signs=['a', 'b'], patterns=['aa', 'bb'], _type=\"AND\")\n",
    "pdfa2_.create_pattern_dfa(input_signs=['a', 'b', 'c'], patterns=['aa', 'bb', 'c'], _type=\"AND\")\n",
    "\n",
    "dfa_.create_convolution(dfa1=pdfa1_, dfa2=pdfa2_)\n",
    "\n",
    "test = test_example(dfa=dfa_, descrip=\"splot, dfa1 - 2 wzorce: 'aa', 'bb', dfa2 - 3 wzorce: 'aa', 'bb', 'c'\")\n",
    "test_examples.append(test)\n",
    "# result, without SRS at all: cnt = [121709, 37]"
   ]
  },
  {
   "cell_type": "code",
   "execution_count": null,
   "metadata": {},
   "outputs": [],
   "source": [
    "test = test_examples[3] \n",
    "print(test.descrip)\n",
    "\n",
    "# dfa1_ = DFA(Q=4, input_signs=['a', 'b'], δ = {(0, 'a'):1, (0, 'b'):0, (1, 'a'):1, (1, 'b'):2, (2, 'a'):3, (2, 'b'):0, (3, 'a'):3, (3, 'b'):3}, F=set([3]))\n",
    "# dfa2_ = DFA(Q=4, input_signs=['a', 'b'], δ = {(0, 'a'):0, (0, 'b'):1, (1, 'a'):0, (1, 'b'):2, (2, 'a'):0, (2, 'b'):3, (3, 'a'):3, (3, 'b'):3}, F=set([3]))\n",
    "# _, _, _ = run_learning_process(test=test_example(dfa=dfa1_))\n",
    "# _, _, _ = run_learning_process(test=test_example(dfa=dfa2_))\n",
    "\n",
    "d, _, _ = run_learning_process(copy.deepcopy(test), oracle=None, check_consistency=False, debug=False)\n",
    "d, _, _ = run_learning_process(copy.deepcopy(test), oracle=SRS(), check_consistency=False, debug=False)\n",
    "d, _, _ = run_learning_process(copy.deepcopy(test), oracle=SRS(), check_consistency=True, debug=False)"
   ]
  },
  {
   "cell_type": "markdown",
   "metadata": {},
   "source": [
    "### Przykład dziwny"
   ]
  },
  {
   "cell_type": "code",
   "execution_count": 131,
   "metadata": {},
   "outputs": [
    {
     "name": "stdout",
     "output_type": "stream",
     "text": [
      "kontrprzykłady: liczba - 4, długości - [3, 3, 3, 3], cnt = [289, 5]\n",
      "kontrprzykłady: liczba - 4, długości - [3, 3, 3, 3], cnt = [289, 5]\n"
     ]
    }
   ],
   "source": [
    "patterns1 = ['aaa','bba','cca','ddd']\n",
    "patterns2 = ['aaa','bbb','ccc','ddd']\n",
    "\n",
    "pdfa_ = DFA()\n",
    "pdfa_.create_pattern_dfa(input_signs=['a', 'b', 'c', 'd'], patterns=patterns1, _type=\"OR\")\n",
    "test_1 = test_example(dfa=pdfa_)\n",
    "\n",
    "pdfa_ = DFA()\n",
    "pdfa_.create_pattern_dfa(input_signs=['a', 'b', 'c', 'd'], patterns=patterns2, _type=\"OR\")\n",
    "\n",
    "test_2 = test_example(dfa=pdfa_)\n",
    "\n",
    "d1 = run_learning_process(test=test_1)\n",
    "d2 = run_learning_process(test=test_2)\n",
    "\n",
    "# kontrprzykłady: [3, 3, 3, 3], cnt = [289, 5]\n",
    "# kontrprzykłady: [3, 3, 3, 3], cnt = [289, 5]"
   ]
  },
  {
   "cell_type": "code",
   "execution_count": 132,
   "metadata": {},
   "outputs": [
    {
     "name": "stdout",
     "output_type": "stream",
     "text": [
      "kontrprzykłady: liczba - 39, długości - [6, 6, 6, 6, 6, 6, 6, 12, 5, 8, 8, 6, 5, 8, 8, 6, 5, 8, 8, 6, 9, 12, 8, 8, 6, 6, 6, 6, 6, 14, 6, 6, 6, 6, 6, 6, 10, 6, 6], cnt = [24258, 4]\n",
      "kontrprzykłady: liczba - 68, długości - [6, 6, 6, 6, 6, 6, 6, 6, 6, 6, 6, 6, 6, 6, 6, 6, 6, 6, 6, 6, 6, 6, 6, 6, 6, 6, 6, 6, 6, 6, 6, 6, 6, 6, 6, 6, 6, 6, 6, 6, 6, 6, 6, 6, 6, 6, 6, 6, 6, 6, 6, 6, 6, 6, 6, 6, 6, 6, 6, 6, 6, 6, 6, 6, 6, 6, 6, 6], cnt = [69499, 69]\n"
     ]
    }
   ],
   "source": [
    "conv_dfa = DFA() \n",
    "conv_dfa.create_convolution(dfa1=d1, dfa2=d2)\n",
    "d = run_learning_process(test=test_example(dfa=conv_dfa), oracle=SRS(), check_consistency=True, debug=False)\n",
    "d = run_learning_process(test=test_example(dfa=conv_dfa), oracle=None, check_consistency=False, debug=False)"
   ]
  },
  {
   "cell_type": "markdown",
   "metadata": {},
   "source": [
    "### Duże automaty - ropoznające kilkadziesiąt wzorców (docelowo)"
   ]
  },
  {
   "cell_type": "code",
   "execution_count": 12,
   "metadata": {},
   "outputs": [
    {
     "data": {
      "text/plain": [
       "['dcadcd', 'cca', 'ac', 'dacdddaa', 'cdbd']"
      ]
     },
     "execution_count": 12,
     "metadata": {},
     "output_type": "execute_result"
    }
   ],
   "source": [
    "def random_patterns(input_signs, n=5, max_length=10):\n",
    "    patterns = []\n",
    "    for _ in range(n):\n",
    "        p = ''.join(random.choices(population=input_signs,k=random.randint(1, max_length)))\n",
    "        while p in set(patterns):\n",
    "            p = ''.join(random.choices(population=input_signs,k=random.randint(1, max_length)))\n",
    "        patterns.append(p)\n",
    "    return patterns\n",
    "\n",
    "random_patterns(input_signs=['a', 'b', 'c', 'd'], max_length=8)"
   ]
  },
  {
   "cell_type": "code",
   "execution_count": 15,
   "metadata": {},
   "outputs": [
    {
     "name": "stdout",
     "output_type": "stream",
     "text": [
      "patterns1 = ['ddcba', 'aabca', 'aaad', 'ada', 'baba', 'ccdbb', 'acbd', 'cb']\n",
      "patterns2 = ['b', 'aca', 'aac', 'dca', 'bdcca', 'a', 'bddda', 'dddaa']\n",
      "|Q1| = 324000\n",
      "|Q2| = 55296\n",
      "kontrprzykłady: liczba - 5, długości - [3, 4, 4, 5, 5], cnt = [530, 6]\n",
      "kontrprzykłady: liczba - 0, długości - [], cnt = [37, 1]\n",
      "after learning |Q1| = 14\n",
      "after learning |Q2| = 2\n",
      "('ddcbaaabcaccdbbaaadbabaacbdadacb', 1), ('bdccabdddadddaaacaaacdcaba', 1)\n"
     ]
    }
   ],
   "source": [
    "random.seed(101)\n",
    "\n",
    "input_signs = ['a', 'b', 'c', 'd']\n",
    "number_of_patterns = 8\n",
    "max_pattern_length = 5 \n",
    "\n",
    "patterns1, patterns2 = random_patterns(input_signs, number_of_patterns, max_pattern_length), random_patterns(input_signs, number_of_patterns, max_pattern_length)\n",
    "print(f\"patterns1 = {patterns1}\")\n",
    "print(f\"patterns2 = {patterns2}\")\n",
    "\n",
    "dfa1 = DFA() \n",
    "dfa2 = DFA()\n",
    "\n",
    "dfa1.create_pattern_dfa(input_signs=input_signs, patterns=patterns1, _type=DFA.OR_TYPE_PATTERN_DFA)\n",
    "print(f\"|Q1| = {dfa1.Q}\")\n",
    "\n",
    "dfa2.create_pattern_dfa(input_signs=input_signs, patterns=patterns2, _type=DFA.OR_TYPE_PATTERN_DFA)\n",
    "print(f\"|Q2| = {dfa2.Q}\")\n",
    "\n",
    "d1 = run_learning_process(test_example(dfa=copy.deepcopy(dfa1)))\n",
    "d2 = run_learning_process(test_example(dfa=copy.deepcopy(dfa2)))\n",
    "\n",
    "print(f\"after learning |Q1| = {d1.Q}\")\n",
    "s1 = ''.join(patterns1)\n",
    "ans1 = d1.route(s1)\n",
    "\n",
    "s2 = ''.join(patterns2)\n",
    "print(f\"after learning |Q2| = {d2.Q}\")\n",
    "ans2 = d2.route(s2)\n",
    "\n",
    "print(f\"{ans1}, {ans2}\")"
   ]
  },
  {
   "cell_type": "code",
   "execution_count": 16,
   "metadata": {},
   "outputs": [
    {
     "name": "stdout",
     "output_type": "stream",
     "text": [
      "(0,a) --> 1\n",
      "(0,b) --> 1\n",
      "(0,c) --> 0\n",
      "(0,d) --> 0\n",
      "(1,a) --> 1\n",
      "(1,b) --> 1\n",
      "(1,c) --> 1\n",
      "(1,d) --> 1\n",
      "stany akceptujące - {1}\n"
     ]
    }
   ],
   "source": [
    "d2.print_transitions()"
   ]
  },
  {
   "cell_type": "code",
   "execution_count": 17,
   "metadata": {},
   "outputs": [
    {
     "name": "stdout",
     "output_type": "stream",
     "text": [
      "|Q_conv(d1,d2)| = 28\n",
      "splot, dfa1 - wzorce: ['ddcba', 'aabca', 'ccdbb', 'aaad', 'baba', 'acbd', 'ada', 'cb'], dfa2 - wzorce: ['bdcca', 'bddda', 'dddaa', 'aca', 'aac', 'dca', 'b', 'a']\n"
     ]
    }
   ],
   "source": [
    "dfa_ = DFA() \n",
    "dfa_.create_convolution(dfa1=copy.deepcopy(d1), dfa2=copy.deepcopy(d2))\n",
    "\n",
    "dfa_.route(s1+s2.upper())\n",
    "print(f\"|Q_conv(d1,d2)| = {dfa_.Q}\")\n",
    "\n",
    "test = test_example(dfa=dfa_, descrip=f\"splot, dfa1 - wzorce: {patterns1}, dfa2 - wzorce: {patterns2}\")\n",
    "print(test.descrip)"
   ]
  },
  {
   "cell_type": "code",
   "execution_count": null,
   "metadata": {},
   "outputs": [],
   "source": [
    "# cProfile.run('run_learning_process(test, oracle=None, check_consistency=False, debug=False)', sort='time')\n",
    "run_learning_process(test, oracle=None, check_consistency=False, debug=False)"
   ]
  },
  {
   "cell_type": "code",
   "execution_count": null,
   "metadata": {},
   "outputs": [],
   "source": [
    "# cProfile.run('run_learning_process(test, oracle=SRS(), check_consistency=True, debug=False)', sort='time')\n",
    "run_learning_process(test, oracle=SRS(), check_consistency=True, debug=False)"
   ]
  },
  {
   "cell_type": "markdown",
   "metadata": {},
   "source": [
    "### Uczenie się konwolucji 2 losowych automatów"
   ]
  },
  {
   "cell_type": "code",
   "execution_count": 22,
   "metadata": {},
   "outputs": [],
   "source": [
    "class Record:\n",
    "    def __init__(self, d1, d2, conv, cnt_normal, cnt_with_advice):\n",
    "        self.d1 = d1\n",
    "        self.d2 = d2\n",
    "        self.conv = conv\n",
    "        self.cnt_normal = cnt_normal\n",
    "        self.cnt_with_advice = cnt_with_advice\n",
    "    def print_record(self):\n",
    "        print(f\"|d1| = {self.d1}, |d2| = {self.d2}, |conv| = {self.conv}, cnt_normal = {self.cnt_normal} vs cnt_with_advice = {self.cnt_with_advice}\") "
   ]
  },
  {
   "cell_type": "code",
   "execution_count": null,
   "metadata": {},
   "outputs": [],
   "source": [
    "seeds = [101 , 73, 29, 37, 87, 97, 113, 47, 17, 227]\n",
    "\n",
    "input_signs = ['a', 'b', 'c', 'd']\n",
    "max_number_of_states = 60\n",
    "number_of_itreations = len(seeds)\n",
    "\n",
    "results = []\n",
    "\n",
    "i = 0 \n",
    "while i < number_of_itreations: \n",
    "    random.seed(seeds[i])\n",
    "    i += 1\n",
    "\n",
    "    dfa1 = DFA()\n",
    "    dfa2 = DFA()\n",
    "    dfa1.create_random_dfa(Q=random.randint(max_number_of_states//2,max_number_of_states), input_signs=input_signs)\n",
    "    dfa2.create_random_dfa(Q=random.randint(max_number_of_states//2,max_number_of_states), input_signs=input_signs)\n",
    "    print(f\"(initially) d1_size = {dfa1.Q}, d2_size = {dfa2.Q}\")\n",
    "    \n",
    "    d1, _, _ = run_learning_process(test_example(dfa=copy.deepcopy(dfa1)))   \n",
    "    d2, _, _ = run_learning_process(test_example(dfa=copy.deepcopy(dfa2)))\n",
    "\n",
    "    print(f\"(minimal) d1_size = {d1.Q}, d2_size = {d2.Q}\")\n",
    "    conv_dfa = DFA()\n",
    "    conv_dfa.create_convolution(dfa1=d1, dfa2=d2) \n",
    "    print(f\"(initially) conv_dfa_size = {conv_dfa.Q}\")\n",
    "    \n",
    "    conv_with_advice, cnt_with_advice, cnt_ex_with_advice = run_learning_process(test=test_example(dfa=conv_dfa), oracle=SRS(), check_consistency=True) \n",
    "    conv_with_advice.type = DFA.CONV_DFA\n",
    "    print(f\"(minimal) conv_dfa_size = {conv_with_advice.Q}\")\n",
    "    conv_normal, cnt_normal, cnt_ex_normal = run_learning_process(test=test_example(dfa=conv_with_advice), oracle=None, check_consistency=False)\n",
    "\n",
    "    results.append(Record(d1=d1.Q, d2=d2.Q, conv=conv_with_advice.Q, cnt_normal=cnt_normal, cnt_with_advice=(cnt_with_advice, len(cnt_ex_with_advice))))"
   ]
  },
  {
   "cell_type": "code",
   "execution_count": 33,
   "metadata": {},
   "outputs": [
    {
     "name": "stdout",
     "output_type": "stream",
     "text": [
      "|d1| = 48, |d2| = 30, |conv| = 1440, cnt_normal = [1684967, 114] vs cnt_with_advice = ([847221, 2], 111)\n"
     ]
    }
   ],
   "source": [
    "for r in results:\n",
    "    r.print_record()"
   ]
  },
  {
   "cell_type": "markdown",
   "metadata": {},
   "source": [
    "### Uczenie się automatów ze słowem synchronizującym"
   ]
  },
  {
   "cell_type": "code",
   "execution_count": 40,
   "metadata": {},
   "outputs": [],
   "source": [
    "class RecordSYNCH:\n",
    "    def __init__(self, d, reset_word, cnt_normal, cnt_with_advice):\n",
    "        self.d = d\n",
    "        self.reset_word = reset_word\n",
    "        self.cnt_normal = cnt_normal\n",
    "        self.cnt_with_advice = cnt_with_advice\n",
    "    def print_record(self):\n",
    "        print(f\"|d1| = {self.d}, |reset_word| = {len(self.reset_word)}, cnt_normal = {self.cnt_normal} vs cnt_with_advice = {self.cnt_with_advice}\") "
   ]
  },
  {
   "cell_type": "code",
   "execution_count": null,
   "metadata": {},
   "outputs": [],
   "source": [
    "seeds = [101, 73, 29, 37, 87, 97, 113, 47, 17, 227]\n",
    "\n",
    "input_signs = ['a', 'b', 'c']\n",
    "max_number_of_states = 400 # 25\n",
    "number_of_itreations = len(seeds)\n",
    "\n",
    "results = []\n",
    "\n",
    "i = 0 \n",
    "while i < number_of_itreations: \n",
    "    random.seed(seeds[i])\n",
    "    i += 1\n",
    "\n",
    "    reset_word = DFA.NOT_RESETING_WORD\n",
    "    idx = 0 \n",
    "    while True:\n",
    "        dfa_ = DFA()\n",
    "        dfa_.create_random_dfa(Q=random.randint(max_number_of_states//2,max_number_of_states), input_signs=input_signs)\n",
    "        print(f\"idx = {idx}: d1_size (initially) = {dfa_.Q}\")\n",
    "        d, cnt_normal, _ = run_learning_process(test_example(dfa=copy.deepcopy(dfa_)))   \n",
    "        print(f\"(minimal) d1_size = {d.Q}\")\n",
    "\n",
    "        _, reset_word = d.check_synchronicity()\n",
    "        print(f\"reset_word = {reset_word}\")\n",
    "\n",
    "        if reset_word!=DFA.NOT_RESETING_WORD:\n",
    "            d.type = DFA.SYNCHRONICITY\n",
    "            d.reset_word = reset_word\n",
    "            break \n",
    "        idx += 1 \n",
    "    \n",
    "    d1_with_advice, cnt_with_advice, cnt_ex_with_advice = run_learning_process(test=test_example(dfa=d), oracle=SRS(), check_consistency=True) \n",
    "    d1_with_advice.type = DFA.SYNCHRONICITY\n",
    "\n",
    "    results.append(RecordSYNCH(d=d.Q, reset_word=reset_word, cnt_normal=cnt_normal, cnt_with_advice=(cnt_with_advice, len(cnt_ex_with_advice))))"
   ]
  },
  {
   "cell_type": "code",
   "execution_count": 119,
   "metadata": {},
   "outputs": [
    {
     "name": "stdout",
     "output_type": "stream",
     "text": [
      "|d1| = 317, |reset_word| = 84, cnt_normal = [60007, 72] vs cnt_with_advice = ([180301, 33], 35)\n",
      "|d1| = 257, |reset_word| = 70, cnt_normal = [22402, 30] vs cnt_with_advice = ([39829, 7], 7)\n",
      "|d1| = 327, |reset_word| = 82, cnt_normal = [25872, 28] vs cnt_with_advice = ([109053, 11], 12)\n",
      "|d1| = 359, |reset_word| = 104, cnt_normal = [17615, 16] vs cnt_with_advice = ([77978, 4], 4)\n",
      "|d1| = 227, |reset_word| = 69, cnt_normal = [8872, 14] vs cnt_with_advice = ([34739, 6], 6)\n",
      "|d1| = 236, |reset_word| = 51, cnt_normal = [11588, 14] vs cnt_with_advice = ([25219, 2], 2)\n",
      "|d1| = 197, |reset_word| = 73, cnt_normal = [11652, 22] vs cnt_with_advice = ([30590, 5], 5)\n",
      "|d1| = 285, |reset_word| = 75, cnt_normal = [12847, 12] vs cnt_with_advice = ([44730, 3], 3)\n",
      "|d1| = 314, |reset_word| = 82, cnt_normal = [14781, 18] vs cnt_with_advice = ([54928, 5], 5)\n",
      "|d1| = 290, |reset_word| = 91, cnt_normal = [12491, 14] vs cnt_with_advice = ([54295, 3], 3)\n"
     ]
    }
   ],
   "source": [
    "for r in results:\n",
    "    r.print_record()"
   ]
  },
  {
   "cell_type": "markdown",
   "metadata": {},
   "source": [
    "### Uczenie się automatów typu **marked words**"
   ]
  },
  {
   "cell_type": "code",
   "execution_count": 11,
   "metadata": {},
   "outputs": [],
   "source": [
    "class RecordMARKED:\n",
    "    def __init__(self, d, d_marked_cnt_normal, d_marked_cnt_with_advice):\n",
    "        self.d = d\n",
    "        self.d_marked_cnt_normal = d_marked_cnt_normal\n",
    "        self.d_marked_cnt_with_advice = d_marked_cnt_with_advice\n",
    "    def print_record(self):\n",
    "        print(f\"|d1| = {self.d}, |d_marked_cnt_normal| = {self.d_marked_cnt_normal} vs |d_marked_cnt_with_advice| = {self.d_marked_cnt_with_advice}\") "
   ]
  },
  {
   "cell_type": "code",
   "execution_count": 12,
   "metadata": {},
   "outputs": [
    {
     "name": "stdout",
     "output_type": "stream",
     "text": [
      "kontrprzykłady: liczba - 2, długości - [4, 4], cnt = [205, 3]\n",
      "kontrprzykłady: liczba - 6, długości - [3, 4, 4, 5, 6, 6], cnt = [409, 6]\n"
     ]
    }
   ],
   "source": [
    "seeds = [101] #, 73, 29, 37, 87, 97, 113, 47, 17, 227]\n",
    "\n",
    "input_signs = ['a', 'b', 'c', 'd'] #, 'e', 'f']\n",
    "max_number_of_states = 10\n",
    "number_of_itreations = len(seeds)\n",
    "\n",
    "results = []\n",
    "\n",
    "i = 0 \n",
    "while i < number_of_itreations:  \n",
    "    random.seed(seeds[i])\n",
    "    i += 1\n",
    "\n",
    "    dfa_ = DFA()\n",
    "    dfa_.create_random_dfa(Q=random.randint(max_number_of_states//2,max_number_of_states), input_signs=input_signs)\n",
    "    d, cnt_normal, _ = run_learning_process(test_example(dfa=copy.deepcopy(dfa_)), oracle=None, check_consistency=False)   \n",
    "    d_marked = d.create_marked_words_atomaton()\n",
    "\n",
    "    # _, cnt_normal, _ = run_learning_process(test=test_example(dfa=d_marked))\n",
    "    _, cnt_with_advice, cnt_ex_with_advice = run_learning_process(test=test_example(dfa=d_marked), oracle=SRS(), check_consistency=True) \n",
    "\n",
    "    results.append(RecordMARKED(d=d.Q, d_marked_cnt_normal=cnt_normal, d_marked_cnt_with_advice=(cnt_with_advice, len(cnt_ex_with_advice))))"
   ]
  },
  {
   "cell_type": "code",
   "execution_count": 13,
   "metadata": {},
   "outputs": [
    {
     "name": "stdout",
     "output_type": "stream",
     "text": [
      "|d1| = 9, |d_marked_cnt_normal| = [205, 3] vs |d_marked_cnt_with_advice| = ([409, 6], 6)\n"
     ]
    }
   ],
   "source": [
    "for r in results:\n",
    "    r.print_record()"
   ]
  },
  {
   "cell_type": "markdown",
   "metadata": {},
   "source": [
    "### Uczenie się automatów z częściową specyfikacją"
   ]
  },
  {
   "cell_type": "code",
   "execution_count": 24,
   "metadata": {},
   "outputs": [
    {
     "name": "stdout",
     "output_type": "stream",
     "text": [
      "{0: '', 5: 'c', 1: 'cb', 2: 'cba', 4: 'cbaa', 3: 'cbaaa', 9: 'cbaab', 6: 'cbaaaa', 8: 'cbaaac', 7: 'cbaaaab'}\n",
      "30\n",
      "{0: ''}\n",
      "9\n",
      "dodaje regule: a -> \n",
      "dodaje regule: b -> \n",
      "[('αa', 'α'), ('αb', 'α'), ('aα', 'αα'), ('bα', 'αα'), ('cα', 'αα'), ('ααa', 'αα'), ('ααb', 'αα'), ('ααc', 'αα'), ('ααα', 'αα')]\n",
      "w = αbaaabcabacacc, nf_w = αcabacacc\n"
     ]
    }
   ],
   "source": [
    "random.seed(25176)\n",
    "# seedy fajne: 1, 17 \n",
    "dfa_ = DFA()\n",
    "dfa_.create_random_dfa(Q=10, input_signs=['a', 'b', 'c'])\n",
    "\n",
    "sel1 = dfa_.find_selectors()\n",
    "print(sel1)\n",
    "print(len(dfa_.δ))\n",
    "\n",
    "dfa_.prune(k=0.7)\n",
    "sel2 = dfa_.find_selectors()\n",
    "print(sel2)\n",
    "print(len(dfa_.δ))\n",
    "\n",
    "from utils.oracles.SRSpartial import SRSpartial\n",
    "srs = SRSpartial(alphabet=dfa_.input_signs, partial_dfa=dfa_)\n",
    "print(srs.pi)\n",
    "w = \"αbaaabcabacacc\"\n",
    "nf_w = srs.get_normal_form(w)\n",
    "print(f\"w = {w}, nf_w = {nf_w}\")\n",
    "# w = αbacabacacc, nf_w = αbabaacc\n",
    "# w = αbacabacacc, nf_w = αbabacacc"
   ]
  },
  {
   "cell_type": "code",
   "execution_count": 4,
   "metadata": {},
   "outputs": [],
   "source": [
    "class RecordPARTIAL:\n",
    "    def __init__(self, d, d_cnt_normal, d_cnt_with_partial_advice):\n",
    "        self.d = d\n",
    "        self.d_cnt_normal = d_cnt_normal\n",
    "        self.d_cnt_with_partial_advice = d_cnt_with_partial_advice\n",
    "    def print_record(self):\n",
    "        print(f\"|d1| = {self.d}, |d_cnt_normal| = {self.d_cnt_normal} vs |d_cnt_with_partial_advice| = {self.d_cnt_with_partial_advice}\") "
   ]
  },
  {
   "cell_type": "code",
   "execution_count": 8,
   "metadata": {},
   "outputs": [
    {
     "name": "stdout",
     "output_type": "stream",
     "text": [
      "kontrprzykłady: liczba - 22, długości - [3, 4, 5, 5, 5, 5, 5, 5, 6, 6, 6, 6, 6, 6, 7, 7, 7, 8, 8, 8, 9, 9], cnt = [55398, 23]\n",
      "kontrprzykłady: liczba - 22, długości - [3, 4, 5, 5, 5, 5, 5, 5, 6, 6, 6, 6, 6, 6, 7, 7, 7, 8, 8, 8, 9, 9], cnt = [38764, 22]\n",
      "kontrprzykłady: liczba - 17, długości - [3, 5, 5, 5, 5, 6, 6, 6, 6, 6, 6, 6, 6, 7, 8, 8, 8], cnt = [31829, 18]\n",
      "kontrprzykłady: liczba - 10, długości - [6, 6, 9, 3, 5, 10, 6, 7, 7, 7], cnt = [20886, 6]\n",
      "kontrprzykłady: liczba - 25, długości - [3, 4, 5, 5, 5, 5, 5, 5, 6, 6, 6, 6, 6, 6, 6, 6, 7, 7, 7, 8, 8, 8, 9, 9, 9], cnt = [64561, 26]\n",
      "kontrprzykłady: liczba - 11, długości - [3, 4, 8, 8, 9, 11, 6, 7, 7, 9, 9], cnt = [41511, 7]\n"
     ]
    }
   ],
   "source": [
    "seeds = [101, 73, 29] # 37, 87] # 97, 113, 47, 17, 227]\n",
    "\n",
    "input_signs = ['a', 'b', 'c', 'd'] #, 'e', 'f']\n",
    "max_number_of_states = 600 \n",
    "number_of_itreations = len(seeds)\n",
    "\n",
    "results = []\n",
    "\n",
    "i = 0 \n",
    "while i < number_of_itreations:  \n",
    "    random.seed(seeds[i])\n",
    "    i += 1\n",
    "\n",
    "    dfa_ = DFA()\n",
    "    dfa_.create_random_dfa(Q=random.randint(max_number_of_states//3,max_number_of_states), input_signs=input_signs)\n",
    "    dfa_partial = copy.deepcopy(dfa_)\n",
    "    dfa_partial.prune(k=0.7)\n",
    "\n",
    "    dfa_to_learn = dfa_.create_coppy_with_start_sign()\n",
    "\n",
    "    d, cnt_normal, _ = run_learning_process(test_example(dfa=copy.deepcopy(dfa_to_learn)), oracle=None, check_consistency=False)   \n",
    "    _, cnt_with_advice, cnt_ex_with_advice = run_learning_process(test=test_example(dfa=dfa_to_learn), oracle=dfa_partial, check_consistency=True) \n",
    "\n",
    "    results.append(RecordPARTIAL(d=d.Q, d_cnt_normal=cnt_normal, d_cnt_with_partial_advice=(cnt_with_advice, len(cnt_ex_with_advice))))"
   ]
  },
  {
   "cell_type": "code",
   "execution_count": 9,
   "metadata": {},
   "outputs": [
    {
     "name": "stdout",
     "output_type": "stream",
     "text": [
      "|d1| = 490, |d_cnt_normal| = [55398, 23] vs |d_cnt_with_partial_advice| = ([38764, 22], 22)\n",
      "|d1| = 342, |d_cnt_normal| = [31829, 18] vs |d_cnt_with_partial_advice| = ([20886, 6], 10)\n",
      "|d1| = 471, |d_cnt_normal| = [64561, 26] vs |d_cnt_with_partial_advice| = ([41511, 7], 11)\n"
     ]
    }
   ],
   "source": [
    "for r in results:\n",
    "    r.print_record()\n",
    "\n",
    "# |d1| = 138, |d_cnt_normal| = [31659, 41] vs |d_cnt_with_partial_advice| = ([21774, 23], 26)\n",
    "# |d1| = 171, |d_cnt_normal| = [17296, 15] vs |d_cnt_with_partial_advice| = ([18200, 2], 5)\n",
    "# |d1| = 233, |d_cnt_normal| = [24491, 19] vs |d_cnt_with_partial_advice| = ([14933, 11], 15)\n",
    "# |d1| = 245, |d_cnt_normal| = [123851, 82] vs |d_cnt_with_partial_advice| = ([91635, 81], 81)\n",
    "# |d1| = 272, |d_cnt_normal| = [32942, 20] vs |d_cnt_with_partial_advice| = ([23147, 2], 9)\n",
    "# |d1| = 342, |d_cnt_normal| = [31829, 18] vs |d_cnt_with_partial_advice| = ([20886, 6], 10)\n",
    "# |d1| = 471, |d_cnt_normal| = [64561, 26] vs |d_cnt_with_partial_advice| = ([41511, 7], 11)\n",
    "# |d1| = 490, |d_cnt_normal| = [55398, 23] vs |d_cnt_with_partial_advice| = ([38764, 22], 22)"
   ]
  },
  {
   "cell_type": "markdown",
   "metadata": {},
   "source": [
    "### Uczenie się splotu DFA - **debugowanie** "
   ]
  },
  {
   "cell_type": "code",
   "execution_count": null,
   "metadata": {},
   "outputs": [],
   "source": [
    "dfa1 = DFA()\n",
    "dfa2 = DFA()\n",
    "\n",
    "dfa1.create_random_dfa(Q=1, input_signs=['a', 'b', 'c'])\n",
    "dfa2.create_pattern_dfa(input_signs=['a', 'b', 'c'], patterns=['aa'])\n",
    "\n",
    "dfa1.print_transitions()\n",
    "dfa2.print_transitions()\n",
    "\n",
    "conv_dfa =DFA()\n",
    "conv_dfa.create_convolution(dfa1=dfa1, dfa2=dfa2)\n",
    "\n",
    "conv_dfa.print_transitions()\n",
    "d, x, y = run_learning_process(test=test_example(dfa=conv_dfa))\n",
    "d.print_transitions()"
   ]
  },
  {
   "cell_type": "code",
   "execution_count": 60,
   "metadata": {},
   "outputs": [
    {
     "name": "stdout",
     "output_type": "stream",
     "text": [
      "bv = 1101, int(bv) = 13\n",
      "bv = 11011, int(bv) = 27\n"
     ]
    }
   ],
   "source": [
    "import BitVector\n",
    "bv = BitVector.BitVector(bitlist =[1, 1, 0, 1])\n",
    "print(f\"bv = {bv}, int(bv) = {int(bv)}\")\n",
    "\n",
    "bv_ = BitVector.BitVector(bitlist = [1])\n",
    "bv = bv + bv_\n",
    "\n",
    "print(f\"bv = {bv}, int(bv) = {int(bv)}\")"
   ]
  },
  {
   "cell_type": "code",
   "execution_count": 9,
   "metadata": {},
   "outputs": [
    {
     "name": "stdout",
     "output_type": "stream",
     "text": [
      "0 (0, 0)\n",
      "1 (0, 1)\n",
      "2 (0, 2)\n",
      "3 (0, 3)\n",
      "4 (0, 4)\n",
      "5 (1, 0)\n",
      "6 (1, 1)\n",
      "7 (1, 2)\n",
      "8 (1, 3)\n",
      "9 (1, 4)\n",
      "10 (2, 0)\n",
      "11 (2, 1)\n",
      "12 (2, 2)\n",
      "13 (2, 3)\n",
      "14 (2, 4)\n",
      "15 (3, 0)\n",
      "16 (3, 1)\n",
      "17 (3, 2)\n",
      "18 (3, 3)\n",
      "19 (3, 4)\n",
      "20 (4, 0)\n",
      "21 (4, 1)\n",
      "22 (4, 2)\n",
      "23 (4, 3)\n",
      "24 (4, 4)\n",
      "9\n"
     ]
    }
   ],
   "source": [
    "from itertools import product \n",
    "\n",
    "q1, q2 = 5, 4\n",
    "xs = product(range(q1), repeat=2) \n",
    "\n",
    "for i, x in enumerate(xs):\n",
    "    print(i, x)\n",
    "\n",
    "print(3**2)\n"
   ]
  },
  {
   "cell_type": "markdown",
   "metadata": {},
   "source": [
    "<!-- ### Uczenie się splotów - **debugowanie**  -->"
   ]
  }
 ],
 "metadata": {
  "kernelspec": {
   "display_name": "Python 3",
   "language": "python",
   "name": "python3"
  },
  "language_info": {
   "codemirror_mode": {
    "name": "ipython",
    "version": 3
   },
   "file_extension": ".py",
   "mimetype": "text/x-python",
   "name": "python",
   "nbconvert_exporter": "python",
   "pygments_lexer": "ipython3",
   "version": "3.10.12"
  }
 },
 "nbformat": 4,
 "nbformat_minor": 2
}
