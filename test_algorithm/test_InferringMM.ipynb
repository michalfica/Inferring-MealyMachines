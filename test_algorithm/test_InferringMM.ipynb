{
 "cells": [
  {
   "cell_type": "markdown",
   "metadata": {},
   "source": [
    "## testowanie nakładki do wnioskowania maszyn mealego "
   ]
  },
  {
   "cell_type": "code",
   "execution_count": 3,
   "metadata": {},
   "outputs": [],
   "source": [
    "import copy, sys\n",
    "import cProfile\n",
    "\n",
    "sys.path.append(\"../\")\n",
    "sys.path.append(\"../inferring\")\n",
    "sys.path.append(\"../utils\")\n",
    "sys.path.append(\"../utils/DFA\")\n",
    "from importlib import reload\n",
    "\n",
    "import inferring.Inferring as Inferring, inferring.InferringMM as InferringMM\n",
    "import utils.automats.MM, utils.automats.MM.MealyMachine as MealyMachine\n",
    "import utils.automats.MM.PatternDetectionMM\n",
    "import utils.oracles.SRS as SRS, utils.oracles.SRSconv as SRSconv\n",
    "\n",
    "reload(SRS)\n",
    "reload(SRSconv)\n",
    "\n",
    "reload(Inferring)\n",
    "reload(InferringMM)\n",
    "\n",
    "reload(MealyMachine)\n",
    "reload(utils.automats.MM.PatternDetectionMM)\n",
    "\n",
    "from inferring.Inferring import Inferring\n",
    "from inferring.InferringMM import InferringMM\n",
    "from utils.automats.MM.MealyMachine import MealyMachine\n",
    "from utils.automats.MM.PatternDetectionMM import PatternMM\n",
    "from utils.oracles.SRSconv import SRSconv\n",
    "\n",
    "from inferring.InferringDFA import InferringDFA"
   ]
  },
  {
   "cell_type": "code",
   "execution_count": 4,
   "metadata": {},
   "outputs": [],
   "source": [
    "mm1 = MealyMachine(\n",
    "    Q=1,\n",
    "    input_signs=[\"b\", \"a\"],\n",
    "    output_signs=[\"a\", \"b\"],\n",
    "    λ={(0, \"a\"): \"a\", (0, \"b\"): \"b\"},\n",
    "    δ={(0, \"a\"): 0, (0, \"b\"): 0},\n",
    ")\n",
    "\n",
    "mm2 = MealyMachine(\n",
    "    Q=2,\n",
    "    input_signs=[\"b\", \"a\"],\n",
    "    output_signs=[\"a\", \"b\"],\n",
    "    λ={(0, \"a\"): \"a\", (0, \"b\"): \"b\", (1, \"a\"): \"a\", (1, \"b\"): \"b\"},\n",
    "    δ={(0, \"a\"): 0, (0, \"b\"): 1, (1, \"a\"): 0, (1, \"b\"): 1},\n",
    ")\n",
    "\n",
    "mm3 = MealyMachine(\n",
    "    Q=1,\n",
    "    input_signs=[\"b\", \"a\"],\n",
    "    output_signs=[\"a\", \"b\"],\n",
    "    λ={(0, \"a\"): \"b\", (0, \"b\"): \"a\"},\n",
    "    δ={(0, \"a\"): 0, (0, \"b\"): 0},\n",
    ")\n",
    "\n",
    "mm4 = MealyMachine(Q=3, \n",
    "                   input_signs=[\"0\", \"1\"], \n",
    "                   output_signs=[\"0\", \"1\"], \n",
    "                   λ={(0, \"0\"): \"0\", (0, \"1\") : \"0\", (1, \"0\"): \"0\", (1, \"1\"): \"1\", (2, \"0\"): \"1\", (2, \"1\"): \"0\"}, \n",
    "                   δ={(0, \"0\"): 1, (0, \"1\") : 2, (1, \"0\"): 1, (1, \"1\"): 2, (2, \"0\"): 1, (2, \"1\"): 2})\n",
    "mm_mod3 = MealyMachine(\n",
    "    Q = 3, \n",
    "    input_signs=[\"a\", \"b\"], \n",
    "    output_signs=[\"a\", \"b\"], \n",
    "    λ={(0,\"a\"): \"a\", (0, \"b\"): \"b\", (1,\"a\"): \"a\", (1, \"b\"): \"b\", (2,\"a\"): \"b\", (2, \"b\"): \"a\"},\n",
    "    δ={(0,\"a\"): 1, (0, \"b\"): 1, (1,\"a\"): 2, (1, \"b\"): 2, (2,\"a\"): 0, (2, \"b\"): 0}\n",
    ")\n",
    "\n",
    "mm_mod4 = MealyMachine(\n",
    "    Q = 4, \n",
    "    input_signs=[\"a\", \"b\"], \n",
    "    output_signs=[\"a\", \"b\"], \n",
    "    λ={(0,\"a\"): \"a\", (0, \"b\"): \"b\", (1,\"a\"): \"a\", (1, \"b\"): \"b\", (2,\"a\"): \"a\", (2, \"b\"): \"b\", (3,\"a\"): \"b\", (3, \"b\"): \"a\"},\n",
    "    δ={(0,\"a\"): 1, (0, \"b\"): 1, (1,\"a\"): 2, (1, \"b\"): 2, (2,\"a\"): 3, (2, \"b\"): 3, (3,\"a\"): 0, (3, \"b\"): 0}\n",
    ")"
   ]
  },
  {
   "cell_type": "code",
   "execution_count": 5,
   "metadata": {},
   "outputs": [
    {
     "name": "stdout",
     "output_type": "stream",
     "text": [
      "iteracja nr: 1\n",
      "after 14, 1 zapytaniach nauczylem sie ponizszej maszyny:\n",
      "(0,0) --> '0',1\n",
      "(0,1) --> '0',2\n",
      "(1,0) --> '0',1\n",
      "(1,1) --> '1',2\n",
      "(2,0) --> '1',1\n",
      "(2,1) --> '0',2\n"
     ]
    }
   ],
   "source": [
    "# learn_mm_mod4 = InferringMM(mm_mod4)\n",
    "# mm, cnt  = learn_mm_mod4.run()\n",
    "\n",
    "# learn_mm_mod3 = InferringMM(mm_mod3)\n",
    "# mm, cnt = learn_mm_mod3.run()\n",
    "\n",
    "# learn_mm1 = InferringMM(mm1)\n",
    "# mm, cnt = learn_mm1.run()\n",
    "\n",
    "# learn_mm2 = InferringMM(mm2)\n",
    "# mm, cnt = learn_mm2.run()\n",
    "\n",
    "# learn_mm3 = InferringMM(mm3)\n",
    "# mm, cnt = learn_mm3.run()\n",
    "\n",
    "learn_mm4 = InferringMM(mm4)\n",
    "mm, cnt = learn_mm4.run()\n",
    "\n",
    "print(f\"after {cnt[0]}, {cnt[1]} zapytaniach nauczylem sie ponizszej maszyny:\")\n",
    "mm.print_transitions()"
   ]
  }
 ],
 "metadata": {
  "kernelspec": {
   "display_name": "Python 3",
   "language": "python",
   "name": "python3"
  },
  "language_info": {
   "codemirror_mode": {
    "name": "ipython",
    "version": 3
   },
   "file_extension": ".py",
   "mimetype": "text/x-python",
   "name": "python",
   "nbconvert_exporter": "python",
   "pygments_lexer": "ipython3",
   "version": "3.10.12"
  }
 },
 "nbformat": 4,
 "nbformat_minor": 2
}
