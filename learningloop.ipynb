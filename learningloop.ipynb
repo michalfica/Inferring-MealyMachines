{
 "cells": [
  {
   "cell_type": "markdown",
   "metadata": {},
   "source": [
    "## Uczenie sie losowych maszyn "
   ]
  },
  {
   "cell_type": "code",
   "execution_count": 82,
   "metadata": {},
   "outputs": [],
   "source": [
    "from importlib import reload \n",
    "import math "
   ]
  },
  {
   "cell_type": "code",
   "execution_count": 102,
   "metadata": {},
   "outputs": [],
   "source": [
    "import Mealymachine\n",
    "reload(Mealymachine)\n",
    "\n",
    "import InferringMM\n",
    "reload(InferringMM)\n",
    "\n",
    "from Mealymachine import MealyMachine\n",
    "from InferringMM import *"
   ]
  },
  {
   "cell_type": "code",
   "execution_count": 103,
   "metadata": {},
   "outputs": [],
   "source": [
    "number_of_iterations = 30"
   ]
  },
  {
   "cell_type": "code",
   "execution_count": 135,
   "metadata": {},
   "outputs": [
    {
     "name": "stdout",
     "output_type": "stream",
     "text": [
      "nie jest spójna !\n",
      "(0,a) --> 'b',2\n",
      "(0,b) --> 'c',0\n",
      "(0,c) --> 'd',3\n",
      "(1,a) --> 'd',0\n",
      "(1,b) --> 'e',2\n",
      "(1,c) --> 'b',1\n",
      "(2,a) --> 'e',1\n",
      "(2,b) --> 'b',3\n",
      "(2,c) --> 'd',0\n",
      "(3,a) --> 'a',3\n",
      "(3,b) --> 'e',0\n",
      "(3,c) --> 'a',2\n",
      "jest juz spójna ? \n",
      "True\n"
     ]
    }
   ],
   "source": [
    "for i in range(number_of_iterations):\n",
    "    target = MealyMachine()\n",
    "    target.random_machine()\n",
    "    check_conectivity = target.fully_conected() \n",
    "    while not check_conectivity:\n",
    "        print(\"nie jest spójna !\")\n",
    "        target.random_machine()\n",
    "        check_conectivity = target.fully_conected() \n",
    "    target.print_transitions()\n",
    "    print(f\"jest juz spójna ? \")\n",
    "    check_conectivity = target.fully_conected() \n",
    "    print(f\"{check_conectivity}\")\n",
    "    break\n",
    "    # n, I = target.Q, len(target.input_signs)\n",
    "\n",
    "    # learn_mm = InferringMM(target)\n",
    "    # mm, cnt, cnt_ex= learn_mm.run(counterexamples=True)\n",
    "    # mx_cntex = max(cnt_ex) if len(cnt_ex) > 0 else 0 \n",
    "\n",
    "    # if cnt[0] < 2*math.log(n)*I:\n",
    "    #     print(f\"{cnt[0]}, {cnt[1]} vs O({I**2}*{n} + {I}*{mx_cntex}*{n**2}) = O({I**2*n + I*mx_cntex*n**2})\")\n",
    "    #     print(f\"wyuczona:\")\n",
    "    #     mm.print_transitions()\n",
    "    #     print(f\"docelowa:\")\n",
    "    #     target.print_transitions()\n",
    "    #     print(f\"conectivity = {check_conectivity}\")\n",
    "    #     check_conectivity = target.fully_conected()\n",
    "    #     print(f\"spradzam jeszcze raz = {check_conectivity}\")\n",
    "\n",
    "    #     print(\"\\n\\n\")\n",
    "    #     # break"
   ]
  },
  {
   "cell_type": "code",
   "execution_count": 67,
   "metadata": {},
   "outputs": [
    {
     "name": "stdout",
     "output_type": "stream",
     "text": [
      "wyuczona:\n",
      "(0,a) --> 'b',0\n",
      "docelowa:\n",
      "(0,a) --> 'b',0\n",
      "(1,a) --> 'b',3\n",
      "(2,a) --> 'a',0\n",
      "(3,a) --> 'c',3\n",
      "(4,a) --> 'c',6\n",
      "(5,a) --> 'b',3\n",
      "(6,a) --> 'd',0\n",
      "(7,a) --> 'a',7\n"
     ]
    }
   ],
   "source": [
    "print(f\"wyuczona:\")\n",
    "mm.print_transitions()\n",
    "print(f\"docelowa:\")\n",
    "target.print_transitions()"
   ]
  },
  {
   "cell_type": "code",
   "execution_count": 73,
   "metadata": {},
   "outputs": [
    {
     "name": "stdout",
     "output_type": "stream",
     "text": [
      "(True, '')\n",
      "czy jest 1 ss? False\n"
     ]
    }
   ],
   "source": [
    "print(target.equiv(mm))\n",
    "check_fully_conected = target.fully_conected()\n",
    "print(f\"czy jest 1 ss? {check_fully_conected}\")"
   ]
  },
  {
   "cell_type": "code",
   "execution_count": 106,
   "metadata": {},
   "outputs": [
    {
     "name": "stdout",
     "output_type": "stream",
     "text": [
      "(0,a) --> 'a',0\n",
      "(1,a) --> 'a',0\n",
      "(2,a) --> 'a',1\n",
      "is fully connected? False\n"
     ]
    }
   ],
   "source": [
    "mely = MealyMachine(Q = 3, \n",
    "                    input_signs=['a'], \n",
    "                    output_signs=['a'],\n",
    "                    λ= {(0, 'a'): 'a', (1, 'a'): 'a', (2, 'a'): 'a'}, \n",
    "                    δ={(0, \"a\"): 0, (1, \"a\"): 0, (2, \"a\"): 1}\n",
    ")\n",
    "\n",
    "mely.print_transitions()\n",
    "check = mely.fully_conected()\n",
    "print(f\"is fully connected? {check}\")"
   ]
  }
 ],
 "metadata": {
  "kernelspec": {
   "display_name": "Python 3",
   "language": "python",
   "name": "python3"
  },
  "language_info": {
   "codemirror_mode": {
    "name": "ipython",
    "version": 3
   },
   "file_extension": ".py",
   "mimetype": "text/x-python",
   "name": "python",
   "nbconvert_exporter": "python",
   "pygments_lexer": "ipython3",
   "version": "3.10.12"
  }
 },
 "nbformat": 4,
 "nbformat_minor": 2
}
