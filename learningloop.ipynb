{
 "cells": [
  {
   "cell_type": "markdown",
   "metadata": {},
   "source": [
    "## Uczenie sie losowych maszyn "
   ]
  },
  {
   "cell_type": "code",
   "execution_count": 64,
   "metadata": {},
   "outputs": [],
   "source": [
    "from importlib import reload \n",
    "import math "
   ]
  },
  {
   "cell_type": "code",
   "execution_count": 65,
   "metadata": {},
   "outputs": [],
   "source": [
    "import Mealymachine\n",
    "reload(Mealymachine)\n",
    "\n",
    "import InferringMM\n",
    "reload(InferringMM)\n",
    "\n",
    "from Mealymachine import MealyMachine\n",
    "from InferringMM import *"
   ]
  },
  {
   "cell_type": "code",
   "execution_count": 66,
   "metadata": {},
   "outputs": [],
   "source": [
    "number_of_iterations = 30000"
   ]
  },
  {
   "cell_type": "code",
   "execution_count": 70,
   "metadata": {},
   "outputs": [
    {
     "ename": "ValueError",
     "evalue": "low >= high",
     "output_type": "error",
     "traceback": [
      "\u001b[0;31m---------------------------------------------------------------------------\u001b[0m",
      "\u001b[0;31mValueError\u001b[0m                                Traceback (most recent call last)",
      "Cell \u001b[0;32mIn[70], line 3\u001b[0m\n\u001b[1;32m      1\u001b[0m \u001b[38;5;28;01mfor\u001b[39;00m i \u001b[38;5;129;01min\u001b[39;00m \u001b[38;5;28mrange\u001b[39m(number_of_iterations):\n\u001b[1;32m      2\u001b[0m     target \u001b[38;5;241m=\u001b[39m MealyMachine()\n\u001b[0;32m----> 3\u001b[0m     \u001b[43mtarget\u001b[49m\u001b[38;5;241;43m.\u001b[39;49m\u001b[43mrandom_machine\u001b[49m\u001b[43m(\u001b[49m\u001b[43mmin_Q\u001b[49m\u001b[38;5;241;43m=\u001b[39;49m\u001b[38;5;241;43m6\u001b[39;49m\u001b[43m,\u001b[49m\u001b[43m \u001b[49m\u001b[43mmax_Q\u001b[49m\u001b[38;5;241;43m=\u001b[39;49m\u001b[38;5;241;43m9\u001b[39;49m\u001b[43m,\u001b[49m\u001b[43m \u001b[49m\u001b[43mmax_insz\u001b[49m\u001b[38;5;241;43m=\u001b[39;49m\u001b[38;5;241;43m6\u001b[39;49m\u001b[43m,\u001b[49m\u001b[43m \u001b[49m\u001b[43mmax_outsz\u001b[49m\u001b[38;5;241;43m=\u001b[39;49m\u001b[38;5;241;43m6\u001b[39;49m\u001b[43m)\u001b[49m\n\u001b[1;32m      4\u001b[0m     check_conectivity \u001b[38;5;241m=\u001b[39m target\u001b[38;5;241m.\u001b[39mfully_conected() \n\u001b[1;32m      5\u001b[0m     \u001b[38;5;28;01mwhile\u001b[39;00m \u001b[38;5;129;01mnot\u001b[39;00m check_conectivity:\n",
      "File \u001b[0;32m~/Documents/studia2/magisterka/Mealymachine.py:59\u001b[0m, in \u001b[0;36mMealyMachine.random_machine\u001b[0;34m(self, min_Q, max_Q, max_insz, max_outsz)\u001b[0m\n\u001b[1;32m     56\u001b[0m \u001b[38;5;28;01mdef\u001b[39;00m \u001b[38;5;21mrandom_machine\u001b[39m(\u001b[38;5;28mself\u001b[39m, min_Q\u001b[38;5;241m=\u001b[39m\u001b[38;5;241m2\u001b[39m, max_Q\u001b[38;5;241m=\u001b[39m\u001b[38;5;241m5\u001b[39m, max_insz\u001b[38;5;241m=\u001b[39m\u001b[38;5;241m5\u001b[39m, max_outsz\u001b[38;5;241m=\u001b[39m\u001b[38;5;241m5\u001b[39m):\n\u001b[1;32m     57\u001b[0m     \u001b[38;5;28mself\u001b[39m\u001b[38;5;241m.\u001b[39mQ \u001b[38;5;241m=\u001b[39m random\u001b[38;5;241m.\u001b[39mrandint(low\u001b[38;5;241m=\u001b[39m\u001b[38;5;241m1\u001b[39m, high\u001b[38;5;241m=\u001b[39mmax_Q)\n\u001b[1;32m     58\u001b[0m     insz, outsz \u001b[38;5;241m=\u001b[39m (\n\u001b[0;32m---> 59\u001b[0m         \u001b[43mrandom\u001b[49m\u001b[38;5;241;43m.\u001b[39;49m\u001b[43mrandint\u001b[49m\u001b[43m(\u001b[49m\u001b[43mlow\u001b[49m\u001b[38;5;241;43m=\u001b[39;49m\u001b[43mmin_Q\u001b[49m\u001b[43m,\u001b[49m\u001b[43m \u001b[49m\u001b[43mhigh\u001b[49m\u001b[38;5;241;43m=\u001b[39;49m\u001b[43mmax_insz\u001b[49m\u001b[43m,\u001b[49m\u001b[43m \u001b[49m\u001b[43msize\u001b[49m\u001b[38;5;241;43m=\u001b[39;49m\u001b[38;5;241;43m1\u001b[39;49m\u001b[43m)\u001b[49m[\u001b[38;5;241m0\u001b[39m],\n\u001b[1;32m     60\u001b[0m         random\u001b[38;5;241m.\u001b[39mrandint(low\u001b[38;5;241m=\u001b[39m\u001b[38;5;241m1\u001b[39m, high\u001b[38;5;241m=\u001b[39mmax_outsz, size\u001b[38;5;241m=\u001b[39m\u001b[38;5;241m1\u001b[39m)[\u001b[38;5;241m0\u001b[39m],\n\u001b[1;32m     61\u001b[0m     )\n\u001b[1;32m     62\u001b[0m     \u001b[38;5;28mself\u001b[39m\u001b[38;5;241m.\u001b[39minput_signs \u001b[38;5;241m=\u001b[39m [a \u001b[38;5;28;01mfor\u001b[39;00m i, a \u001b[38;5;129;01min\u001b[39;00m \u001b[38;5;28menumerate\u001b[39m(alc) \u001b[38;5;28;01mif\u001b[39;00m i \u001b[38;5;241m<\u001b[39m insz]\n\u001b[1;32m     63\u001b[0m     \u001b[38;5;28mself\u001b[39m\u001b[38;5;241m.\u001b[39moutput_signs \u001b[38;5;241m=\u001b[39m [a \u001b[38;5;28;01mfor\u001b[39;00m i, a \u001b[38;5;129;01min\u001b[39;00m \u001b[38;5;28menumerate\u001b[39m(alc) \u001b[38;5;28;01mif\u001b[39;00m i \u001b[38;5;241m<\u001b[39m outsz]\n",
      "File \u001b[0;32mnumpy/random/mtrand.pyx:782\u001b[0m, in \u001b[0;36mnumpy.random.mtrand.RandomState.randint\u001b[0;34m()\u001b[0m\n",
      "File \u001b[0;32mnumpy/random/_bounded_integers.pyx:1334\u001b[0m, in \u001b[0;36mnumpy.random._bounded_integers._rand_int64\u001b[0;34m()\u001b[0m\n",
      "\u001b[0;31mValueError\u001b[0m: low >= high"
     ]
    }
   ],
   "source": [
    "for i in range(number_of_iterations):\n",
    "    target = MealyMachine()\n",
    "    target.random_machine(min_Q=6, max_Q=9, max_insz=6, max_outsz=6)\n",
    "    check_conectivity = target.fully_conected() \n",
    "    while not check_conectivity:\n",
    "        target.random_machine()\n",
    "        check_conectivity = target.fully_conected() \n",
    "\n",
    "    learn_target = InferringMM(target)\n",
    "    minimised_target, _ = learn_target.run()\n",
    "\n",
    "    n, I = minimised_target.Q, len(minimised_target.input_signs)\n",
    "\n",
    "    learn_mm = InferringMM(minimised_target)\n",
    "    mm, cnt, cnt_ex = learn_mm.run(counterexamples=True)\n",
    "    mx_cntex = max(cnt_ex) if len(cnt_ex) > 0 else 0 \n",
    "\n",
    "    if cnt[0] < 5*math.log(n)*I:\n",
    "        print(f\"{cnt[0]}, {cnt[1]} vs O({I**2}*{n} + {I}*{mx_cntex}*{n**2}) = O({I**2*n + I*mx_cntex*n**2})\")\n",
    "        print(f\"wyuczona:\")\n",
    "        mm.print_transitions()\n",
    "        print(f\"docelowa:\")\n",
    "        minimised_target.print_transitions()\n",
    "        print(\"\\n\")\n",
    "        # break"
   ]
  },
  {
   "cell_type": "code",
   "execution_count": 21,
   "metadata": {},
   "outputs": [
    {
     "name": "stdout",
     "output_type": "stream",
     "text": [
      "fully_connected? True\n",
      "(0,a) --> 'a',0\n",
      "(0,b) --> 'a',0\n",
      "(0,c) --> 'a',0\n",
      "fully connected? (snd time) True\n"
     ]
    }
   ],
   "source": [
    "bug_instance = MealyMachine(Q=3, \n",
    "                            input_signs=[\"a\", \"b\", \"c\"], \n",
    "                            output_signs=[\"a\", \"b\", \"c\"], \n",
    "                            λ = {(0, \"a\"): \"a\", (0, \"b\"): \"a\", (0, \"c\"): \"a\", (1, \"a\"): \"a\", (1, \"b\"): \"a\", (1, \"c\"): \"a\", (2, \"a\"): \"a\", (2, \"b\"): \"a\", (2, \"c\"): \"a\", }, \n",
    "                            δ = {(0, \"a\"): 2, (0, \"b\"): 0, (0, \"c\"): 0, (1, \"a\"): 1, (1, \"b\"): 0, (1, \"c\"): 0, (2, \"a\"): 1, (2, \"b\"): 2, (2, \"c\"): 2 })\n",
    "\n",
    "\n",
    "ans = bug_instance.fully_conected()\n",
    "print(f\"fully_connected? {ans}\")\n",
    "\n",
    "learn_bug_instance = InferringMM(bug_instance)\n",
    "learned_bug_instance, cnt, cnt_ex= learn_bug_instance.run(counterexamples=True)\n",
    "\n",
    "learned_bug_instance.print_transitions()\n",
    "ans = bug_instance.fully_conected()\n",
    "print(f\"fully connected? (snd time) {ans}\")"
   ]
  },
  {
   "cell_type": "code",
   "execution_count": 6,
   "metadata": {},
   "outputs": [
    {
     "name": "stdout",
     "output_type": "stream",
     "text": [
      "wyuczona:\n"
     ]
    },
    {
     "ename": "NameError",
     "evalue": "name 'mm' is not defined",
     "output_type": "error",
     "traceback": [
      "\u001b[0;31m---------------------------------------------------------------------------\u001b[0m",
      "\u001b[0;31mNameError\u001b[0m                                 Traceback (most recent call last)",
      "Cell \u001b[0;32mIn[6], line 2\u001b[0m\n\u001b[1;32m      1\u001b[0m \u001b[38;5;28mprint\u001b[39m(\u001b[38;5;124mf\u001b[39m\u001b[38;5;124m\"\u001b[39m\u001b[38;5;124mwyuczona:\u001b[39m\u001b[38;5;124m\"\u001b[39m)\n\u001b[0;32m----> 2\u001b[0m \u001b[43mmm\u001b[49m\u001b[38;5;241m.\u001b[39mprint_transitions()\n\u001b[1;32m      3\u001b[0m \u001b[38;5;28mprint\u001b[39m(\u001b[38;5;124mf\u001b[39m\u001b[38;5;124m\"\u001b[39m\u001b[38;5;124mdocelowa:\u001b[39m\u001b[38;5;124m\"\u001b[39m)\n\u001b[1;32m      4\u001b[0m target\u001b[38;5;241m.\u001b[39mprint_transitions()\n",
      "\u001b[0;31mNameError\u001b[0m: name 'mm' is not defined"
     ]
    }
   ],
   "source": [
    "print(f\"wyuczona:\")\n",
    "mm.print_transitions()\n",
    "print(f\"docelowa:\")\n",
    "target.print_transitions()"
   ]
  },
  {
   "cell_type": "code",
   "execution_count": 73,
   "metadata": {},
   "outputs": [
    {
     "name": "stdout",
     "output_type": "stream",
     "text": [
      "(True, '')\n",
      "czy jest 1 ss? False\n"
     ]
    }
   ],
   "source": [
    "print(target.equiv(mm))\n",
    "check_fully_conected = target.fully_conected()\n",
    "print(f\"czy jest 1 ss? {check_fully_conected}\")"
   ]
  },
  {
   "cell_type": "code",
   "execution_count": 106,
   "metadata": {},
   "outputs": [
    {
     "name": "stdout",
     "output_type": "stream",
     "text": [
      "(0,a) --> 'a',0\n",
      "(1,a) --> 'a',0\n",
      "(2,a) --> 'a',1\n",
      "is fully connected? False\n"
     ]
    }
   ],
   "source": [
    "mely = MealyMachine(Q = 3, \n",
    "                    input_signs=['a'], \n",
    "                    output_signs=['a'],\n",
    "                    λ= {(0, 'a'): 'a', (1, 'a'): 'a', (2, 'a'): 'a'}, \n",
    "                    δ={(0, \"a\"): 0, (1, \"a\"): 0, (2, \"a\"): 1}\n",
    ")\n",
    "\n",
    "mely.print_transitions()\n",
    "check = mely.fully_conected()\n",
    "print(f\"is fully connected? {check}\")"
   ]
  }
 ],
 "metadata": {
  "kernelspec": {
   "display_name": "Python 3",
   "language": "python",
   "name": "python3"
  },
  "language_info": {
   "codemirror_mode": {
    "name": "ipython",
    "version": 3
   },
   "file_extension": ".py",
   "mimetype": "text/x-python",
   "name": "python",
   "nbconvert_exporter": "python",
   "pygments_lexer": "ipython3",
   "version": "3.10.12"
  }
 },
 "nbformat": 4,
 "nbformat_minor": 2
}
