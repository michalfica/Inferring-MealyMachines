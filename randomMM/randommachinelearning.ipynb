{
 "cells": [
  {
   "cell_type": "markdown",
   "metadata": {},
   "source": [
    "## Uczenie sie losowych maszyn "
   ]
  },
  {
   "cell_type": "code",
   "execution_count": 3,
   "metadata": {},
   "outputs": [],
   "source": [
    "from importlib import reload \n",
    "import math \n",
    "import sys\n",
    "sys.path.append('../')"
   ]
  },
  {
   "cell_type": "code",
   "execution_count": 4,
   "metadata": {},
   "outputs": [],
   "source": [
    "import utils.Mealymachine as Mealymachine\n",
    "reload(Mealymachine)\n",
    "\n",
    "import utils.Inferring as Inferring \n",
    "reload(Inferring)\n",
    "\n",
    "from utils.Mealymachine import MealyMachine\n",
    "from utils.Inferring import *"
   ]
  },
  {
   "cell_type": "code",
   "execution_count": 5,
   "metadata": {},
   "outputs": [],
   "source": [
    "number_of_iterations = 3"
   ]
  },
  {
   "cell_type": "code",
   "execution_count": null,
   "metadata": {},
   "outputs": [],
   "source": [
    "for i in range(number_of_iterations):\n",
    "    target = MealyMachine()\n",
    "    target.random_machine(min_Q=6, max_Q=9, max_insz=6, max_outsz=6)\n",
    "    check_conectivity = target.fully_conected() \n",
    "    while check_conectivity is False:\n",
    "        target.random_machine()\n",
    "        check_conectivity = target.fully_conected() \n",
    "\n",
    "    print(f\"check_conectivity = {check_conectivity}\")\n",
    "    print(f\"target: \")\n",
    "    target.print_transitions()\n",
    "    print(f\"czy ma 1 ss ? {target.fully_conected()}\")\n",
    "    learn_target = Inferring(target)\n",
    "    minimised_target, _ = learn_target.run()\n",
    "\n",
    "    n, I = minimised_target.Q, len(minimised_target.input_signs)\n",
    "\n",
    "    learn_mm = Inferring(minimised_target)\n",
    "    mm, cnt, cnt_ex = learn_mm.run(counterexamples=True)\n",
    "    mx_cntex = max(cnt_ex) if len(cnt_ex) > 0 else 0 \n",
    "    print(f\"learnd mm:\")\n",
    "    mm.print_transitions()\n",
    "\n",
    "    if cnt[0] < 5*math.log(n)*I:\n",
    "        print(f\"{cnt[0]}, {cnt[1]} vs O({I**2}*{n} + {I}*{mx_cntex}*{n**2}) = O({I**2*n + I*mx_cntex*n**2})\")\n",
    "        print(f\"wyuczona:\")\n",
    "        mm.print_transitions()\n",
    "        print(f\"docelowa:\")\n",
    "        minimised_target.print_transitions()\n",
    "        print(\"\\n\")\n",
    "        # break"
   ]
  },
  {
   "cell_type": "code",
   "execution_count": null,
   "metadata": {},
   "outputs": [],
   "source": [
    "bug_instance = MealyMachine(Q=2, \n",
    "                            input_signs=[\"a\", \"b\", \"c\"], \n",
    "                            output_signs=[\"a\", \"b\", \"c\"], \n",
    "                            λ = {(0, \"a\"): \"a\", (0, \"b\"): \"a\", (0, \"c\"): \"a\", (1, \"a\"): \"a\", (1, \"b\"): \"b\", (1, \"c\"): \"a\"}, \n",
    "                            δ = {(0, \"a\"): 0, (0, \"b\"): 0, (0, \"c\"): 0, (1, \"a\"): 0, (1, \"b\"): 0, (1, \"c\"): 1 })\n",
    "\n",
    "\n",
    "ans = bug_instance.fully_conected()\n",
    "print(f\"fully_connected? {ans}\")\n",
    "\n",
    "learn_bug_instance = Inferring(bug_instance)\n",
    "learned_bug_instance, cnt, cnt_ex= learn_bug_instance.run(counterexamples=True)\n",
    "\n",
    "learned_bug_instance.print_transitions()\n",
    "ans = bug_instance.fully_conected()\n",
    "print(f\"fully connected? (snd time) {ans}\")"
   ]
  },
  {
   "cell_type": "code",
   "execution_count": null,
   "metadata": {},
   "outputs": [],
   "source": [
    "print(f\"wyuczona:\")\n",
    "mm.print_transitions()\n",
    "print(f\"docelowa:\")\n",
    "target.print_transitions()"
   ]
  },
  {
   "cell_type": "code",
   "execution_count": null,
   "metadata": {},
   "outputs": [],
   "source": [
    "print(target.equiv(mm))\n",
    "check_fully_conected = target.fully_conected()\n",
    "print(f\"czy jest 1 ss? {check_fully_conected}\")"
   ]
  },
  {
   "cell_type": "code",
   "execution_count": null,
   "metadata": {},
   "outputs": [],
   "source": [
    "mely = MealyMachine(Q = 3, \n",
    "                    input_signs=['a'], \n",
    "                    output_signs=['a'],\n",
    "                    λ= {(0, 'a'): 'a', (1, 'a'): 'a', (2, 'a'): 'a'}, \n",
    "                    δ={(0, \"a\"): 0, (1, \"a\"): 0, (2, \"a\"): 1}\n",
    ")\n",
    "\n",
    "mely.print_transitions()\n",
    "check = mely.fully_conected()\n",
    "print(f\"is fully connected? {check}\")"
   ]
  }
 ],
 "metadata": {
  "kernelspec": {
   "display_name": "Python 3",
   "language": "python",
   "name": "python3"
  },
  "language_info": {
   "codemirror_mode": {
    "name": "ipython",
    "version": 3
   },
   "file_extension": ".py",
   "mimetype": "text/x-python",
   "name": "python",
   "nbconvert_exporter": "python",
   "pygments_lexer": "ipython3",
   "version": "3.10.12"
  }
 },
 "nbformat": 4,
 "nbformat_minor": 2
}
