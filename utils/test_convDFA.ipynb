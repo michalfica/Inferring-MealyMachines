{
 "cells": [
  {
   "cell_type": "code",
   "execution_count": 1,
   "metadata": {},
   "outputs": [],
   "source": [
    "from importlib import reload\n",
    "\n",
    "import convDFA\n",
    "import DFA\n",
    "reload(convDFA)\n",
    "reload(DFA)\n",
    "from convDFA import convDFA\n",
    "from DFA import DFA  "
   ]
  },
  {
   "cell_type": "code",
   "execution_count": 2,
   "metadata": {},
   "outputs": [
    {
     "data": {
      "text/plain": [
       "('a1b1b2b2a1', 0)"
      ]
     },
     "execution_count": 2,
     "metadata": {},
     "output_type": "execute_result"
    }
   ],
   "source": [
    "dfa1 = DFA(Q = 4, input_signs=['a', 'b'], \n",
    "           δ = {(0, 'a'):1, (0, 'b'):0, (1, 'a'):1, (1, 'b'):2, (2, 'a'):3, (2, 'b'):0, (3, 'a'):3, (3, 'b'):3}, F=set([3]))\n",
    "dfa2 = DFA(Q=4, input_signs=['a', 'b'], \n",
    "           δ = {(0, 'a'):0, (0, 'b'):1, (1, 'a'):0, (1, 'b'):2, (2, 'a'):0, (2, 'b'):3, (3, 'a'):3, (3, 'b'):3}, F=set([3]))\n",
    "\n",
    "convdfa = convDFA(type=\"conv\", dfa1=dfa1, dfa2=dfa2)\n",
    "# print(f\"Q = {convdfa.Q}, alfabet = {convdfa.input_signs}, stany akcept = {convdfa.F}\")\n",
    "# convdfa.print_transitions()\n",
    "\n",
    "convdfa.route(\"a1b1b2b2a1\") # 0"
   ]
  },
  {
   "cell_type": "code",
   "execution_count": 3,
   "metadata": {},
   "outputs": [
    {
     "name": "stdout",
     "output_type": "stream",
     "text": [
      "(0, 'a')\n",
      "(1, 'b')\n"
     ]
    }
   ],
   "source": [
    "for q in enumerate([\"a\", \"b\"]):\n",
    "    print(q)"
   ]
  }
 ],
 "metadata": {
  "kernelspec": {
   "display_name": "Python 3",
   "language": "python",
   "name": "python3"
  },
  "language_info": {
   "codemirror_mode": {
    "name": "ipython",
    "version": 3
   },
   "file_extension": ".py",
   "mimetype": "text/x-python",
   "name": "python",
   "nbconvert_exporter": "python",
   "pygments_lexer": "ipython3",
   "version": "3.10.12"
  }
 },
 "nbformat": 4,
 "nbformat_minor": 2
}
