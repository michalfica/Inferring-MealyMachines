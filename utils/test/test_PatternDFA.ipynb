{
 "cells": [
  {
   "cell_type": "code",
   "execution_count": 69,
   "metadata": {},
   "outputs": [],
   "source": [
    "import copy, sys\n",
    "sys.path.append(\"../\")\n",
    "sys.path.append(\"../../\")\n",
    "from importlib import reload\n",
    "\n",
    "import utils.automats.convDFA, utils.automats.DFA, utils.automats.PatternDFA\n",
    "\n",
    "\n",
    "# reload(utils.automats.convDFA)\n",
    "# reload(utils.automats.DFA)\n",
    "reload(utils.automats.PatternDFA)\n",
    "\n",
    "from utils.automats.convDFA import convDFA\n",
    "from utils.automats.DFA import DFA\n",
    "from utils.automats.PatternDFA import PatternDFA"
   ]
  },
  {
   "cell_type": "code",
   "execution_count": 73,
   "metadata": {},
   "outputs": [
    {
     "name": "stdout",
     "output_type": "stream",
     "text": [
      "q = 6\n"
     ]
    }
   ],
   "source": [
    "dfa1 = PatternDFA(input_signs=['a', 'b'], patterns=['aa', 'bb'])\n",
    "dfa2 = PatternDFA(input_signs=['a', 'b', 'c'], patterns=['aa', 'bb', 'c'])\n",
    "\n",
    "q = dfa1.δ[(4,'a')]\n",
    "print(f\"q = {q}\")"
   ]
  },
  {
   "cell_type": "code",
   "execution_count": 74,
   "metadata": {},
   "outputs": [
    {
     "name": "stdout",
     "output_type": "stream",
     "text": [
      "liczba stanów = 9\n",
      "dfa_[4,'a'] -> 6\n",
      "(0,a) --> 3\n",
      "(0,b) --> 1\n",
      "(1,a) --> 3\n",
      "(1,b) --> 2\n",
      "(2,a) --> 5\n",
      "(2,b) --> 2\n",
      "(3,a) --> 6\n",
      "(3,b) --> 1\n",
      "(4,a) --> 6\n",
      "(4,b) --> 2\n",
      "(5,a) --> 8\n",
      "(5,b) --> 2\n",
      "(6,a) --> 6\n",
      "(6,b) --> 7\n",
      "(7,a) --> 6\n",
      "(7,b) --> 8\n",
      "(8,a) --> 8\n",
      "(8,b) --> 8\n",
      "stany akceptujące - {8}\n"
     ]
    }
   ],
   "source": [
    "dfa_= PatternDFA(input_signs=['a', 'b'], patterns=['aa', 'bb'])\n",
    "print(f\"liczba stanów = {dfa_.Q}\")\n",
    "print(f\"dfa_[4,'a'] -> {dfa_.δ[4,'a']}\")\n",
    "dfa_.print_transitions()\n",
    "\n",
    "# ans = dfa_.route(\"ababbbbbaa\")\n",
    "# # q = dfa_.route_and_return_q(\"aaaba\")\n",
    "# print(f\"ans = {ans}\")"
   ]
  }
 ],
 "metadata": {
  "kernelspec": {
   "display_name": "Python 3",
   "language": "python",
   "name": "python3"
  },
  "language_info": {
   "codemirror_mode": {
    "name": "ipython",
    "version": 3
   },
   "file_extension": ".py",
   "mimetype": "text/x-python",
   "name": "python",
   "nbconvert_exporter": "python",
   "pygments_lexer": "ipython3",
   "version": "3.10.12"
  }
 },
 "nbformat": 4,
 "nbformat_minor": 2
}
