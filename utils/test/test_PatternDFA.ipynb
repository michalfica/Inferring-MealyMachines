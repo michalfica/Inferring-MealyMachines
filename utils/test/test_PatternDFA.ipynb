{
 "cells": [
  {
   "cell_type": "code",
   "execution_count": 23,
   "metadata": {},
   "outputs": [],
   "source": [
    "import copy, sys\n",
    "sys.path.append(\"../\")\n",
    "from importlib import reload\n",
    "\n",
    "import automats.DFA.PatternDFA\n",
    "reload(automats.DFA.PatternDFA)\n",
    "from automats.DFA.PatternDFA import PatternDFA"
   ]
  },
  {
   "cell_type": "code",
   "execution_count": 24,
   "metadata": {},
   "outputs": [
    {
     "name": "stdout",
     "output_type": "stream",
     "text": [
      "q = 6\n"
     ]
    }
   ],
   "source": [
    "dfa1 = PatternDFA(input_signs=['a', 'b'], patterns=['aa', 'bb'])\n",
    "dfa2 = PatternDFA(input_signs=['a', 'b', 'c'], patterns=['aa', 'bb', 'c'])\n",
    "\n",
    "q = dfa1.δ[(4,'a')]\n",
    "print(f\"q = {q}\")"
   ]
  },
  {
   "cell_type": "code",
   "execution_count": 25,
   "metadata": {},
   "outputs": [
    {
     "name": "stdout",
     "output_type": "stream",
     "text": [
      "liczba stanów = 9\n",
      "dfa_[4,'a'] -> 6\n",
      "ans = ('ababbbbbaa', 1)\n"
     ]
    }
   ],
   "source": [
    "dfa_= PatternDFA(input_signs=['a', 'b'], patterns=['aa', 'bb'])\n",
    "print(f\"liczba stanów = {dfa_.Q}\")\n",
    "print(f\"dfa_[4,'a'] -> {dfa_.δ[4,'a']}\")\n",
    "# dfa_.print_transitions()\n",
    "\n",
    "ans = dfa_.route(\"ababbbbbaa\")\n",
    "# # q = dfa_.route_and_return_q(\"aaaba\")\n",
    "print(f\"ans = {ans}\")"
   ]
  },
  {
   "cell_type": "code",
   "execution_count": 26,
   "metadata": {},
   "outputs": [
    {
     "name": "stdout",
     "output_type": "stream",
     "text": [
      "liczba stanów = 2\n",
      "ans = ('', 0)\n"
     ]
    }
   ],
   "source": [
    "dfa_ = PatternDFA(input_signs=['a'], patterns=['a'], _type=\"OR\")\n",
    "print(f\"liczba stanów = {dfa_.Q}\")\n",
    "# dfa_.print_transitions()\n",
    "\n",
    "ans = dfa_.route(\"\")\n",
    "print(f\"ans = {ans}\")"
   ]
  },
  {
   "cell_type": "code",
   "execution_count": 29,
   "metadata": {},
   "outputs": [
    {
     "name": "stdout",
     "output_type": "stream",
     "text": [
      "liczba stanów = 5\n",
      "(0,a) --> 1\n",
      "(1,a) --> 2\n",
      "(2,a) --> 3\n",
      "(3,a) --> 4\n",
      "(4,a) --> 4\n",
      "stany akceptujące - {0, 4}\n",
      "ans = ('', 1)\n"
     ]
    }
   ],
   "source": [
    "dfa_ = PatternDFA(input_signs=['a'], patterns=['aaaa', \"\"], _type=\"OR\")\n",
    "print(f\"liczba stanów = {dfa_.Q}\")\n",
    "dfa_.print_transitions()\n",
    "\n",
    "ans = dfa_.route(\"\")\n",
    "print(f\"ans = {ans}\")"
   ]
  }
 ],
 "metadata": {
  "kernelspec": {
   "display_name": "Python 3",
   "language": "python",
   "name": "python3"
  },
  "language_info": {
   "codemirror_mode": {
    "name": "ipython",
    "version": 3
   },
   "file_extension": ".py",
   "mimetype": "text/x-python",
   "name": "python",
   "nbconvert_exporter": "python",
   "pygments_lexer": "ipython3",
   "version": "3.10.12"
  }
 },
 "nbformat": 4,
 "nbformat_minor": 2
}
