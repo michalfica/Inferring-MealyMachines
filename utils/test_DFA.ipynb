{
 "cells": [
  {
   "cell_type": "markdown",
   "metadata": {},
   "source": [
    "## testowanie funkcji, kodu z klasy DFA"
   ]
  },
  {
   "cell_type": "code",
   "execution_count": 1,
   "metadata": {},
   "outputs": [],
   "source": [
    "from importlib import reload\n",
    "import DFA \n",
    "reload(DFA)\n",
    "\n",
    "from DFA import * "
   ]
  },
  {
   "cell_type": "code",
   "execution_count": 4,
   "metadata": {},
   "outputs": [
    {
     "data": {
      "text/plain": [
       "(False, 'aa')"
      ]
     },
     "execution_count": 4,
     "metadata": {},
     "output_type": "execute_result"
    }
   ],
   "source": [
    "# pierwszy test na równoważnośc\n",
    "input = ['a', 'b']\n",
    "\"\"\"akceptujący słowa z 'a'\"\"\"\n",
    "A = DFA(Q = 2, input_signs=input, δ= {(0,'a'):1, (0, 'b'):0, (1, 'a'):1, (1, 'b'):1}, F = set([1]))\n",
    "\n",
    "\"\"\"akceptujący słowa z 'a', ale nie minimalny\"\"\"\n",
    "A_prim = DFA(Q=3, input_signs=input, δ= {(0, 'a'):1, (0, 'b'):0, (1, 'a'):2, (1, 'b'):1, (2, 'a'):2, (2, 'b'):2}, F= set([1, 2]))\n",
    "# A.equiv(A_prim) # (True, '')\n",
    "\n",
    "\"\"\"akceptujący słowa z conajmniej dwoma literkami 'a'\"\"\"\n",
    "A_bis = DFA(Q=3, input_signs=input, δ= {(0, 'a'):1, (0, 'b'):0, (1, 'a'):2, (1, 'b'):1, (2, 'a'):2, (2, 'b'):2}, F= set([2]))\n",
    "# A.equiv(A_bis) #(False, 'a')\n",
    "\n",
    "\"\"\"akceptujący słowa z dokładnie jedną literka 'a'\"\"\"\n",
    "A_ter = DFA(Q=3, input_signs=input, δ= {(0, 'a'):1, (0, 'b'):0, (1, 'a'):2, (1, 'b'):1, (2, 'a'):2, (2, 'b'):2}, F= set([1]))\n",
    "A.equiv(A_ter) #(False, 'aa')"
   ]
  },
  {
   "cell_type": "code",
   "execution_count": 12,
   "metadata": {},
   "outputs": [
    {
     "data": {
      "text/plain": [
       "(False, 'abba')"
      ]
     },
     "execution_count": 12,
     "metadata": {},
     "output_type": "execute_result"
    }
   ],
   "source": [
    "input = ['a', 'b']\n",
    "\"\"\"akceptujący słowa z wzorcem 'aba'\"\"\"\n",
    "A = DFA(Q=4, input_signs=input, δ= {(0, 'a'):1, (0, 'b'):0, (1, 'a'):1, (1, 'b'):2, (2, 'a'):3, (2, 'b'):0, (3, 'a'):3, (3, 'b'):3}, F=set([3]))\n",
    "\n",
    "\"\"\"akceptujący słowa z wzorcem 'aba', nie minimalny\"\"\"\n",
    "A_prim = DFA(Q=4, input_signs=input, δ= {(0, 'a'):1, (0, 'b'):0, (1, 'a'):1, (1, 'b'):2, (2, 'a'):3, (2, 'b'):0, (3, 'a'):3, (3, 'b'):4, (4, 'a'):4, (4, 'b'):4}, F=set([3, 4]))\n",
    "# A.equiv(A_prim) # (True, '')\n",
    "\n",
    "\"\"\" UWAGA NIE JESTEM PEWNY CO TO ZA AUTOMAT !!!! akceptujący słowa postaci '(a+b)*abaa*'\"\"\" \n",
    "A_prim = DFA(Q=5, input_signs=input, δ= {(0, 'a'):1, (0, 'b'):0, (1, 'a'):1, (1, 'b'):2, (2, 'a'):3, (2, 'b'):0, (3, 'a'):3, (3, 'b'):4, (4, 'a'):4, (4, 'b'):4}, F=set([3]))\n",
    "# A.equiv(A_prim) # (False, 'abab')\n",
    "\n",
    "\"\"\"UWAGA NIE JESTEM PEWNY CO TO ZA AUTOMAT !!!! akceptujący słowa postaci 'abb*a(a+b)*'\"\"\"\n",
    "A_prim = DFA(Q=4, input_signs=input, δ= {(0, 'a'):1, (0, 'b'):0, (1, 'a'):1, (1, 'b'):2, (2, 'a'):3, (2, 'b'):2, (3, 'a'):3, (3, 'b'):3}, F=set([3]))\n",
    "# res = A_prim.route(\"abbbbabbbababababa\")\n",
    "# print(f\"res = {res}\")\n",
    "A.equiv(A_prim) # (False, 'abba')"
   ]
  }
 ],
 "metadata": {
  "kernelspec": {
   "display_name": "Python 3",
   "language": "python",
   "name": "python3"
  },
  "language_info": {
   "codemirror_mode": {
    "name": "ipython",
    "version": 3
   },
   "file_extension": ".py",
   "mimetype": "text/x-python",
   "name": "python",
   "nbconvert_exporter": "python",
   "pygments_lexer": "ipython3",
   "version": "3.10.12"
  }
 },
 "nbformat": 4,
 "nbformat_minor": 2
}
