{
 "cells": [
  {
   "cell_type": "markdown",
   "metadata": {},
   "source": [
    "## Wnioskowanie Maszyny Mealy'ego"
   ]
  },
  {
   "cell_type": "code",
   "execution_count": 1,
   "metadata": {},
   "outputs": [],
   "source": [
    "from importlib import reload"
   ]
  },
  {
   "cell_type": "code",
   "execution_count": 2,
   "metadata": {},
   "outputs": [],
   "source": [
    "import Mealymachine\n",
    "\n",
    "reload(Mealymachine)\n",
    "from Mealymachine import MealyMachine"
   ]
  },
  {
   "cell_type": "markdown",
   "metadata": {},
   "source": [
    "### Przykładowe, (proste) Maszyny Mealy'go "
   ]
  },
  {
   "cell_type": "code",
   "execution_count": 3,
   "metadata": {},
   "outputs": [
    {
     "name": "stdout",
     "output_type": "stream",
     "text": [
      "\n",
      "mm3 machine transitions:\n",
      "(0,0) --> '0',1\n",
      "(0,1) --> '0',2\n",
      "(1,0) --> '0',1\n",
      "(1,1) --> '1',2\n",
      "(2,0) --> '1',1\n",
      "(2,1) --> '0',2\n"
     ]
    },
    {
     "data": {
      "text/plain": [
       "('1010101011', '0111111110')"
      ]
     },
     "execution_count": 3,
     "metadata": {},
     "output_type": "execute_result"
    }
   ],
   "source": [
    "mm1 = MealyMachine(\n",
    "    Q=1,\n",
    "    input_signs=[\"b\", \"a\"],\n",
    "    output_signs=[\"a\", \"b\"],\n",
    "    λ={(0, \"a\"): \"a\", (0, \"b\"): \"b\"},\n",
    "    δ={(0, \"a\"): 0, (0, \"b\"): 0},\n",
    ")\n",
    "\n",
    "mm2 = MealyMachine(\n",
    "    Q=2,\n",
    "    input_signs=[\"b\", \"a\"],\n",
    "    output_signs=[\"a\", \"b\"],\n",
    "    λ={(0, \"a\"): \"a\", (0, \"b\"): \"b\", (1, \"a\"): \"a\", (1, \"b\"): \"b\"},\n",
    "    δ={(0, \"a\"): 0, (0, \"b\"): 1, (1, \"a\"): 0, (1, \"b\"): 1},\n",
    ")\n",
    "\n",
    "mm3 = MealyMachine(\n",
    "    Q=1,\n",
    "    input_signs=[\"b\", \"a\"],\n",
    "    output_signs=[\"a\", \"b\"],\n",
    "    λ={(0, \"a\"): \"b\", (0, \"b\"): \"a\"},\n",
    "    δ={(0, \"a\"): 0, (0, \"b\"): 0},\n",
    ")\n",
    "\n",
    "mm4 = MealyMachine(Q=3, \n",
    "                   input_signs=[\"0\", \"1\"], \n",
    "                   output_signs=[\"0\", \"1\"], \n",
    "                   λ={(0, \"0\"): \"0\", (0, \"1\") : \"0\", (1, \"0\"): \"0\", (1, \"1\"): \"1\", (2, \"0\"): \"1\", (2, \"1\"): \"0\"}, \n",
    "                   δ={(0, \"0\"): 1, (0, \"1\") : 2, (1, \"0\"): 1, (1, \"1\"): 2, (2, \"0\"): 1, (2, \"1\"): 2})\n",
    "print(f\"\\nmm3 machine transitions:\")\n",
    "mm4.print_transitions()\n",
    "mm4.route()"
   ]
  },
  {
   "cell_type": "code",
   "execution_count": 4,
   "metadata": {},
   "outputs": [],
   "source": [
    "mm_mod3 = MealyMachine(\n",
    "    Q = 3, \n",
    "    input_signs=[\"a\", \"b\"], \n",
    "    output_signs=[\"a\", \"b\"], \n",
    "    λ={(0,\"a\"): \"a\", (0, \"b\"): \"b\", (1,\"a\"): \"a\", (1, \"b\"): \"b\", (2,\"a\"): \"b\", (2, \"b\"): \"a\"},\n",
    "    δ={(0,\"a\"): 1, (0, \"b\"): 1, (1,\"a\"): 2, (1, \"b\"): 2, (2,\"a\"): 0, (2, \"b\"): 0}\n",
    ")\n",
    "\n",
    "mm_mod4 = MealyMachine(\n",
    "    Q = 4, \n",
    "    input_signs=[\"a\", \"b\"], \n",
    "    output_signs=[\"a\", \"b\"], \n",
    "    λ={(0,\"a\"): \"a\", (0, \"b\"): \"b\", (1,\"a\"): \"a\", (1, \"b\"): \"b\", (2,\"a\"): \"a\", (2, \"b\"): \"b\", (3,\"a\"): \"b\", (3, \"b\"): \"a\"},\n",
    "    δ={(0,\"a\"): 1, (0, \"b\"): 1, (1,\"a\"): 2, (1, \"b\"): 2, (2,\"a\"): 3, (2, \"b\"): 3, (3,\"a\"): 0, (3, \"b\"): 0}\n",
    ")"
   ]
  },
  {
   "cell_type": "markdown",
   "metadata": {},
   "source": [
    "### Sprawdzenie równoważność Maszyn Mealy'go"
   ]
  },
  {
   "cell_type": "code",
   "execution_count": 5,
   "metadata": {},
   "outputs": [
    {
     "name": "stdout",
     "output_type": "stream",
     "text": [
      "sa równoważne!\n"
     ]
    }
   ],
   "source": [
    "def check_eq(mm1, mm2):\n",
    "    res, ans = mm1.equiv(mm2)\n",
    "    if res==True:\n",
    "        print(f\"sa równoważne!\")\n",
    "    else:\n",
    "        print(f\"NIE są rownoważne, kontrprzykład = {ans}, {mm1.route(ans)[1]} vs {mm2.route(ans)[1]}\")\n",
    "\n",
    "check_eq(mm1, mm2)"
   ]
  },
  {
   "cell_type": "markdown",
   "metadata": {},
   "source": [
    "## Wnioskowanie Maszyn Mealy'go ! "
   ]
  },
  {
   "cell_type": "code",
   "execution_count": 6,
   "metadata": {},
   "outputs": [],
   "source": [
    "import sys \n",
    "sys.path.append(\"../\")\n",
    "import inferring.InferringMM\n",
    "reload(inferring.InferringMM)\n",
    "\n",
    "from inferring.InferringMM import InferringMM"
   ]
  },
  {
   "cell_type": "code",
   "execution_count": 7,
   "metadata": {},
   "outputs": [
    {
     "name": "stdout",
     "output_type": "stream",
     "text": [
      "after 28, 2 zapytaniach nauczylem sie ponizszej maszyny:\n",
      "(0,a) --> 'a',3\n",
      "(0,b) --> 'b',3\n",
      "(1,a) --> 'a',2\n",
      "(1,b) --> 'b',2\n",
      "(2,a) --> 'b',0\n",
      "(2,b) --> 'a',0\n",
      "(3,a) --> 'a',1\n",
      "(3,b) --> 'b',1\n"
     ]
    }
   ],
   "source": [
    "learn_mm_mod4 = InferringMM(mm_mod4)\n",
    "mm, cnt  = learn_mm_mod4.run()\n",
    "\n",
    "# learn_mm_mod3 = InferringMM(mm_mod3)\n",
    "# mm, cnt = learn_mm_mod3.run()\n",
    "\n",
    "# learn_mm1 = InferringMM(mm1)\n",
    "# mm, cnt = learn_mm1.run()\n",
    "\n",
    "# learn_mm2 = InferringMM(mm2)\n",
    "# mm, cnt = learn_mm2.run()\n",
    "\n",
    "# learn_mm3 = InferringMM(mm3)\n",
    "# mm, cnt = learn_mm3.run()\n",
    "\n",
    "# learn_mm4 = InferringMM(mm4)\n",
    "# mm, cnt = learn_mm4.run()\n",
    "\n",
    "print(f\"after {cnt[0]}, {cnt[1]} zapytaniach nauczylem sie ponizszej maszyny:\")\n",
    "mm.print_transitions()"
   ]
  },
  {
   "cell_type": "code",
   "execution_count": 8,
   "metadata": {},
   "outputs": [
    {
     "name": "stdout",
     "output_type": "stream",
     "text": [
      "after 28, 2 zapytaniach nauczylem sie maszyny\n",
      "długości kontrprzykładów = [4]\n",
      "28, 2 vs O(4*4 + 2*4*16) = O(144)\n"
     ]
    }
   ],
   "source": [
    "learn_mm_mod4, n, I = InferringMM(mm_mod4), mm_mod4.Q, len(mm_mod4.input_signs)\n",
    "mm, cnt, cnt_ex = learn_mm_mod4.run(counterexamples=True)\n",
    "\n",
    "print(f\"after {cnt[0]}, {cnt[1]} zapytaniach nauczylem sie maszyny\")\n",
    "print(f\"długości kontrprzykładów = {cnt_ex}\")\n",
    "print(f\"{cnt[0]}, {cnt[1]} vs O({I**2}*{n} + {I}*{max(cnt_ex)}*{n**2}) = O({I**2*n + I*max(cnt_ex)*n**2})\")"
   ]
  }
 ],
 "metadata": {
  "kernelspec": {
   "display_name": "Python 3",
   "language": "python",
   "name": "python3"
  },
  "language_info": {
   "codemirror_mode": {
    "name": "ipython",
    "version": 3
   },
   "file_extension": ".py",
   "mimetype": "text/x-python",
   "name": "python",
   "nbconvert_exporter": "python",
   "pygments_lexer": "ipython3",
   "version": "3.10.12"
  }
 },
 "nbformat": 4,
 "nbformat_minor": 2
}
