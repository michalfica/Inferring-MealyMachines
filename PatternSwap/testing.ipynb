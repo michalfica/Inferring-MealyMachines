{
 "cells": [
  {
   "cell_type": "code",
   "execution_count": 1,
   "metadata": {},
   "outputs": [],
   "source": [
    "import sys\n",
    "sys.path.append(\"../\")\n",
    "from importlib import reload\n",
    "import PatternSwap\n",
    "reload(PatternSwap)\n",
    "\n",
    "from PatternSwap import PatternSwap "
   ]
  },
  {
   "cell_type": "code",
   "execution_count": null,
   "metadata": {},
   "outputs": [],
   "source": [
    "mm_1 = PatternSwap(patterns=[(\"abba\", \"llll\")], insigns=['a', 'b'], outsigns=['a', 'b', 'l'])\n",
    "mm_1.print_states()\n",
    "mm_1.print_transitions()\n",
    "s = \"aabbabbababbabbbb\"\n",
    "# wynik = aabballllabballll"
   ]
  },
  {
   "cell_type": "code",
   "execution_count": null,
   "metadata": {},
   "outputs": [],
   "source": [
    "mm_2 = PatternSwap(patterns=[(\"aa\", \"ll\"), (\"bb\", \"ii\")], insigns=['a', 'b'], outsigns=['a', 'b', 'l', 'i'])\n",
    "s = \"aabbababbbaabb\"\n",
    "# wynik = aalliiabbiiall"
   ]
  },
  {
   "cell_type": "code",
   "execution_count": null,
   "metadata": {},
   "outputs": [],
   "source": [
    "mm_3 = PatternSwap(patterns=[(\"ala\", \"iii\"), (\"koala\", \"jjjjj\")], insigns=['a', 'l', 'k', 'o'], outsigns=['a', 'l', 'k', 'o', 'i', 'j'])\n",
    "s = \"koalalllla\"\n",
    "# wynik = ASSERT sufixes"
   ]
  },
  {
   "cell_type": "code",
   "execution_count": null,
   "metadata": {},
   "outputs": [],
   "source": [
    "import string \n",
    "mm_4 = PatternSwap(patterns=[(\"jan\", \"pawel\"), (\"michal\", \"fica\")], insigns=string.ascii_lowercase, outsigns=string.ascii_lowercase)\n",
    "s = \"aaajanaaaaamichalaaaa\"\n",
    "# wynik = aaajanpawelmichalfica"
   ]
  }
 ],
 "metadata": {
  "kernelspec": {
   "display_name": "Python 3",
   "language": "python",
   "name": "python3"
  },
  "language_info": {
   "codemirror_mode": {
    "name": "ipython",
    "version": 3
   },
   "file_extension": ".py",
   "mimetype": "text/x-python",
   "name": "python",
   "nbconvert_exporter": "python",
   "pygments_lexer": "ipython3",
   "version": "3.10.12"
  }
 },
 "nbformat": 4,
 "nbformat_minor": 2
}
