{
 "cells": [
  {
   "cell_type": "code",
   "execution_count": 41,
   "metadata": {},
   "outputs": [],
   "source": [
    "import sys\n",
    "sys.path.append(\"../\")\n",
    "from importlib import reload\n",
    "import PatternSwap\n",
    "reload(PatternSwap)\n",
    "\n",
    "from PatternSwap import PatternSwap \n",
    "import string "
   ]
  },
  {
   "cell_type": "code",
   "execution_count": 42,
   "metadata": {},
   "outputs": [],
   "source": [
    "import utils.InferringMM, utils.DFA, utils.Mealymachine, PatternDetection.PatterndetectionMM \n",
    "\n",
    "reload(utils.InferringMM)\n",
    "reload(utils.DFA)\n",
    "reload(utils.Mealymachine)\n",
    "reload(PatternDetection.PatterndetectionMM)\n",
    "\n",
    "from utils.InferringMM import *\n",
    "from utils.DFA import DFA\n",
    "from PatternDetection.PatterndetectionMM import PatternMM\n",
    "from utils.Mealymachine import MealyMachine"
   ]
  },
  {
   "cell_type": "code",
   "execution_count": 43,
   "metadata": {},
   "outputs": [
    {
     "name": "stdout",
     "output_type": "stream",
     "text": [
      "('aabbabbababbabbbb', 'aabballllabballll')\n"
     ]
    }
   ],
   "source": [
    "mm_patternswap_1 = PatternSwap(patterns=[(\"abba\", \"llll\")], insigns=['a', 'b'], outsigns=['a', 'b', 'l'])\n",
    "s = \"aabbabbababbabbbb\"\n",
    "# wynik = aabballllabballll\n",
    "# mm_patternswap_1.print_states()\n",
    "# mm_patternswap_1.print_transitions()\n",
    "result = mm_patternswap_1.route(s)\n",
    "print(result)"
   ]
  },
  {
   "cell_type": "code",
   "execution_count": 44,
   "metadata": {},
   "outputs": [
    {
     "name": "stdout",
     "output_type": "stream",
     "text": [
      "('aabbababbbaabb', 'aalliiabbiiall')\n"
     ]
    }
   ],
   "source": [
    "mm_2 = PatternSwap(patterns=[(\"aa\", \"ll\"), (\"bb\", \"ii\")], insigns=['a', 'b'], outsigns=['a', 'b', 'l', 'i'])\n",
    "s = \"aabbababbbaabb\"\n",
    "# wynik = aalliiabbiiall\n",
    "result = mm_2.route(s)\n",
    "print(result)"
   ]
  },
  {
   "cell_type": "code",
   "execution_count": 45,
   "metadata": {},
   "outputs": [
    {
     "ename": "AssertionError",
     "evalue": "wykryto kilka wzorców naraz w jednym miejscu - niewiadomo co wypisać!",
     "output_type": "error",
     "traceback": [
      "\u001b[0;31m---------------------------------------------------------------------------\u001b[0m",
      "\u001b[0;31mAssertionError\u001b[0m                            Traceback (most recent call last)",
      "Cell \u001b[0;32mIn[45], line 1\u001b[0m\n\u001b[0;32m----> 1\u001b[0m mm_3 \u001b[38;5;241m=\u001b[39m \u001b[43mPatternSwap\u001b[49m\u001b[43m(\u001b[49m\u001b[43mpatterns\u001b[49m\u001b[38;5;241;43m=\u001b[39;49m\u001b[43m[\u001b[49m\u001b[43m(\u001b[49m\u001b[38;5;124;43m\"\u001b[39;49m\u001b[38;5;124;43mala\u001b[39;49m\u001b[38;5;124;43m\"\u001b[39;49m\u001b[43m,\u001b[49m\u001b[43m \u001b[49m\u001b[38;5;124;43m\"\u001b[39;49m\u001b[38;5;124;43miii\u001b[39;49m\u001b[38;5;124;43m\"\u001b[39;49m\u001b[43m)\u001b[49m\u001b[43m,\u001b[49m\u001b[43m \u001b[49m\u001b[43m(\u001b[49m\u001b[38;5;124;43m\"\u001b[39;49m\u001b[38;5;124;43mkoala\u001b[39;49m\u001b[38;5;124;43m\"\u001b[39;49m\u001b[43m,\u001b[49m\u001b[43m \u001b[49m\u001b[38;5;124;43m\"\u001b[39;49m\u001b[38;5;124;43mjjjjj\u001b[39;49m\u001b[38;5;124;43m\"\u001b[39;49m\u001b[43m)\u001b[49m\u001b[43m]\u001b[49m\u001b[43m,\u001b[49m\u001b[43m \u001b[49m\u001b[43minsigns\u001b[49m\u001b[38;5;241;43m=\u001b[39;49m\u001b[43m[\u001b[49m\u001b[38;5;124;43m'\u001b[39;49m\u001b[38;5;124;43ma\u001b[39;49m\u001b[38;5;124;43m'\u001b[39;49m\u001b[43m,\u001b[49m\u001b[43m \u001b[49m\u001b[38;5;124;43m'\u001b[39;49m\u001b[38;5;124;43ml\u001b[39;49m\u001b[38;5;124;43m'\u001b[39;49m\u001b[43m,\u001b[49m\u001b[43m \u001b[49m\u001b[38;5;124;43m'\u001b[39;49m\u001b[38;5;124;43mk\u001b[39;49m\u001b[38;5;124;43m'\u001b[39;49m\u001b[43m,\u001b[49m\u001b[43m \u001b[49m\u001b[38;5;124;43m'\u001b[39;49m\u001b[38;5;124;43mo\u001b[39;49m\u001b[38;5;124;43m'\u001b[39;49m\u001b[43m]\u001b[49m\u001b[43m,\u001b[49m\u001b[43m \u001b[49m\u001b[43moutsigns\u001b[49m\u001b[38;5;241;43m=\u001b[39;49m\u001b[43m[\u001b[49m\u001b[38;5;124;43m'\u001b[39;49m\u001b[38;5;124;43ma\u001b[39;49m\u001b[38;5;124;43m'\u001b[39;49m\u001b[43m,\u001b[49m\u001b[43m \u001b[49m\u001b[38;5;124;43m'\u001b[39;49m\u001b[38;5;124;43ml\u001b[39;49m\u001b[38;5;124;43m'\u001b[39;49m\u001b[43m,\u001b[49m\u001b[43m \u001b[49m\u001b[38;5;124;43m'\u001b[39;49m\u001b[38;5;124;43mk\u001b[39;49m\u001b[38;5;124;43m'\u001b[39;49m\u001b[43m,\u001b[49m\u001b[43m \u001b[49m\u001b[38;5;124;43m'\u001b[39;49m\u001b[38;5;124;43mo\u001b[39;49m\u001b[38;5;124;43m'\u001b[39;49m\u001b[43m,\u001b[49m\u001b[43m \u001b[49m\u001b[38;5;124;43m'\u001b[39;49m\u001b[38;5;124;43mi\u001b[39;49m\u001b[38;5;124;43m'\u001b[39;49m\u001b[43m,\u001b[49m\u001b[43m \u001b[49m\u001b[38;5;124;43m'\u001b[39;49m\u001b[38;5;124;43mj\u001b[39;49m\u001b[38;5;124;43m'\u001b[39;49m\u001b[43m]\u001b[49m\u001b[43m)\u001b[49m\n\u001b[1;32m      2\u001b[0m s \u001b[38;5;241m=\u001b[39m \u001b[38;5;124m\"\u001b[39m\u001b[38;5;124mkoalalllla\u001b[39m\u001b[38;5;124m\"\u001b[39m\n\u001b[1;32m      3\u001b[0m \u001b[38;5;66;03m# wynik = ASSERT sufixes\u001b[39;00m\n",
      "File \u001b[0;32m~/Documents/studia2/magisterka/PatternSwap/PatternSwap.py:38\u001b[0m, in \u001b[0;36mPatternSwap.__init__\u001b[0;34m(self, patterns, insigns, outsigns, debug)\u001b[0m\n\u001b[1;32m     36\u001b[0m \u001b[38;5;28mself\u001b[39m\u001b[38;5;241m.\u001b[39mstate_mapping \u001b[38;5;241m=\u001b[39m \u001b[38;5;28mdict\u001b[39m()\n\u001b[1;32m     37\u001b[0m \u001b[38;5;28mself\u001b[39m\u001b[38;5;241m.\u001b[39mdebug \u001b[38;5;241m=\u001b[39m debug\n\u001b[0;32m---> 38\u001b[0m \u001b[38;5;28;43mself\u001b[39;49m\u001b[38;5;241;43m.\u001b[39;49m\u001b[43m_compute_state_transitions\u001b[49m\u001b[43m(\u001b[49m\u001b[43m)\u001b[49m\n\u001b[1;32m     39\u001b[0m \u001b[38;5;28mself\u001b[39m\u001b[38;5;241m.\u001b[39m_compte_output_function()\n",
      "File \u001b[0;32m~/Documents/studia2/magisterka/PatternSwap/PatternSwap.py:108\u001b[0m, in \u001b[0;36mPatternSwap._compute_state_transitions\u001b[0;34m(self)\u001b[0m\n\u001b[1;32m    106\u001b[0m \u001b[38;5;28;01mfor\u001b[39;00m x \u001b[38;5;129;01min\u001b[39;00m nested_loop2:\n\u001b[1;32m    107\u001b[0m     \u001b[38;5;28;01mfor\u001b[39;00m a \u001b[38;5;129;01min\u001b[39;00m \u001b[38;5;28mself\u001b[39m\u001b[38;5;241m.\u001b[39minput_signs:\n\u001b[0;32m--> 108\u001b[0m         \u001b[38;5;28mself\u001b[39m\u001b[38;5;241m.\u001b[39mδ[(\u001b[38;5;28mself\u001b[39m\u001b[38;5;241m.\u001b[39mstate_mapping[x], a)] \u001b[38;5;241m=\u001b[39m \u001b[43mfind_new_state\u001b[49m\u001b[43m(\u001b[49m\u001b[43mx\u001b[49m\u001b[43m,\u001b[49m\u001b[43m \u001b[49m\u001b[43ma\u001b[49m\u001b[43m)\u001b[49m\n",
      "File \u001b[0;32m~/Documents/studia2/magisterka/PatternSwap/PatternSwap.py:78\u001b[0m, in \u001b[0;36mPatternSwap._compute_state_transitions.<locals>.find_new_state\u001b[0;34m(x, a)\u001b[0m\n\u001b[1;32m     75\u001b[0m             state\u001b[38;5;241m.\u001b[39mappend(\u001b[38;5;28mlen\u001b[39m(s) \u001b[38;5;241m%\u001b[39m (\u001b[38;5;28mlen\u001b[39m(\u001b[38;5;28mself\u001b[39m\u001b[38;5;241m.\u001b[39mpatterns[i][\u001b[38;5;241m0\u001b[39m]) \u001b[38;5;241m+\u001b[39m \u001b[38;5;241m1\u001b[39m))\n\u001b[1;32m     76\u001b[0m             \u001b[38;5;28;01mbreak\u001b[39;00m\n\u001b[1;32m     77\u001b[0m \u001b[38;5;28;01massert\u001b[39;00m (\n\u001b[0;32m---> 78\u001b[0m     \u001b[38;5;28mlen\u001b[39m(full_patterns) \u001b[38;5;241m<\u001b[39m\u001b[38;5;241m=\u001b[39m \u001b[38;5;241m1\u001b[39m\n\u001b[1;32m     79\u001b[0m ), \u001b[38;5;124m\"\u001b[39m\u001b[38;5;124mwykryto kilka wzorców naraz w jednym miejscu - niewiadomo co wypisać!\u001b[39m\u001b[38;5;124m\"\u001b[39m\n\u001b[1;32m     81\u001b[0m \u001b[38;5;28;01mif\u001b[39;00m printing \u001b[38;5;241m==\u001b[39m \u001b[38;5;28mself\u001b[39m\u001b[38;5;241m.\u001b[39mNO_PRINTNIG:\n\u001b[1;32m     82\u001b[0m     \u001b[38;5;28;01mif\u001b[39;00m \u001b[38;5;28mlen\u001b[39m(full_patterns) \u001b[38;5;241m==\u001b[39m \u001b[38;5;241m1\u001b[39m:\n",
      "\u001b[0;31mAssertionError\u001b[0m: wykryto kilka wzorców naraz w jednym miejscu - niewiadomo co wypisać!"
     ]
    }
   ],
   "source": [
    "mm_3 = PatternSwap(patterns=[(\"ala\", \"iii\"), (\"koala\", \"jjjjj\")], insigns=['a', 'l', 'k', 'o'], outsigns=['a', 'l', 'k', 'o', 'i', 'j'])\n",
    "s = \"koalalllla\"\n",
    "# wynik = ASSERT sufixes"
   ]
  },
  {
   "cell_type": "code",
   "execution_count": 46,
   "metadata": {},
   "outputs": [
    {
     "name": "stdout",
     "output_type": "stream",
     "text": [
      "('aaajanaaaaamichalaaaa', 'aaajanpawelmichalfica')\n"
     ]
    }
   ],
   "source": [
    "mm_4 = PatternSwap(patterns=[(\"jan\", \"pawel\"), (\"michal\", \"fica\")], insigns=string.ascii_lowercase, outsigns=string.ascii_lowercase, debug=True)\n",
    "s = \"aaajanaaaaamichalaaaa\"\n",
    "# wynik = aaajanpawelmichalfica\n",
    "result = mm_4.route(s)\n",
    "print(result)"
   ]
  }
 ],
 "metadata": {
  "kernelspec": {
   "display_name": "Python 3",
   "language": "python",
   "name": "python3"
  },
  "language_info": {
   "codemirror_mode": {
    "name": "ipython",
    "version": 3
   },
   "file_extension": ".py",
   "mimetype": "text/x-python",
   "name": "python",
   "nbconvert_exporter": "python",
   "pygments_lexer": "ipython3",
   "version": "3.10.12"
  }
 },
 "nbformat": 4,
 "nbformat_minor": 2
}
