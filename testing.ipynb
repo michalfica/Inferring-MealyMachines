{
 "cells": [
  {
   "cell_type": "markdown",
   "metadata": {},
   "source": [
    "## Wnioskowanie Maszyny Mealy'ego"
   ]
  },
  {
   "cell_type": "code",
   "execution_count": 35,
   "metadata": {},
   "outputs": [],
   "source": [
    "from importlib import reload"
   ]
  },
  {
   "cell_type": "code",
   "execution_count": 36,
   "metadata": {},
   "outputs": [],
   "source": [
    "import Mealymachine\n",
    "\n",
    "reload(Mealymachine)\n",
    "from Mealymachine import MealyMachine"
   ]
  },
  {
   "cell_type": "code",
   "execution_count": 37,
   "metadata": {},
   "outputs": [
    {
     "name": "stdout",
     "output_type": "stream",
     "text": [
      "\n",
      "mm3 machine transitions:\n",
      "(0,a) --> 'b',0\n",
      "(0,b) --> 'a',0\n"
     ]
    }
   ],
   "source": [
    "mm1 = MealyMachine(\n",
    "    Q=1,\n",
    "    input_signs=[\"b\", \"a\"],\n",
    "    output_signs=[\"a\", \"b\"],\n",
    "    λ={(0, \"a\"): \"a\", (0, \"b\"): \"b\"},\n",
    "    δ={(0, \"a\"): 0, (0, \"b\"): 0},\n",
    ")\n",
    "\n",
    "mm2 = MealyMachine(\n",
    "    Q=2,\n",
    "    input_signs=[\"b\", \"a\"],\n",
    "    output_signs=[\"a\", \"b\"],\n",
    "    λ={(0, \"a\"): \"a\", (0, \"b\"): \"b\", (1, \"a\"): \"a\", (1, \"b\"): \"b\"},\n",
    "    δ={(0, \"a\"): 0, (0, \"b\"): 1, (1, \"a\"): 0, (1, \"b\"): 1},\n",
    ")\n",
    "\n",
    "mm3 = MealyMachine(\n",
    "    Q=1,\n",
    "    input_signs=[\"b\", \"a\"],\n",
    "    output_signs=[\"a\", \"b\"],\n",
    "    λ={(0, \"a\"): \"b\", (0, \"b\"): \"a\"},\n",
    "    δ={(0, \"a\"): 0, (0, \"b\"): 0},\n",
    ")\n",
    "print(f\"\\nmm3 machine transitions:\")\n",
    "mm3.print_transitions()"
   ]
  },
  {
   "cell_type": "code",
   "execution_count": 38,
   "metadata": {},
   "outputs": [
    {
     "name": "stdout",
     "output_type": "stream",
     "text": [
      "bbabbbbbba aabaaaaaab\n"
     ]
    }
   ],
   "source": [
    "w, v = mm3.route(10)\n",
    "print(w,v)"
   ]
  },
  {
   "cell_type": "code",
   "execution_count": 39,
   "metadata": {},
   "outputs": [
    {
     "name": "stdout",
     "output_type": "stream",
     "text": [
      "aaaa\n",
      "aaab\n"
     ]
    }
   ],
   "source": [
    "mm_mod3 = MealyMachine(\n",
    "    Q = 3, \n",
    "    input_signs=[\"a\", \"b\"], \n",
    "    output_signs=[\"a\", \"b\"], \n",
    "    λ={(0,\"a\"): \"a\", (0, \"b\"): \"b\", (1,\"a\"): \"a\", (1, \"b\"): \"b\", (2,\"a\"): \"b\", (2, \"b\"): \"a\"},\n",
    "    δ={(0,\"a\"): 1, (0, \"b\"): 1, (1,\"a\"): 2, (1, \"b\"): 2, (2,\"a\"): 0, (2, \"b\"): 0}\n",
    ")\n",
    "\n",
    "mm_mod4 = MealyMachine(\n",
    "    Q = 4, \n",
    "    input_signs=[\"a\", \"b\"], \n",
    "    output_signs=[\"a\", \"b\"], \n",
    "    λ={(0,\"a\"): \"a\", (0, \"b\"): \"b\", (1,\"a\"): \"a\", (1, \"b\"): \"b\", (2,\"a\"): \"a\", (2, \"b\"): \"b\", (3,\"a\"): \"b\", (3, \"b\"): \"a\"},\n",
    "    δ={(0,\"a\"): 1, (0, \"b\"): 1, (1,\"a\"): 2, (1, \"b\"): 2, (2,\"a\"): 3, (2, \"b\"): 3, (3,\"a\"): 0, (3, \"b\"): 0}\n",
    ")\n",
    "w, v = mm_mod4.route(\"aaaa\")\n",
    "print(w)\n",
    "print(v)"
   ]
  },
  {
   "cell_type": "markdown",
   "metadata": {},
   "source": [
    "### Sprawdzenie równoważność Maszyn Mealy'go"
   ]
  },
  {
   "cell_type": "code",
   "execution_count": 41,
   "metadata": {},
   "outputs": [
    {
     "name": "stdout",
     "output_type": "stream",
     "text": [
      "NIE są rownoważne, kontrprzykład = aaa, aab vs aaa\n"
     ]
    }
   ],
   "source": [
    "def check_eq(mm1, mm2):\n",
    "    res, ans = mm1.equiv(mm2)\n",
    "    if res==True:\n",
    "        print(f\"sa równoważne!\")\n",
    "    else:\n",
    "        print(f\"NIE są rownoważne, kontrprzykład = {ans}, {mm1.route(ans)[1]} vs {mm2.route(ans)[1]}\")\n",
    "\n",
    "check_eq(mm_mod3, mm_mod4)"
   ]
  },
  {
   "cell_type": "markdown",
   "metadata": {},
   "source": [
    "## Wnioskowanie Maszyn Mealy'go ! "
   ]
  },
  {
   "cell_type": "code",
   "execution_count": 50,
   "metadata": {},
   "outputs": [
    {
     "ename": "KeyboardInterrupt",
     "evalue": "",
     "output_type": "error",
     "traceback": [
      "\u001b[0;31m---------------------------------------------------------------------------\u001b[0m",
      "\u001b[0;31mKeyboardInterrupt\u001b[0m                         Traceback (most recent call last)",
      "Cell \u001b[0;32mIn[50], line 6\u001b[0m\n\u001b[1;32m      4\u001b[0m \u001b[38;5;28;01mfrom\u001b[39;00m \u001b[38;5;21;01mInferringMM\u001b[39;00m \u001b[38;5;28;01mimport\u001b[39;00m \u001b[38;5;241m*\u001b[39m\n\u001b[1;32m      5\u001b[0m learn_mm1 \u001b[38;5;241m=\u001b[39m InferringMM(mm1)\n\u001b[0;32m----> 6\u001b[0m mm, cnt \u001b[38;5;241m=\u001b[39m \u001b[43mlearn_mm1\u001b[49m\u001b[38;5;241;43m.\u001b[39;49m\u001b[43mrun\u001b[49m\u001b[43m(\u001b[49m\u001b[43m)\u001b[49m\n\u001b[1;32m      8\u001b[0m \u001b[38;5;28mprint\u001b[39m(\u001b[38;5;124mf\u001b[39m\u001b[38;5;124m\"\u001b[39m\u001b[38;5;124mafter \u001b[39m\u001b[38;5;132;01m{\u001b[39;00mcnt[\u001b[38;5;241m0\u001b[39m]\u001b[38;5;132;01m}\u001b[39;00m\u001b[38;5;124m, \u001b[39m\u001b[38;5;132;01m{\u001b[39;00mcnt[\u001b[38;5;241m1\u001b[39m]\u001b[38;5;132;01m}\u001b[39;00m\u001b[38;5;124m zapytaniach nauczylem sie ponizszej maszyny:\u001b[39m\u001b[38;5;124m\"\u001b[39m)\n\u001b[1;32m      9\u001b[0m mm\u001b[38;5;241m.\u001b[39mprint_transitions()\n",
      "File \u001b[0;32m~/Documents/studia2/magisterka/InferringMM.py:27\u001b[0m, in \u001b[0;36mInferringMM.run\u001b[0;34m(self)\u001b[0m\n\u001b[1;32m     25\u001b[0m \u001b[38;5;28;01mif\u001b[39;00m check \u001b[38;5;241m==\u001b[39m \u001b[38;5;28;01mFalse\u001b[39;00m:\n\u001b[1;32m     26\u001b[0m     \u001b[38;5;28mself\u001b[39m\u001b[38;5;241m.\u001b[39m_extend_S(x)\n\u001b[0;32m---> 27\u001b[0m conjecture \u001b[38;5;241m=\u001b[39m \u001b[38;5;28;43mself\u001b[39;49m\u001b[38;5;241;43m.\u001b[39;49m\u001b[43m_create_conjecture\u001b[49m\u001b[43m(\u001b[49m\u001b[43m)\u001b[49m\n\u001b[1;32m     28\u001b[0m check, x \u001b[38;5;241m=\u001b[39m \u001b[38;5;28mself\u001b[39m\u001b[38;5;241m.\u001b[39m_query_type2(conjecture)\n\u001b[1;32m     29\u001b[0m \u001b[38;5;28;01mif\u001b[39;00m check \u001b[38;5;241m==\u001b[39m \u001b[38;5;28;01mFalse\u001b[39;00m:\n",
      "File \u001b[0;32m~/Documents/studia2/magisterka/InferringMM.py:85\u001b[0m, in \u001b[0;36mInferringMM._create_conjecture\u001b[0;34m(self)\u001b[0m\n\u001b[1;32m     83\u001b[0m     \u001b[38;5;28;01mfor\u001b[39;00m a \u001b[38;5;129;01min\u001b[39;00m \u001b[38;5;28mself\u001b[39m\u001b[38;5;241m.\u001b[39minput_signs:\n\u001b[1;32m     84\u001b[0m         conjecture\u001b[38;5;241m.\u001b[39mλ[(i, a)] \u001b[38;5;241m=\u001b[39m \u001b[38;5;28mself\u001b[39m\u001b[38;5;241m.\u001b[39mT[(s, a)]\n\u001b[0;32m---> 85\u001b[0m         conjecture\u001b[38;5;241m.\u001b[39mδ[(i, a)] \u001b[38;5;241m=\u001b[39m \u001b[43m_equivalent_in_S\u001b[49m\u001b[43m(\u001b[49m\u001b[43ms\u001b[49m\u001b[43m \u001b[49m\u001b[38;5;241;43m+\u001b[39;49m\u001b[43m \u001b[49m\u001b[43ma\u001b[49m\u001b[43m)\u001b[49m\n\u001b[1;32m     86\u001b[0m \u001b[38;5;28;01mreturn\u001b[39;00m conjecture\n",
      "File \u001b[0;32m~/Documents/studia2/magisterka/InferringMM.py:76\u001b[0m, in \u001b[0;36mInferringMM._create_conjecture.<locals>._equivalent_in_S\u001b[0;34m(s)\u001b[0m\n\u001b[1;32m     74\u001b[0m \u001b[38;5;28;01mdef\u001b[39;00m \u001b[38;5;21m_equivalent_in_S\u001b[39m(s):\n\u001b[1;32m     75\u001b[0m     \u001b[38;5;28;01mfor\u001b[39;00m i, t \u001b[38;5;129;01min\u001b[39;00m \u001b[38;5;28menumerate\u001b[39m(\u001b[38;5;28mself\u001b[39m\u001b[38;5;241m.\u001b[39mS):\n\u001b[0;32m---> 76\u001b[0m         \u001b[38;5;28;01mif\u001b[39;00m \u001b[38;5;28;43mself\u001b[39;49m\u001b[38;5;241;43m.\u001b[39;49m\u001b[43m_E_realtion\u001b[49m\u001b[43m(\u001b[49m\u001b[43ms\u001b[49m\u001b[43m,\u001b[49m\u001b[43m \u001b[49m\u001b[43mt\u001b[49m\u001b[43m)\u001b[49m:\n\u001b[1;32m     77\u001b[0m             \u001b[38;5;28;01mreturn\u001b[39;00m i\n",
      "\u001b[0;31mKeyboardInterrupt\u001b[0m: "
     ]
    }
   ],
   "source": [
    "import InferringMM\n",
    "reload(InferringMM)\n",
    "\n",
    "from InferringMM import *\n",
    "learn_mm1 = InferringMM(mm1)\n",
    "mm, cnt = learn_mm1.run()\n",
    "\n",
    "print(f\"after {cnt[0]}, {cnt[1]} zapytaniach nauczylem sie ponizszej maszyny:\")\n",
    "mm.print_transitions()"
   ]
  }
 ],
 "metadata": {
  "kernelspec": {
   "display_name": "Python 3",
   "language": "python",
   "name": "python3"
  },
  "language_info": {
   "codemirror_mode": {
    "name": "ipython",
    "version": 3
   },
   "file_extension": ".py",
   "mimetype": "text/x-python",
   "name": "python",
   "nbconvert_exporter": "python",
   "pygments_lexer": "ipython3",
   "version": "3.10.12"
  }
 },
 "nbformat": 4,
 "nbformat_minor": 2
}
