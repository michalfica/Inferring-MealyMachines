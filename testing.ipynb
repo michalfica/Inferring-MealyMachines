{
 "cells": [
  {
   "cell_type": "markdown",
   "metadata": {},
   "source": [
    "## Wnioskowanie Maszyny Mealy'ego"
   ]
  },
  {
   "cell_type": "code",
   "execution_count": 9,
   "metadata": {},
   "outputs": [],
   "source": [
    "from importlib import reload"
   ]
  },
  {
   "cell_type": "code",
   "execution_count": 72,
   "metadata": {},
   "outputs": [],
   "source": [
    "import Mealymachine\n",
    "\n",
    "reload(Mealymachine)\n",
    "from Mealymachine import MealyMachine"
   ]
  },
  {
   "cell_type": "code",
   "execution_count": 73,
   "metadata": {},
   "outputs": [
    {
     "name": "stdout",
     "output_type": "stream",
     "text": [
      "Mealy Machine amount of states = 1, I = ['a', 'b'], O = ['a', 'b']\n",
      "Mealy Machine amount of states = 2, I = ['a', 'b'], O = ['a', 'b']\n",
      "mm1 machine transitions:\n",
      "(0,a) --> 'a',0\n",
      "(0,b) --> 'b',0\n",
      "\n",
      "mm2 machine transitions:\n",
      "(0,a) --> 'a',0\n",
      "(0,b) --> 'b',1\n",
      "(1,a) --> 'a',0\n",
      "(1,b) --> 'b',1\n"
     ]
    }
   ],
   "source": [
    "mm1 = MealyMachine(\n",
    "    Q=1,\n",
    "    input_signs=[\"b\", \"a\"],\n",
    "    output_signs=[\"a\", \"b\"],\n",
    "    λ={(0, \"a\"): \"a\", (0, \"b\"): \"b\"},\n",
    "    δ={(0, \"a\"): 0, (0, \"b\"): 0},\n",
    ")\n",
    "\n",
    "mm2 = MealyMachine(\n",
    "    Q=2,\n",
    "    input_signs=[\"b\", \"a\"],\n",
    "    output_signs=[\"a\", \"b\"],\n",
    "    λ={(0, \"a\"): \"a\", (0, \"b\"): \"b\", (1, \"a\"): \"a\", (1, \"b\"): \"b\"},\n",
    "    δ={(0, \"a\"): 0, (0, \"b\"): 1, (1, \"a\"): 0, (1, \"b\"): 1},\n",
    ")\n",
    "\n",
    "print(mm1)\n",
    "print(mm2)\n",
    "\n",
    "print(f\"mm1 machine transitions:\")\n",
    "mm1.print_transitions()\n",
    "print(f\"\\nmm2 machine transitions:\")\n",
    "mm2.print_transitions()"
   ]
  },
  {
   "cell_type": "code",
   "execution_count": 82,
   "metadata": {},
   "outputs": [
    {
     "name": "stdout",
     "output_type": "stream",
     "text": [
      "abab abab\n"
     ]
    }
   ],
   "source": [
    "w, v = mm1.random_route(4)\n",
    "print(w,v)"
   ]
  }
 ],
 "metadata": {
  "kernelspec": {
   "display_name": "Python 3",
   "language": "python",
   "name": "python3"
  },
  "language_info": {
   "codemirror_mode": {
    "name": "ipython",
    "version": 3
   },
   "file_extension": ".py",
   "mimetype": "text/x-python",
   "name": "python",
   "nbconvert_exporter": "python",
   "pygments_lexer": "ipython3",
   "version": "3.10.12"
  }
 },
 "nbformat": 4,
 "nbformat_minor": 2
}
