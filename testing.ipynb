{
 "cells": [
  {
   "cell_type": "markdown",
   "metadata": {},
   "source": [
    "## Wnioskowanie Maszyny Mealy'ego"
   ]
  },
  {
   "cell_type": "code",
   "execution_count": 42,
   "metadata": {},
   "outputs": [],
   "source": [
    "from importlib import reload"
   ]
  },
  {
   "cell_type": "code",
   "execution_count": 43,
   "metadata": {},
   "outputs": [],
   "source": [
    "import Mealymachine\n",
    "\n",
    "reload(Mealymachine)\n",
    "from Mealymachine import MealyMachine"
   ]
  },
  {
   "cell_type": "markdown",
   "metadata": {},
   "source": [
    "### Przykładowe, (proste) Maszyny Mealy'go "
   ]
  },
  {
   "cell_type": "code",
   "execution_count": 9,
   "metadata": {},
   "outputs": [
    {
     "name": "stdout",
     "output_type": "stream",
     "text": [
      "\n",
      "mm3 machine transitions:\n",
      "(0,0) --> '0',1\n",
      "(0,1) --> '0',2\n",
      "(1,0) --> '0',1\n",
      "(1,1) --> '1',2\n",
      "(2,0) --> '1',1\n",
      "(2,1) --> '0',2\n"
     ]
    },
    {
     "data": {
      "text/plain": [
       "('1101101000', '0011011100')"
      ]
     },
     "execution_count": 9,
     "metadata": {},
     "output_type": "execute_result"
    }
   ],
   "source": [
    "mm1 = MealyMachine(\n",
    "    Q=1,\n",
    "    input_signs=[\"b\", \"a\"],\n",
    "    output_signs=[\"a\", \"b\"],\n",
    "    λ={(0, \"a\"): \"a\", (0, \"b\"): \"b\"},\n",
    "    δ={(0, \"a\"): 0, (0, \"b\"): 0},\n",
    ")\n",
    "\n",
    "mm2 = MealyMachine(\n",
    "    Q=2,\n",
    "    input_signs=[\"b\", \"a\"],\n",
    "    output_signs=[\"a\", \"b\"],\n",
    "    λ={(0, \"a\"): \"a\", (0, \"b\"): \"b\", (1, \"a\"): \"a\", (1, \"b\"): \"b\"},\n",
    "    δ={(0, \"a\"): 0, (0, \"b\"): 1, (1, \"a\"): 0, (1, \"b\"): 1},\n",
    ")\n",
    "\n",
    "mm3 = MealyMachine(\n",
    "    Q=1,\n",
    "    input_signs=[\"b\", \"a\"],\n",
    "    output_signs=[\"a\", \"b\"],\n",
    "    λ={(0, \"a\"): \"b\", (0, \"b\"): \"a\"},\n",
    "    δ={(0, \"a\"): 0, (0, \"b\"): 0},\n",
    ")\n",
    "\n",
    "mm4 = MealyMachine(Q=3, \n",
    "                   input_signs=[\"0\", \"1\"], \n",
    "                   output_signs=[\"0\", \"1\"], \n",
    "                   λ={(0, \"0\"): \"0\", (0, \"1\") : \"0\", (1, \"0\"): \"0\", (1, \"1\"): \"1\", (2, \"0\"): \"1\", (2, \"1\"): \"0\"}, \n",
    "                   δ={(0, \"0\"): 1, (0, \"1\") : 2, (1, \"0\"): 1, (1, \"1\"): 2, (2, \"0\"): 1, (2, \"1\"): 2})\n",
    "print(f\"\\nmm3 machine transitions:\")\n",
    "mm4.print_transitions()\n",
    "mm4.route()"
   ]
  },
  {
   "cell_type": "code",
   "execution_count": 10,
   "metadata": {},
   "outputs": [
    {
     "name": "stdout",
     "output_type": "stream",
     "text": [
      "aaaa\n",
      "aaab\n"
     ]
    }
   ],
   "source": [
    "mm_mod3 = MealyMachine(\n",
    "    Q = 3, \n",
    "    input_signs=[\"a\", \"b\"], \n",
    "    output_signs=[\"a\", \"b\"], \n",
    "    λ={(0,\"a\"): \"a\", (0, \"b\"): \"b\", (1,\"a\"): \"a\", (1, \"b\"): \"b\", (2,\"a\"): \"b\", (2, \"b\"): \"a\"},\n",
    "    δ={(0,\"a\"): 1, (0, \"b\"): 1, (1,\"a\"): 2, (1, \"b\"): 2, (2,\"a\"): 0, (2, \"b\"): 0}\n",
    ")\n",
    "\n",
    "mm_mod4 = MealyMachine(\n",
    "    Q = 4, \n",
    "    input_signs=[\"a\", \"b\"], \n",
    "    output_signs=[\"a\", \"b\"], \n",
    "    λ={(0,\"a\"): \"a\", (0, \"b\"): \"b\", (1,\"a\"): \"a\", (1, \"b\"): \"b\", (2,\"a\"): \"a\", (2, \"b\"): \"b\", (3,\"a\"): \"b\", (3, \"b\"): \"a\"},\n",
    "    δ={(0,\"a\"): 1, (0, \"b\"): 1, (1,\"a\"): 2, (1, \"b\"): 2, (2,\"a\"): 3, (2, \"b\"): 3, (3,\"a\"): 0, (3, \"b\"): 0}\n",
    ")\n",
    "w, v = mm_mod4.route(\"aaaa\")\n",
    "print(w)\n",
    "print(v)"
   ]
  },
  {
   "cell_type": "markdown",
   "metadata": {},
   "source": [
    "### Sprawdzenie równoważność Maszyn Mealy'go"
   ]
  },
  {
   "cell_type": "code",
   "execution_count": 11,
   "metadata": {},
   "outputs": [
    {
     "name": "stdout",
     "output_type": "stream",
     "text": [
      "sa równoważne!\n"
     ]
    }
   ],
   "source": [
    "def check_eq(mm1, mm2):\n",
    "    res, ans = mm1.equiv(mm2)\n",
    "    if res==True:\n",
    "        print(f\"sa równoważne!\")\n",
    "    else:\n",
    "        print(f\"NIE są rownoważne, kontrprzykład = {ans}, {mm1.route(ans)[1]} vs {mm2.route(ans)[1]}\")\n",
    "\n",
    "check_eq(mm1, mm2)"
   ]
  },
  {
   "cell_type": "markdown",
   "metadata": {},
   "source": [
    "## Wnioskowanie Maszyn Mealy'go ! "
   ]
  },
  {
   "cell_type": "code",
   "execution_count": 12,
   "metadata": {},
   "outputs": [
    {
     "name": "stdout",
     "output_type": "stream",
     "text": [
      "after 18, 1 zapytaniach nauczylem sie ponizszej maszyny:\n",
      "(0,0) --> '0',2\n",
      "(0,1) --> '0',1\n",
      "(1,0) --> '1',2\n",
      "(1,1) --> '0',1\n",
      "(2,0) --> '0',2\n",
      "(2,1) --> '1',1\n"
     ]
    }
   ],
   "source": [
    "import InferringMM\n",
    "reload(InferringMM)\n",
    "\n",
    "from InferringMM import *\n",
    "# learn_mm_mod4 = InferringMM(mm_mod4)\n",
    "# mm, cnt = learn_mm_mod4.run()\n",
    "\n",
    "# learn_mm_mod3 = InferringMM(mm_mod3)\n",
    "# mm, cnt = learn_mm_mod3.run()\n",
    "\n",
    "# learn_mm1 = InferringMM(mm1)\n",
    "# mm, cnt = learn_mm1.run()\n",
    "\n",
    "# learn_mm2 = InferringMM(mm2)\n",
    "# mm, cnt = learn_mm2.run()\n",
    "\n",
    "# learn_mm3 = InferringMM(mm3)\n",
    "# mm, cnt = learn_mm3.run()\n",
    "\n",
    "learn_mm4 = InferringMM(mm4)\n",
    "mm, cnt = learn_mm4.run()\n",
    "\n",
    "print(f\"after {cnt[0]}, {cnt[1]} zapytaniach nauczylem sie ponizszej maszyny:\")\n",
    "mm.print_transitions()"
   ]
  },
  {
   "cell_type": "code",
   "execution_count": 54,
   "metadata": {},
   "outputs": [],
   "source": [
    "import Mealymachine\n",
    "\n",
    "reload(Mealymachine)\n",
    "from Mealymachine import MealyMachine"
   ]
  },
  {
   "cell_type": "code",
   "execution_count": 58,
   "metadata": {},
   "outputs": [
    {
     "name": "stdout",
     "output_type": "stream",
     "text": [
      "q = 0, a = a, self.Q = 3\n",
      "q = 0, a = b, self.Q = 3\n",
      "q = 0, a = c, self.Q = 3\n",
      "q = 0, a = d, self.Q = 3\n",
      "q = 0, a = e, self.Q = 3\n",
      "q = 0, a = f, self.Q = 3\n",
      "q = 1, a = a, self.Q = 3\n",
      "q = 1, a = b, self.Q = 3\n",
      "q = 1, a = c, self.Q = 3\n",
      "q = 1, a = d, self.Q = 3\n",
      "q = 1, a = e, self.Q = 3\n",
      "q = 1, a = f, self.Q = 3\n",
      "q = 2, a = a, self.Q = 3\n",
      "q = 2, a = b, self.Q = 3\n",
      "q = 2, a = c, self.Q = 3\n",
      "q = 2, a = d, self.Q = 3\n",
      "q = 2, a = e, self.Q = 3\n",
      "q = 2, a = f, self.Q = 3\n",
      "(0,a) --> 'b',2\n",
      "(0,b) --> 'b',1\n",
      "(0,c) --> 'a',0\n",
      "(0,d) --> 'b',0\n",
      "(0,e) --> 'a',1\n",
      "(0,f) --> 'a',0\n",
      "(1,a) --> 'a',1\n",
      "(1,b) --> 'a',1\n",
      "(1,c) --> 'b',0\n",
      "(1,d) --> 'b',2\n",
      "(1,e) --> 'b',0\n",
      "(1,f) --> 'b',2\n",
      "(2,a) --> 'b',0\n",
      "(2,b) --> 'a',0\n",
      "(2,c) --> 'a',0\n",
      "(2,d) --> 'b',2\n",
      "(2,e) --> 'a',1\n",
      "(2,f) --> 'a',0\n"
     ]
    }
   ],
   "source": [
    "mm = MealyMachine()\n",
    "mm.random_machine()\n",
    "mm.print_transitions()"
   ]
  }
 ],
 "metadata": {
  "kernelspec": {
   "display_name": "Python 3",
   "language": "python",
   "name": "python3"
  },
  "language_info": {
   "codemirror_mode": {
    "name": "ipython",
    "version": 3
   },
   "file_extension": ".py",
   "mimetype": "text/x-python",
   "name": "python",
   "nbconvert_exporter": "python",
   "pygments_lexer": "ipython3",
   "version": "3.10.12"
  }
 },
 "nbformat": 4,
 "nbformat_minor": 2
}
