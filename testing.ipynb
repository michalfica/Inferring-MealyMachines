{
 "cells": [
  {
   "cell_type": "markdown",
   "metadata": {},
   "source": [
    "## Wnioskowanie Maszyny Mealy'ego"
   ]
  },
  {
   "cell_type": "code",
   "execution_count": 18,
   "metadata": {},
   "outputs": [],
   "source": [
    "from importlib import reload"
   ]
  },
  {
   "cell_type": "code",
   "execution_count": 19,
   "metadata": {},
   "outputs": [],
   "source": [
    "import Mealymachine\n",
    "\n",
    "reload(Mealymachine)\n",
    "from Mealymachine import MealyMachine"
   ]
  },
  {
   "cell_type": "code",
   "execution_count": 20,
   "metadata": {},
   "outputs": [
    {
     "name": "stdout",
     "output_type": "stream",
     "text": [
      "\n",
      "mm3 machine transitions:\n",
      "(0,a) --> 'b',0\n",
      "(0,b) --> 'a',0\n"
     ]
    }
   ],
   "source": [
    "mm1 = MealyMachine(\n",
    "    Q=1,\n",
    "    input_signs=[\"b\", \"a\"],\n",
    "    output_signs=[\"a\", \"b\"],\n",
    "    λ={(0, \"a\"): \"a\", (0, \"b\"): \"b\"},\n",
    "    δ={(0, \"a\"): 0, (0, \"b\"): 0},\n",
    ")\n",
    "\n",
    "mm2 = MealyMachine(\n",
    "    Q=2,\n",
    "    input_signs=[\"b\", \"a\"],\n",
    "    output_signs=[\"a\", \"b\"],\n",
    "    λ={(0, \"a\"): \"a\", (0, \"b\"): \"b\", (1, \"a\"): \"a\", (1, \"b\"): \"b\"},\n",
    "    δ={(0, \"a\"): 0, (0, \"b\"): 1, (1, \"a\"): 0, (1, \"b\"): 1},\n",
    ")\n",
    "\n",
    "mm3 = MealyMachine(\n",
    "    Q=1,\n",
    "    input_signs=[\"b\", \"a\"],\n",
    "    output_signs=[\"a\", \"b\"],\n",
    "    λ={(0, \"a\"): \"b\", (0, \"b\"): \"a\"},\n",
    "    δ={(0, \"a\"): 0, (0, \"b\"): 0},\n",
    ")\n",
    "print(f\"\\nmm3 machine transitions:\")\n",
    "mm3.print_transitions()"
   ]
  },
  {
   "cell_type": "code",
   "execution_count": 22,
   "metadata": {},
   "outputs": [
    {
     "name": "stdout",
     "output_type": "stream",
     "text": [
      "aaaa\n",
      "aaab\n"
     ]
    }
   ],
   "source": [
    "mm_mod3 = MealyMachine(\n",
    "    Q = 3, \n",
    "    input_signs=[\"a\", \"b\"], \n",
    "    output_signs=[\"a\", \"b\"], \n",
    "    λ={(0,\"a\"): \"a\", (0, \"b\"): \"b\", (1,\"a\"): \"a\", (1, \"b\"): \"b\", (2,\"a\"): \"b\", (2, \"b\"): \"a\"},\n",
    "    δ={(0,\"a\"): 1, (0, \"b\"): 1, (1,\"a\"): 2, (1, \"b\"): 2, (2,\"a\"): 0, (2, \"b\"): 0}\n",
    ")\n",
    "\n",
    "mm_mod4 = MealyMachine(\n",
    "    Q = 4, \n",
    "    input_signs=[\"a\", \"b\"], \n",
    "    output_signs=[\"a\", \"b\"], \n",
    "    λ={(0,\"a\"): \"a\", (0, \"b\"): \"b\", (1,\"a\"): \"a\", (1, \"b\"): \"b\", (2,\"a\"): \"a\", (2, \"b\"): \"b\", (3,\"a\"): \"b\", (3, \"b\"): \"a\"},\n",
    "    δ={(0,\"a\"): 1, (0, \"b\"): 1, (1,\"a\"): 2, (1, \"b\"): 2, (2,\"a\"): 3, (2, \"b\"): 3, (3,\"a\"): 0, (3, \"b\"): 0}\n",
    ")\n",
    "w, v = mm_mod4.route(\"aaaa\")\n",
    "print(w)\n",
    "print(v)"
   ]
  },
  {
   "cell_type": "markdown",
   "metadata": {},
   "source": [
    "### Sprawdzenie równoważność Maszyn Mealy'go"
   ]
  },
  {
   "cell_type": "code",
   "execution_count": 27,
   "metadata": {},
   "outputs": [
    {
     "name": "stdout",
     "output_type": "stream",
     "text": [
      "sa równoważne!\n"
     ]
    }
   ],
   "source": [
    "def check_eq(mm1, mm2):\n",
    "    res, ans = mm1.equiv(mm2)\n",
    "    if res==True:\n",
    "        print(f\"sa równoważne!\")\n",
    "    else:\n",
    "        print(f\"NIE są rownoważne, kontrprzykład = {ans}, {mm1.route(ans)[1]} vs {mm2.route(ans)[1]}\")\n",
    "\n",
    "check_eq(mm1, mm2)"
   ]
  },
  {
   "cell_type": "markdown",
   "metadata": {},
   "source": [
    "## Wnioskowanie Maszyn Mealy'go ! "
   ]
  },
  {
   "cell_type": "code",
   "execution_count": 95,
   "metadata": {},
   "outputs": [
    {
     "name": "stdout",
     "output_type": "stream",
     "text": [
      "poczatkowo tabela obserwacji:\n",
      "S : {''}\n",
      "E : {'a', 'b'}\n",
      "T :\n",
      "key=('', 'a'), value=a\n",
      "key=('', 'b'), value=b\n",
      "key=('a', 'a'), value=a\n",
      "key=('a', 'b'), value=b\n",
      "key=('b', 'a'), value=a\n",
      "key=('b', 'b'), value=b\n",
      "sprawdzam czy zamnkieta\n",
      "S : {''}\n",
      "E : {'a', 'b'}\n",
      "tworze hipoteze\n",
      "(0,a) --> 'a',0\n",
      "(0,b) --> 'b',0\n",
      "nie jest dobra - aaaa\n",
      "states = {''}, w = aaaa\n",
      "max_prefiks = , zaczyna sie w -1\n",
      "ddodaje do E ['a', 'aa', 'aaa', 'aaaa'] po popatrzeniu na kontrprzykład\n",
      "tabela obserwacji, po zobaczeniu kontrprzykładu:\n",
      "S : {''}\n",
      "E : {'a', 'b', 'aaaa', 'aa', 'aaa'}\n",
      "T :\n",
      "key=('', 'a'), value=a\n",
      "key=('', 'b'), value=b\n",
      "key=('a', 'a'), value=a\n",
      "key=('a', 'b'), value=b\n",
      "key=('b', 'a'), value=a\n",
      "key=('b', 'b'), value=b\n",
      "key=('', 'aa'), value=aa\n",
      "key=('', 'aaa'), value=aaa\n",
      "key=('', 'aaaa'), value=aaab\n",
      "key=('a', 'aa'), value=aa\n",
      "key=('a', 'aaa'), value=aab\n",
      "key=('a', 'aaaa'), value=aaba\n",
      "key=('b', 'aa'), value=aa\n",
      "key=('b', 'aaa'), value=aab\n",
      "key=('b', 'aaaa'), value=aaba\n",
      "\n",
      "\n",
      "\n",
      "sprawdzam czy zamnkieta\n",
      "nie jest zamknieta - a\n",
      "nie jest zamknieta - aa\n",
      "nie jest zamknieta - aaa\n",
      "S : {'', 'aa', 'aaa', 'a'}\n",
      "E : {'a', 'b', 'aaaa', 'aa', 'aaa'}\n",
      "tworze hipoteze\n",
      "(0,a) --> 'a',3\n",
      "(0,b) --> 'b',3\n",
      "(1,a) --> 'a',2\n",
      "(1,b) --> 'b',2\n",
      "(2,a) --> 'b',0\n",
      "(2,b) --> 'a',0\n",
      "(3,a) --> 'a',1\n",
      "(3,b) --> 'b',1\n",
      "after 63, 2 zapytaniach nauczylem sie ponizszej maszyny:\n",
      "(0,a) --> 'a',3\n",
      "(0,b) --> 'b',3\n",
      "(1,a) --> 'a',2\n",
      "(1,b) --> 'b',2\n",
      "(2,a) --> 'b',0\n",
      "(2,b) --> 'a',0\n",
      "(3,a) --> 'a',1\n",
      "(3,b) --> 'b',1\n"
     ]
    }
   ],
   "source": [
    "import InferringMM\n",
    "reload(InferringMM)\n",
    "\n",
    "from InferringMM import *\n",
    "learn_mm_mod4 = InferringMM(mm_mod4)\n",
    "mm, cnt = learn_mm_mod4.run()\n",
    "\n",
    "# learn_mm_mod3 = InferringMM(mm_mod3)\n",
    "# mm, cnt = learn_mm_mod3.run()\n",
    "\n",
    "# learn_mm1 = InferringMM(mm1)\n",
    "# mm, cnt = learn_mm1.run()\n",
    "\n",
    "# learn_mm2 = InferringMM(mm2)\n",
    "# mm, cnt = learn_mm2.run()\n",
    "\n",
    "# learn_mm3 = InferringMM(mm3)\n",
    "# mm, cnt = learn_mm3.run()\n",
    "\n",
    "print(f\"after {cnt[0]}, {cnt[1]} zapytaniach nauczylem sie ponizszej maszyny:\")\n",
    "mm.print_transitions()"
   ]
  }
 ],
 "metadata": {
  "kernelspec": {
   "display_name": "Python 3",
   "language": "python",
   "name": "python3"
  },
  "language_info": {
   "codemirror_mode": {
    "name": "ipython",
    "version": 3
   },
   "file_extension": ".py",
   "mimetype": "text/x-python",
   "name": "python",
   "nbconvert_exporter": "python",
   "pygments_lexer": "ipython3",
   "version": "3.10.12"
  }
 },
 "nbformat": 4,
 "nbformat_minor": 2
}
